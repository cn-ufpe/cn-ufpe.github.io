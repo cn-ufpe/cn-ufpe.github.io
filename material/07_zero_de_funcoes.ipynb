{
  "nbformat": 4,
  "nbformat_minor": 0,
  "metadata": {
    "colab": {
      "name": "Aula06_10_06_2021_Zero_de_funcoes_p5",
      "provenance": []
    },
    "kernelspec": {
      "name": "python3",
      "display_name": "Python 3"
    },
    "language_info": {
      "name": "python"
    }
  },
  "cells": [
    {
      "cell_type": "markdown",
      "metadata": {
        "id": "QLT-t79UIAym"
      },
      "source": [
        "#Método das secantes\n",
        "\n",
        "O método das secantes é uma variação do método de Newton, evitando a necessidade de conhecer-se a derivada analítica de $f(x)$, que pode ser zero ou seja de alto custo adquirí-la. Dada uma função $f(x)$, a ideia é aproximar sua derivada pela razão fundamental:\n",
        "\n",
        "$f'(x) \\approx \\frac{f(x) - f(x_0)}{x - x_0}$, $x \\approx x_0$"
      ]
    },
    {
      "cell_type": "markdown",
      "metadata": {
        "id": "za6pAhZ3IC1T"
      },
      "source": [
        "##Introdução\n",
        "\n",
        "Enquanto, o método de Newton está relacionado às retas tangentes ao gráfico da função objetivo $f(x)$, o método das secantes, como o próprio nome indica, está relacionado às retas secantes. Conforme a Figura:"
      ]
    },
    {
      "cell_type": "markdown",
      "metadata": {
        "id": "wPZytNyJJ3tm"
      },
      "source": [
        "![main10x.png](data:image/png;base64,iVBORw0KGgoAAAANSUhEUgAAALUAAAC7CAYAAAAjWd/ZAAAACXBIWXMAAA7EAAAOxAGVKw4bAAAdqUlEQVR4Ae2da5BV1ZXHNzQEn7RgeIwWlGi3CdCpGEAtUSeDryTW+CgzalKVWH6wMJDBL37Q+aZVGiSOSYlkUlpqhpryEbRKYsVH1PCaAYo3hu6mrL4g0BGUCkgDahODd/ZvN+v27tPn3ntO33Pv3eeevaruPa/9WHvt/1ln7bVfw/L5vNJk/jjx5CWQdgkMT3sBPP9eAkEJeFAHJeKvUy8BD+rUV6EvQFACHtRBifjr1EvAgzr1VegLEJSAB3VQIv469RLwoE59FfoCBCXgQR2UiL9OvQQ8qFNfhb4AQQmkEtTvvfdesBz+2kugIIHUgfqVV15R119/veLoyUsgTALD6jn2Y/fu3Qacc+fOVWPGjFFcQxdeeGEYr+Z5W1ub+uKLL9Tpp5+u2tvbi4YNTcDfzIQE6grqO+64w4AZQD/22GOKawDNeRhNmzZN7dy5s/Bo6tSpqrOzs3DtT7wEkEDdzI8tW7ao22+/XXEUzYytfN1114XWDObG2LFjVWtrq3nOkWtvhoSKK9s3MT/0ry60efNmhrzmDx8+nJfzcoy8++67Jg5HT25LoKurK9/b21tzJuumqVEln376qdHMmB+ltHS21U46S9/T06NWrFhRF+brCmppHD7zzDNq0aJFaubMmXURgs80eQl0dHQYU3HUqFHJJ14mxbqCGu389NNPm8YiWhsviKfGkEAul1MtLS11KUxdQf3ggw+aQtPYe+CBBwoNxrpIwmeamAQANDRp0qTE0oyT0Ig4gZMOu2zZMmNL4wXh56kxJNDd3V03LY0E6wpqD+bGALFdihMnTphOsbvuusu+XdPzupofNS2pz6wmEtBuPGN2NDc31yS/sEw8qMOk4u8NSQK6Q1ibk/VrIArTHtQiCX+sSAIM21mxokcNH36w0OtbUYIVRK45qHHdhZHv7g6TSnruMWjyyis71MSJraoevmlbUjUH9b333mvyZ8wHLj2OEB0x4uIzN/xfqiTAEPdLL82pK66oj2/aFlZNQU3PoT1gCa0tmpv7nMvwU5tJf+62BPj44sY788z6+aZtCcUGNcBDowJQIQbtRwGjPb6DLnG0s03cEzMEDS5a3Q7jz92TAKbHd76TU83N9dfSSCc2qAGaDTgAjpaV4aOlRM4LUSocz0RzyzgQb5KUkqgbz7ZvP6FB3aV++MPpTjAUu/MFTaqHiRrmASDaV66TLhGTBfgKeHJbArkcvulmranr55u2JRRZU2NeMJIOEo0LwG0bmWdoccIRHhPFNlPQxNIw5GXg3H7Ota3JMU/4iUlC+p7ckgCmx8UX59Q557ihpZFOZFATGDCLWcA1wLVBCFAFpLNmzRpgphCebnEBKC+DHuivGP8hBKiDLwn5yYsg4fzRHQm8/36P+sY3utVtt/XNSHKBs8jmh4AX0AnwgiAE1JgM3EfDci7xKCzxBNTBwqPdeW6HD4bx1+5JoLu7Q8+calMTJtR+3HQxacTS1IC1FOgAMWAG3ACUc4aU2sT46TAivB9PHSYZN+/x1Z4x45/VlClr1MiRX3OKyciaGq4Bqw1SMQ0AJCTalnACULwlxYBsIp36s80a+759jidkz549ZsLt4sWL1dKlS9W8efMKQRi/GzaGFx8qvyD58H0SGYp8brrpJqXnluoEetWvf/2v6qGHwnuKgzKvxXVkUIsfWgAMc2ht296VBiJvMfdZ8qDScdKkIy8I5wjy5MmTateuXVpDjFQHDx4syGn06NGhoGa+nB1OIvjwfZIYinwOHDigrrnmGrVt2zbV1DRMROrGUU/1LTubnJnbWtvmNaAHzAxmFrjWsGY2OA800MyscM6Jw3UlRPr6xRmQBOlqyZn0BzzwFzWVwKJFv8trJZafOPGf8gsWLKhp3uUyK6upMSXwFWMe2KYHryQ2M5obDR3WKKz0tcXcqFTTV8qDjx8ugaamWaq3d4P61a/+S/34x7eGB6rT3bINRUALmIvNUgHMmBtiniRVDjFrSN+TexLYv79bHT06Ri//5h5vZTU1LJcDVpSGYNyi82WoRrpx+fDhB0ugvb1HXXBBTh0/fol+eGhwgDrfKaup68yfz95BCbzzTk43EFt0p0uTg9zVeeKtkxLxTJWVQG9vh9q/f7a69tpx6sSJlrLhax0gkvlRa6Z8fu5KYNu2g9qF16suuaRFD2Byk09vfrhZL85ytWpVh1q3rk07DpxlMd6AJneL4TmrlQS++qpLd2S1aBdvrXKMn4/X1PFlltkYa9fm1CefNKvvfne80zLwoHa6etxibtOmLuP1cNn0QGIe1G7hxlluWE6sqSmnPvqorWB6rFu3Ti1fvtw5nj2onasSNxlas6bdaOmbb3Zn3HQxSXlQF5OMvz9AAp2dObV9e6vTXg9h2INaJOGPRSXAsN1//KNH9fS47fWQAnhQiyT8sagENm/O6RUD0qGlKYQHddGq9A9EAl1d7Wrt2ul6sobccfvou8ndrp+6c8dWF8eOnabGjx+vZzoNZGf69Ol13TFgIDf9Vx7U/bLwZyES2LixS61ePT20gejK4jVBtr35EZSIvy5IAN/0oUN9w0xd73ApMK1PPKhtafjzARJob29XHR0teoJt8yDTY0BAxy48qB2rEJfY2bQpp3bsmKTnobrEVXlevE1dXkaZDMGyCb29PWaY6R//mC4ReE2drvqqGbdbtnSoDRtajRtPLxoQSn7sR6hY/E1XJUC3OL7ptJkeyNNraldRVUe+8E1/9pnSK2CND3Xl1ZG1SFl7UEcSU7YCdXR063UTw33TaZCEB3UaaqmGPOKb3revb5hpmnzTtog8qG1p+HPFNsz79k3Si9U0m8kAeEHCVox1WVTepedy7dSBt/XrmS3eP3hp69athouwJZJdHfvhNXUdgONqlmjlzz7rKUwGQEOjuWfPnh3KMmM/GOjkGnlQu1YjdeRHfNM/+ckovaKt0hp7nVnttt7bMscViQd1XIk1cPj29v7BS4z7oNEYZYcH10TiQe1ajdSJH0yN48eV+vLLSerqq08YLT1nzpw6cVNZth7UlcmvYWKvX5/T3eItpluctcGL7YeThgJ7UKehlqrMI2bG/v1dplv8hhsOmv16ijUObVb82A9bGv7cKQm8/36X2rt3vBk3vXdvX+PQ1VktUQTnNXUUKTV4GMZNb9zYom66Kae3vDiaysahXUU1BzX7w4RRsZ1ww8L6e8lJAN/0V191q88/n6x3aVunN/ycodLmwgtKo+agZrNQiMYI+yxyDdDZ6YvduDzVVgJvvNG33vRPf9qu2Feyra2ttgxUIbeagvqZZ54xW9RRDraxY4MkwCw75VZjl68qyKyhkjxwIKcbieeqM89sL9pzmLYCxwY1wEOjAlAhABplyznZs5x4bGMHoCExSXD0ixmCJhetbgL5v8Ql0NnZrdf0QMF8pL71rbbYXd6M/YjiJUmc8TIJxgY1QLMBB8DZa5EtncsR4JVwgJoXARDLpqM8swFOet4kKSfVoT9//fWc8XqMHds9pMahq2M/Yo/SA4SbN282kgSAaF+5jiNe4qLt9bbM5iURsNtpYJ7wFfCUvATwTY8Y0aWVzFnq8stnpr5xaEsosqZGq2L7QqJxATha2ia0OOEID2htMwXg8hwCrKLx5R5HG9yYJ/zEJLHz8eeVSeD557v0bPGRWr5NQ9LSleVe3diRQQ0bgNke4AJwbRCitQXEs2bNKoBWisBW0AJQtDs/NLXsqAuogy8J+QnoJR1/rFwCf/3rXnXGGb3qllvCh5VWnkP9UogMagEvoOOHBg1qVkANQAEizzkXwFJE4vFihJF4QCSfsDD+XjISeOutHjVx4m518uRkM8YjmVTdSSWWTQ2I0bbFSAAsXg6ALY1AiVNsv3EAb38FJLw/JiuBu+++W/3978PVpZdeon70o6sqSpyxHyzIfuutt1aUTtKRY4EasNogFdMAQEKibQk399RixnhLigHZLkwUQOMJ2bNnjxo7dqxavHixWrp0qZo3b14hmWIjyxhWGTbPLmvhOzs71YsvvqS/ngvVzp2dGpA5rakd3hCxULPxTiKDGvsZEgBzjqlg27vSQMTE4D49hqU0O2mUI9KRF4Tzw4cP68/mSbVr1y69LsVIoykkDXrEwubS0RWMRglS1sKvX79efe97N6jhw4erF174H10//xYUSWNc5/N53edfmnRjLq+1bV4DekBADbC81rB5jpAGWl43/sw5cbiuhEhXvzgDkiBdLfk8R0/xJPDBBx/nH3/8P/P665mfOnVqvMghodeuXZt/7bXXQp7U91bZhiKmBO43vBqiMeV1xmZGc6OhITS3mBHcr7TRh7lRqaYXXv1RqVdf5es2StETiCnSqFQW1IATOxpwhQGMxiHmhpgnSQlKzBppfCaVblbTwQQ7++wtesrW2Q0vgmH6Q0EhzV8aSitfDm1+DLDv08B7PXn8zW+WqwMHjqvzzjtPt0k61IIFCypmhxeFnknXlkkoq6krLrlPoO4SwPPT2/uJmjDhU/X971+QGD+ujv3woE6sit1N6A9/WKldeJO016NFnX/++c75lZOWnAd10hJ1LD06SP72t1Fq3Lhj2p3XagYuhbk9HWO7InY8qCsSn9uRsXe3b29Xf/7zNN0t3uPknofVkKAHdTWk6kiaaOndu1t14/CYmQTgCFtVZ8ODuuoirk8GNA537uxSv/3tbD07pV3PPWxJnBG/7kfiIvUJlpIAfv4PPmjTs8O71de/7ubqpKX4r+SZ19SVSM/RuCzu+PHHR/Wgr9l6LY8u9c1v9mtpNPhTTz3lKOfJsOVBnYwcnUmFxiFmwZo1c7QtfUKdfnquIZY9iCNgD+o40kpBWMyOESPGq5demqTmz283Ho+0L04TV+we1HEl5nB4uq0B9ZIlc/TMI6X3bWG89CSHOa4Oa5HHU1cne59qkhJYuXKlamqaqbZta1a//OVBs9VFNVdccnXPFw/qJFFVx7TY0JOJEEuW/EAP+VXqyitzerBRa1U5cnVlVG9+VLXaa5c4jcNjx2Zr3/QoPVRYKTwgaNIgMaLOtTmFQR4rvfagrlSCDsQH0GecMVo9+mib0dLXXJNTp512WuiQUBqNjW5ne/PDAVBWwgKNQ7Ryd/eterKGUsuWKTPJOExLV5JPmuJ6TZ2m2grhFS09YUKreuSR8XrShDKbEAHylpaWkNDZuOVBneJ6pneQ35/+1LfKkp5ZZzbzBNC1aMTxQi1fvtw5CXpQO1cl0RkCVM3NM/WgpVFmVy29MJbq6OhoeJu5nIQ8qMtJyNHndLLQJf744yzxpvQCNUphX/Mr5Zv2Yz8crdCsswWYAfXBg3P0kQXslQE2Wrq1tbq+6TTI3mvqNNRSgEcAPXHiJPWLX0zS66z0gZogdMBkuYEoYvIuPZFESo70GuLd2LHjTuPCw+yAADTU6D5oU8gyfx7UZQTk2mMah2ed1aa7w5tN4xA3HoStXGst7erYD29+9GEiFf9oYzbvfOSR/sYhjGNjF+sWr2bBXF33w2vqatZ6gmnL4P8PP+wb3/H0032NQ7Lo6uoyZkcU37Qf+5FgpfikKpMAjUOlRquHHmoxPYenlv82icZpIGZh7Ic3PyrDWk1iy+D/F16YbVx3aGkhntF49K48kYhSNQd1sT1fZIOjftb8mUiAxuGxYzPVO++MNz5pxksLiW86a1O2pPxhx5qDWnax5XPK+tNcA3TWuvYbgQ6uIrwae/Z062GlM43ZQUeLTXFMDzteEucNM/YDAAI+2VoO4UTdxpk4rHcNkQbngFn2irHXuQb08gKYCBn9Y4rWhg19m3faZgfiAPCQ900bMRT+YmtqgGYDTsAZZdcA1pYWUMvmRpgdspg7uxCIGSI7EmRZeyNnFndcunTmILODGhyKls7C2I/YLj1AJ9s2o1kBqlwXXpUiJ4QX8HOUzUU5AmLukZ4QuwhkdRtnXHgbNmzRX8Qf6Je+vytcZMNzXHl33nmn3PLHUxKIrKkBnuztIuAE4KJ5RaJoF9mlC3PDNlMkDEd27gLEgLlYGEwTfqK97fiNfr5y5ToN6lbt2Zikt+wbXFoAjV86im96cOzGvhMZ1IgBMItZwLVoWs4htKwANGwbZ0AM6CHiEp5r2SCJc8LYRH4Sx77fyOeYCJ2dXeqNN2aY6Vn6vR5EmB5ZnrI1SCDWjcigFrChmaWBFwQhIMVkAIhoWM7tjYiwnUXrsmcLafJcbGrSC2p+i9fMnP7+91vU6tVt6p57mrU8Bhcb3zTAr7dvmpdq9mz39jaPDGpEGwRxUNwAFDADbgG+vUMu99D2EOG4Fs0vHhB5eYJpZ+Gar9eSJav0DlpH1eefz9YvfHip8U0zEaDevmlXx37EAjVgtUEXNA0AJsAnnIA16JYTr0ewugC4mCHBZ1m4vu+++9Tll8/WqyptVCtWHDVmR7FyY3oM1Y2XhbEfkb0faBEI8AkBcEAsJA1EtDH342zjLC+BpCVH0hGwDxs2TG4XvCLsUS5EGmGfQzoJbD5dDP/cc88Z2XZ379Ouujf0l+zfhc0BR9mOeqjDTLMw9iPSPopoXkCNPYwtLAR4cblxD3OCMNKYFK1ua3aJF/VIWjQ42YccIs2tW7fq3rVH1f33329syquuuqqQHHuNh3kDsEEZshkkl8JfffWNukxz1cMPP6ymTZuml+JdE2TXXNMZAzDDXt7QCFm8yeagpXaS1oA1e4FrLZhftmzZoKDaZs7zqwZpDT0obeGHY6OQLmb+5z9/MX/PPfPzN954Y2Gv97DysUf8kSNHwh75e6ckUNb8wNygsYcmFi+F/fLTOMRuRktXopXtNDkXc8H2ngTDNMK1duVrT0e3+tnPjqnJk6/Vcw8nGlmHlY2JAC75pjHrMIdcW5uvLKgRbjlgFWv8hVVM1HvYx9VIN2r+tQgHoLU+0ObUSmNO7N/fN8+wWN648bxvuph0+u/H8n70R/NnlUpANw8MoOfOXacuvni0uuyytpJJ0i7A61GpbzoLYz88qEtCqToPcRjpUQLaXOvRu2e1a1eeXudAE+42Gq9hJIOX6u2bDuPNtXuRzA/XmE4zPwBaO4wMLVy4VW+v3FrwOZfyaNDhUup5mmWSNO9eUyct0RLp2YB+9dVudeRIVySg0hjr7e2t+RIIJYri9COvqWtUPTagcfXncusid3VLt3iNWI2cjV/3I7KoGi+g7rMqmBwAetSodrNWR1RzgmGmQ+1BrKY0G2LsRzUF1Khp47ajUQgB6La2vs0758yZ03ezzL/4pmlEJkFZGPvhbeokkFIkDT0N07jttMtdd/UrPcirr1OJwUhhA5IAMC43m7hOUktnYeyHB7WNoITOGV1Lp4oetKgHKfVpaN0ha9aOpqe0mNmB284GNVO2uFdqvemEWG6oZDINagZM0b3PoCzplq+0dgE0LjvMDlZRwuQA0BCDkegpDRt01Rdi4D+aGy3tfdMD5VLuKvOgZrY6gJZpaOUEVuo5vYQXXYSJocy8QntuIRqXkYKAOioRp9IexKh5DSVcw6z7MZTCuxoHTc0PqlRTYz9Lpwra2V7rThZ3nDFjRmSti2+arvEk7WlX6yFpvjKlqQGuTGRAM3PNWHAmIURd5iFYAWhlPeS7YD/TILTmUZjg5EP3dxzbuFpa2o/9CNZgiq+ZYCAmRnCme7lRiMWKjXYG0NosN/MJbftZ4qBtsY2LNQ4lHEd77Adx/Ig8WzrRzzPTowioAS9ak7HhnA91/De2M4BGS6OVsZ0DKzsUagC7E7s4ip9ZgI+WLrYNcyFhf1JUApkxPwAxYAbcTHzg3J7pXlRC1gM0Mq46bGdbOxcDNJ96fgJWK6mSp/Qgei1dUkQlH2YG1FFmuheTFG1JMTXEVYftHFyBNBgfLY23I45LTnzTaWgg8uLFfWGDMqrGdaZAjU2NtwMThJnu9sz4MOEKmHHT0ZGCN27z5j5zQ3zPwXj4vcVNyLM4Ljz4e/75543HI6ovO5h/uet9+/ap119/vVywSM83bdrk5DbOTLotOfHWtdmcQ514q2ek57WHwxSHNLi2adWqVXl+EI+YDDtmjBaOls511+XzUef5Cn9MkNUAsrMoe65fsvzNN9+c37FjR9mwQw3w5ptvmonUQ41vx2PCNTzXiqi/w4cPl80uMw1Fu1EY1NB3fPvb6uO//EV9qPXTlHOuVP975P+MpmK1UfzNQRddFDVWbHxHqbh0zgwfPjyW669UemHPRo4cGXY7Fffmz5+vNm7caL6wTALnR9toEGnYl9TUOoJ5sxv3eHt+IupY/w7r31Q1Qp8+pn8XDqnc48aNM/HOPffc2PEnT56c1+7G2PEat27KYy9MbZfV1HROuEQsZoPXgoYfPXRx6fjxkXpBnLHmt3r1eL1u3Uh1lvqaWqS+NEmNO3OUWrycruyQ9XMjZPb222+rJ554Qr388ssRQg8MsmDBAnXBBReohQsXDnyQ4JXIL4l6ffbZZ80a2dRFLQhNjWcI4ssrK3cF8y4L6uCnOphAva4BdBTecL3hT+aHf5mjEOYFpsVll32g/uOWf1Fnn3OO+u/ly9WUKVMkSKwjHSZNTU0mThTe7MTxTRP3It0qjRvXTifqeRJ54B49dOhQTfilXLfddpsxNzA7bHMyWOayoA5GSMs1vmQAfGpoh2Eb7wVuOI4Aup+mqLf27u2/HMIZrji04BVXXDGkSsafTU9nqcoaAluDomCDJgFoEq42r0Hmo/b8NiyoaT8AXDpGAPFQGntBoZa6lvEdrFYUd8UiXgi0/JNPPhl5WGopXko9w8WYhOlBHsU+/6Xyr8WzhgX1smW1EF9fHozvANRD3X9F5iBWyzddO0m4kVNmOl+qKW7pOSw2vgPbU4a4hvHBbPHg9C7ZccEOT8cOL0+1qByfYfkWK1cY/2Hxq3HPg7pCqaKlsYf5rAe3x5PhrTyjB7MY8TLYkwEABACGOCddftiwMnS2WFpR7gufAJLFPeGNl6Ucn2Fpy6L6xCddeek41g3Y5fzUYX7Aet6THjuOrpBeaMb0ULL0sBA9lhqEuieyj096GPlFId2QKwTTQDLnGnAmLdK18ykEjHhix9deBMMTSzSTPhSHTzssvX3wJeUlLbscXNeKvKYOUz8x7zFgCa2EphNCo+J6EsLjwOe9HKHhbK8CkxdIG61K+jwTbVgurbDnNp/wJzyLGRGVT9KmPISHSCfYu2eXwwSq0Z8HdUKCBhRSiUFAkwXPBDilsiSMDQ5Jk3sS335eKq2wZzaf4u+FX3GXReWTtO20wvKqhM+w9KLeSx2o0Qj6E1fQMFELWstw2MNoMX6V2JWkg80K+ACIzNxJsiw2oJNMN6m0kB/lRhbwGuVrlzpQU7l88uqhBdBMCBhBI2QaRhwhNJyYBdrWNDyKZuV50KwoVlmkI2lKPCqSe+IXttMlTJCi8gn/8AFYOEJBPrnmOflTdvvFsssMj4S1n9vlCPIY5VrkS7p0TJFeqQZ3IU1tvJcc0FQr4z4N+WiNafa90V8L07DSL1eeexBDIuU8rCwM05Q9czjXn3vTsNIvZ+Eo8UhHhljSsKPxxRHinPilKCk+yYvGH7wKnxo4haxL8QL/yKcSknJyhA8aoyLDUunCYT+XpUJm/BmgonIhKouWPwJG0ELcCyPxDMizcpUVDC/x5MURwMt9+5g0n+QFeLVWNi+ayEDyBGxhJCAMexb3nsg7ajwP6qiSssKhrURzWreLnhI2DIilKissfdIIu18s46T4FE1ZLJ+w+/bLHva83D3KSr6UV8rBuSiEUvE9qEtJx3pGJaGl0M5oLQjNjBaLQ5VUVpR8kuKTvCgv6WFuyVeomGaOwlucMOSLyYMphbwBM0ogykvdsGM/9NudKIknQxqo0hLXoI6VjzS4ONLQomFFQ0iDJlY6xQInxSfpSwORhic80kjTICuWdaL3xcuFvPmRvwZ2JAdBpB1vE+U2xYkBGIRNJQNKrTmGVBoqyK4s0pSXZUgJBiIlxSdlpKzwR5q8hPxcJw9q12vI8xdbAqnzU8cuoY+QOQl4UGeuyhu/wB7UjV/HmSuhB3XmqrzxC+xB3fh1nLkSelBnrsobv8Ae1I1fx5kroQd15qq88QvsQd34dZy5EnpQZ67KG7/AHtSNX8eZK6EHdeaqvPELLENPy8/db3xZ+BI2iAT+H4dwRgh1rygZAAAAAElFTkSuQmCC)"
      ]
    },
    {
      "cell_type": "markdown",
      "metadata": {
        "id": "89qW7Yb2Pr9X"
      },
      "source": [
        "Sejam $f(x)$ e as aproximações $x^{(1)}$ e $x^{(2)}$ do zero $x^*$ desta função. A iteração do método das secantes é:\n",
        "\n",
        "$x^{(3)} = \\frac{x^{(1)}f(x^{(2)}) - x^{(2)}f(x^{(1)})}{f(x^{(2)}) - f(x^{(1)})}$\n",
        "\n",
        "ou para o caso geral:\n",
        "\n",
        "$x_{n+1} = \\frac{x_{n-1}f(x_n) - x_n f(x_{n-1})} {f(x_n) - f(x_{n-1})}$"
      ]
    },
    {
      "cell_type": "markdown",
      "metadata": {
        "id": "7cTAv3CLSgRy"
      },
      "source": [
        "##Questão 1 (Exemplo da video-aula resolvido com 1 clique) Dada a função $f(x) = x^3 - 9x + 3$, determine o zero de $f(x)$, pelo método das secantes, $\\epsilon = 1e^{-2}$, para o intervalo [0,1]. "
      ]
    },
    {
      "cell_type": "code",
      "metadata": {
        "colab": {
          "base_uri": "https://localhost:8080/",
          "height": 265
        },
        "id": "riSGKuEuBd2M",
        "outputId": "92019885-58e5-4417-9e22-370da8021d31"
      },
      "source": [
        "def f(x):\n",
        "  return x**3 -9*x + 3\n",
        "import numpy as np \n",
        "import matplotlib.pyplot as plt  # biblioteca para plotar gráficos\n",
        "x = np.linspace(-3.5,3) #limites no eixo x\n",
        "plt.plot(x, f(x)) \n",
        "plt.grid()\n",
        "plt.show()"
      ],
      "execution_count": null,
      "outputs": [
        {
          "output_type": "display_data",
          "data": {
            "image/png": "[encoded data removed]",
            "text/plain": [
              "<Figure size 432x288 with 1 Axes>"
            ]
          },
          "metadata": {
            "tags": [],
            "needs_background": "light"
          }
        }
      ]
    },
    {
      "cell_type": "code",
      "metadata": {
        "colab": {
          "base_uri": "https://localhost:8080/"
        },
        "id": "XzjB68KgSkgp",
        "outputId": "2964685f-ef4f-418d-94db-b98c5e4440f6"
      },
      "source": [
        "import math\n",
        "def secantes(f, x_ant, x_cur, E):    \n",
        "  if f(a) * f(b) < 0:\n",
        "    iteracao=2\n",
        "    while abs(x_cur-x_ant) > E:\n",
        "      x_new = (x_ant * f(x_cur) - x_cur * f(x_ant)) / (f(x_cur) - f(x_ant))\n",
        "      print('k = ',iteracao,'  raiz = ',x_new, '  |f(raiz)| = ',math.fabs(f(x_new)),' erro = ', math.fabs(x_new - x_cur))\n",
        "      x_ant = x_cur\n",
        "      x_cur = x_new\n",
        "      iteracao +=1          \n",
        "    return [x_cur, abs(x_cur-x_ant), iteracao]  \n",
        "  else:\n",
        "    print(\"Não há raiz neste intervalo\")\n",
        "\n",
        "# Definir um intervalo [a, b] e um erro E\n",
        "\n",
        "def f(x):\n",
        "    return x**3 - 9*x + 3\n",
        "    \n",
        "a = 0.9\n",
        "b = 7\n",
        "E = 1e-4\n",
        "\n",
        "L = secantes(f, a, b, E)\n",
        "print (L)"
      ],
      "execution_count": null,
      "outputs": [
        {
          "output_type": "stream",
          "text": [
            "k =  2   raiz =  0.992782848652091   |f(raiz)| =  4.956541206013547  erro =  6.007217151347909\n",
            "k =  3   raiz =  1.0961839355641096   |f(raiz)| =  5.548459733802456  erro =  0.10340108691201866\n",
            "k =  4   raiz =  0.1269343847756894   |f(raiz)| =  1.8596357467349953  erro =  0.9692495507884202\n",
            "k =  5   raiz =  0.37024268403943167   |f(raiz)| =  0.2814314206315447  erro =  0.24330829926374226\n",
            "k =  6   raiz =  0.33826115568903337   |f(raiz)| =  0.005646353614749078  erro =  0.0319815283503983\n",
            "k =  7   raiz =  0.33760637397746424   |f(raiz)| =  2.2355018503006363e-05  erro =  0.0006547817115691301\n",
            "k =  8   raiz =  0.3376089561629715   |f(raiz)| =  1.7067960378369662e-09  erro =  2.5821855072494238e-06\n",
            "[0.3376089561629715, 2.5821855072494238e-06, 9]\n"
          ],
          "name": "stdout"
        }
      ]
    },
    {
      "cell_type": "markdown",
      "metadata": {
        "id": "FTsTmySzD8vg"
      },
      "source": [
        "Realize os seguintes  testes: \n",
        "\n",
        "*   troque *a = 1* e *b = 0*\n",
        "*   *a = 2* e *b = 3*, em seguida aumente o valor em *b*, por exemplo, b= 7. Depois de executar, diminua o valor em *a*, mas sabendo que tem uma outra raiz por volta de $x \\approx 0.337 $, mantenha *a* maior, por exemplo *a = 0.9*\n",
        "\n"
      ]
    },
    {
      "cell_type": "markdown",
      "metadata": {
        "id": "Qcmp5KwtZZzJ"
      },
      "source": [
        "##Questão 2 Dada a função $f(x) = x^6 -x - 1$, determine o zero de $f(x)$, pelo método das secantes, $\\epsilon = 10^{-4}$, para o intervalo [1,2]."
      ]
    },
    {
      "cell_type": "code",
      "metadata": {
        "colab": {
          "base_uri": "https://localhost:8080/",
          "height": 265
        },
        "id": "OtbGtv99IH1t",
        "outputId": "c1fa4eac-5d22-4e5f-9388-21f856e90b52"
      },
      "source": [
        "def f(x):\n",
        "  return x**6 - x -1\n",
        "import numpy as np \n",
        "import matplotlib.pyplot as plt  # biblioteca para plotar gráficos\n",
        "x = np.linspace(-1.5,1.5) #limites no eixo x\n",
        "plt.plot(x, f(x)) \n",
        "plt.grid()\n",
        "plt.show()"
      ],
      "execution_count": null,
      "outputs": [
        {
          "output_type": "display_data",
          "data": {
            "image/png": "[encoded data removed]",
            "text/plain": [
              "<Figure size 432x288 with 1 Axes>"
            ]
          },
          "metadata": {
            "tags": [],
            "needs_background": "light"
          }
        }
      ]
    },
    {
      "cell_type": "code",
      "metadata": {
        "colab": {
          "base_uri": "https://localhost:8080/"
        },
        "id": "sgLJi6HvZaPF",
        "outputId": "eca3b428-fa6d-44d0-ab2f-c4de9c38bda1"
      },
      "source": [
        "import math\n",
        "def secantes(f, x_ant, x_cur, E):    \n",
        "  if f(a) * f(b) < 0:\n",
        "    iteracao=2\n",
        "    while abs(x_cur-x_ant) > E:\n",
        "      x_new = (x_ant * f(x_cur) - x_cur * f(x_ant)) / (f(x_cur) - f(x_ant))\n",
        "      print('k = ',iteracao,'  raiz = ',x_new, '  |f(raiz)| = ',math.fabs(f(x_new)),' erro = ', math.fabs(x_new - x_cur))\n",
        "      x_ant = x_cur\n",
        "      x_cur = x_new\n",
        "      iteracao +=1          \n",
        "    return [x_cur, abs(x_cur-x_ant), iteracao]  \n",
        "  else:\n",
        "    print(\"Não há raiz neste intervalo\")\n",
        "\n",
        "# Definir um intervalo [a, b] e um erro E\n",
        "\n",
        "def f(x):\n",
        "    return x**6 -x -1\n",
        "    \n",
        "a = 0.1\n",
        "b = 2\n",
        "E = 1e-4\n",
        "\n",
        "L = secantes(f, a, b, E)\n",
        "print (L)"
      ],
      "execution_count": null,
      "outputs": [
        {
          "output_type": "stream",
          "text": [
            "k =  2   raiz =  0.13365536447110088   |f(raiz)| =  1.1336496638999942  erro =  1.866344635528899\n",
            "k =  3   raiz =  0.16770745991751043   |f(raiz)| =  1.1676852107232856  erro =  0.03405209544640955\n",
            "k =  4   raiz =  -1.0005454978901187   |f(raiz)| =  1.0038229519978348  erro =  1.168252957807629\n",
            "k =  5   raiz =  -0.46049727107750565   |f(raiz)| =  0.5299668140515148  erro =  0.540048226812613\n",
            "k =  6   raiz =  -0.6470988800680574   |f(raiz)| =  0.27947951236668156  erro =  0.18660160899055173\n",
            "k =  7   raiz =  -0.8552983629829044   |f(raiz)| =  0.24677499635991484  erro =  0.20819948291484702\n",
            "k =  8   raiz =  -0.7576679849310936   |f(raiz)| =  0.05315271261148413  erro =  0.09763037805181085\n",
            "k =  9   raiz =  -0.7749698855942073   |f(raiz)| =  0.008404922723547648  erro =  0.017301900663113767\n",
            "k =  10   raiz =  -0.778219680464706   |f(raiz)| =  0.00035277003889677694  erro =  0.003249794870498701\n",
            "k =  11   raiz =  -0.7780887749518078   |f(raiz)| =  2.2332795732715738e-06  erro =  0.00013090551289818286\n",
            "k =  12   raiz =  -0.7780895984613154   |f(raiz)| =  5.891036547467365e-10  erro =  8.235095075859178e-07\n",
            "[-0.7780895984613154, 8.235095075859178e-07, 13]\n"
          ],
          "name": "stdout"
        }
      ]
    },
    {
      "cell_type": "markdown",
      "metadata": {
        "id": "jUGTVdgNZgHh"
      },
      "source": [
        "##Questão 3 Dada a função $f(x) = e^x -2x - 1$, determine o zero de $f(x)$, pelo método das secantes, $\\epsilon = 10^{-4}$, para o intervalo [1,2]."
      ]
    },
    {
      "cell_type": "code",
      "metadata": {
        "colab": {
          "base_uri": "https://localhost:8080/",
          "height": 265
        },
        "id": "RwRkeaKHXwLP",
        "outputId": "7fe0ffad-be89-4fc8-89f5-935f70f3f69a"
      },
      "source": [
        "import numpy as np\n",
        "def f(x):\n",
        "  return np.exp(x) - 2*x - 1\n",
        "import numpy as np \n",
        "import matplotlib.pyplot as plt  # biblioteca para plotar gráficos\n",
        "x = np.linspace(-2,3) #limites no eixo x\n",
        "plt.plot(x, f(x)) \n",
        "plt.grid()\n",
        "plt.show()"
      ],
      "execution_count": null,
      "outputs": [
        {
          "output_type": "display_data",
          "data": {
            "image/png": "[encoded data removed]",
            "text/plain": [
              "<Figure size 432x288 with 1 Axes>"
            ]
          },
          "metadata": {
            "tags": [],
            "needs_background": "light"
          }
        }
      ]
    },
    {
      "cell_type": "code",
      "metadata": {
        "colab": {
          "base_uri": "https://localhost:8080/"
        },
        "id": "oRSn3Sw_Zho3",
        "outputId": "b56f275a-6a26-4f9f-d822-a5c2284a8539"
      },
      "source": [
        "from math import *\n",
        "\n",
        "def secantes(f, x_ant, x_cur, E):    \n",
        "  if f(a) * f(b) < 0:\n",
        "    iteracao=2\n",
        "    while abs(x_cur-x_ant) > E:\n",
        "      x_new = (x_ant * f(x_cur) - x_cur * f(x_ant)) / (f(x_cur) - f(x_ant))\n",
        "      print('k = ',iteracao,'  raiz = ',x_new, '  |f(raiz)| = ',math.fabs(f(x_new)),' erro = ', math.fabs(x_new - x_cur))\n",
        "      x_ant = x_cur\n",
        "      x_cur = x_new\n",
        "      iteracao +=1          \n",
        "    return [x_cur, abs(x_cur-x_ant), iteracao]  \n",
        "  else:\n",
        "    print(\"Não há raiz neste intervalo\")\n",
        "\n",
        "# Definir um intervalo [a, b] e um erro E\n",
        "\n",
        "def f(x):\n",
        "    return exp(x) - 2*x - 1\n",
        "    \n",
        "a = 1\n",
        "b = 2\n",
        "E = 1e-4\n",
        "\n",
        "L = secantes(f, a, b, E)\n",
        "print (L)"
      ],
      "execution_count": null,
      "outputs": [
        {
          "output_type": "stream",
          "text": [
            "k =  2   raiz =  1.105481835232451   |f(raiz)| =  0.19028408239887318  erro =  0.8945181647675491\n",
            "k =  3   raiz =  1.1714725755791473   |f(raiz)| =  0.1162043898272791  erro =  0.06599074034669639\n",
            "k =  4   raiz =  1.2749883091093204   |f(raiz)| =  0.02868295392054021  erro =  0.10351573353017307\n",
            "k =  5   raiz =  1.2544955804962212   |f(raiz)| =  0.002921762551500784  erro =  0.020492728613099143\n",
            "k =  6   raiz =  1.256390072639278   |f(raiz)| =  6.223011642658705e-05  erro =  0.001894492143056814\n",
            "k =  7   raiz =  1.256431301220981   |f(raiz)| =  1.4008322501979364e-07  erro =  4.1228581702856815e-05\n",
            "[1.256431301220981, 4.1228581702856815e-05, 8]\n"
          ],
          "name": "stdout"
        }
      ]
    }
  ]
}