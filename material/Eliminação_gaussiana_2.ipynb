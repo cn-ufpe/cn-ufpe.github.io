{
 "cells": [
  {
   "cell_type": "markdown",
   "metadata": {},
   "source": [
    "# Eliminação gaussiana sem pivoteamento"
   ]
  },
  {
   "cell_type": "markdown",
   "metadata": {},
   "source": [
    "Antes dessa aula você deve assistir aos vídeos abaixo.\n",
    "\n",
    "1. [Matrizes com python](https://youtu.be/FgXrDIAlwpk)\n",
    "1. [Eliminação gaussiana](https://youtu.be/FKPrlNHqwT0)"
   ]
  },
  {
   "cell_type": "code",
   "execution_count": 1,
   "metadata": {},
   "outputs": [],
   "source": [
    "import numpy as np\n",
    "import pandas as pd # utilizado apenas na impressão de algumas matrizes"
   ]
  },
  {
   "cell_type": "markdown",
   "metadata": {},
   "source": [
    "1. **Inicialize uma matriz A de dimensão $3\\times 3$ e uma matriz $b$ de dimensão $3 \\times 1$ com números aleatórios.**"
   ]
  },
  {
   "cell_type": "code",
   "execution_count": 2,
   "metadata": {},
   "outputs": [],
   "source": [
    "np.random.seed(2)\n",
    "A = np.random.rand(3, 3)\n",
    "b = np.random.rand(3, 1)"
   ]
  },
  {
   "cell_type": "markdown",
   "metadata": {},
   "source": [
    "Vamos utilizar a eliminação gaussiana para determinar $x$, de modo que $Ax = b$. O python será utilizado como uma calculadora. Para preserver as matrizes `A` e `b` vamos cópias `copia_A` e `copia_b`."
   ]
  },
  {
   "cell_type": "code",
   "execution_count": 3,
   "metadata": {},
   "outputs": [
    {
     "name": "stdout",
     "output_type": "stream",
     "text": [
      "[[0.4359949  0.02592623 0.54966248]\n",
      " [0.43532239 0.4203678  0.33033482]\n",
      " [0.20464863 0.61927097 0.29965467]]\n"
     ]
    }
   ],
   "source": [
    "copia_A = np.copy(A)\n",
    "copia_b = np.copy(b)\n",
    "print(A)"
   ]
  },
  {
   "cell_type": "code",
   "execution_count": 4,
   "metadata": {},
   "outputs": [
    {
     "name": "stdout",
     "output_type": "stream",
     "text": [
      "[[0.26682728]\n",
      " [0.62113383]\n",
      " [0.52914209]]\n"
     ]
    }
   ],
   "source": [
    "print(b)"
   ]
  },
  {
   "cell_type": "markdown",
   "metadata": {},
   "source": [
    "**2. Qual o valor do primeiro multiplicador? Não utilize os números e sim referências a matriz.**"
   ]
  },
  {
   "cell_type": "code",
   "execution_count": 5,
   "metadata": {},
   "outputs": [],
   "source": [
    "pivo = A[0, 0]\n",
    "m = -A[1, 0] / pivo"
   ]
  },
  {
   "cell_type": "markdown",
   "metadata": {},
   "source": [
    "Adicione $m \\cdot linha0$ a $linha 1$."
   ]
  },
  {
   "cell_type": "code",
   "execution_count": 6,
   "metadata": {},
   "outputs": [],
   "source": [
    "A[1] = m * A[0] + A[1]\n",
    "b[1] = m * b[0] + b[1]"
   ]
  },
  {
   "cell_type": "code",
   "execution_count": 7,
   "metadata": {},
   "outputs": [
    {
     "data": {
      "text/plain": [
       "array([[ 0.4359949 ,  0.02592623,  0.54966248],\n",
       "       [ 0.        ,  0.39448156, -0.21847982],\n",
       "       [ 0.20464863,  0.61927097,  0.29965467]])"
      ]
     },
     "execution_count": 7,
     "metadata": {},
     "output_type": "execute_result"
    }
   ],
   "source": [
    "# Se sua resposta estiver certa A[1,0] será = 0\n",
    "A"
   ]
  },
  {
   "cell_type": "markdown",
   "metadata": {},
   "source": [
    "**3. Determine o próximo multiplicador? E atualize a linha 2 da matriz A.**"
   ]
  },
  {
   "cell_type": "code",
   "execution_count": 8,
   "metadata": {},
   "outputs": [],
   "source": [
    "m = -A[2, 0] / pivo\n",
    "A[2] = m * A[0] + A[2]\n",
    "b[2] = m * b[0] + b[2]"
   ]
  },
  {
   "cell_type": "code",
   "execution_count": 9,
   "metadata": {},
   "outputs": [
    {
     "name": "stdout",
     "output_type": "stream",
     "text": [
      "[[ 0.4359949   0.02592623  0.54966248]\n",
      " [ 0.          0.39448156 -0.21847982]\n",
      " [ 0.          0.60710163  0.0416524 ]]\n"
     ]
    }
   ],
   "source": [
    "# Sua resposta está correta? \n",
    "print(A)"
   ]
  },
  {
   "cell_type": "markdown",
   "metadata": {},
   "source": [
    "**4. O trabalho com a primeira coluna está finalizado. Determine o próximo pivô.**"
   ]
  },
  {
   "cell_type": "code",
   "execution_count": 10,
   "metadata": {},
   "outputs": [],
   "source": [
    "pivo = A[1, 1]"
   ]
  },
  {
   "cell_type": "markdown",
   "metadata": {},
   "source": [
    "**5. Determine o próximo multiplicador e atualize a linha 2.**"
   ]
  },
  {
   "cell_type": "code",
   "execution_count": 11,
   "metadata": {},
   "outputs": [],
   "source": [
    "m = -A[2, 1] / pivo\n",
    "A[2] = m * A[1] + A[2]\n",
    "b[2] = m * b[1] + b[2]"
   ]
  },
  {
   "cell_type": "code",
   "execution_count": 12,
   "metadata": {},
   "outputs": [
    {
     "name": "stdout",
     "output_type": "stream",
     "text": [
      "A= \n",
      " [[ 0.4359949   0.02592623  0.54966248]\n",
      " [ 0.          0.39448156 -0.21847982]\n",
      " [ 0.          0.          0.3778898 ]]\n",
      "\n",
      "b= \n",
      " [[ 0.26682728]\n",
      " [ 0.35471813]\n",
      " [-0.14200838]]\n"
     ]
    }
   ],
   "source": [
    "print('A= \\n', A)\n",
    "print()\n",
    "print('b= \\n', b)"
   ]
  },
  {
   "cell_type": "markdown",
   "metadata": {},
   "source": [
    "Agora a matriz A está em um formato triangular superior e precisamos determinar os valores de `x[0]`, `x[1]` e `x[2]`."
   ]
  },
  {
   "cell_type": "code",
   "execution_count": 13,
   "metadata": {},
   "outputs": [],
   "source": [
    "x = np.zeros(3)"
   ]
  },
  {
   "cell_type": "code",
   "execution_count": 14,
   "metadata": {},
   "outputs": [
    {
     "data": {
      "text/plain": [
       "array([0., 0., 0.])"
      ]
     },
     "execution_count": 14,
     "metadata": {},
     "output_type": "execute_result"
    }
   ],
   "source": [
    "x"
   ]
  },
  {
   "cell_type": "markdown",
   "metadata": {},
   "source": [
    "**6. Determine o valor de `x[2]`.**"
   ]
  },
  {
   "cell_type": "code",
   "execution_count": 15,
   "metadata": {},
   "outputs": [],
   "source": [
    "x[2] = b[2] / A[2, 2]"
   ]
  },
  {
   "cell_type": "markdown",
   "metadata": {},
   "source": [
    "**7. Determine o valor de `x[1]`.**"
   ]
  },
  {
   "cell_type": "code",
   "execution_count": 16,
   "metadata": {},
   "outputs": [],
   "source": [
    "x[1] = (b[1] - A[1, 2]*x[2]) / A[1, 1]"
   ]
  },
  {
   "cell_type": "markdown",
   "metadata": {},
   "source": [
    "**8. Determine o valor de x[0].**"
   ]
  },
  {
   "cell_type": "code",
   "execution_count": 17,
   "metadata": {},
   "outputs": [],
   "source": [
    "x[0] = (b[0] - A[0, 1]*x[1] - A[0, 2]* x[2]) / A[0, 0]"
   ]
  },
  {
   "cell_type": "markdown",
   "metadata": {},
   "source": [
    "Verificando o resultado"
   ]
  },
  {
   "cell_type": "code",
   "execution_count": 18,
   "metadata": {},
   "outputs": [
    {
     "data": {
      "text/plain": [
       "array([0.26682728, 0.62113383, 0.52914209])"
      ]
     },
     "execution_count": 18,
     "metadata": {},
     "output_type": "execute_result"
    }
   ],
   "source": [
    "copia_A @ x"
   ]
  },
  {
   "cell_type": "code",
   "execution_count": 19,
   "metadata": {},
   "outputs": [
    {
     "data": {
      "text/plain": [
       "array([[0.26682728],\n",
       "       [0.62113383],\n",
       "       [0.52914209]])"
      ]
     },
     "execution_count": 19,
     "metadata": {},
     "output_type": "execute_result"
    }
   ],
   "source": [
    "copia_b"
   ]
  },
  {
   "cell_type": "markdown",
   "metadata": {},
   "source": [
    "**9. Combine o código que você escreveu até agora para resolver sistemas lineares com 3 equações e 3 incógnitas.**"
   ]
  },
  {
   "cell_type": "code",
   "execution_count": 20,
   "metadata": {},
   "outputs": [],
   "source": [
    "def eliminacao_gaussiana_3(matriz_coeficientes, termos_independentes):\n",
    "    '''\n",
    "    matriz_coeficientes é uma matriz 3 por 3\n",
    "    termos_independentes é uma matriz 3 por 1\n",
    "    Não será necessário realizar pivoteamento, se o pivo for igual a zero ocorrerá um erro (divisão por zero)\n",
    "    '''\n",
    "    A = np.copy(matriz_coeficientes)\n",
    "    b = np.copy(termos_independentes)\n",
    "    \n",
    "    # seu código aqui\n",
    "    pivo = A[0, 0]\n",
    "    \n",
    "    m = -A[1, 0] / pivo\n",
    "    A[1] = m * A[0] + A[1]\n",
    "    b[1] = m * b[0] + b[1]\n",
    "    \n",
    "    m = -A[2, 0] / pivo\n",
    "    A[2] = m * A[0] + A[2]\n",
    "    b[2] = m * b[0] + b[2]\n",
    "    \n",
    "    pivo = A[1, 1]\n",
    "    \n",
    "    m = -A[2, 1] / pivo\n",
    "    A[2] = m * A[1] + A[2]\n",
    "    b[2] = m * b[1] + b[2]\n",
    "    \n",
    "\n",
    "    x = np.zeros(3)\n",
    "    x[2] = b[2] / A[2, 2]\n",
    "    x[1] = (b[1] - A[1, 2]*x[2]) / A[1, 1]\n",
    "    x[0] = (b[0] - A[0, 1]*x[1] - A[0, 2]* x[2]) / A[0, 0]\n",
    "    \n",
    "    return x"
   ]
  },
  {
   "cell_type": "code",
   "execution_count": 21,
   "metadata": {},
   "outputs": [],
   "source": [
    "A1 = np.random.rand(3, 3)\n",
    "b1 = np.random.rand(3, 1) "
   ]
  },
  {
   "cell_type": "code",
   "execution_count": 22,
   "metadata": {},
   "outputs": [],
   "source": [
    "x = eliminacao_gaussiana_3(A1, b1)"
   ]
  },
  {
   "cell_type": "code",
   "execution_count": 23,
   "metadata": {},
   "outputs": [
    {
     "name": "stdout",
     "output_type": "stream",
     "text": [
      "b1 =  [[0.0652865 ]\n",
      " [0.42812233]\n",
      " [0.09653092]]\n",
      "y  =  [0.0652865  0.42812233 0.09653092]\n"
     ]
    }
   ],
   "source": [
    "y = A1 @ x\n",
    "print('b1 = ', b1)\n",
    "print('y  = ', y)"
   ]
  },
  {
   "cell_type": "markdown",
   "metadata": {},
   "source": [
    "Agora vamos inicializar uma matriz A com dimensão $5 \\times 5$ e uma matriz $b$ com dimensão $5 \\times 1$."
   ]
  },
  {
   "cell_type": "code",
   "execution_count": 24,
   "metadata": {},
   "outputs": [],
   "source": [
    "A = np.random.rand(5, 5)\n",
    "b = np.random.rand(5, 1)"
   ]
  },
  {
   "cell_type": "code",
   "execution_count": 25,
   "metadata": {},
   "outputs": [
    {
     "name": "stdout",
     "output_type": "stream",
     "text": [
      "[[0.12715997 0.59674531 0.226012   0.10694568 0.22030621]\n",
      " [0.34982629 0.46778748 0.20174323 0.64040673 0.48306984]\n",
      " [0.50523672 0.38689265 0.79363745 0.58000418 0.1622986 ]\n",
      " [0.70075235 0.96455108 0.50000836 0.88952006 0.34161365]\n",
      " [0.56714413 0.42754596 0.43674726 0.77655918 0.53560417]]\n"
     ]
    }
   ],
   "source": [
    "print(A)"
   ]
  },
  {
   "cell_type": "markdown",
   "metadata": {},
   "source": [
    "**10. Realize operações sobre linhas para zerar os valores abaixo do pivô.**"
   ]
  },
  {
   "cell_type": "code",
   "execution_count": 26,
   "metadata": {},
   "outputs": [],
   "source": [
    "pivo = A[0, 0]\n",
    "\n",
    "m = -A[1, 0] / pivo\n",
    "A[1] = m * A[0] + A[1]\n",
    "b[1] = m * b[0] + b[1]\n",
    "\n",
    "m = -A[2, 0] / pivo\n",
    "A[2] = m * A[0] + A[2]\n",
    "b[2] = m * b[0] + b[2]\n",
    "\n",
    "m = -A[3, 0] / pivo\n",
    "A[3] = m * A[0] + A[3]\n",
    "b[3] = m * b[0] + b[3]\n",
    "\n",
    "m = -A[4, 0] / pivo\n",
    "A[4] = m * A[0] + A[4]\n",
    "b[4] = m * b[0] + b[4]"
   ]
  },
  {
   "cell_type": "code",
   "execution_count": 27,
   "metadata": {},
   "outputs": [
    {
     "data": {
      "text/html": [
       "<div>\n",
       "<style scoped>\n",
       "    .dataframe tbody tr th:only-of-type {\n",
       "        vertical-align: middle;\n",
       "    }\n",
       "\n",
       "    .dataframe tbody tr th {\n",
       "        vertical-align: top;\n",
       "    }\n",
       "\n",
       "    .dataframe thead th {\n",
       "        text-align: right;\n",
       "    }\n",
       "</style>\n",
       "<table border=\"1\" class=\"dataframe\">\n",
       "  <thead>\n",
       "    <tr style=\"text-align: right;\">\n",
       "      <th></th>\n",
       "      <th>0</th>\n",
       "      <th>1</th>\n",
       "      <th>2</th>\n",
       "      <th>3</th>\n",
       "      <th>4</th>\n",
       "    </tr>\n",
       "  </thead>\n",
       "  <tbody>\n",
       "    <tr>\n",
       "      <th>0</th>\n",
       "      <td>0.12716</td>\n",
       "      <td>0.596745</td>\n",
       "      <td>0.226012</td>\n",
       "      <td>0.106946</td>\n",
       "      <td>0.220306</td>\n",
       "    </tr>\n",
       "    <tr>\n",
       "      <th>1</th>\n",
       "      <td>0.00000</td>\n",
       "      <td>-1.173902</td>\n",
       "      <td>-0.420032</td>\n",
       "      <td>0.346191</td>\n",
       "      <td>-0.123008</td>\n",
       "    </tr>\n",
       "    <tr>\n",
       "      <th>2</th>\n",
       "      <td>0.00000</td>\n",
       "      <td>-1.984118</td>\n",
       "      <td>-0.104362</td>\n",
       "      <td>0.155084</td>\n",
       "      <td>-0.713030</td>\n",
       "    </tr>\n",
       "    <tr>\n",
       "      <th>3</th>\n",
       "      <td>0.00000</td>\n",
       "      <td>-2.323989</td>\n",
       "      <td>-0.745497</td>\n",
       "      <td>0.300164</td>\n",
       "      <td>-0.872448</td>\n",
       "    </tr>\n",
       "    <tr>\n",
       "      <th>4</th>\n",
       "      <td>0.00000</td>\n",
       "      <td>-2.233988</td>\n",
       "      <td>-0.571285</td>\n",
       "      <td>0.299572</td>\n",
       "      <td>-0.446980</td>\n",
       "    </tr>\n",
       "  </tbody>\n",
       "</table>\n",
       "</div>"
      ],
      "text/plain": [
       "         0         1         2         3         4\n",
       "0  0.12716  0.596745  0.226012  0.106946  0.220306\n",
       "1  0.00000 -1.173902 -0.420032  0.346191 -0.123008\n",
       "2  0.00000 -1.984118 -0.104362  0.155084 -0.713030\n",
       "3  0.00000 -2.323989 -0.745497  0.300164 -0.872448\n",
       "4  0.00000 -2.233988 -0.571285  0.299572 -0.446980"
      ]
     },
     "execution_count": 27,
     "metadata": {},
     "output_type": "execute_result"
    }
   ],
   "source": [
    "pd.DataFrame(A)"
   ]
  },
  {
   "cell_type": "markdown",
   "metadata": {},
   "source": [
    "Agora vamos inicializar uma matriz A com dimensão $10 \\times 10$ e uma matriz $b$ com dimensão $10 \\times 1$."
   ]
  },
  {
   "cell_type": "code",
   "execution_count": 28,
   "metadata": {},
   "outputs": [],
   "source": [
    "A = np.random.rand(10, 10)\n",
    "b = np.random.rand(10, 1)"
   ]
  },
  {
   "cell_type": "markdown",
   "metadata": {},
   "source": [
    "**11. Escreva um código para zerar os elementos abaixo do pivô da coluna 0**"
   ]
  },
  {
   "cell_type": "code",
   "execution_count": 29,
   "metadata": {},
   "outputs": [],
   "source": [
    "pivo = A[0, 0]\n",
    "\n",
    "for k in range(1, 10):\n",
    "    m = -A[k, 0] / pivo\n",
    "    A[k] = m * A[0] + A[k]\n",
    "    b[k] = m * b[0] + b[k]"
   ]
  },
  {
   "cell_type": "code",
   "execution_count": 30,
   "metadata": {},
   "outputs": [
    {
     "data": {
      "text/html": [
       "<div>\n",
       "<style scoped>\n",
       "    .dataframe tbody tr th:only-of-type {\n",
       "        vertical-align: middle;\n",
       "    }\n",
       "\n",
       "    .dataframe tbody tr th {\n",
       "        vertical-align: top;\n",
       "    }\n",
       "\n",
       "    .dataframe thead th {\n",
       "        text-align: right;\n",
       "    }\n",
       "</style>\n",
       "<table border=\"1\" class=\"dataframe\">\n",
       "  <thead>\n",
       "    <tr style=\"text-align: right;\">\n",
       "      <th></th>\n",
       "      <th>0</th>\n",
       "      <th>1</th>\n",
       "      <th>2</th>\n",
       "      <th>3</th>\n",
       "      <th>4</th>\n",
       "      <th>5</th>\n",
       "      <th>6</th>\n",
       "      <th>7</th>\n",
       "      <th>8</th>\n",
       "      <th>9</th>\n",
       "    </tr>\n",
       "  </thead>\n",
       "  <tbody>\n",
       "    <tr>\n",
       "      <th>0</th>\n",
       "      <td>4.062750e-01</td>\n",
       "      <td>0.027202</td>\n",
       "      <td>0.247177</td>\n",
       "      <td>0.067144</td>\n",
       "      <td>0.993852</td>\n",
       "      <td>0.970580</td>\n",
       "      <td>0.800258</td>\n",
       "      <td>0.601817</td>\n",
       "      <td>0.764960</td>\n",
       "      <td>0.169225</td>\n",
       "    </tr>\n",
       "    <tr>\n",
       "      <th>1</th>\n",
       "      <td>0.000000e+00</td>\n",
       "      <td>0.504447</td>\n",
       "      <td>0.178349</td>\n",
       "      <td>-0.002748</td>\n",
       "      <td>0.266344</td>\n",
       "      <td>-0.258670</td>\n",
       "      <td>-0.073181</td>\n",
       "      <td>-0.110515</td>\n",
       "      <td>-0.291978</td>\n",
       "      <td>0.264837</td>\n",
       "    </tr>\n",
       "    <tr>\n",
       "      <th>2</th>\n",
       "      <td>0.000000e+00</td>\n",
       "      <td>0.681039</td>\n",
       "      <td>-0.126987</td>\n",
       "      <td>-0.124489</td>\n",
       "      <td>-1.237920</td>\n",
       "      <td>-1.718278</td>\n",
       "      <td>-1.056176</td>\n",
       "      <td>-1.206920</td>\n",
       "      <td>-0.904371</td>\n",
       "      <td>0.040964</td>\n",
       "    </tr>\n",
       "    <tr>\n",
       "      <th>3</th>\n",
       "      <td>0.000000e+00</td>\n",
       "      <td>0.381624</td>\n",
       "      <td>0.048453</td>\n",
       "      <td>0.468827</td>\n",
       "      <td>-0.243058</td>\n",
       "      <td>-1.074720</td>\n",
       "      <td>-0.665850</td>\n",
       "      <td>-0.694520</td>\n",
       "      <td>-0.197522</td>\n",
       "      <td>0.450467</td>\n",
       "    </tr>\n",
       "    <tr>\n",
       "      <th>4</th>\n",
       "      <td>2.775558e-17</td>\n",
       "      <td>0.402382</td>\n",
       "      <td>0.513258</td>\n",
       "      <td>0.626009</td>\n",
       "      <td>-0.354576</td>\n",
       "      <td>0.368893</td>\n",
       "      <td>0.355230</td>\n",
       "      <td>-0.183987</td>\n",
       "      <td>0.464787</td>\n",
       "      <td>0.659376</td>\n",
       "    </tr>\n",
       "    <tr>\n",
       "      <th>5</th>\n",
       "      <td>0.000000e+00</td>\n",
       "      <td>0.489875</td>\n",
       "      <td>-0.265021</td>\n",
       "      <td>0.786478</td>\n",
       "      <td>-1.361459</td>\n",
       "      <td>-1.561562</td>\n",
       "      <td>-1.309232</td>\n",
       "      <td>-0.269033</td>\n",
       "      <td>-1.083891</td>\n",
       "      <td>0.207557</td>\n",
       "    </tr>\n",
       "    <tr>\n",
       "      <th>6</th>\n",
       "      <td>0.000000e+00</td>\n",
       "      <td>0.785511</td>\n",
       "      <td>0.253388</td>\n",
       "      <td>0.076156</td>\n",
       "      <td>-0.897147</td>\n",
       "      <td>-0.964286</td>\n",
       "      <td>-0.650568</td>\n",
       "      <td>-0.201768</td>\n",
       "      <td>-0.899801</td>\n",
       "      <td>-0.066807</td>\n",
       "    </tr>\n",
       "    <tr>\n",
       "      <th>7</th>\n",
       "      <td>1.387779e-17</td>\n",
       "      <td>0.266655</td>\n",
       "      <td>-0.057029</td>\n",
       "      <td>0.611084</td>\n",
       "      <td>0.024658</td>\n",
       "      <td>-0.076894</td>\n",
       "      <td>-0.122533</td>\n",
       "      <td>0.119948</td>\n",
       "      <td>0.006712</td>\n",
       "      <td>0.239543</td>\n",
       "    </tr>\n",
       "    <tr>\n",
       "      <th>8</th>\n",
       "      <td>5.551115e-17</td>\n",
       "      <td>0.517933</td>\n",
       "      <td>0.558308</td>\n",
       "      <td>0.910601</td>\n",
       "      <td>-1.104320</td>\n",
       "      <td>-0.894067</td>\n",
       "      <td>-0.285246</td>\n",
       "      <td>-0.536835</td>\n",
       "      <td>-0.017454</td>\n",
       "      <td>0.021046</td>\n",
       "    </tr>\n",
       "    <tr>\n",
       "      <th>9</th>\n",
       "      <td>0.000000e+00</td>\n",
       "      <td>0.603356</td>\n",
       "      <td>0.347603</td>\n",
       "      <td>-0.091341</td>\n",
       "      <td>-1.584947</td>\n",
       "      <td>-1.067406</td>\n",
       "      <td>-1.373506</td>\n",
       "      <td>-1.068176</td>\n",
       "      <td>-1.039487</td>\n",
       "      <td>0.280819</td>\n",
       "    </tr>\n",
       "  </tbody>\n",
       "</table>\n",
       "</div>"
      ],
      "text/plain": [
       "              0         1         2         3         4         5         6  \\\n",
       "0  4.062750e-01  0.027202  0.247177  0.067144  0.993852  0.970580  0.800258   \n",
       "1  0.000000e+00  0.504447  0.178349 -0.002748  0.266344 -0.258670 -0.073181   \n",
       "2  0.000000e+00  0.681039 -0.126987 -0.124489 -1.237920 -1.718278 -1.056176   \n",
       "3  0.000000e+00  0.381624  0.048453  0.468827 -0.243058 -1.074720 -0.665850   \n",
       "4  2.775558e-17  0.402382  0.513258  0.626009 -0.354576  0.368893  0.355230   \n",
       "5  0.000000e+00  0.489875 -0.265021  0.786478 -1.361459 -1.561562 -1.309232   \n",
       "6  0.000000e+00  0.785511  0.253388  0.076156 -0.897147 -0.964286 -0.650568   \n",
       "7  1.387779e-17  0.266655 -0.057029  0.611084  0.024658 -0.076894 -0.122533   \n",
       "8  5.551115e-17  0.517933  0.558308  0.910601 -1.104320 -0.894067 -0.285246   \n",
       "9  0.000000e+00  0.603356  0.347603 -0.091341 -1.584947 -1.067406 -1.373506   \n",
       "\n",
       "          7         8         9  \n",
       "0  0.601817  0.764960  0.169225  \n",
       "1 -0.110515 -0.291978  0.264837  \n",
       "2 -1.206920 -0.904371  0.040964  \n",
       "3 -0.694520 -0.197522  0.450467  \n",
       "4 -0.183987  0.464787  0.659376  \n",
       "5 -0.269033 -1.083891  0.207557  \n",
       "6 -0.201768 -0.899801 -0.066807  \n",
       "7  0.119948  0.006712  0.239543  \n",
       "8 -0.536835 -0.017454  0.021046  \n",
       "9 -1.068176 -1.039487  0.280819  "
      ]
     },
     "execution_count": 30,
     "metadata": {},
     "output_type": "execute_result"
    }
   ],
   "source": [
    "pd.DataFrame(A)"
   ]
  },
  {
   "cell_type": "markdown",
   "metadata": {},
   "source": [
    "**12. Escreva um código para zerar os elementos abaixo do pivô da coluna 1**"
   ]
  },
  {
   "cell_type": "code",
   "execution_count": 31,
   "metadata": {},
   "outputs": [],
   "source": [
    "pivo = A[1, 1]\n",
    "\n",
    "for k in range(2, 10):\n",
    "    m = -A[k, 1] / pivo\n",
    "    A[k] = m * A[1] + A[k]\n",
    "    b[k] = m * b[1] + b[k]"
   ]
  },
  {
   "cell_type": "code",
   "execution_count": 32,
   "metadata": {},
   "outputs": [
    {
     "data": {
      "text/html": [
       "<div>\n",
       "<style scoped>\n",
       "    .dataframe tbody tr th:only-of-type {\n",
       "        vertical-align: middle;\n",
       "    }\n",
       "\n",
       "    .dataframe tbody tr th {\n",
       "        vertical-align: top;\n",
       "    }\n",
       "\n",
       "    .dataframe thead th {\n",
       "        text-align: right;\n",
       "    }\n",
       "</style>\n",
       "<table border=\"1\" class=\"dataframe\">\n",
       "  <thead>\n",
       "    <tr style=\"text-align: right;\">\n",
       "      <th></th>\n",
       "      <th>0</th>\n",
       "      <th>1</th>\n",
       "      <th>2</th>\n",
       "      <th>3</th>\n",
       "      <th>4</th>\n",
       "      <th>5</th>\n",
       "      <th>6</th>\n",
       "      <th>7</th>\n",
       "      <th>8</th>\n",
       "      <th>9</th>\n",
       "    </tr>\n",
       "  </thead>\n",
       "  <tbody>\n",
       "    <tr>\n",
       "      <th>0</th>\n",
       "      <td>4.062750e-01</td>\n",
       "      <td>0.027202</td>\n",
       "      <td>0.247177</td>\n",
       "      <td>0.067144</td>\n",
       "      <td>0.993852</td>\n",
       "      <td>0.970580</td>\n",
       "      <td>0.800258</td>\n",
       "      <td>0.601817</td>\n",
       "      <td>0.764960</td>\n",
       "      <td>0.169225</td>\n",
       "    </tr>\n",
       "    <tr>\n",
       "      <th>1</th>\n",
       "      <td>0.000000e+00</td>\n",
       "      <td>0.504447</td>\n",
       "      <td>0.178349</td>\n",
       "      <td>-0.002748</td>\n",
       "      <td>0.266344</td>\n",
       "      <td>-0.258670</td>\n",
       "      <td>-0.073181</td>\n",
       "      <td>-0.110515</td>\n",
       "      <td>-0.291978</td>\n",
       "      <td>0.264837</td>\n",
       "    </tr>\n",
       "    <tr>\n",
       "      <th>2</th>\n",
       "      <td>0.000000e+00</td>\n",
       "      <td>0.000000</td>\n",
       "      <td>-0.367771</td>\n",
       "      <td>-0.120778</td>\n",
       "      <td>-1.597503</td>\n",
       "      <td>-1.369055</td>\n",
       "      <td>-0.957377</td>\n",
       "      <td>-1.057716</td>\n",
       "      <td>-0.510181</td>\n",
       "      <td>-0.316584</td>\n",
       "    </tr>\n",
       "    <tr>\n",
       "      <th>3</th>\n",
       "      <td>0.000000e+00</td>\n",
       "      <td>0.000000</td>\n",
       "      <td>-0.086472</td>\n",
       "      <td>0.470907</td>\n",
       "      <td>-0.444553</td>\n",
       "      <td>-0.879031</td>\n",
       "      <td>-0.610488</td>\n",
       "      <td>-0.610913</td>\n",
       "      <td>0.023365</td>\n",
       "      <td>0.250112</td>\n",
       "    </tr>\n",
       "    <tr>\n",
       "      <th>4</th>\n",
       "      <td>2.775558e-17</td>\n",
       "      <td>0.000000</td>\n",
       "      <td>0.370994</td>\n",
       "      <td>0.628201</td>\n",
       "      <td>-0.567031</td>\n",
       "      <td>0.575226</td>\n",
       "      <td>0.413604</td>\n",
       "      <td>-0.095832</td>\n",
       "      <td>0.697689</td>\n",
       "      <td>0.448123</td>\n",
       "    </tr>\n",
       "    <tr>\n",
       "      <th>5</th>\n",
       "      <td>0.000000e+00</td>\n",
       "      <td>0.000000</td>\n",
       "      <td>-0.438218</td>\n",
       "      <td>0.789147</td>\n",
       "      <td>-1.620109</td>\n",
       "      <td>-1.310364</td>\n",
       "      <td>-1.238165</td>\n",
       "      <td>-0.161710</td>\n",
       "      <td>-0.800348</td>\n",
       "      <td>-0.049630</td>\n",
       "    </tr>\n",
       "    <tr>\n",
       "      <th>6</th>\n",
       "      <td>0.000000e+00</td>\n",
       "      <td>0.000000</td>\n",
       "      <td>-0.024333</td>\n",
       "      <td>0.080436</td>\n",
       "      <td>-1.311890</td>\n",
       "      <td>-0.561493</td>\n",
       "      <td>-0.536613</td>\n",
       "      <td>-0.029676</td>\n",
       "      <td>-0.445142</td>\n",
       "      <td>-0.479204</td>\n",
       "    </tr>\n",
       "    <tr>\n",
       "      <th>7</th>\n",
       "      <td>1.387779e-17</td>\n",
       "      <td>0.000000</td>\n",
       "      <td>-0.151306</td>\n",
       "      <td>0.612537</td>\n",
       "      <td>-0.116134</td>\n",
       "      <td>0.059841</td>\n",
       "      <td>-0.083849</td>\n",
       "      <td>0.178368</td>\n",
       "      <td>0.161053</td>\n",
       "      <td>0.099547</td>\n",
       "    </tr>\n",
       "    <tr>\n",
       "      <th>8</th>\n",
       "      <td>5.551115e-17</td>\n",
       "      <td>0.000000</td>\n",
       "      <td>0.375191</td>\n",
       "      <td>0.913423</td>\n",
       "      <td>-1.377785</td>\n",
       "      <td>-0.628482</td>\n",
       "      <td>-0.210109</td>\n",
       "      <td>-0.423365</td>\n",
       "      <td>0.282330</td>\n",
       "      <td>-0.250871</td>\n",
       "    </tr>\n",
       "    <tr>\n",
       "      <th>9</th>\n",
       "      <td>0.000000e+00</td>\n",
       "      <td>0.000000</td>\n",
       "      <td>0.134284</td>\n",
       "      <td>-0.088054</td>\n",
       "      <td>-1.903514</td>\n",
       "      <td>-0.758018</td>\n",
       "      <td>-1.285977</td>\n",
       "      <td>-0.935991</td>\n",
       "      <td>-0.690261</td>\n",
       "      <td>-0.035945</td>\n",
       "    </tr>\n",
       "  </tbody>\n",
       "</table>\n",
       "</div>"
      ],
      "text/plain": [
       "              0         1         2         3         4         5         6  \\\n",
       "0  4.062750e-01  0.027202  0.247177  0.067144  0.993852  0.970580  0.800258   \n",
       "1  0.000000e+00  0.504447  0.178349 -0.002748  0.266344 -0.258670 -0.073181   \n",
       "2  0.000000e+00  0.000000 -0.367771 -0.120778 -1.597503 -1.369055 -0.957377   \n",
       "3  0.000000e+00  0.000000 -0.086472  0.470907 -0.444553 -0.879031 -0.610488   \n",
       "4  2.775558e-17  0.000000  0.370994  0.628201 -0.567031  0.575226  0.413604   \n",
       "5  0.000000e+00  0.000000 -0.438218  0.789147 -1.620109 -1.310364 -1.238165   \n",
       "6  0.000000e+00  0.000000 -0.024333  0.080436 -1.311890 -0.561493 -0.536613   \n",
       "7  1.387779e-17  0.000000 -0.151306  0.612537 -0.116134  0.059841 -0.083849   \n",
       "8  5.551115e-17  0.000000  0.375191  0.913423 -1.377785 -0.628482 -0.210109   \n",
       "9  0.000000e+00  0.000000  0.134284 -0.088054 -1.903514 -0.758018 -1.285977   \n",
       "\n",
       "          7         8         9  \n",
       "0  0.601817  0.764960  0.169225  \n",
       "1 -0.110515 -0.291978  0.264837  \n",
       "2 -1.057716 -0.510181 -0.316584  \n",
       "3 -0.610913  0.023365  0.250112  \n",
       "4 -0.095832  0.697689  0.448123  \n",
       "5 -0.161710 -0.800348 -0.049630  \n",
       "6 -0.029676 -0.445142 -0.479204  \n",
       "7  0.178368  0.161053  0.099547  \n",
       "8 -0.423365  0.282330 -0.250871  \n",
       "9 -0.935991 -0.690261 -0.035945  "
      ]
     },
     "execution_count": 32,
     "metadata": {},
     "output_type": "execute_result"
    }
   ],
   "source": [
    "pd.DataFrame(A)"
   ]
  },
  {
   "cell_type": "markdown",
   "metadata": {},
   "source": [
    "**13. Escreva um código para zerar os elementos abaixo do pivô da coluna 2**"
   ]
  },
  {
   "cell_type": "code",
   "execution_count": 33,
   "metadata": {},
   "outputs": [],
   "source": [
    "pivo = A[2, 2]\n",
    "\n",
    "for k in range(3, 10):\n",
    "    m = -A[k, 2] / pivo\n",
    "    A[k] = m * A[2] + A[k]\n",
    "    b[k] = m * b[2] + b[k]"
   ]
  },
  {
   "cell_type": "markdown",
   "metadata": {},
   "source": [
    "**14. Existe repetição nesses códigos. Agora escreva um laço para zerar os elementos abaixo do pivô da coluna 0 até a coluna 8.**"
   ]
  },
  {
   "cell_type": "code",
   "execution_count": 34,
   "metadata": {},
   "outputs": [],
   "source": [
    "for j in range(0, 9):\n",
    "    pivo = A[j, j]\n",
    "\n",
    "    for k in range(j+1, 10):\n",
    "        m = -A[k, j] / pivo\n",
    "        A[k] = m * A[j] + A[k]\n",
    "        b[k] = m * b[j] + b[k]\n",
    "        A[k, j] = 0"
   ]
  },
  {
   "cell_type": "code",
   "execution_count": 35,
   "metadata": {},
   "outputs": [
    {
     "data": {
      "text/html": [
       "<div>\n",
       "<style scoped>\n",
       "    .dataframe tbody tr th:only-of-type {\n",
       "        vertical-align: middle;\n",
       "    }\n",
       "\n",
       "    .dataframe tbody tr th {\n",
       "        vertical-align: top;\n",
       "    }\n",
       "\n",
       "    .dataframe thead th {\n",
       "        text-align: right;\n",
       "    }\n",
       "</style>\n",
       "<table border=\"1\" class=\"dataframe\">\n",
       "  <thead>\n",
       "    <tr style=\"text-align: right;\">\n",
       "      <th></th>\n",
       "      <th>0</th>\n",
       "      <th>1</th>\n",
       "      <th>2</th>\n",
       "      <th>3</th>\n",
       "      <th>4</th>\n",
       "      <th>5</th>\n",
       "      <th>6</th>\n",
       "      <th>7</th>\n",
       "      <th>8</th>\n",
       "      <th>9</th>\n",
       "    </tr>\n",
       "  </thead>\n",
       "  <tbody>\n",
       "    <tr>\n",
       "      <th>0</th>\n",
       "      <td>0.406275</td>\n",
       "      <td>0.027202</td>\n",
       "      <td>0.247177</td>\n",
       "      <td>0.067144</td>\n",
       "      <td>0.993852</td>\n",
       "      <td>0.970580</td>\n",
       "      <td>0.800258</td>\n",
       "      <td>0.601817</td>\n",
       "      <td>0.764960</td>\n",
       "      <td>0.169225</td>\n",
       "    </tr>\n",
       "    <tr>\n",
       "      <th>1</th>\n",
       "      <td>0.000000</td>\n",
       "      <td>0.504447</td>\n",
       "      <td>0.178349</td>\n",
       "      <td>-0.002748</td>\n",
       "      <td>0.266344</td>\n",
       "      <td>-0.258670</td>\n",
       "      <td>-0.073181</td>\n",
       "      <td>-0.110515</td>\n",
       "      <td>-0.291978</td>\n",
       "      <td>0.264837</td>\n",
       "    </tr>\n",
       "    <tr>\n",
       "      <th>2</th>\n",
       "      <td>0.000000</td>\n",
       "      <td>0.000000</td>\n",
       "      <td>-0.367771</td>\n",
       "      <td>-0.120778</td>\n",
       "      <td>-1.597503</td>\n",
       "      <td>-1.369055</td>\n",
       "      <td>-0.957377</td>\n",
       "      <td>-1.057716</td>\n",
       "      <td>-0.510181</td>\n",
       "      <td>-0.316584</td>\n",
       "    </tr>\n",
       "    <tr>\n",
       "      <th>3</th>\n",
       "      <td>0.000000</td>\n",
       "      <td>0.000000</td>\n",
       "      <td>0.000000</td>\n",
       "      <td>0.499304</td>\n",
       "      <td>-0.068942</td>\n",
       "      <td>-0.557134</td>\n",
       "      <td>-0.385385</td>\n",
       "      <td>-0.362219</td>\n",
       "      <td>0.143321</td>\n",
       "      <td>0.324549</td>\n",
       "    </tr>\n",
       "    <tr>\n",
       "      <th>4</th>\n",
       "      <td>0.000000</td>\n",
       "      <td>0.000000</td>\n",
       "      <td>0.000000</td>\n",
       "      <td>0.000000</td>\n",
       "      <td>-2.108615</td>\n",
       "      <td>-0.240813</td>\n",
       "      <td>-0.161327</td>\n",
       "      <td>-0.795475</td>\n",
       "      <td>0.037690</td>\n",
       "      <td>-0.200373</td>\n",
       "    </tr>\n",
       "    <tr>\n",
       "      <th>5</th>\n",
       "      <td>0.000000</td>\n",
       "      <td>0.000000</td>\n",
       "      <td>0.000000</td>\n",
       "      <td>0.000000</td>\n",
       "      <td>0.000000</td>\n",
       "      <td>1.314982</td>\n",
       "      <td>0.591236</td>\n",
       "      <td>1.619984</td>\n",
       "      <td>-0.452900</td>\n",
       "      <td>-0.318067</td>\n",
       "    </tr>\n",
       "    <tr>\n",
       "      <th>6</th>\n",
       "      <td>0.000000</td>\n",
       "      <td>0.000000</td>\n",
       "      <td>0.000000</td>\n",
       "      <td>0.000000</td>\n",
       "      <td>0.000000</td>\n",
       "      <td>0.000000</td>\n",
       "      <td>-0.207611</td>\n",
       "      <td>0.845483</td>\n",
       "      <td>-0.539353</td>\n",
       "      <td>-0.459331</td>\n",
       "    </tr>\n",
       "    <tr>\n",
       "      <th>7</th>\n",
       "      <td>0.000000</td>\n",
       "      <td>0.000000</td>\n",
       "      <td>0.000000</td>\n",
       "      <td>0.000000</td>\n",
       "      <td>0.000000</td>\n",
       "      <td>0.000000</td>\n",
       "      <td>0.000000</td>\n",
       "      <td>0.051820</td>\n",
       "      <td>0.135336</td>\n",
       "      <td>-0.375502</td>\n",
       "    </tr>\n",
       "    <tr>\n",
       "      <th>8</th>\n",
       "      <td>0.000000</td>\n",
       "      <td>0.000000</td>\n",
       "      <td>0.000000</td>\n",
       "      <td>0.000000</td>\n",
       "      <td>0.000000</td>\n",
       "      <td>0.000000</td>\n",
       "      <td>0.000000</td>\n",
       "      <td>0.000000</td>\n",
       "      <td>-3.973728</td>\n",
       "      <td>7.711127</td>\n",
       "    </tr>\n",
       "    <tr>\n",
       "      <th>9</th>\n",
       "      <td>0.000000</td>\n",
       "      <td>0.000000</td>\n",
       "      <td>0.000000</td>\n",
       "      <td>0.000000</td>\n",
       "      <td>0.000000</td>\n",
       "      <td>0.000000</td>\n",
       "      <td>0.000000</td>\n",
       "      <td>0.000000</td>\n",
       "      <td>0.000000</td>\n",
       "      <td>-2.273556</td>\n",
       "    </tr>\n",
       "  </tbody>\n",
       "</table>\n",
       "</div>"
      ],
      "text/plain": [
       "          0         1         2         3         4         5         6  \\\n",
       "0  0.406275  0.027202  0.247177  0.067144  0.993852  0.970580  0.800258   \n",
       "1  0.000000  0.504447  0.178349 -0.002748  0.266344 -0.258670 -0.073181   \n",
       "2  0.000000  0.000000 -0.367771 -0.120778 -1.597503 -1.369055 -0.957377   \n",
       "3  0.000000  0.000000  0.000000  0.499304 -0.068942 -0.557134 -0.385385   \n",
       "4  0.000000  0.000000  0.000000  0.000000 -2.108615 -0.240813 -0.161327   \n",
       "5  0.000000  0.000000  0.000000  0.000000  0.000000  1.314982  0.591236   \n",
       "6  0.000000  0.000000  0.000000  0.000000  0.000000  0.000000 -0.207611   \n",
       "7  0.000000  0.000000  0.000000  0.000000  0.000000  0.000000  0.000000   \n",
       "8  0.000000  0.000000  0.000000  0.000000  0.000000  0.000000  0.000000   \n",
       "9  0.000000  0.000000  0.000000  0.000000  0.000000  0.000000  0.000000   \n",
       "\n",
       "          7         8         9  \n",
       "0  0.601817  0.764960  0.169225  \n",
       "1 -0.110515 -0.291978  0.264837  \n",
       "2 -1.057716 -0.510181 -0.316584  \n",
       "3 -0.362219  0.143321  0.324549  \n",
       "4 -0.795475  0.037690 -0.200373  \n",
       "5  1.619984 -0.452900 -0.318067  \n",
       "6  0.845483 -0.539353 -0.459331  \n",
       "7  0.051820  0.135336 -0.375502  \n",
       "8  0.000000 -3.973728  7.711127  \n",
       "9  0.000000  0.000000 -2.273556  "
      ]
     },
     "execution_count": 35,
     "metadata": {},
     "output_type": "execute_result"
    }
   ],
   "source": [
    "pd.DataFrame(A)"
   ]
  },
  {
   "cell_type": "markdown",
   "metadata": {},
   "source": [
    "**15. Escreva uma função que realize a primeira parte da eliminação gaussiana, convertendo a matriz em uma matriz triangular superior.**"
   ]
  },
  {
   "cell_type": "code",
   "execution_count": 36,
   "metadata": {},
   "outputs": [],
   "source": [
    "def eliminacao_gaussiana(matriz_coeficientes, termos_independentes):\n",
    "    '''\n",
    "    matriz_coeficientes é uma matriz 3 por 3\n",
    "    termos_independentes é uma matriz 3 por 1\n",
    "    Não será necessário realizar pivoteamento, se o pivo for igual a zero ocorrerá um erro (divisão por zero)\n",
    "    '''\n",
    "    \n",
    "    A = np.copy(matriz_coeficientes)\n",
    "    b = np.copy(termos_independentes)\n",
    "    tamanho = len(A)\n",
    "\n",
    "    for j in range(0, tamanho-1):\n",
    "        pivo = A[j, j]\n",
    "\n",
    "        for k in range(j+1, 10):\n",
    "            m = -A[k, j] / pivo\n",
    "            A[k] = m * A[j] + A[k] # esta linha está realizando muitas operações desnecessárias\n",
    "            b[k] = m * b[j] + b[k]\n",
    "            A[k, j] = 0\n",
    "    \n",
    "    \n",
    "    return A, b"
   ]
  },
  {
   "cell_type": "code",
   "execution_count": 37,
   "metadata": {},
   "outputs": [],
   "source": [
    "A = np.random.rand(10, 10)\n",
    "b = np.random.rand(10, 1)\n",
    "\n",
    "tA, tb = eliminacao_gaussiana(A, b)"
   ]
  },
  {
   "cell_type": "code",
   "execution_count": 38,
   "metadata": {},
   "outputs": [
    {
     "data": {
      "text/html": [
       "<div>\n",
       "<style scoped>\n",
       "    .dataframe tbody tr th:only-of-type {\n",
       "        vertical-align: middle;\n",
       "    }\n",
       "\n",
       "    .dataframe tbody tr th {\n",
       "        vertical-align: top;\n",
       "    }\n",
       "\n",
       "    .dataframe thead th {\n",
       "        text-align: right;\n",
       "    }\n",
       "</style>\n",
       "<table border=\"1\" class=\"dataframe\">\n",
       "  <thead>\n",
       "    <tr style=\"text-align: right;\">\n",
       "      <th></th>\n",
       "      <th>0</th>\n",
       "      <th>1</th>\n",
       "      <th>2</th>\n",
       "      <th>3</th>\n",
       "      <th>4</th>\n",
       "      <th>5</th>\n",
       "      <th>6</th>\n",
       "      <th>7</th>\n",
       "      <th>8</th>\n",
       "      <th>9</th>\n",
       "    </tr>\n",
       "  </thead>\n",
       "  <tbody>\n",
       "    <tr>\n",
       "      <th>0</th>\n",
       "      <td>0.615255</td>\n",
       "      <td>0.953660</td>\n",
       "      <td>0.448015</td>\n",
       "      <td>0.207050</td>\n",
       "      <td>0.425367</td>\n",
       "      <td>0.444574</td>\n",
       "      <td>0.507617</td>\n",
       "      <td>0.525733</td>\n",
       "      <td>0.042429</td>\n",
       "      <td>0.164419</td>\n",
       "    </tr>\n",
       "    <tr>\n",
       "      <th>1</th>\n",
       "      <td>0.000000</td>\n",
       "      <td>0.010108</td>\n",
       "      <td>0.449742</td>\n",
       "      <td>0.625589</td>\n",
       "      <td>0.191506</td>\n",
       "      <td>0.631420</td>\n",
       "      <td>-0.039587</td>\n",
       "      <td>0.096740</td>\n",
       "      <td>0.717325</td>\n",
       "      <td>0.737522</td>\n",
       "    </tr>\n",
       "    <tr>\n",
       "      <th>2</th>\n",
       "      <td>0.000000</td>\n",
       "      <td>0.000000</td>\n",
       "      <td>-9.034740</td>\n",
       "      <td>-12.189597</td>\n",
       "      <td>-4.185997</td>\n",
       "      <td>-13.159125</td>\n",
       "      <td>1.406327</td>\n",
       "      <td>-2.226114</td>\n",
       "      <td>-14.004461</td>\n",
       "      <td>-14.877480</td>\n",
       "    </tr>\n",
       "    <tr>\n",
       "      <th>3</th>\n",
       "      <td>0.000000</td>\n",
       "      <td>0.000000</td>\n",
       "      <td>0.000000</td>\n",
       "      <td>-0.692479</td>\n",
       "      <td>0.545179</td>\n",
       "      <td>-0.398351</td>\n",
       "      <td>0.225075</td>\n",
       "      <td>0.249612</td>\n",
       "      <td>-1.157427</td>\n",
       "      <td>-1.309484</td>\n",
       "    </tr>\n",
       "    <tr>\n",
       "      <th>4</th>\n",
       "      <td>0.000000</td>\n",
       "      <td>0.000000</td>\n",
       "      <td>0.000000</td>\n",
       "      <td>0.000000</td>\n",
       "      <td>0.085898</td>\n",
       "      <td>-0.361258</td>\n",
       "      <td>0.913610</td>\n",
       "      <td>0.172351</td>\n",
       "      <td>-0.485086</td>\n",
       "      <td>-0.584740</td>\n",
       "    </tr>\n",
       "    <tr>\n",
       "      <th>5</th>\n",
       "      <td>0.000000</td>\n",
       "      <td>0.000000</td>\n",
       "      <td>0.000000</td>\n",
       "      <td>0.000000</td>\n",
       "      <td>0.000000</td>\n",
       "      <td>0.982440</td>\n",
       "      <td>0.956903</td>\n",
       "      <td>0.495590</td>\n",
       "      <td>0.057053</td>\n",
       "      <td>1.373083</td>\n",
       "    </tr>\n",
       "    <tr>\n",
       "      <th>6</th>\n",
       "      <td>0.000000</td>\n",
       "      <td>0.000000</td>\n",
       "      <td>0.000000</td>\n",
       "      <td>0.000000</td>\n",
       "      <td>0.000000</td>\n",
       "      <td>0.000000</td>\n",
       "      <td>-5.913844</td>\n",
       "      <td>-1.352265</td>\n",
       "      <td>2.479164</td>\n",
       "      <td>0.118581</td>\n",
       "    </tr>\n",
       "    <tr>\n",
       "      <th>7</th>\n",
       "      <td>0.000000</td>\n",
       "      <td>0.000000</td>\n",
       "      <td>0.000000</td>\n",
       "      <td>0.000000</td>\n",
       "      <td>0.000000</td>\n",
       "      <td>0.000000</td>\n",
       "      <td>0.000000</td>\n",
       "      <td>-0.381745</td>\n",
       "      <td>1.918173</td>\n",
       "      <td>0.416351</td>\n",
       "    </tr>\n",
       "    <tr>\n",
       "      <th>8</th>\n",
       "      <td>0.000000</td>\n",
       "      <td>0.000000</td>\n",
       "      <td>0.000000</td>\n",
       "      <td>0.000000</td>\n",
       "      <td>0.000000</td>\n",
       "      <td>0.000000</td>\n",
       "      <td>0.000000</td>\n",
       "      <td>0.000000</td>\n",
       "      <td>3.679322</td>\n",
       "      <td>0.683524</td>\n",
       "    </tr>\n",
       "    <tr>\n",
       "      <th>9</th>\n",
       "      <td>0.000000</td>\n",
       "      <td>0.000000</td>\n",
       "      <td>0.000000</td>\n",
       "      <td>0.000000</td>\n",
       "      <td>0.000000</td>\n",
       "      <td>0.000000</td>\n",
       "      <td>0.000000</td>\n",
       "      <td>0.000000</td>\n",
       "      <td>0.000000</td>\n",
       "      <td>-0.264442</td>\n",
       "    </tr>\n",
       "  </tbody>\n",
       "</table>\n",
       "</div>"
      ],
      "text/plain": [
       "          0         1         2          3         4          5         6  \\\n",
       "0  0.615255  0.953660  0.448015   0.207050  0.425367   0.444574  0.507617   \n",
       "1  0.000000  0.010108  0.449742   0.625589  0.191506   0.631420 -0.039587   \n",
       "2  0.000000  0.000000 -9.034740 -12.189597 -4.185997 -13.159125  1.406327   \n",
       "3  0.000000  0.000000  0.000000  -0.692479  0.545179  -0.398351  0.225075   \n",
       "4  0.000000  0.000000  0.000000   0.000000  0.085898  -0.361258  0.913610   \n",
       "5  0.000000  0.000000  0.000000   0.000000  0.000000   0.982440  0.956903   \n",
       "6  0.000000  0.000000  0.000000   0.000000  0.000000   0.000000 -5.913844   \n",
       "7  0.000000  0.000000  0.000000   0.000000  0.000000   0.000000  0.000000   \n",
       "8  0.000000  0.000000  0.000000   0.000000  0.000000   0.000000  0.000000   \n",
       "9  0.000000  0.000000  0.000000   0.000000  0.000000   0.000000  0.000000   \n",
       "\n",
       "          7          8          9  \n",
       "0  0.525733   0.042429   0.164419  \n",
       "1  0.096740   0.717325   0.737522  \n",
       "2 -2.226114 -14.004461 -14.877480  \n",
       "3  0.249612  -1.157427  -1.309484  \n",
       "4  0.172351  -0.485086  -0.584740  \n",
       "5  0.495590   0.057053   1.373083  \n",
       "6 -1.352265   2.479164   0.118581  \n",
       "7 -0.381745   1.918173   0.416351  \n",
       "8  0.000000   3.679322   0.683524  \n",
       "9  0.000000   0.000000  -0.264442  "
      ]
     },
     "execution_count": 38,
     "metadata": {},
     "output_type": "execute_result"
    }
   ],
   "source": [
    "pd.DataFrame(tA)"
   ]
  },
  {
   "cell_type": "markdown",
   "metadata": {},
   "source": [
    "**16. Agora precisamos determinar as soluções do sistema.**"
   ]
  },
  {
   "cell_type": "code",
   "execution_count": 39,
   "metadata": {},
   "outputs": [],
   "source": [
    "x = np.zeros(10)\n",
    "\n",
    "x[9] = tb[9] / tA[9, 9]\n",
    "x[8] = (tb[8] - tA[8, 9] * x[9]) / tA[8, 8]\n",
    "x[7] = (tb[7] - tA[7, 8] * x[8] - tA[7, 9] * x[9]) / tA[7, 7]\n",
    "x[6] = (tb[6] - tA[6, 7] * x[9] - tA[8, 9] * x[9]) / tA[6, 6]"
   ]
  },
  {
   "cell_type": "markdown",
   "metadata": {},
   "source": [
    "**17. Existe uma repetição no código acima, escreva um laço que calcule os valores de x[k] com k variando de 9 até 0.**"
   ]
  },
  {
   "cell_type": "code",
   "execution_count": 40,
   "metadata": {},
   "outputs": [],
   "source": []
  },
  {
   "cell_type": "code",
   "execution_count": 41,
   "metadata": {},
   "outputs": [
    {
     "data": {
      "text/plain": [
       "array([-3.20238703,  2.81739113, -4.12715503,  3.52250139,  0.67532845,\n",
       "        3.68550062,  0.00979644, -1.6879322 ,  0.        , -2.82552393])"
      ]
     },
     "execution_count": 41,
     "metadata": {},
     "output_type": "execute_result"
    }
   ],
   "source": [
    "x"
   ]
  },
  {
   "cell_type": "code",
   "execution_count": 42,
   "metadata": {},
   "outputs": [
    {
     "data": {
      "text/plain": [
       "array([ 0.17559907,  0.71332156,  0.88526367,  0.98313836,  0.65290695,\n",
       "        0.47773635,  0.454958  , -0.65989909, -0.48635441, -0.03942513])"
      ]
     },
     "execution_count": 42,
     "metadata": {},
     "output_type": "execute_result"
    }
   ],
   "source": [
    "A @ x"
   ]
  },
  {
   "cell_type": "code",
   "execution_count": 43,
   "metadata": {},
   "outputs": [
    {
     "data": {
      "text/plain": [
       "array([[0.17559907],\n",
       "       [0.71332156],\n",
       "       [0.88526367],\n",
       "       [0.98313836],\n",
       "       [0.65290695],\n",
       "       [0.47773635],\n",
       "       [0.08778755],\n",
       "       [0.55895079],\n",
       "       [0.18115023],\n",
       "       [0.51440206]])"
      ]
     },
     "execution_count": 43,
     "metadata": {},
     "output_type": "execute_result"
    }
   ],
   "source": [
    "b"
   ]
  },
  {
   "cell_type": "markdown",
   "metadata": {},
   "source": [
    "**18. Escreva uma função que determine as soluções de um sistema com matriz de coeficientes triangular superior**"
   ]
  },
  {
   "cell_type": "code",
   "execution_count": 44,
   "metadata": {},
   "outputs": [],
   "source": [
    "def triangular_superior(matriz_coeficientes, termos_independentes):\n",
    "    '''\n",
    "    matriz_coeficientes: matriz triangular superior\n",
    "    termos_independentes: termos independentes do sistema retangular superior\n",
    "    \n",
    "    retorna a solução do sistema\n",
    "    '''\n",
    "    tamanho = len(matriz_coeficientes)\n",
    "    A = np.copy(matriz_coeficientes)\n",
    "    b = np.copy(termos_independentes)\n",
    "    \n",
    "    \n",
    "    x = np.zeros(tamanho)\n",
    "\n",
    "    \n",
    "    return x"
   ]
  },
  {
   "cell_type": "code",
   "execution_count": 45,
   "metadata": {},
   "outputs": [
    {
     "data": {
      "text/plain": [
       "array([-1.93262526,  1.67369052, -1.69855516,  2.15937314, -0.84411064,\n",
       "        3.34031026,  0.10878056, -1.23343333,  0.33592332, -2.82552393])"
      ]
     },
     "execution_count": 45,
     "metadata": {},
     "output_type": "execute_result"
    }
   ],
   "source": [
    "triangular_superior(tA, tb)"
   ]
  },
  {
   "cell_type": "code",
   "execution_count": 46,
   "metadata": {},
   "outputs": [
    {
     "data": {
      "text/plain": [
       "array([ 0.17559907,  0.71332156,  0.88526367,  0.98313836,  0.65290695,\n",
       "        0.47773635,  0.454958  , -0.65989909, -0.48635441, -0.03942513])"
      ]
     },
     "execution_count": 46,
     "metadata": {},
     "output_type": "execute_result"
    }
   ],
   "source": [
    "A @ x"
   ]
  },
  {
   "cell_type": "code",
   "execution_count": 47,
   "metadata": {},
   "outputs": [
    {
     "data": {
      "text/plain": [
       "array([[0.17559907],\n",
       "       [0.71332156],\n",
       "       [0.88526367],\n",
       "       [0.98313836],\n",
       "       [0.65290695],\n",
       "       [0.47773635],\n",
       "       [0.08778755],\n",
       "       [0.55895079],\n",
       "       [0.18115023],\n",
       "       [0.51440206]])"
      ]
     },
     "execution_count": 47,
     "metadata": {},
     "output_type": "execute_result"
    }
   ],
   "source": [
    "b"
   ]
  },
  {
   "cell_type": "markdown",
   "metadata": {},
   "source": [
    "**19. Combine as funções `eliminação_gaussiana` e `triangular_superior` para resolver um sistema de equações Ax=b com $det(A) \\neq 0$**"
   ]
  },
  {
   "cell_type": "code",
   "execution_count": 48,
   "metadata": {},
   "outputs": [],
   "source": [
    "def resolver_sistema(matriz_coeficientes, termos_independentes):\n",
    "    tA, tb = eliminacao_gaussiana(matriz_coeficientes, termos_independentes)\n",
    "    x = triangular_superior(tA, tb)\n",
    "    return x"
   ]
  },
  {
   "cell_type": "code",
   "execution_count": 49,
   "metadata": {},
   "outputs": [],
   "source": [
    "A = np.random.rand(10, 10)\n",
    "b = np.random.rand(10, 1)\n",
    "\n",
    "x = resolver_sistema(A, b)\n"
   ]
  },
  {
   "cell_type": "code",
   "execution_count": 50,
   "metadata": {},
   "outputs": [
    {
     "data": {
      "text/plain": [
       "array([0.37538144, 0.19479433, 0.06280544, 0.30860893, 0.71319196,\n",
       "       0.81318172, 0.3265883 , 0.22028989, 0.32739418, 0.96436684])"
      ]
     },
     "execution_count": 50,
     "metadata": {},
     "output_type": "execute_result"
    }
   ],
   "source": [
    "A @ x"
   ]
  },
  {
   "cell_type": "code",
   "execution_count": 51,
   "metadata": {},
   "outputs": [
    {
     "data": {
      "text/plain": [
       "array([[0.37538144],\n",
       "       [0.19479433],\n",
       "       [0.06280544],\n",
       "       [0.30860893],\n",
       "       [0.71319196],\n",
       "       [0.81318172],\n",
       "       [0.3265883 ],\n",
       "       [0.22028989],\n",
       "       [0.32739418],\n",
       "       [0.96436684]])"
      ]
     },
     "execution_count": 51,
     "metadata": {},
     "output_type": "execute_result"
    }
   ],
   "source": [
    "b"
   ]
  }
 ],
 "metadata": {
  "kernelspec": {
   "display_name": "Python 3",
   "language": "python",
   "name": "python3"
  },
  "language_info": {
   "codemirror_mode": {
    "name": "ipython",
    "version": 3
   },
   "file_extension": ".py",
   "mimetype": "text/x-python",
   "name": "python",
   "nbconvert_exporter": "python",
   "pygments_lexer": "ipython3",
   "version": "3.7.6"
  }
 },
 "nbformat": 4,
 "nbformat_minor": 4
}
