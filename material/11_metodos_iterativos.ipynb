{
 "cells": [
  {
   "cell_type": "markdown",
   "metadata": {},
   "source": [
    "<a href=\"https://githubtocolab.com/cn-ufpe/cn-ufpe.github.io/blob/master/material/11_metodos_iterativos.ipynb\" target=\"_parent\"><img src=\"https://colab.research.google.com/assets/colab-badge.svg\" alt=\"Open in Colab\"/></a>"
   ]
  },
  {
   "cell_type": "code",
   "execution_count": 1,
   "metadata": {},
   "outputs": [],
   "source": [
    "import numpy as np\n",
    "import matplotlib.pyplot as plt "
   ]
  },
  {
   "cell_type": "markdown",
   "metadata": {
    "id": "yh-svtKjRrwX"
   },
   "source": [
    "# Método Iterativo de Jacobi: questao 1 "
   ]
  },
  {
   "cell_type": "markdown",
   "metadata": {
    "id": "WMztyR-t8tmY"
   },
   "source": [
    "Seja o sistema de equações lineares \n",
    " $\\left\\{\n",
    "\\begin{aligned}\n",
    "    3.2x_1 + 1.8x_2     &= 5\\\\\n",
    "    -1.1x_1+3.1x_2 &= 2\n",
    "\\end{aligned}\n",
    "\\right. $  \n",
    "\n",
    "com solução exata $ \\mathbf{x} = (1;1)$. \n",
    "\n",
    "\n",
    "*   (a) Avalie os autovalores da matriz **D**, tal que **Ax = b** é equivalente a **x = Dx + c**.\n",
    "*   (b) Execute o método iterativo de Jacobi por 30 iterações, ou pare antes de $MAX_{x_i}|x_i^{(k+1)} - x_i^{(k)}| < 10^{-8}$ com $i=1,2$, partindo da solução inicial $ \\mathbf{x}^{(0)}=(0;0)$\n",
    "*   (c) Refaça o item (a) para a condição inicial $ \\mathbf{x}^{(0)}=(-100;300)$.\n",
    "\n",
    "\n",
    ". "
   ]
  },
  {
   "cell_type": "markdown",
   "metadata": {
    "id": "IiVL3zXDLM-X"
   },
   "source": [
    "*(a)* O sistema **Ax = b**, onde \n",
    "\n",
    " $\\mathbf{A} = \\left[ \n",
    "  \\begin{array}{c}\n",
    "  3.2 & 1.8 \\\\\n",
    "  -1.1 & 3.1\n",
    "  \\end{array}\n",
    " \\right]$  e  $\\mathbf{b} = \\left[ \n",
    "  \\begin{array}{c}\n",
    "  5 \\\\\n",
    "  2\n",
    "  \\end{array}\n",
    " \\right]$ \n",
    " \n",
    " pode ser reescrito na forma **x = Dx + c**, onde\n",
    "\n",
    "  $\\mathbf{D} = \\left[ \n",
    "  \\begin{array}{c}\n",
    "  0 & -1.8/3.2 \\\\\n",
    "  1.1/3.1 & 0\n",
    "  \\end{array}\n",
    " \\right]$  e  $\\mathbf{c} = \\left[ \n",
    "  \\begin{array}{c}\n",
    "  5/3.2 \\\\\n",
    "  2/3.1\n",
    "  \\end{array}\n",
    " \\right]$\n",
    "\n",
    "Se TODOS os autovalores de **D**, forem EM MÓDULO, menores que 1, o sistema iterativo **x = Dx + c** irá convergir para uma solução aproximada (próxima da solução exata), partindo de qualquer condição inicial, em um número finito de iterações! Se algum autovalor da matriz **D** for em módulo, maior ou igual a 1, nada pode ser dito sobre a convergência."
   ]
  },
  {
   "cell_type": "markdown",
   "metadata": {
    "id": "aYec48z05vbh"
   },
   "source": [
    "Vamos definir as matrizes **A** e **D**, os vetores **b** e **c**, e calcular os autovalores de **D**:"
   ]
  },
  {
   "cell_type": "code",
   "execution_count": null,
   "metadata": {
    "colab": {
     "base_uri": "https://localhost:8080/"
    },
    "id": "m1FETDBW9AFs",
    "outputId": "f17049ea-192d-426c-d874-a91e0b5874de"
   },
   "outputs": [],
   "source": [
    "\n"
   ]
  },
  {
   "cell_type": "markdown",
   "metadata": {
    "id": "f10yEtehSPzs"
   },
   "source": [
    " A conclusão *a priori*, é que o sistema irá CONVERGIR para uma solução aproximada, em um número finito de iterações."
   ]
  },
  {
   "cell_type": "markdown",
   "metadata": {
    "id": "48DSSjeXGRbJ"
   },
   "source": [
    "*(b)* Agora aplicando o método de Jacobi para a primeira solução inicial $ \\mathbf{x}^{(0)} =  \\mathbf{x}_{ant} = (0;0)$ para o processo iterativo $\\mathbf{x}^{(k+1)} = \\mathbf{Dx}^{(k)} + \\mathbf{c}$, ou seja:\n",
    "\n",
    "$\\left[ \n",
    "  \\begin{array}{c}\n",
    "  x_1^{(k+1)} \\\\\n",
    "  x_2^{(k+1)}\n",
    "  \\end{array}\n",
    " \\right] = \n",
    " \\left[ \n",
    "  \\begin{array}{c}\n",
    "  0 & -1.8/3.2 \\\\\n",
    "  1.1/3.1 & 0\n",
    "  \\end{array}\n",
    " \\right]\n",
    " \\left[ \n",
    "  \\begin{array}{c}\n",
    "  x_1^{(k)} \\\\\n",
    "  x_2^{(k)}\n",
    "  \\end{array}\n",
    " \\right]+ \\left[ \n",
    "  \\begin{array}{c}\n",
    "  5/3.2 \\\\\n",
    "  2/3.1\n",
    "  \\end{array}\n",
    " \\right]$\n",
    "\n",
    "\n",
    "\n"
   ]
  },
  {
   "cell_type": "code",
   "execution_count": null,
   "metadata": {
    "colab": {
     "base_uri": "https://localhost:8080/",
     "height": 754
    },
    "id": "vOMAqjuZFYsD",
    "outputId": "50b23553-7756-46b9-a153-fbb6f04a6470"
   },
   "outputs": [],
   "source": [
    "\n",
    "\n"
   ]
  },
  {
   "cell_type": "markdown",
   "metadata": {
    "id": "HtWoGX3kCVZx"
   },
   "source": [
    "O sistema convergiu em 25 iterações. O gráfico acima (nºiterações x erro (na escala log)) ilustra como ocorre o decaimento do \"erro\".\n",
    "\n",
    "\n",
    "*(c)* Aplicando o método de Jacobi para a segunda solução inicial  $\\mathbf{x}^{(0)} =  \\mathbf{x}_{ant} =(-100.;300.)$"
   ]
  },
  {
   "cell_type": "code",
   "execution_count": null,
   "metadata": {
    "colab": {
     "base_uri": "https://localhost:8080/",
     "height": 873
    },
    "id": "dNbKrO7QFjZw",
    "outputId": "bbd3a286-e529-4304-974d-1392679ffd1f"
   },
   "outputs": [],
   "source": []
  },
  {
   "cell_type": "markdown",
   "metadata": {
    "id": "IlDzNZOTGq7P"
   },
   "source": [
    "Mesmo para uma condição inicial muito distante da solução exata, o método iterativo de Jacobi foi capaz de convergir para uma solução aproximada(precisou de 32 iterações). O gráfico acima (nºiterações x erro (na escala log)) ilustra como ocorre o decaimento do \"erro\"."
   ]
  },
  {
   "cell_type": "markdown",
   "metadata": {
    "id": "J4XJyCBtTIUh"
   },
   "source": [
    "# Método Iterativo de Jacobi: questao 2 "
   ]
  },
  {
   "cell_type": "markdown",
   "metadata": {
    "id": "-WBR4UMwsoo7"
   },
   "source": [
    "Seja o sistema de equações lineares \n",
    "$\\left\\{\n",
    "\\begin{aligned}\n",
    "    1.8x_1 + 3.2x_2     &= 5\\\\\n",
    "    3.1x_1-1.1x_2 &= 2\n",
    "\\end{aligned}\n",
    "\\right.$ \n",
    "\n",
    "com solução exata $ \\mathbf{x} = (1;1)$. Execute o método iterativo de Jacobi por 30 iterações, partindo da solução inicial $ \\mathbf{x}^{(0)}=(0;0)$."
   ]
  },
  {
   "cell_type": "markdown",
   "metadata": {
    "id": "eY3lZOZwZ41I"
   },
   "source": [
    "O sistema **Ax = b**, onde \n",
    "\n",
    " $\\mathbf{A} = \\left[ \n",
    "  \\begin{array}{c}\n",
    "  1.8 & 3.2 &\\\\\n",
    "  3.1 & -1.1 \n",
    "  \\end{array}\n",
    " \\right]$  e  $\\mathbf{b} = \\left[ \n",
    "  \\begin{array}{c}\n",
    "  5 \\\\\n",
    "  2\n",
    "  \\end{array}\n",
    " \\right]$ \n",
    " \n",
    " pode ser reescrito na forma **x = Dx + c**, onde\n",
    "\n",
    "  $\\mathbf{D} = \\left[ \n",
    "  \\begin{array}{c}\n",
    "  0 & -3.2/1.8 \\\\\n",
    "  3.1/1.1 & 0\n",
    "  \\end{array}\n",
    " \\right]$  e  $\\mathbf{c} = \\left[ \n",
    "  \\begin{array}{c}\n",
    "  5/1.8 \\\\\n",
    "  -2/1.1\n",
    "  \\end{array}\n",
    " \\right]$"
   ]
  },
  {
   "cell_type": "code",
   "execution_count": 2,
   "metadata": {
    "colab": {
     "base_uri": "https://localhost:8080/"
    },
    "id": "Yvtcft1Hac5o",
    "outputId": "2f0677b1-0c7c-419a-bd03-65bdc8063af7"
   },
   "outputs": [],
   "source": [
    "import numpy as np\n",
    "\n"
   ]
  },
  {
   "cell_type": "markdown",
   "metadata": {
    "id": "3Hs4gjAKa0z9"
   },
   "source": [
    "A conclusão a priori, é que NÃO SABEMOS se o sistema irá CONVERGIR para uma solução!"
   ]
  },
  {
   "cell_type": "code",
   "execution_count": null,
   "metadata": {
    "colab": {
     "base_uri": "https://localhost:8080/",
     "height": 822
    },
    "id": "h0I_tW7ds7sj",
    "outputId": "20af6107-4c67-47e1-e37a-3b531debab96"
   },
   "outputs": [],
   "source": [
    "\n"
   ]
  },
  {
   "cell_type": "markdown",
   "metadata": {
    "id": "XWVZ-R83rMvy"
   },
   "source": [
    "O processo iterativo está gerando uma sequencia de soluções, que se afasta cada vez mais da solução exata, ou seja, a solução está **divergindo!**"
   ]
  },
  {
   "cell_type": "markdown",
   "metadata": {
    "id": "-HSTrFKr0IJL"
   },
   "source": [
    "# Método Iterativo de Gauss-Seidel: questão 3 "
   ]
  },
  {
   "cell_type": "markdown",
   "metadata": {
    "id": "WbMzJO87n-LT"
   },
   "source": [
    "Seja o sistema de equações lineares \n",
    "$\\left\\{\n",
    "\\begin{aligned}\n",
    "    3.2x_1 + 1.8x_2     &= 5\\\\\n",
    "    -1.1x_1+3.1x_2 &= 2\n",
    "\\end{aligned}\n",
    "\\right.$\n",
    "\n",
    "com solução exata $ \\mathbf{x} = (1;1)$. \n",
    "\n",
    "*   (a) Execute o método iterativo de Gauss-Seidel por 30 iterações, pare antes se $max(|x_i^{(k)} - x_i^{(k+1)}|) < 10^{-8}$ para $i=1,2$, partindo da solução inicial $ \\mathbf{x}^{(0)}=(0;0)$.\n",
    "*   (b) Refaça com a mesma condição inicial, mas invertendo a ordem das equações (calculando primeiro a segunda equação, e depois a primeira)\n",
    "\n",
    " "
   ]
  },
  {
   "cell_type": "markdown",
   "metadata": {
    "id": "vQvX7kEcts2B"
   },
   "source": [
    "Seja a matriz **D** como definida na questão 1, então é possivel definir as matrizes triangular superior de **D**, $\\mathbf{T}_{sup}(\\mathbf{D})$,  e triangular inferior  de **D**, $\\mathbf{T}_{inf}(\\mathbf{D})$, de maneira que:\n",
    "\n",
    "$\\mathbf{T}_{inf} = \\left[ \n",
    "  \\begin{array}{c}\n",
    "  0 & 0 \\\\\n",
    "  d_{21} & 0\n",
    "  \\end{array}\n",
    " \\right]$  e  $\\mathbf{T}_{sup} = \\left[ \n",
    "  \\begin{array}{c}\n",
    "  0 & d_{12} \\\\\n",
    "  0 & 0\n",
    "  \\end{array}\n",
    " \\right]$ onde $\\mathbf{D} = \\left[ \n",
    "  \\begin{array}{c}\n",
    "  0 & -1.8/3.2 \\\\\n",
    "  1.1/3.1 & 0\n",
    "  \\end{array}\n",
    " \\right]$\n",
    "\n",
    "Dessa maneira, o processo iterativo na forma matrcial será dado por: \n",
    "\n",
    "$\\mathbf{x}^{(k+1)} = \\mathbf{T}_{sup}\\mathbf{x}^{(k)} +  \\mathbf{T}_{inf}\\mathbf{x}^{(k+1)} +  \\mathbf{c}$\n",
    "\n",
    "Equivalementemente, o proceso iterativo em termos de equações assume a forma da seguinte configuração:  \n",
    "$\\left\\{\n",
    "\\begin{aligned}\n",
    "    x_1^{(k+1)} &= \\frac{5-1.8x_2^{(k)}}{3.2}\\\\\n",
    "    x_2^{(k+1)} &= \\frac{2 + 1.1x_1^{(k+1)}}{3.1}\n",
    "\\end{aligned}\n",
    "\\right.$\n",
    "onde $\\mathbf{x}^{(0)} = (0;0)$"
   ]
  },
  {
   "cell_type": "code",
   "execution_count": null,
   "metadata": {
    "colab": {
     "base_uri": "https://localhost:8080/",
     "height": 533
    },
    "id": "CFFYy8AE0_21",
    "outputId": "7b145d8d-32f7-4adb-a709-7f8df3d3f338"
   },
   "outputs": [],
   "source": []
  },
  {
   "cell_type": "markdown",
   "metadata": {
    "id": "2kC8ZOltwvpv"
   },
   "source": [
    "implementação da seguinte configuração:  \n",
    "$\\left\\{\n",
    "\\begin{aligned}\n",
    "    x_2^{(k+1)} &= \\frac{2 + 1.1x_1^{(k)}}{3.1}\\\\\n",
    "    x_1^{(k+1)} &= \\frac{5-1.8x_2^{(k+1)}}{3.2}\n",
    "\\end{aligned}\n",
    "\\right.$\n",
    "onde $\\mathbf{x}^{(0)} = (0;0)$"
   ]
  },
  {
   "cell_type": "code",
   "execution_count": null,
   "metadata": {
    "colab": {
     "base_uri": "https://localhost:8080/",
     "height": 533
    },
    "id": "EYDYf_Fgxa6O",
    "outputId": "1761a891-38bf-411e-831a-984e11c21188"
   },
   "outputs": [],
   "source": []
  },
  {
   "cell_type": "markdown",
   "metadata": {
    "id": "ar0HMDrK3Onn"
   },
   "source": [
    "O método de Gauss-Seidel \"acerela\" o processo de convergência, se comparado com o método de Jacobi."
   ]
  },
  {
   "cell_type": "markdown",
   "metadata": {
    "id": "VwvQvKmog-t0"
   },
   "source": [
    "# Comparação entre os métodos: questão 4"
   ]
  },
  {
   "cell_type": "markdown",
   "metadata": {
    "id": "uQquc2OahMwS"
   },
   "source": [
    "Sabendo que a quantidade de operações matemáticas executadas pelos métodos de Jacobi e de Gauss-Seidel, para cada iteração, para um sistema de equações lineares de dimensão $n$, é dada por:\n",
    "\n",
    "$N_{ope} = N_{adi} + N_{mul} + N_{div} $ , onde\n",
    "\n",
    "$N_{adi} = n(n-1)$ é o número de adições ou subtrações\n",
    "\n",
    "$N_{mul} = n(n-1)$ é o número de multiplicações\n",
    "\n",
    "$N_{div} = n$ é o número de divisões\n",
    "\n",
    "Compare os resultados obtidos em Q01(b) e Q03(a).\n",
    "\n",
    "\n",
    "$N_{ope}(Jac) = 25*(2 + 2 + 2) = 150$ e $N_{ope}(G-Sei) = 14*(2 + 2 + 2) = 84$, portanto cerca de 56% de diferença.    \n",
    "\n",
    " \n"
   ]
  },
  {
   "cell_type": "markdown",
   "metadata": {
    "id": "_ZysbGYT3p5K"
   },
   "source": [
    "# Atividade para casa"
   ]
  },
  {
   "cell_type": "markdown",
   "metadata": {
    "id": "KIywme7Q3vyN"
   },
   "source": [
    "Será mesmo que o método de Gauss-Seidel sempre \"acelera\" o processo de convergência, quando comparado com o método de Jacobi? Façamos um teste. Sejam os sistemas de equações lineares\n",
    "\n",
    " \n",
    " $S_1 = \\left\\{\n",
    "\\begin{aligned}\n",
    "    x_1 + 2x_2 - 2x_3     &= 1\\\\\n",
    "    x_1 + x_2 + x_3 &= 3\\\\\n",
    "    2x_1 + 2x_2 + x_3 &= 5\\\\\n",
    "\\end{aligned}\n",
    "\\right. $  \n",
    "\n",
    "e\n",
    "\n",
    " $S_2 = \\left\\{\n",
    "\\begin{aligned}\n",
    "    5x_1 + 3x_2 + 4x_3     &= 12\\\\\n",
    "    3x_1 + 6x_2 + 6x_3 &= 13\\\\\n",
    "    4x_1 + 4x_2 + 5x_3 &= 13\\\\\n",
    "\\end{aligned}\n",
    "\\right. $\n",
    "\n",
    "ambos com solução exata $ \\mathbf{x} = (1;1;1)$. Para estas condições faça:\n",
    "* (a) partindo da condição inicial $ \\mathbf{x}^{(0)}=(0;0;0)$, encontre a solução aproximada de $S_1$ e de $S_2$  pelos métodos de Jacobi e de Gauss-Seidel, com critério de parada 30 iterações. Compare os quatros resultados numéricos obtidos.\n",
    "* (b) calcule os autovalores das matrizes **D** associadas aos sistemas $\\mathbf{S}_1$ e  $\\mathbf{S}_2$. O que pode ser concluído quando combinado aos resultados obtidos no item (a) ?"
   ]
  }
 ],
 "metadata": {
  "colab": {
   "name": "Aula_met_iterat_Jac_&_G-Seidel",
   "provenance": []
  },
  "kernelspec": {
   "display_name": "Python 3",
   "language": "python",
   "name": "python3"
  },
  "language_info": {
   "codemirror_mode": {
    "name": "ipython",
    "version": 3
   },
   "file_extension": ".py",
   "mimetype": "text/x-python",
   "name": "python",
   "nbconvert_exporter": "python",
   "pygments_lexer": "ipython3",
   "version": "3.7.6"
  }
 },
 "nbformat": 4,
 "nbformat_minor": 1
}
