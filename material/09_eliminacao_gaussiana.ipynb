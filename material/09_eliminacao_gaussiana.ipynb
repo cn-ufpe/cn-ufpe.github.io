{
 "cells": [
  {
   "cell_type": "markdown",
   "metadata": {},
   "source": [
    "# Eliminação gaussiana sem pivoteamento\n",
    "<a href=\"https://githubtocolab.com/cn-ufpe/cn-ufpe.github.io/blob/master/material/09_eliminacao_gaussiana.ipynb\" target=\"_parent\"><img src=\"https://colab.research.google.com/assets/colab-badge.svg\" alt=\"Open in Colab\"/></a>"
   ]
  },
  {
   "cell_type": "markdown",
   "metadata": {},
   "source": [
    "Antes dessa aula você deve assistir aos vídeos abaixo.\n",
    "\n",
    "1. [Matrizes com python](https://youtu.be/FgXrDIAlwpk)\n",
    "1. [Eliminação gaussiana](https://youtu.be/FKPrlNHqwT0)"
   ]
  },
  {
   "cell_type": "code",
   "execution_count": null,
   "metadata": {},
   "outputs": [],
   "source": [
    "import numpy as np\n",
    "import pandas as pd # utilizado apenas na impressão de algumas matrizes"
   ]
  },
  {
   "cell_type": "markdown",
   "metadata": {},
   "source": [
    "1. **Inicialize uma matriz A de dimensão $3\\times 3$ e uma matriz $b$ de dimensão $3 \\times 1$ com números aleatórios.**"
   ]
  },
  {
   "cell_type": "code",
   "execution_count": null,
   "metadata": {},
   "outputs": [],
   "source": [
    "np.random.seed(2)\n",
    "\n",
    "A = \n",
    "b = "
   ]
  },
  {
   "cell_type": "markdown",
   "metadata": {},
   "source": [
    "Vamos utilizar a eliminação gaussiana para determinar $x$, de modo que $Ax = b$. O python será utilizado como uma calculadora. Para preserver as matrizes `A` e `b` vamos cópias `copia_A` e `copia_b`."
   ]
  },
  {
   "cell_type": "code",
   "execution_count": null,
   "metadata": {},
   "outputs": [],
   "source": [
    "copia_A = np.copy(A)\n",
    "copia_b = np.copy(b)\n",
    "print(A)"
   ]
  },
  {
   "cell_type": "code",
   "execution_count": null,
   "metadata": {},
   "outputs": [],
   "source": [
    "print(b)"
   ]
  },
  {
   "cell_type": "markdown",
   "metadata": {},
   "source": [
    "**2. Qual o valor do primeiro multiplicador? Não utilize os números e sim referências a matriz.**"
   ]
  },
  {
   "cell_type": "code",
   "execution_count": null,
   "metadata": {},
   "outputs": [],
   "source": [
    "pivo = A[0, 0]\n",
    "m = "
   ]
  },
  {
   "cell_type": "markdown",
   "metadata": {},
   "source": [
    "Adicione $m \\cdot linha0$ a $linha 1$."
   ]
  },
  {
   "cell_type": "code",
   "execution_count": null,
   "metadata": {},
   "outputs": [],
   "source": [
    "A[1] = \n",
    "b[1] = "
   ]
  },
  {
   "cell_type": "code",
   "execution_count": null,
   "metadata": {},
   "outputs": [],
   "source": [
    "# Se sua resposta estiver certa A[1,0] será = 0\n",
    "A"
   ]
  },
  {
   "cell_type": "markdown",
   "metadata": {},
   "source": [
    "**3. Determine o próximo multiplicador? E atualize a linha 2 das matrizes A e b.**"
   ]
  },
  {
   "cell_type": "code",
   "execution_count": null,
   "metadata": {},
   "outputs": [],
   "source": [
    "m = \n",
    "A[2] = \n",
    "b[2] = "
   ]
  },
  {
   "cell_type": "code",
   "execution_count": null,
   "metadata": {},
   "outputs": [],
   "source": [
    "# Sua resposta está correta? \n",
    "print(A)"
   ]
  },
  {
   "cell_type": "markdown",
   "metadata": {},
   "source": [
    "**4. O trabalho com a primeira coluna está finalizado. Determine o próximo pivô.**"
   ]
  },
  {
   "cell_type": "code",
   "execution_count": null,
   "metadata": {},
   "outputs": [],
   "source": [
    "pivo = "
   ]
  },
  {
   "cell_type": "markdown",
   "metadata": {},
   "source": [
    "**5. Determine o próximo multiplicador e atualize a linha 2.**"
   ]
  },
  {
   "cell_type": "code",
   "execution_count": null,
   "metadata": {},
   "outputs": [],
   "source": [
    "m = \n",
    "A[2] = \n",
    "b[2] = "
   ]
  },
  {
   "cell_type": "code",
   "execution_count": null,
   "metadata": {},
   "outputs": [],
   "source": [
    "print('A= \\n', A)\n",
    "print()\n",
    "print('b= \\n', b)"
   ]
  },
  {
   "cell_type": "markdown",
   "metadata": {},
   "source": [
    "Agora a matriz A está em um formato triangular superior e precisamos determinar os valores de `x[0]`, `x[1]` e `x[2]`."
   ]
  },
  {
   "cell_type": "code",
   "execution_count": null,
   "metadata": {},
   "outputs": [],
   "source": [
    "x = np.zeros(3)"
   ]
  },
  {
   "cell_type": "code",
   "execution_count": null,
   "metadata": {},
   "outputs": [],
   "source": [
    "x"
   ]
  },
  {
   "cell_type": "markdown",
   "metadata": {},
   "source": [
    "**6. Determine o valor de `x[2]`.**"
   ]
  },
  {
   "cell_type": "code",
   "execution_count": null,
   "metadata": {},
   "outputs": [],
   "source": [
    "x[2] = "
   ]
  },
  {
   "cell_type": "markdown",
   "metadata": {},
   "source": [
    "**7. Determine o valor de `x[1]`.**"
   ]
  },
  {
   "cell_type": "code",
   "execution_count": null,
   "metadata": {},
   "outputs": [],
   "source": [
    "x[1] = "
   ]
  },
  {
   "cell_type": "markdown",
   "metadata": {},
   "source": [
    "**8. Determine o valor de x[0].**"
   ]
  },
  {
   "cell_type": "code",
   "execution_count": null,
   "metadata": {},
   "outputs": [],
   "source": [
    "x[0] = "
   ]
  },
  {
   "cell_type": "markdown",
   "metadata": {},
   "source": [
    "Verificando o resultado"
   ]
  },
  {
   "cell_type": "code",
   "execution_count": null,
   "metadata": {},
   "outputs": [],
   "source": [
    "copia_A @ x"
   ]
  },
  {
   "cell_type": "code",
   "execution_count": null,
   "metadata": {},
   "outputs": [],
   "source": [
    "copia_b"
   ]
  },
  {
   "cell_type": "markdown",
   "metadata": {},
   "source": [
    "**9. Combine o código que você escreveu até agora para resolver sistemas lineares com 3 equações e 3 incógnitas.**"
   ]
  },
  {
   "cell_type": "code",
   "execution_count": null,
   "metadata": {},
   "outputs": [],
   "source": [
    "def eliminacao_gaussiana_3(matriz_coeficientes, termos_independentes):\n",
    "    '''\n",
    "    matriz_coeficientes é uma matriz 3 por 3\n",
    "    termos_independentes é uma matriz 3 por 1\n",
    "    Não será necessário realizar pivoteamento, se o pivo for igual a zero ocorrerá um erro (divisão por zero)\n",
    "    '''\n",
    "    A = np.copy(matriz_coeficientes)\n",
    "    b = np.copy(termos_independentes)\n",
    "    \n",
    "    # seu código aqui\n",
    "    \n",
    "    \n",
    "    return x"
   ]
  },
  {
   "cell_type": "code",
   "execution_count": null,
   "metadata": {},
   "outputs": [],
   "source": [
    "A1 = np.random.rand(3, 3)\n",
    "b1 = np.random.rand(3, 1) "
   ]
  },
  {
   "cell_type": "code",
   "execution_count": null,
   "metadata": {},
   "outputs": [],
   "source": [
    "x = eliminacao_gaussiana_3(A1, b1)"
   ]
  },
  {
   "cell_type": "code",
   "execution_count": null,
   "metadata": {},
   "outputs": [],
   "source": [
    "y = A1 @ x\n",
    "print('b1 = ', b1)\n",
    "print('y  = ', y)"
   ]
  },
  {
   "cell_type": "markdown",
   "metadata": {},
   "source": [
    "Agora vamos inicializar uma matriz A com dimensão $5 \\times 5$ e uma matriz $b$ com dimensão $5 \\times 1$."
   ]
  },
  {
   "cell_type": "code",
   "execution_count": null,
   "metadata": {},
   "outputs": [],
   "source": [
    "A = np.random.rand(5, 5)\n",
    "b = np.random.rand(5, 1)"
   ]
  },
  {
   "cell_type": "code",
   "execution_count": null,
   "metadata": {},
   "outputs": [],
   "source": [
    "print(A)"
   ]
  },
  {
   "cell_type": "markdown",
   "metadata": {},
   "source": [
    "**10. Realize operações sobre linhas para zerar os valores abaixo do pivô.**"
   ]
  },
  {
   "cell_type": "code",
   "execution_count": null,
   "metadata": {},
   "outputs": [],
   "source": [
    "pivo = \n",
    "\n",
    "m = \n",
    "A[1] = \n",
    "b[1] = \n",
    "\n",
    "m = \n",
    "A[2] = \n",
    "b[2] = \n",
    "\n",
    "m = \n",
    "A[3] = \n",
    "b[3] = \n",
    "\n",
    "m = \n",
    "A[4] = \n",
    "b[4] = "
   ]
  },
  {
   "cell_type": "code",
   "execution_count": null,
   "metadata": {},
   "outputs": [],
   "source": [
    "pd.DataFrame(A)"
   ]
  },
  {
   "cell_type": "markdown",
   "metadata": {},
   "source": [
    "Agora vamos inicializar uma matriz A com dimensão $10 \\times 10$ e uma matriz $b$ com dimensão $10 \\times 1$."
   ]
  },
  {
   "cell_type": "code",
   "execution_count": null,
   "metadata": {},
   "outputs": [],
   "source": [
    "A = np.random.rand(10, 10)\n",
    "b = np.random.rand(10, 1)"
   ]
  },
  {
   "cell_type": "markdown",
   "metadata": {},
   "source": [
    "**11. Escreva um código para zerar os elementos abaixo do pivô da coluna 0**"
   ]
  },
  {
   "cell_type": "code",
   "execution_count": null,
   "metadata": {},
   "outputs": [],
   "source": [
    "pivo = \n",
    "\n",
    "for k in range(1, 10):\n",
    "    pass"
   ]
  },
  {
   "cell_type": "code",
   "execution_count": null,
   "metadata": {},
   "outputs": [],
   "source": [
    "pd.DataFrame(A)"
   ]
  },
  {
   "cell_type": "markdown",
   "metadata": {},
   "source": [
    "**12. Escreva um código para zerar os elementos abaixo do pivô da coluna 1**"
   ]
  },
  {
   "cell_type": "code",
   "execution_count": null,
   "metadata": {},
   "outputs": [],
   "source": [
    "pivo = \n",
    "\n",
    "for k in range(2, 10):\n",
    "    "
   ]
  },
  {
   "cell_type": "code",
   "execution_count": null,
   "metadata": {},
   "outputs": [],
   "source": [
    "pd.DataFrame(A)"
   ]
  },
  {
   "cell_type": "markdown",
   "metadata": {},
   "source": [
    "**13. Escreva um código para zerar os elementos abaixo do pivô da coluna 2**"
   ]
  },
  {
   "cell_type": "code",
   "execution_count": null,
   "metadata": {},
   "outputs": [],
   "source": [
    "pivo = \n",
    "\n",
    "for k in range(3, 10):\n",
    "    "
   ]
  },
  {
   "cell_type": "markdown",
   "metadata": {},
   "source": [
    "**14. Existe repetição nesses códigos. Agora escreva um laço para zerar os elementos abaixo do pivô da coluna k.**"
   ]
  },
  {
   "cell_type": "code",
   "execution_count": null,
   "metadata": {},
   "outputs": [],
   "source": [
    "k = 3\n",
    "\n"
   ]
  },
  {
   "cell_type": "code",
   "execution_count": null,
   "metadata": {},
   "outputs": [],
   "source": [
    "pd.DataFrame(A)"
   ]
  },
  {
   "cell_type": "markdown",
   "metadata": {},
   "source": [
    "**15. Escreva uma função que realize a primeira parte da eliminação gaussiana, convertendo a matriz em uma matriz triangular superior.**"
   ]
  },
  {
   "cell_type": "code",
   "execution_count": null,
   "metadata": {},
   "outputs": [],
   "source": [
    "def eliminacao_gaussiana(matriz_coeficientes, termos_independentes):\n",
    "    '''\n",
    "    matriz_coeficientes é uma matriz 3 por 3\n",
    "    termos_independentes é uma matriz 3 por 1\n",
    "    Não será necessário realizar pivoteamento, se o pivo for igual a zero ocorrerá um erro (divisão por zero)\n",
    "    '''\n",
    "    \n",
    "    A = np.copy(matriz_coeficientes)\n",
    "    b = np.copy(termos_independentes)\n",
    "    tamanho = len(A)\n",
    "    \n",
    "    \n",
    "    return A, b"
   ]
  },
  {
   "cell_type": "code",
   "execution_count": null,
   "metadata": {},
   "outputs": [],
   "source": [
    "A = np.random.rand(10, 10)\n",
    "b = np.random.rand(10, 1)\n",
    "\n",
    "tA, tb = eliminacao_gaussiana(A, b)"
   ]
  },
  {
   "cell_type": "code",
   "execution_count": null,
   "metadata": {},
   "outputs": [],
   "source": [
    "pd.DataFrame(tA)"
   ]
  },
  {
   "cell_type": "markdown",
   "metadata": {},
   "source": [
    "**16. Agora precisamos determinar as soluções do sistema.**"
   ]
  },
  {
   "cell_type": "code",
   "execution_count": null,
   "metadata": {},
   "outputs": [],
   "source": [
    "x = np.zeros(10)\n",
    "\n",
    "x[9] = \n",
    "x[8] = \n",
    "x[7] = \n",
    "x[6] = "
   ]
  },
  {
   "cell_type": "markdown",
   "metadata": {},
   "source": [
    "**17. Existe uma repetição no código acima, escreva um laço que calcule os valores de x[k] com k variando de 9 até 0.**"
   ]
  },
  {
   "cell_type": "code",
   "execution_count": null,
   "metadata": {},
   "outputs": [],
   "source": [
    "x[9] = tb[9] / tA[9, 9]\n",
    "\n",
    "for k in range(8, -1, -1):\n",
    "    pass"
   ]
  },
  {
   "cell_type": "code",
   "execution_count": null,
   "metadata": {},
   "outputs": [],
   "source": [
    "x"
   ]
  },
  {
   "cell_type": "code",
   "execution_count": null,
   "metadata": {},
   "outputs": [],
   "source": [
    "A @ x"
   ]
  },
  {
   "cell_type": "code",
   "execution_count": null,
   "metadata": {},
   "outputs": [],
   "source": [
    "b"
   ]
  },
  {
   "cell_type": "markdown",
   "metadata": {},
   "source": [
    "**18. Escreva uma função que determine as soluções de um sistema com matriz de coeficientes triangular superior**"
   ]
  },
  {
   "cell_type": "code",
   "execution_count": null,
   "metadata": {},
   "outputs": [],
   "source": [
    "def triangular_superior(matriz_coeficientes, termos_independentes):\n",
    "    '''\n",
    "    matriz_coeficientes: matriz triangular superior\n",
    "    termos_independentes: termos independentes do sistema retangular superior\n",
    "    \n",
    "    retorna a solução do sistema\n",
    "    '''\n",
    "    tamanho = len(matriz_coeficientes)\n",
    "    A = np.copy(matriz_coeficientes)\n",
    "    b = np.copy(termos_independentes)\n",
    "    \n",
    "    \n",
    "    x = np.zeros(tamanho)\n",
    "    \n",
    "    return x"
   ]
  },
  {
   "cell_type": "code",
   "execution_count": null,
   "metadata": {},
   "outputs": [],
   "source": [
    "triangular_superior(tA, tb)"
   ]
  },
  {
   "cell_type": "code",
   "execution_count": null,
   "metadata": {},
   "outputs": [],
   "source": [
    "A @ x"
   ]
  },
  {
   "cell_type": "code",
   "execution_count": null,
   "metadata": {},
   "outputs": [],
   "source": [
    "b"
   ]
  },
  {
   "cell_type": "markdown",
   "metadata": {},
   "source": [
    "**19. Combine as funções `eliminação_gaussiana` e `triangular_superior` para resolver um sistema de equações Ax=b com $det(A) \\neq 0$**"
   ]
  },
  {
   "cell_type": "code",
   "execution_count": null,
   "metadata": {},
   "outputs": [],
   "source": [
    "def resolver_sistema(matriz_coeficientes, termos_independentes):\n",
    "    \n",
    "    \n",
    "    return x"
   ]
  },
  {
   "cell_type": "code",
   "execution_count": null,
   "metadata": {},
   "outputs": [],
   "source": [
    "A = np.random.rand(10, 10)\n",
    "b = np.random.rand(10, 1)\n",
    "\n",
    "x = resolver_sistema(A, b)\n"
   ]
  },
  {
   "cell_type": "code",
   "execution_count": null,
   "metadata": {},
   "outputs": [],
   "source": [
    "A @ x"
   ]
  },
  {
   "cell_type": "code",
   "execution_count": null,
   "metadata": {},
   "outputs": [],
   "source": [
    "b"
   ]
  }
 ],
 "metadata": {
  "kernelspec": {
   "display_name": "Python 3",
   "language": "python",
   "name": "python3"
  },
  "language_info": {
   "codemirror_mode": {
    "name": "ipython",
    "version": 3
   },
   "file_extension": ".py",
   "mimetype": "text/x-python",
   "name": "python",
   "nbconvert_exporter": "python",
   "pygments_lexer": "ipython3",
   "version": "3.7.6"
  }
 },
 "nbformat": 4,
 "nbformat_minor": 4
}
