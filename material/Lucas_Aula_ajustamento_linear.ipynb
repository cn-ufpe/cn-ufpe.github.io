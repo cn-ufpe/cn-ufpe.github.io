{
  "nbformat": 4,
  "nbformat_minor": 0,
  "metadata": {
    "colab": {
      "name": "Lucas_Aula_ajustamento_linear",
      "provenance": [],
      "collapsed_sections": []
    },
    "kernelspec": {
      "display_name": "Python 3",
      "name": "python3"
    },
    "language_info": {
      "name": "python"
    }
  },
  "cells": [
    {
      "cell_type": "markdown",
      "metadata": {
        "id": "yh-svtKjRrwX"
      },
      "source": [
        "# Ajustamento Linear: questao 1 "
      ]
    },
    {
      "cell_type": "markdown",
      "metadata": {
        "id": "WMztyR-t8tmY"
      },
      "source": [
        "A tabela mostra os dados de *Vendas Trimestrais (em milhares de R\\$) x População Jovem (em milhares)*, de uma franquia de pizzaria. \n",
        "\n",
        "\\begin{array}{cc}\n",
        "\\text{População}&\\text{Vendas}\\\\ \\hline\n",
        "2  & 58 \\\\\n",
        "6  & 105 \\\\\n",
        "8  & 88 \\\\\n",
        "8  & 118 \\\\\n",
        "12  & 117 \\\\\n",
        "16  & 137 \\\\\n",
        "20  & 157 \\\\\n",
        "20  & 169 \\\\\n",
        "22  & 149 \\\\\n",
        "26  & 202 \\\\\n",
        "\\end{array}\n",
        "\n",
        "Para este conjunto de dados:\n",
        "*   (a) estime a regressão linear (ou ajustamento linear) da forma $P_1(x) = ax + b$ e calcule a projeção das vendas para 30.000 pessoas.\n",
        "*   (b) estime a regressão linear da forma $P_2(x) = a + bx + cx^2$ e calcule a projeção das vendas para 30.000\n",
        "pessoas.\n",
        "*   (c) estime a regressão linear da forma $P_3(x) = b + a*ln(x) $ e calcule a projeção das vendas para 30.000 pessoas\n",
        "*   (d) qual das projeções você utilizaria? "
      ]
    },
    {
      "cell_type": "code",
      "metadata": {
        "colab": {
          "base_uri": "https://localhost:8080/",
          "height": 278
        },
        "id": "87odtG5RddFG",
        "outputId": "2c0a81b4-a7f8-49ce-d4c4-82a1a2e52ae7"
      },
      "source": [
        "import matplotlib.pyplot as plt  # biblioteca para plotar gráficos\n",
        "x = [2, 6, 8, 8, 12, 16, 20, 20, 22, 26] \n",
        "f = [58, 105,88, 118, 117, 137, 157d, 169, 149, 202]\n",
        "plt.scatter(x, f)                 # grafico pontual\n",
        "plt.legend(['dados originais'])\n",
        "plt.xlabel('Consumidores Jovens (milhares de pessoas)') \n",
        "plt.ylabel('Vendas Trimestrais (milahres de R$)') \n",
        "plt.grid()\n",
        "plt.show()"
      ],
      "execution_count": null,
      "outputs": [
        {
          "output_type": "display_data",
          "data": {
            "image/png": "[encoded data removed]",
            "text/plain": [
              "<Figure size 432x288 with 1 Axes>"
            ]
          },
          "metadata": {
            "needs_background": "light"
          }
        }
      ]
    },
    {
      "cell_type": "markdown",
      "metadata": {
        "id": "IiVL3zXDLM-X"
      },
      "source": [
        "*(a)* Assuma uma equação de ajustamento da forma $P(x) = ag_1(x) + bg_0(x)$, onde $g_1(x) = x$ e $g_0(x) = 1$, o que resulta na montagem da seguinte tabela:  \n",
        "\\begin{array}{c|ccccccccc}\n",
        "\\text{i}&\\text{$x_i$}&\\text{$f(x_i)$}&\\text{$g_0$} &\\text{$g_1$} &\\text{$g^2_0$}&\\text{$g^2_1$}&\\text{$g_0g_1$}&\\text{$g_0f(x_i)$}&\\text{$g_1f(x_i)$}\\\\ \\hline \n",
        "0 & 2 & 58 & 1 & 2 & 1 & 4 & 2 & 58 &116 \\\\\n",
        "1 & 6 & 105 & 1 & 6 & 1 & 36 & 6 & 105 &630 \\\\\n",
        "2 & 8 & 88 & 1 & 8 & 1 & 64 & 8 & 88 & 704 \\\\\n",
        "3 & 8 & 118 & 1 & 8 & 1 & 64 & 8 & 118 & 944 \\\\\n",
        "4 & 12 & 117 & 1 & 12 & 1 & 144 & 12 & 117 & 1404 \\\\\n",
        "5 & 16 & 137 & 1 & 16 & 1 & 256 & 16 & 137 & 2192 \\\\\n",
        "6 & 20 & 157 & 1 & 20 & 1 & 400 & 20 & 157 & 3140 \\\\\n",
        "7 & 20 & 169 & 1 & 20 & 1 & 400 & 20 & 169 & 3380 \\\\\n",
        "8 & 22 & 149 & 1 & 20 & 1 & 484 & 22 & 149 & 2980\\\\ \n",
        "9 & 26 & 202 & 1 & 26 & 1 & 676 & 26 & 202 & 5252 \\\\\n",
        "\\hline\n",
        "&&&&\\text{$\\Sigma =$} & 10 & 2528 & 140 & 1300 & 21040\n",
        "\\end{array}\n",
        " \n",
        " Portanto, será necessario resolver o sistema de equações lineares: \n",
        "\n",
        " $\\left\\{\n",
        "\\begin{aligned}\n",
        "    10a + 140b     &= 1330\\\\\n",
        "    140a + 2528b &= 21040\n",
        "\\end{aligned}\n",
        "\\right.$\n",
        "\n",
        "Cuja solução é $a = 5$ e $b = 60$, de maneira que a função de ajustamento tem a forma $P(x) = 5x + 60$ e a projeção de vendas com 30.000 pessoas é de $P(30) = 5\\times30 + 60 = 210$."
      ]
    },
    {
      "cell_type": "code",
      "metadata": {
        "colab": {
          "base_uri": "https://localhost:8080/",
          "height": 350
        },
        "id": "FiX8VEBb9MnJ",
        "outputId": "e20f7345-02c5-444e-cb06-a0989dfad7ec"
      },
      "source": [
        "import numpy as np\n",
        "x = [2, 6, 8, 8, 12, 16, 20, 20, 22, 26] \n",
        "n = len(x)\n",
        "f = [58, 105,88, 118, 117, 137, 157, 169, 149, 202]\n",
        "A1 = [[0., 0.],[0., 0.]]  # matriz dos coeficientes do sistema linear\n",
        "B1 = [0., 0.]\n",
        "\n",
        "for i in range(len(x)):\n",
        "  A1[0][0] +=1\n",
        "  A1[1][1] += x[i]*x[i]\n",
        "  A1[0][1] += x[i]\n",
        "  B1[0] += f[i]\n",
        "  B1[1] += x[i]*f[i]\n",
        "A1[1][0] = A1[0][1]\n",
        "[b1, a1] = np.linalg.solve(A1, B1)  # encontrando a solução do sistema de equações\n",
        "\n",
        "#impressao da equacao de ajustamento\n",
        "print('P1(x) = ',a1,'*x + ',b1, '   =>\\nP1(30) = ',a1*30 + b1,'\\n')\n",
        "\n",
        "# definicao da equação de ajustamento\n",
        "def P1(a,b,t):\n",
        "  return a*t + b\n",
        "#grafico com a função de ajustamento e os dados originais\n",
        "import matplotlib.pyplot as plt  # biblioteca para plotar gráficos\n",
        "y = np.linspace(x[0],x[n-1]) #limites no eixo x\n",
        "plt.plot(x,f,'o',y,P1(a1,b1,y)) \n",
        "plt.legend(['dados originais','P1(x) = ax+ b - ajuste linear'])\n",
        "plt.xlabel('Consumidores Jovens (milhares de pessoas)') \n",
        "plt.ylabel('Vendas Trimestrais (milhares de R$)') \n",
        "plt.grid()\n",
        "plt.show()\n",
        "print(B1)"
      ],
      "execution_count": null,
      "outputs": [
        {
          "output_type": "stream",
          "name": "stdout",
          "text": [
            "P1(x) =  5.0 *x +  60.0    =>\n",
            "P1(30) =  210.0 \n",
            "\n"
          ]
        },
        {
          "output_type": "display_data",
          "data": {
            "image/png": "[encoded data removed]",
            "text/plain": [
              "<Figure size 432x288 with 1 Axes>"
            ]
          },
          "metadata": {
            "needs_background": "light"
          }
        },
        {
          "output_type": "stream",
          "name": "stdout",
          "text": [
            "[1300.0, 21040.0]\n"
          ]
        }
      ]
    },
    {
      "cell_type": "markdown",
      "metadata": {
        "id": "LI9OISSKDiR8"
      },
      "source": [
        "Gráfico da função de ajustamento sobre os dados originais:"
      ]
    },
    {
      "cell_type": "markdown",
      "metadata": {
        "id": "GZZd9gYLzxZQ"
      },
      "source": [
        "*(b)* Assuma uma equação de ajustamento da forma $P(x) = ag_0(x) + bg_1(x) + cg_2(x)$, onde $g_0(x) = 1$ e $g_1(x) = x$ e $g_2(x) = x^2$, o que resulta na montagem da seguinte tabela:  \n",
        "\\begin{array}{c|llllllllllllll}\n",
        "\\text{i}&\\text{$x_i$}&\\text{$f(x_i)$}&\\text{$g_0$} &\\text{$g_1$} &\\text{$g_2$} &\\text{$g^2_0$}&\\text{$g^2_1$}&\\text{$g^2_2$}&\\text{$g_0g_1$}&\\text{$g_0g_2$}&\\text{$g_1g_2$}&\\text{$g_0f(x_i)$}&\\text{$g_1f(x_i)$}&\\text{$g_2f(x_i)$}&\\\\ \\hline \n",
        "0 & 2 & 58 & 1 & 2 & 4 & 1 & 4 & 16 & 2 & 4 & 8 & 58 & 116 & 232\\\\\n",
        "1 & 6 &105 &1 &6 &36 &1 &36 &1296 &6 &36 &216 &105 &630 &3780\\\\\n",
        "2& 8 &88 &1 &8 &64 &1 &64 &4096 &8 &64 &512 &88 &704 &5632 \\\\\n",
        "3& 8 &118 &1 &8 &64 &1 &64 &4096 &8 &64 &512 &118 &944 &7552\\\\\n",
        "4& 12 &117 &1 &12 &144 &1 &144 &20736 &12 &144 &1728 &117 &1404 &16848\\\\\n",
        "5& 16 &137 &1 &16 &256 &1 &256 &65536 &16 &256 &4096 &137 &2192 &35072\\\\\n",
        "6& 20 &157 &1 &20 &400 &1 &400 &160000 &20 &400 &8000 &157 &3140 &62800\\\\\n",
        "7& 20 &169 &1 &20 &400 &1 &400 &160000 &20 &400 &8000 &169 &3380 &67600\\\\\n",
        "8& 22 &149 &1 &22 &484 &1 &484 &234256 &22 &484 &10648 &149 &3278 &72116\\\\\n",
        "9& 26 &202 &1 &26 &676 &1 &676 &456976 &26 &676 &17576 &202 &5252 &136552\\\\\n",
        "\\hline\n",
        "&&&&&\\text{$\\Sigma =$} & 10 &2528 &1107008 &140 &2528 &51296 &1300 &21040 &408184\n",
        "\\end{array}\n",
        "\n",
        "\n",
        " \n",
        " Portanto, será necessario resolver o sistema de equações lineares: \n",
        "\n",
        " $\\left\\{\n",
        "\\begin{aligned}\n",
        "    10a + 140b + 2528c     &= 1300\\\\\n",
        "    140a + 2528b + 51296c &= 21040\\\\\n",
        "    2528a + 51296b + 1107008c &= 408184\\\\\n",
        "\\end{aligned}\n",
        "\\right.$\n",
        "\n",
        "Cuja solução aproximada vale  $a = 60.14770798$, $b = 4.970288625$, e $c = 0.001061121$, de maneira que a função de ajustamento tem a forma $P(x) = 0.001061121x^2 + 4.970288625x + 60.14770798$ e a projeção de vendas com 30.000 pessoas é de $P(30) = 210.2113756$."
      ]
    },
    {
      "cell_type": "code",
      "metadata": {
        "colab": {
          "base_uri": "https://localhost:8080/",
          "height": 332
        },
        "id": "mRQweIyEECNa",
        "outputId": "39a4ed9a-486b-49a6-ca47-6773e2a1f288"
      },
      "source": [
        "import numpy as np\n",
        "x = [2, 6, 8, 8, 12, 16, 20, 20, 22, 26] \n",
        "n = len(x)\n",
        "f = [58, 105,88, 118, 117, 137, 157, 169, 149, 202]\n",
        "A2 = [[0., 0., 0.],[0., 0., 0.], [0., 0., 0.]]  # matriz dos coeficientes do sistema linear\n",
        "B2 = [0., 0., 0.]\n",
        "\n",
        "for i in range(len(x)):\n",
        "  A2[0][0] +=1\n",
        "  A2[1][1] += x[i]*x[i]\n",
        "  A2[2][2] += (x[i]*x[i])**2\n",
        "  A2[0][1] += x[i]\n",
        "  A2[0][2] += x[i]**2\n",
        "  A2[1][2] += x[i]**3\n",
        "  B2[0] += f[i]\n",
        "  B2[1] += x[i]*f[i]\n",
        "  B2[2] += (x[i]**2)*f[i]\n",
        "\n",
        "A2[1][0] = A2[0][1]\n",
        "A2[2][0] = A2[0][2]\n",
        "A2[2][1] = A2[1][2]\n",
        "\n",
        "[a2, b2, c2] = np.linalg.solve(A2, B2)   # resolucao do sistema linear\n",
        "\n",
        "# definicao da funcao de ajustamento\n",
        "def P2(c,b,a,t):\n",
        "  return c*t*t + b*t + a\n",
        "\n",
        "# impressao da funcao de ajuste\n",
        "print('P2(x) = ' ,c2,'*x^2 +' ,b2,'*x + ',a2, '   =>\\nP2(30) = ',P2(c2,b2,a2,30),'\\n')\n",
        "\n",
        "#grafico com a função de ajustamento e os dados originais\n",
        "import matplotlib.pyplot as plt  # biblioteca para plotar gráficos\n",
        "y = np.linspace(x[0],x[n-1]) #limites no eixo x\n",
        "plt.plot(x,f,'o',y,P2(c2,b2,a2,y)) \n",
        "plt.legend(['dados originais','P2(x) = cx² + bx + a - ajuste quadrático'])\n",
        "plt.xlabel('Consumidores Jovens (milhares de pessoas)') \n",
        "plt.ylabel('Vendas Trimestrais (milahres de R$)') \n",
        "plt.grid()\n",
        "plt.show()"
      ],
      "execution_count": null,
      "outputs": [
        {
          "output_type": "stream",
          "name": "stdout",
          "text": [
            "P2(x) =  0.0010611205432921186 *x^2 + 4.970288624787823 *x +  60.14770797962623    =>\n",
            "P2(30) =  210.21137521222383 \n",
            "\n"
          ]
        },
        {
          "output_type": "display_data",
          "data": {
            "image/png": "[encoded data removed]",
            "text/plain": [
              "<Figure size 432x288 with 1 Axes>"
            ]
          },
          "metadata": {
            "needs_background": "light"
          }
        }
      ]
    },
    {
      "cell_type": "markdown",
      "metadata": {
        "id": "4__UT1P0NuKH"
      },
      "source": [
        "A função de ajustamento $P_2(x)$, apesar de ser formalmente um polinômio quadrático, apresenta um comportamento muito mais próximo de uma reta no intervalo analisado (visto que o coeficiente que multiplica o termo quadrático $<<1$).\n",
        "\n",
        "\n",
        "\n",
        "\n",
        "\n",
        "\n",
        "\n",
        "\n",
        "\n",
        "\n",
        "\n",
        "\n",
        "\n",
        "\n",
        "\n",
        "\n",
        "\n",
        "\n",
        "\n"
      ]
    },
    {
      "cell_type": "markdown",
      "metadata": {
        "id": "1my3I2Digu8b"
      },
      "source": [
        "*(c)* Assuma uma equação de ajustamento da forma $P(x) = ag_1(x) + bg_0(x)$, onde $g_1(x) = ln(x)$ e $g_0(x) = 1$, o que resulta na montagem da seguinte tabela:  \n",
        "\\begin{array}{c|ccccccccc}\n",
        "\\text{i}&\\text{$x_i$}&\\text{$f(x_i)$}&\\text{$g_0$} &\\text{$g_1$} &\\text{$g^2_0$}&\\text{$g^2_1$}&\\text{$g_0g_1$}&\\text{$g_0f(x_i)$}&\\text{$g_1f(x_i)$}\\\\ \\hline \n",
        "0 & 2 & 58 & 1 & 0.693147181 & 1 & 0.480453014 & 0.693147181 & 58 & 40.20253647\\\\\n",
        "1 & 6 & 105 & 1 & 1.791759469 & 1 & 3.210401996 & 1.791759469 & 105 & 188.1347443\\\\\n",
        "2 & 8 & 88 & 1 & 2.079441542 & 1 & 4.324077125 & 2.079441542 & 88 & 182.9908557\\\\\n",
        "3 & 8 & 118 & 1 & 2.079441542 & 1 & 4.324077125 & 2.079441542 & 118 & 245.3741019\\\\\n",
        "4 & 12 & 117 & 1 & 2.48490665 & 1 & 6.174761058 & 2.48490665 & 117 & 290.734078\\\\\n",
        "5 & 16 & 137 & 1 & 2.772588722 & 1 & 7.687248223 & 2.772588722 & 137 & 379.8446549\\\\\n",
        "6 & 20 & 157 & 1 & 2.995732274 & 1 & 8.974411855 & 2.995732274 & 157 & 470.3299669\\\\\n",
        "7 & 20 & 169 & 1 & 2.995732274 & 1 & 8.974411855 & 2.995732274 & 169 & 506.2787542\\\\\n",
        "8 & 22 & 149 & 1 & 3.091042453 & 1 & 9.554543448 & 3.091042453 & 149 & 460.5653256\\\\\n",
        "9 & 26 & 202 & 1 & 3.258096538 & 1 & 10.61519305 & 3.258096538 & 202 & 658.1355007\\\\\n",
        "\\hline\n",
        " &  &  &  & \\text{$\\Sigma =$} & 10 & 64.31957875 & 24.24188864 & 1300 & 3422.590519\n",
        "\\end{array}\n",
        " \n",
        " Portanto, será necessario resolver o sistema de equações lineares: \n",
        "\n",
        " $\\left\\{\n",
        "\\begin{aligned}\n",
        "    10a + 24.24188864b     &= 1330\\\\\n",
        "    24.24188864a + 64.31957875b &= 3422.590519\n",
        "\\end{aligned}\n",
        "\\right.$\n",
        "\n",
        "Cuja solução é $a = 11.62314794$ e $b = 48.83153033$, de maneira que a função de ajustamento tem a forma $P(x) = 48.83153033ln(x) +11.62314794 $ e a projeção de vendas com 30.000 pessoas é de $P(30) = 48.83153033ln(30) +11.62314794 = 177.708821$."
      ]
    },
    {
      "cell_type": "code",
      "metadata": {
        "colab": {
          "base_uri": "https://localhost:8080/",
          "height": 332
        },
        "id": "GjcP6GUynbTT",
        "outputId": "551808d7-2e07-448b-da2c-1555dffc8607"
      },
      "source": [
        "x = [2, 6, 8, 8, 12, 16, 20, 20, 22, 26] \n",
        "n = len(x)\n",
        "f = [58, 105,88, 118, 117, 137, 157, 169, 149, 202]\n",
        "A3 = [[0., 0.],[0., 0.]]  # matriz dos coeficientes do sistema linear\n",
        "B3 = [0., 0.]\n",
        "\n",
        "for i in range(len(x)):\n",
        "  A3[0][0] +=1\n",
        "  A3[1][1] += np.log(x[i])*np.log(x[i])\n",
        "  A3[0][1] += np.log(x[i])\n",
        "  B3[0] += f[i]\n",
        "  B3[1] += np.log(x[i])*f[i]\n",
        "A3[1][0] = A3[0][1]\n",
        "\n",
        "[b3, a3] = np.linalg.solve(A3, B3)  # solucao do sistema de equacoes\n",
        "\n",
        "#definicao da funcao de ajuste\n",
        "def P3(a,b,t):\n",
        "  return a*np.log(t) + b\n",
        "\n",
        "# impressao da funcao de ajuste\n",
        "print('P3(x) = ',a3,'* ln(x)  + ',b3, '   =>\\nP3(30) = ',P3(a3,b3,30),'\\n')\n",
        "\n",
        "#grafico com a função de ajustamento e os dados originais\n",
        "import matplotlib.pyplot as plt  # biblioteca para plotar gráficos\n",
        "y = np.linspace(x[0],x[n-1]) #limites no eixo x\n",
        "plt.plot(x,f,'o',y,P3(a3,b3,y)) \n",
        "plt.legend(['dados originais','P3(x) = a + b*ln(x) - ajuste linear logaritmo'])\n",
        "plt.xlabel('Consumidores Jovens (milhares de pessoas)') \n",
        "plt.ylabel('Vendas Trimestrais (milahres de R$)') \n",
        "plt.grid()\n",
        "plt.show()"
      ],
      "execution_count": null,
      "outputs": [
        {
          "output_type": "stream",
          "name": "stdout",
          "text": [
            "P3(x) =  48.83153033285429 * ln(x)  +  11.623147937128273    =>\n",
            "P3(30) =  177.7088210477884 \n",
            "\n"
          ]
        },
        {
          "output_type": "display_data",
          "data": {
            "image/png": "[encoded data removed]",
            "text/plain": [
              "<Figure size 432x288 with 1 Axes>"
            ]
          },
          "metadata": {
            "needs_background": "light"
          }
        }
      ]
    },
    {
      "cell_type": "markdown",
      "metadata": {
        "id": "bcaSfeUAL3Fc"
      },
      "source": [
        "*(d)* Quando tentamos comparar os resultados dos ajustamentos, a primeira ideia é fazer um gráfico sobre os dados originais das funções de ajustamento $P_1(x)$,  $P_2(x)$ e $P_3(x)$:"
      ]
    },
    {
      "cell_type": "code",
      "metadata": {
        "colab": {
          "base_uri": "https://localhost:8080/",
          "height": 278
        },
        "id": "xfQSO5g2KrO6",
        "outputId": "77833e9d-8a6d-4834-d2d6-5ff95156b6f6"
      },
      "source": [
        "plt.plot(x,f,'o',y,P1(a1,b1,y),y,P2(c2,b2,a2,y),y,P3(a3,b3,y))\n",
        "plt.legend(['dados originais','P1(x) - ajuste linear','P2(x) - ajuste parabólico','P3(x) - ajuste linear logaritmo']) \n",
        "plt.xlabel('Consumidores Jovens (milhares de pessoas)') \n",
        "plt.ylabel('Vendas Trimestrais (milhares de R$)') \n",
        "plt.grid()\n",
        "plt.show()"
      ],
      "execution_count": null,
      "outputs": [
        {
          "output_type": "display_data",
          "data": {
            "image/png": "[encoded data removed]",
            "text/plain": [
              "<Figure size 432x288 with 1 Axes>"
            ]
          },
          "metadata": {
            "needs_background": "light"
          }
        }
      ]
    },
    {
      "cell_type": "markdown",
      "metadata": {
        "id": "hwhy6kW7M8l5"
      },
      "source": [
        "$P_1(x)$ e $P_2(x)$ são tão próximas, que graficamente não há como notar diferenças entre elas (estão praticamente superpostas na curva verde). A curva em vermelho é a função $P_3(x)$. \n",
        "\n",
        "*Como então diferenciar e tomar uma decisão, por qual função de ajustamento utilizar?*\n",
        "\n",
        "A resposta está na soma quadrática dos resíduos. Na estatística, o coeficente $r^2$ mede a qualidade do ajustamento, sendo tão melhor quanto mais próximo de 1, tal que:\n",
        "\n",
        "$r^2 = 1 - \\frac{\\sum_{i=1}^n (P(x_i) - f(x_i))^2}{\\sum_{i=1}^n (P(x_i) - \\bar{f})^2 + \\sum_{i=1}^n (P(x_i) - f(x_i))^2} $, \n",
        "\n",
        "onde $\\bar{f} = \\frac{1}{n}\\sum_{i=1}^n f(x_i)$. A tabela abaixo mostra os valores necessários para calcular $r^2$.\n",
        "\n",
        "\n",
        "\\begin{array}{c|lllllllllll}\n",
        "\\text{i}&\\text{$x_i$}&\\text{$f(x_i)$}&\\text{$P_1$} &\\text{$P_2$} &\\text{$P_3$}&\\text{$(P_1 - \\bar{f})^2$}&\\text{$(P_2 - \\bar{f})^2$}&\\text{$(P_3 - \\bar{f})^2$}&\\text{$[P_1 - f(x_i)]^2$}&\\text{$[P_2 - f(x_i)]^2$} &\\text{$[P_3 - f(x_i)]^2$}\\\\ \\hline \n",
        "0 & 2 & 58 & 70 & 70.09252971 & 45.47058551 & 3600 & 3588.904996 & 7145.221914 & 144 & 146.2292748 & 156.9862275\\\\\n",
        "1 & 6 & 105 & 90 & 90.00764007 & 99.11750481 & 1600 & 1599.388853 & 953.7285093 & 225 & 224.7708563 & 34.60374968\\\\\n",
        "2 & 8 & 88 & 100 & 99.97792869 & 113.1654607 & 900 & 901.3247656 & 283.401715 & 144 & 143.4707758 & 633.30041\\\\\n",
        "3 & 8 & 118 & 100 & 99.97792869 & 113.1654607 & 900 & 901.3247656 & 283.401715 & 324 & 324.7950542 & 23.37277068\\\\\n",
        "4 & 12 & 117 & 120 & 119.9439728 & 132.9649424 & 100 & 101.1236823 & 8.79088332 & 9 & 8.666976055 & 254.8793852\\\\\n",
        "5 & 16 & 137 & 140 & 139.9439728 & 147.0128982 & 100 & 98.88259575 & 289.4387061 & 9 & 8.666976055 & 100.2581309\\\\\n",
        "6 & 20 & 157 & 160 & 159.9779287 & 157.9093393 & 900 & 898.6762087 & 778.9312214 & 9 & 8.868059299 & 0.826898003\\\\\n",
        "7 & 20 & 169 & 160 & 159.9779287 & 157.9093393 & 900 & 898.6762087 & 778.9312214 & 81 & 81.39777067 & 123.0027543\\\\\n",
        "8 & 22 & 149 & 170 & 170.0076401 & 162.5634813 & 1600 & 1600.611264 & 1060.380312 & 441 & 441.3209412 & 183.9680238\\\\\n",
        "9 & 26 & 202 & 190 & 190.0925297 & 170.7209879 & 3600 & 3611.112127 & 1658.198852 & 144 & 141.7878487 & 978.3766004\\\\\n",
        "\\hline\n",
        " &  &  &  &  & \\text{$\\Sigma =$}  & 14200 & 14200.02547 & 13240.42505 & 1530 & 1529.974533 & 2489.57495\n",
        "\\end{array}\n",
        "\n",
        "Então: \n",
        "*   $r^2_{P_1} = 1 - \\frac{1530}{1530+14200} = 0.9027336300063573$\n",
        "*   $r^2_{P_2} = 1 - \\frac{1529.9745330}{1529.974533+14200.02547} = 0.8964161717801634$\n",
        "*   $r^2_{P_3} = 1 - \\frac{2489.57495}{2489.57495+13240.42505} = 0.8417307723799871$\n",
        "\n",
        "Sob o ponto de vista estatístico, $r^2_{P_1} > r^2_{P_2} > r^2_{P_3}$, portanto $P_1(x)$ é a função dentre as três analisadas, que melhor ajusta os dados. \n"
      ]
    },
    {
      "cell_type": "code",
      "metadata": {
        "colab": {
          "base_uri": "https://localhost:8080/"
        },
        "id": "IIJrWnYP_lgW",
        "outputId": "328dfa61-4dff-41e6-dda7-72c210a989bd"
      },
      "source": [
        "import numpy as np\n",
        "x = [2, 6, 8, 8, 12, 16, 20, 20, 22, 26] \n",
        "n = len(x)\n",
        "f = [58, 105,88, 118, 117, 137, 157, 169, 149, 202]\n",
        "R2_p1 = 0.; R2_p2 = 0.; R2_p3 = 0.\n",
        "f_med = 0.\n",
        "aux1_p1 = 0.; aux2_p1 = 0.\n",
        "aux1_p2 = 0.; aux2_p2 = 0.\n",
        "aux1_p3 = 0.; aux2_p3 = 0.\n",
        "\n",
        "# calculo da media\n",
        "for i in range(len(x)):\n",
        "  f_med += f[i]\n",
        "f_med = f_med/n\n",
        "\n",
        "for i in range(len(x)):\n",
        "  aux1_p1 += (P1(a1,b1,x[i]) - f[i])**2\n",
        "  aux1_p2 += (P2(c2,b2,a2,x[i]) - f[i])**2\n",
        "  aux1_p3 += (P3(a3,b3,x[i]) - f[i])**2\n",
        "  aux2_p1 += (P1(a1,b1,x[i]) - f_med)**2\n",
        "  aux2_p2 += (P2(c2,b2,a2,x[i]) - f_med)**2\n",
        "  aux2_p3 += (P3(a3,b3,x[i]) - f_med)**2\n",
        "\n",
        "# calculo do coeficiente R²\n",
        "R2_p1 = 1 - aux1_p1/(aux1_p1 + aux2_p1)\n",
        "R2_p2 = 1 - aux1_p2/(aux1_p2 + aux2_p3)\n",
        "R2_p3 = 1 - aux1_p3/(aux1_p3 + aux2_p3)\n",
        "\n",
        "# impressao do coeficientes encontrados\n",
        "print('R2_P1(x) = ', R2_p1, '\\nR2_P2(x) = ', R2_p2, '\\nR2_P3(x) = ', R2_p3)\n",
        "  "
      ],
      "execution_count": null,
      "outputs": [
        {
          "output_type": "stream",
          "name": "stdout",
          "text": [
            "R2_P1(x) =  0.9027336300063573 \n",
            "R2_P2(x) =  0.8964161717801634 \n",
            "R2_P3(x) =  0.8417307723799871\n"
          ]
        }
      ]
    },
    {
      "cell_type": "markdown",
      "metadata": {
        "id": "YsPpHCQZoAAk"
      },
      "source": [
        "#Questão: questao 2"
      ]
    },
    {
      "cell_type": "markdown",
      "metadata": {
        "id": "UpCbjKE6oN_p"
      },
      "source": [
        "A tabela mostra os dados experimentais da variáveis *x* e *y = f* \n",
        "\n",
        "\\begin{array}{lrr}\n",
        "\\text{k}&\\text{x}&\\text{y=f(x)}\\\\ \\hline\n",
        "0&\t-1.327&\t-1.057\\\\ \n",
        "1&\t-1.208&\t-0.801\\\\\n",
        "2&\t-1.013&\t-0.046\\\\\n",
        "3&\t-0.948&\t0.237\\\\\n",
        "4&\t-0.961&\t0.202\\\\\n",
        "5&\t-0.659&\t0.338\\\\\n",
        "6&\t-0.957&\t-0.101\\\\\n",
        "7&\t-0.605&\t0.622\\\\\n",
        "8&\t-0.464&\t0.324\\\\\n",
        "9&\t-0.163&\t0.019\\\\\n",
        "10&\t-0.484&\t0.461\\\\\n",
        "11&\t-0.188&\t0.102\\\\\n",
        "12&\t0.059&\t-0.184\\\\\n",
        "13&\t-0.01&\t0.054\\\\\n",
        "14&\t0.154&\t-0.037\\\\\n",
        "15&\t0.447&\t-0.439\\\\\n",
        "16&\t0.453&\t-0.556\\\\\n",
        "17&\t0.161&\t-0.43\\\\\n",
        "18&\t0.538&\t-0.664\\\\\n",
        "19&\t0.645&\t-1.126\\\\\n",
        "20&\t0.663&\t-0.694\\\\\n",
        "21&\t0.789&\t-1.244\\\\\n",
        "22&\t1.099&\t-1.154\\\\\n",
        "23&\t1.273&\t-0.471\\\\\n",
        "\\end{array}\n",
        "\n",
        "Para este conjunto de dados:\n",
        "*   (a) estime a regressão linear (ou ajustamento linear) da forma $P_1(x) = A*x^3 + B*x^2 + C*x + D$. A **saída** do código deve ser a parte inteira de  $100*(|A| + |B| + |C| + |D|)$.\n",
        "*   (b) estime a regressão linear da forma $P_2(x) = A*x^4 + B*x^3 + C*x^2 + D*x + E$. A **saída** do código deve ser a parte inteira de  $100*(|A| + |B| + |C| + |D| + |E|)$.\n",
        "*   (c) Utilize os valores dos coeficientes calculados nos itens (a) e (b) e defina a função de ajustamento $P_3(x) = \\frac{P_1(x)+ P_2(x)}{2}$, retorne as seguintes **SAÍDAS** desta função:  parte inteira de $10000*r^2_{P_1}$, parte inteira de $10000*r^2_{P_2}$ e parte inteira de $10000*r^2_{P_3}$, nesta ordem.\n",
        "\n",
        "Lembrando que $r^2_{P_i} = 1 - \\frac{\\sum_{k=1}^n (P_i(x_k) - f(x_k))^2}{\\sum_{k=1}^n (P_i(x_k) - \\bar{f})^2 + \\sum_{k=1}^n (P_i(x_k) - f(x_k))^2} $, onde $\\bar{f} = \\frac{1}{n}\\sum_{k=1}^n f(x_k)$."
      ]
    },
    {
      "cell_type": "code",
      "metadata": {
        "colab": {
          "base_uri": "https://localhost:8080/",
          "height": 278
        },
        "id": "yLMLrG2doMif",
        "outputId": "444fb0d2-77cd-4017-eea0-8c46fcd849de"
      },
      "source": [
        "import matplotlib.pyplot as plt  # biblioteca para plotar gráficos\n",
        "x = [-1.327, -1.208, -1.013, -0.948, -0.961, -0.659, -0.957, -0.605, -0.464, -0.163, -0.484, -0.188, 0.059, -0.01, 0.154, 0.447, 0.453, 0.161, 0.538, 0.645, 0.663, 0.789, 1.099, 1.273] \n",
        "f = [-1.057, -0.801, -0.046, 0.237, 0.202, 0.338, -0.101, 0.622, 0.324, 0.019, 0.461, 0.102, -0.184, 0.054, -0.037, -0.439, -0.556, -0.43, -0.664, -1.126, -0.694, -1.244, -1.154, -0.471\n",
        "]\n",
        "plt.scatter(x, f)                 # grafico pontual\n",
        "plt.legend(['dados originais'])\n",
        "plt.xlabel('X') \n",
        "plt.ylabel('Y') \n",
        "plt.grid()\n",
        "plt.show()"
      ],
      "execution_count": null,
      "outputs": [
        {
          "output_type": "display_data",
          "data": {
            "image/png": "[encoded data removed]",
            "text/plain": [
              "<Figure size 432x288 with 1 Axes>"
            ]
          },
          "metadata": {
            "needs_background": "light"
          }
        }
      ]
    },
    {
      "cell_type": "markdown",
      "metadata": {
        "id": "iyzcersYoQqo"
      },
      "source": [
        "*(a)* Assuma uma equação de ajustamento da forma $P(x) = Ag_3(x) + Bg_2(x) + Cg_1(x) + Dg_0(x)$, onde $g_3(x) = x^3$, $g_2(x) = x^2$,  $g_1(x) = x$ e $g_0(x) = 1$, é necessário resolver o sistema:  \n",
        "\n",
        " $\\left\\{\n",
        "\\begin{aligned}\n",
        "    A*h_{33} + B*h_{32} + C*h_{31} + D*h_{30}     &=  L_{3}\\\\\n",
        "    A*h_{23} + B*h_{22} + C*h_{21} + D*h_{20}     &=  L_{2}\\\\\n",
        "    A*h_{13} + B*h_{12} + C*h_{11} + D*h_{10}     &=  L_{1}\\\\\n",
        "    A*h_{03} + B*h_{02} + C*h_{01} + D*h_{00}     &=  L_{0}\\\\\n",
        "\\end{aligned}\n",
        "\\right.$\n",
        "\n",
        "onde $h_{ij} = \\sum_{k=0}^{23}g_{i}(x_k)*g_{j}(x_k)$ e $L_{i} = \\sum_{k=0}^{23}f(x_k)*g_{i}(x_k)$, para $i,j=0,1,2,3$.\n"
      ]
    },
    {
      "cell_type": "code",
      "metadata": {
        "colab": {
          "base_uri": "https://localhost:8080/"
        },
        "id": "MdPwSj_HoRwv",
        "outputId": "251e3adb-2b2f-407a-c73d-12b56d85cfc5"
      },
      "source": [
        "import numpy as np\n",
        "\n",
        "def questao_1A():\n",
        "  x = [-1.327, -1.208, -1.013, -0.948, -0.961, -0.659, -0.957, -0.605, -0.464, -0.163, -0.484, -0.188, 0.059, -0.01, 0.154, 0.447, 0.453, 0.161, 0.538, 0.645, 0.663, 0.789, 1.099, 1.273] \n",
        "  f = [-1.057, -0.801, -0.046, 0.237, 0.202, 0.338, -0.101, 0.622, 0.324, 0.019, 0.461, 0.102, -0.184, 0.054, -0.037, -0.439, -0.556, -0.43, -0.664, -1.126, -0.694, -1.244, -1.154, -0.471\n",
        "  ]\n",
        "  n = len(x)\n",
        "  A1 = np.zeros((4,4))  # matriz dos coeficientes do sistema linear\n",
        "  B1 = [0., 0., 0, .0]\n",
        "\n",
        "  for i in range(len(x)):\n",
        "    # linha 0\n",
        "    A1[0][0] +=1\n",
        "    A1[0][1] += x[i]\n",
        "    A1[0][2] += np.power(x[i], 2)\n",
        "    A1[0][3] += np.power(x[i], 3)\n",
        "    # linha 1\n",
        "    A1[1][1] += x[i]*x[i]\n",
        "    A1[1][2] += x[i]*np.power(x[i], 2)\n",
        "    A1[1][3] += x[i]*np.power(x[i], 3)\n",
        "    # linha 2\n",
        "    A1[2][2] += np.power(x[i], 2)*np.power(x[i], 2)\n",
        "    A1[2][3] += np.power(x[i], 2)*np.power(x[i], 3)\n",
        "    # linha 3\n",
        "    A1[3][3] += np.power(x[i], 3)*np.power(x[i], 3)\n",
        "\n",
        "    # termos independentes\n",
        "    B1[0] += f[i]\n",
        "    B1[1] += f[i]*x[i]\n",
        "    B1[2] += f[i]*np.power(x[i], 2)\n",
        "    B1[3] += f[i]*np.power(x[i], 3)\n",
        "\n",
        "  # simetria das posicoes da matriz A1\n",
        "  A1[1][0] = A1[0][1]\n",
        "  A1[2][0] = A1[0][2]\n",
        "  A1[3][0] = A1[0][3]\n",
        "  A1[2][1] = A1[1][2]\n",
        "  A1[3][1] = A1[1][3]\n",
        "  A1[3][2] = A1[2][3]\n",
        "\n",
        "  [d1, c1, b1, a1] = np.linalg.solve(A1, B1)  # encontrando a solução do sistema de equações\n",
        "\n",
        "  # saida desejada pelo questão\n",
        "  return int(100*(np.fabs(a1) + np.fabs(b1) + np.fabs(c1) + np.fabs(d1)))\n",
        "  # fim do código da questao\n",
        "\n",
        "#chamada da funcao\n",
        "questao_1A()"
      ],
      "execution_count": null,
      "outputs": [
        {
          "output_type": "execute_result",
          "data": {
            "text/plain": [
              "282"
            ]
          },
          "metadata": {},
          "execution_count": 16
        }
      ]
    },
    {
      "cell_type": "markdown",
      "metadata": {
        "id": "ZgYEW6CZoUZf"
      },
      "source": [
        "*(b)* Assuma uma equação de ajustamento da forma $P(x) = Ag_4(x) + Bg_3(x) + Cg_2(x) + Dg_1(x) + Eg_0(x)$, onde $g_4(x) = x^4$, $g_3(x) = x^3$, $g_2(x) = x^2$,  $g_1(x) = x$ e $g_0(x) = 1$, é necessário resolver o sistema:  \n",
        "\n",
        " $\\left\\{\n",
        "\\begin{aligned}\n",
        "    A*h_{44} + B*h_{43} + C*h_{42} + D*h_{41} +  E*h_{40}    &=  L_{4}\\\\\n",
        "    A*h_{34} + B*h_{33} + C*h_{32} + D*h_{31} +  E*h_{30}    &=  L_{3}\\\\\n",
        "    A*h_{24} + B*h_{23} + C*h_{22} + D*h_{21} +  E*h_{20}    &=  L_{2}\\\\\n",
        "    A*h_{14} + B*h_{13} + C*h_{12} + D*h_{11} +  E*h_{10}    &=  L_{1}\\\\\n",
        "    A*h_{04} + B*h_{03} + C*h_{02} + D*h_{01} +  E*h_{00}    &=  L_{0}\\\\\n",
        "\\end{aligned}\n",
        "\\right.$\n",
        "\n",
        "onde $h_{ij} = \\sum_{k=0}^{23}g_{i}(x_k)*g_{j}(x_k)$ e $L_{i} = \\sum_{k=0}^{23}f(x_k)*g_{i}(x_k)$, para $i,j=0,1,2,3,4$.\n"
      ]
    },
    {
      "cell_type": "code",
      "metadata": {
        "colab": {
          "base_uri": "https://localhost:8080/"
        },
        "id": "vXDJEu8yoUzC",
        "outputId": "76260dc4-7e3c-4904-f3c0-bd6aef7437f4"
      },
      "source": [
        "import numpy as np\n",
        "\n",
        "def questao_1B():\n",
        "  x = [-1.327, -1.208, -1.013, -0.948, -0.961, -0.659, -0.957, -0.605, -0.464, -0.163, -0.484, -0.188, 0.059, -0.01, 0.154, 0.447, 0.453, 0.161, 0.538, 0.645, 0.663, 0.789, 1.099, 1.273] \n",
        "  f = [-1.057, -0.801, -0.046, 0.237, 0.202, 0.338, -0.101, 0.622, 0.324, 0.019, 0.461, 0.102, -0.184, 0.054, -0.037, -0.439, -0.556, -0.43, -0.664, -1.126, -0.694, -1.244, -1.154, -0.471\n",
        "  ]\n",
        "  n = len(x)\n",
        "  A1 = np.zeros((5,5))  # matriz dos coeficientes do sistema linear\n",
        "  B1 = [0., 0., 0, .0, 0.]\n",
        "\n",
        "  for i in range(len(x)):\n",
        "    # linha 0\n",
        "    A1[0][0] +=1\n",
        "    A1[0][1] += x[i]\n",
        "    A1[0][2] += np.power(x[i], 2)\n",
        "    A1[0][3] += np.power(x[i], 3)\n",
        "    A1[0][4] += np.power(x[i], 4)\n",
        "    # linha 1\n",
        "    A1[1][1] += x[i]*x[i]\n",
        "    A1[1][2] += x[i]*np.power(x[i], 2)\n",
        "    A1[1][3] += x[i]*np.power(x[i], 3)\n",
        "    A1[1][4] += x[i]*np.power(x[i], 4)\n",
        "    # linha 2\n",
        "    A1[2][2] += np.power(x[i], 2)*np.power(x[i], 2)\n",
        "    A1[2][3] += np.power(x[i], 2)*np.power(x[i], 3)\n",
        "    A1[2][4] += np.power(x[i], 2)*np.power(x[i], 4)\n",
        "    # linha 3\n",
        "    A1[3][3] += np.power(x[i], 3)*np.power(x[i], 3)\n",
        "    A1[3][4] += np.power(x[i], 3)*np.power(x[i], 4)\n",
        "    # linha 4\n",
        "    A1[4][4] += np.power(x[i], 4)*np.power(x[i], 4)\n",
        "\n",
        "    # termos independentes\n",
        "    B1[0] += f[i]\n",
        "    B1[1] += f[i]*x[i]\n",
        "    B1[2] += f[i]*np.power(x[i], 2)\n",
        "    B1[3] += f[i]*np.power(x[i], 3)\n",
        "    B1[4] += f[i]*np.power(x[i], 4)\n",
        "\n",
        "  # simetria das posicoes da matriz A1\n",
        "  A1[1][0] = A1[0][1]\n",
        "  A1[2][0] = A1[0][2]\n",
        "  A1[3][0] = A1[0][3]\n",
        "  A1[4][0] = A1[0][4]\n",
        "  A1[2][1] = A1[1][2]\n",
        "  A1[3][1] = A1[1][3]\n",
        "  A1[4][1] = A1[1][4]\n",
        "  A1[3][2] = A1[2][3]\n",
        "  A1[4][2] = A1[2][4]\n",
        "  A1[4][3] = A1[3][4]\n",
        "\n",
        "  [e1, d1, c1, b1, a1] = np.linalg.solve(A1, B1)  # encontrando a solução do sistema de equações\n",
        "\n",
        "  # saida desejada pelo questão\n",
        "  return int(100*(np.fabs(a1) + np.fabs(b1) + np.fabs(c1) + np.fabs(d1) + np.fabs(e1)))\n",
        "  # fim do código da questao\n",
        "\n",
        "#chamada da funcao\n",
        "questao_1B()"
      ],
      "execution_count": null,
      "outputs": [
        {
          "output_type": "execute_result",
          "data": {
            "text/plain": [
              "304"
            ]
          },
          "metadata": {},
          "execution_count": 17
        }
      ]
    },
    {
      "cell_type": "markdown",
      "metadata": {
        "id": "xegpZ5droX2P"
      },
      "source": [
        "*(c)* calculo das partes inteiras de: $10000*r^2_{P_1}$, $10000*r^2_{P_2}$ e $10000*r^2_{P_3}$"
      ]
    },
    {
      "cell_type": "code",
      "metadata": {
        "colab": {
          "base_uri": "https://localhost:8080/"
        },
        "id": "87soF4uXoYTw",
        "outputId": "6fe68a69-436a-462e-9e2b-3773b66d53fe"
      },
      "source": [
        "import numpy as np\n",
        "\n",
        "def questao_1C():\n",
        "  # definicao da funcao de ajustamento P1\n",
        "  def P1(a,b,c,d,x):\n",
        "    return a*np.power(x,3) + b*np.power(x,2) + c*x + d\n",
        "  #\n",
        "  # definicao da funcao de ajustamento P2\n",
        "  def P2(a,b,c,d,e,x):\n",
        "    return a*np.power(x,4) + b*np.power(x,3) + c*np.power(x,2) + d*x + e\n",
        "  #\n",
        "  # definicao da funcao de ajustamento P3\n",
        "  def P3(a,b):\n",
        "    return (a + b)/2\n",
        "  #\n",
        "\n",
        "\n",
        "  x = [-1.327, -1.208, -1.013, -0.948, -0.961, -0.659, -0.957, -0.605, -0.464, -0.163, -0.484, -0.188, 0.059, -0.01, 0.154, 0.447, 0.453, 0.161, 0.538, 0.645, 0.663, 0.789, 1.099, 1.273] \n",
        "  f = [-1.057, -0.801, -0.046, 0.237, 0.202, 0.338, -0.101, 0.622, 0.324, 0.019, 0.461, 0.102, -0.184, 0.054, -0.037, -0.439, -0.556, -0.43, -0.664, -1.126, -0.694, -1.244, -1.154, -0.471\n",
        "  ]\n",
        "  n = len(x)\n",
        "  A1 = np.zeros((4,4))  # matriz dos coeficientes do sistema linear\n",
        "  B1 = [0., 0., 0, .0]\n",
        "  A2 = np.zeros((5,5))  # matriz dos coeficientes do sistema linear\n",
        "  B2 = [0., 0., 0, .0, 0.]\n",
        "\n",
        "  # calculando P1(x)\n",
        "  for i in range(len(x)):  \n",
        "    # linha 0\n",
        "    A1[0][0] +=1\n",
        "    A1[0][1] += x[i]\n",
        "    A1[0][2] += np.power(x[i], 2)\n",
        "    A1[0][3] += np.power(x[i], 3)\n",
        "    # linha 1\n",
        "    A1[1][1] += x[i]*x[i]\n",
        "    A1[1][2] += x[i]*np.power(x[i], 2)\n",
        "    A1[1][3] += x[i]*np.power(x[i], 3)\n",
        "    # linha 2\n",
        "    A1[2][2] += np.power(x[i], 2)*np.power(x[i], 2)\n",
        "    A1[2][3] += np.power(x[i], 2)*np.power(x[i], 3)\n",
        "    # linha 3\n",
        "    A1[3][3] += np.power(x[i], 3)*np.power(x[i], 3)\n",
        "\n",
        "    # termos independentes\n",
        "    B1[0] += f[i]\n",
        "    B1[1] += f[i]*x[i]\n",
        "    B1[2] += f[i]*np.power(x[i], 2)\n",
        "    B1[3] += f[i]*np.power(x[i], 3)\n",
        "\n",
        "  # simetria das posicoes da matriz A1\n",
        "  A1[1][0] = A1[0][1]\n",
        "  A1[2][0] = A1[0][2]\n",
        "  A1[3][0] = A1[0][3]\n",
        "  A1[2][1] = A1[1][2]\n",
        "  A1[3][1] = A1[1][3]\n",
        "  A1[3][2] = A1[2][3]\n",
        "\n",
        "  [d1, c1, b1, a1] = np.linalg.solve(A1, B1)  # encontrando a solução do sistema de equações\n",
        "  # fim do calculo de P1(x)\n",
        "\n",
        "\n",
        "  # calculo de P2(x)\n",
        "  for i in range(len(x)):\n",
        "    # linha 0\n",
        "    A2[0][0] +=1\n",
        "    A2[0][1] += x[i]\n",
        "    A2[0][2] += np.power(x[i], 2)\n",
        "    A2[0][3] += np.power(x[i], 3)\n",
        "    A2[0][4] += np.power(x[i], 4)\n",
        "    # linha 1\n",
        "    A2[1][1] += x[i]*x[i]\n",
        "    A2[1][2] += x[i]*np.power(x[i], 2)\n",
        "    A2[1][3] += x[i]*np.power(x[i], 3)\n",
        "    A2[1][4] += x[i]*np.power(x[i], 4)\n",
        "    # linha 2\n",
        "    A2[2][2] += np.power(x[i], 2)*np.power(x[i], 2)\n",
        "    A2[2][3] += np.power(x[i], 2)*np.power(x[i], 3)\n",
        "    A2[2][4] += np.power(x[i], 2)*np.power(x[i], 4)\n",
        "    # linha 3\n",
        "    A2[3][3] += np.power(x[i], 3)*np.power(x[i], 3)\n",
        "    A2[3][4] += np.power(x[i], 3)*np.power(x[i], 4)\n",
        "    # linha 4\n",
        "    A2[4][4] += np.power(x[i], 4)*np.power(x[i], 4)\n",
        "\n",
        "    # termos independentes\n",
        "    B2[0] += f[i]\n",
        "    B2[1] += f[i]*x[i]\n",
        "    B2[2] += f[i]*np.power(x[i], 2)\n",
        "    B2[3] += f[i]*np.power(x[i], 3)\n",
        "    B2[4] += f[i]*np.power(x[i], 4)\n",
        "\n",
        "  # simetria das posicoes da matriz A2\n",
        "  A2[1][0] = A2[0][1]\n",
        "  A2[2][0] = A2[0][2]\n",
        "  A2[3][0] = A2[0][3]\n",
        "  A2[4][0] = A2[0][4]\n",
        "  A2[2][1] = A2[1][2]\n",
        "  A2[3][1] = A2[1][3]\n",
        "  A2[4][1] = A2[1][4]\n",
        "  A2[3][2] = A2[2][3]\n",
        "  A2[4][2] = A2[2][4]\n",
        "  A2[4][3] = A2[3][4]\n",
        "\n",
        "  [e2, d2, c2, b2, a2] = np.linalg.solve(A2, B2)  # encontrando a solução do sistema de equações\n",
        "  # fim do calculo de P2(x)\n",
        "\n",
        "  # calculo de r^2:\n",
        "  R2_p1 = 0.; R2_p2 = 0.; R2_p3 = 0.\n",
        "  f_med = 0.\n",
        "  aux1_p1 = 0.; aux2_p1 = 0.\n",
        "  aux1_p2 = 0.; aux2_p2 = 0.\n",
        "  aux1_p3 = 0.; aux2_p3 = 0.\n",
        "\n",
        "  # calculo da media\n",
        "  for i in range(len(x)):\n",
        "    f_med += f[i]\n",
        "  f_med = f_med/n\n",
        "\n",
        "  for i in range(len(x)):\n",
        "    aux1_p1 += (P1(a1,b1,c1,d1,x[i]) - f[i])**2\n",
        "    aux1_p2 += (P2(a2,b2,c2,d2,e2,x[i]) - f[i])**2\n",
        "    aux1_p3 += (P3(P1(a1,b1,c1,d1,x[i]),P2(a2,b2,c2,d2,e2,x[i])) - f[i])**2\n",
        "    aux2_p1 += (P1(a1,b1,c1,d1,x[i]) - f_med)**2\n",
        "    aux2_p2 += (P2(a2,b2,c2,d2,e2,x[i]) - f_med)**2\n",
        "    aux2_p3 += (P3(P1(a1,b1,c1,d1,x[i]),P2(a2,b2,c2,d2,e2,x[i])) - f_med)**2\n",
        "\n",
        "  # obtedndo coeficiente R²\n",
        "  R2_p1 = 1 - aux1_p1/(aux1_p1 + aux2_p1)\n",
        "  R2_p2 = 1 - aux1_p2/(aux1_p2 + aux2_p3)\n",
        "  R2_p3 = 1 - aux1_p3/(aux1_p3 + aux2_p3)\n",
        "\n",
        "  return int(10000*R2_p1), int(10000*R2_p2), int(10000*R2_p3)\n",
        "\n",
        "questao_1C()"
      ],
      "execution_count": null,
      "outputs": [
        {
          "output_type": "execute_result",
          "data": {
            "text/plain": [
              "(9086, 9102, 9098)"
            ]
          },
          "metadata": {},
          "execution_count": 18
        }
      ]
    },
    {
      "cell_type": "code",
      "metadata": {
        "colab": {
          "base_uri": "https://localhost:8080/"
        },
        "id": "ZkHL6hrnCIhN",
        "outputId": "fe2e41fd-7c92-41d5-a11a-070ff8860eb8"
      },
      "source": [
        "x = [-1.327, -1.208, -1.013, -0.948, -0.961, -0.659, -0.957, -0.605, -0.464, -0.163, -0.484, -0.188, 0.059, -0.01, 0.154, 0.447, 0.453, 0.161, 0.538, 0.645, 0.663, 0.789, 1.099, 1.273] \n",
        "f = [-1.057, -0.801, -0.046, 0.237, 0.202, 0.338, -0.101, 0.622, 0.324, 0.019, 0.461, 0.102, -0.184, 0.054, -0.037, -0.439, -0.556, -0.43, -0.664, -1.126, -0.694, -1.244, -1.154, -0.471]\n",
        "\n",
        "print(f[23])"
      ],
      "execution_count": null,
      "outputs": [
        {
          "output_type": "stream",
          "name": "stdout",
          "text": [
            "-0.471\n"
          ]
        }
      ]
    },
    {
      "cell_type": "code",
      "metadata": {
        "colab": {
          "base_uri": "https://localhost:8080/"
        },
        "id": "GQcQLNRlCQ-p",
        "outputId": "d37c8373-1386-4e26-9470-2eab5e128c63"
      },
      "source": [
        "import numpy as np\n",
        "\n",
        "def questao_1B():\n",
        "  x = [-1.327, -1.208, -1.013, -0.948, -0.961, -0.659, -0.957, -0.605, -0.464, -0.163, -0.484, -0.188, 0.059, -0.01, 0.154, 0.447, 0.453, 0.161, 0.538, 0.645, 0.663, 0.789, 1.099, 1.273] \n",
        "  f = [-1.057, -0.801, -0.046, 0.237, 0.202, 0.338, -0.101, 0.622, 0.324, 0.019, 0.461, 0.102, -0.184, 0.054, -0.037, -0.439, -0.556, -0.43, -0.664, -1.126, -0.694, -1.244, -1.154, -0.471\n",
        "  ]\n",
        "  n = len(x)\n",
        "  A1 = np.zeros((5,5))  # matriz dos coeficientes do sistema linear\n",
        "  B1 = [0., 0., 0, .0, 0.]\n",
        "\n",
        "  for i in range(len(x)):\n",
        "    # linha 0\n",
        "    A1[0][0] +=1\n",
        "    A1[0][1] += x[i]\n",
        "    A1[0][2] += np.power(x[i], 2)\n",
        "    A1[0][3] += np.power(x[i], 3)\n",
        "    A1[0][4] += np.power(x[i], 4)\n",
        "    # linha 1\n",
        "    A1[1][1] += x[i]*x[i]\n",
        "    A1[1][2] += x[i]*np.power(x[i], 2)\n",
        "    A1[1][3] += x[i]*np.power(x[i], 3)\n",
        "    A1[1][4] += x[i]*np.power(x[i], 4)\n",
        "    # linha 2\n",
        "    A1[2][2] += np.power(x[i], 2)*np.power(x[i], 2)\n",
        "    A1[2][3] += np.power(x[i], 2)*np.power(x[i], 3)\n",
        "    A1[2][4] += np.power(x[i], 2)*np.power(x[i], 4)\n",
        "    # linha 3\n",
        "    A1[3][3] += np.power(x[i], 3)*np.power(x[i], 3)\n",
        "    A1[3][4] += np.power(x[i], 3)*np.power(x[i], 4)\n",
        "    # linha 4\n",
        "    A1[4][4] += np.power(x[i], 4)*np.power(x[i], 4)\n",
        "\n",
        "    # termos independentes\n",
        "    B1[0] += f[i]\n",
        "    B1[1] += f[i]*x[i]\n",
        "    B1[2] += f[i]*np.power(x[i], 2)\n",
        "    B1[3] += f[i]*np.power(x[i], 3)\n",
        "    B1[4] += f[i]*np.power(x[i], 4)\n",
        "\n",
        "  # simetria das posicoes da matriz A1\n",
        "  A1[1][0] = A1[0][1]\n",
        "  A1[2][0] = A1[0][2]\n",
        "  A1[3][0] = A1[0][3]\n",
        "  A1[4][0] = A1[0][4]\n",
        "  A1[2][1] = A1[1][2]\n",
        "  A1[3][1] = A1[1][3]\n",
        "  A1[4][1] = A1[1][4]\n",
        "  A1[3][2] = A1[2][3]\n",
        "  A1[4][2] = A1[2][4]\n",
        "  A1[4][3] = A1[3][4]\n",
        "\n",
        "  [e1, d1, c1, b1, a1] = np.linalg.solve(A1, B1)  # encontrando a solução do sistema de equações\n",
        "\n",
        "  # saida desejada pelo questão\n",
        "  return [e1, d1, c1, b1, a1]\n",
        "  # fim do código da questao\n",
        "\n",
        "def P2(a,b,c,d,e,x):\n",
        "    return a*np.power(x,4) + b*np.power(x,3) + c*np.power(x,2) + d*x + e\n",
        "\n",
        "#chamada da funcao\n",
        "[e1, d1, c1, b1, a1] = questao_1B()\n",
        "P2(a1,b1,c1,d1,e1,1.273)\n"
      ],
      "execution_count": null,
      "outputs": [
        {
          "output_type": "execute_result",
          "data": {
            "text/plain": [
              "-0.6366526752013255"
            ]
          },
          "metadata": {},
          "execution_count": 21
        }
      ]
    }
  ]
}