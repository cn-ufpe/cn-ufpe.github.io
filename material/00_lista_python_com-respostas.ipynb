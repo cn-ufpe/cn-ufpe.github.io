{
  "nbformat": 4,
  "nbformat_minor": 0,
  "metadata": {
    "colab": {
      "name": "ListaDeExerciciosPython.ipynb",
      "provenance": []
    },
    "kernelspec": {
      "name": "python3",
      "display_name": "Python 3"
    },
    "language_info": {
      "name": "python"
    }
  },
  "cells": [
    {
      "cell_type": "markdown",
      "metadata": {
        "id": "gFitGsYSMo7c"
      },
      "source": [
        "#Lista De Exercícios"
      ]
    },
    {
      "cell_type": "markdown",
      "metadata": {
        "id": "cwIH_FaDSxiK"
      },
      "source": [
        "## Estrutura Sequencial"
      ]
    },
    {
      "cell_type": "markdown",
      "metadata": {
        "id": "THY_EigpTyxX"
      },
      "source": [
        "###Teoria"
      ]
    },
    {
      "cell_type": "markdown",
      "metadata": {
        "id": "lXbQma52TheC"
      },
      "source": [
        "####Pode-se usar o comando print(\"Mensagem Aqui\") para exibir uma mensagem na tela"
      ]
    },
    {
      "cell_type": "code",
      "metadata": {
        "colab": {
          "base_uri": "https://localhost:8080/"
        },
        "id": "mcPIcrsqTpD0",
        "outputId": "fb6e29b7-ed2d-48d2-e5ca-1f98987739a1"
      },
      "source": [
        "print(\"Olá, Lucas\")"
      ],
      "execution_count": null,
      "outputs": [
        {
          "output_type": "stream",
          "text": [
            "Olá, Lucas\n"
          ],
          "name": "stdout"
        }
      ]
    },
    {
      "cell_type": "markdown",
      "metadata": {
        "id": "Dk1rTfovUOYV"
      },
      "source": [
        "####O comando input serve para receber uma entrada do teclado e pode ser usado para receber uma sequência de caracteres (String), número inteiro e número de ponto flutuante"
      ]
    },
    {
      "cell_type": "code",
      "metadata": {
        "colab": {
          "base_uri": "https://localhost:8080/"
        },
        "id": "3EJDKdAXV9OC",
        "outputId": "3451719d-580b-4516-86db-e3a8ca14233b"
      },
      "source": [
        "nome =  input(\"Entre com seu nome: \")\n",
        "print(\"O nome informado foi:\", nome)"
      ],
      "execution_count": null,
      "outputs": [
        {
          "output_type": "stream",
          "text": [
            "Entre com seu nome: 56\n",
            "O nome informado foi: 56\n"
          ],
          "name": "stdout"
        }
      ]
    },
    {
      "cell_type": "code",
      "metadata": {
        "colab": {
          "base_uri": "https://localhost:8080/"
        },
        "id": "6zgu2NwWUauH",
        "outputId": "95e8d6d2-6c9a-4936-b2fc-f4957839a25e"
      },
      "source": [
        "n1 = int(input())\n",
        "print(\"Você digitou: \", n1)"
      ],
      "execution_count": null,
      "outputs": [
        {
          "output_type": "stream",
          "text": [
            "5\n",
            "Você digitou:  5\n"
          ],
          "name": "stdout"
        }
      ]
    },
    {
      "cell_type": "code",
      "metadata": {
        "colab": {
          "base_uri": "https://localhost:8080/"
        },
        "id": "F-Ad9iKhWM_c",
        "outputId": "31780edb-70d6-441e-c7a5-297cac5d18f2"
      },
      "source": [
        "n2 = float(input())\n",
        "print(\"Você \" + str(n2) + \" digitou: \")"
      ],
      "execution_count": null,
      "outputs": [
        {
          "output_type": "stream",
          "text": [
            "4.6\n",
            "Você 4.6 digitou: \n"
          ],
          "name": "stdout"
        }
      ]
    },
    {
      "cell_type": "markdown",
      "metadata": {
        "id": "TK5mXWpTWna2"
      },
      "source": [
        "####Operações aritméticas"
      ]
    },
    {
      "cell_type": "code",
      "metadata": {
        "colab": {
          "base_uri": "https://localhost:8080/"
        },
        "id": "iq2aHordW1xc",
        "outputId": "7e14f17e-e5ee-4de4-94fe-59f372f4e738"
      },
      "source": [
        "resultado = n1 + n2\n",
        "print(resultado)"
      ],
      "execution_count": null,
      "outputs": [
        {
          "output_type": "stream",
          "text": [
            "9.6\n"
          ],
          "name": "stdout"
        }
      ]
    },
    {
      "cell_type": "code",
      "metadata": {
        "colab": {
          "base_uri": "https://localhost:8080/"
        },
        "id": "t3ie6IADW-w2",
        "outputId": "dfbbcf3d-188a-44bd-c458-732160a9d693"
      },
      "source": [
        "resultado = n1 - n2\n",
        "# 3 maneiras diferentes de exibir o print\n",
        "print(resultado)\n",
        "print(f'{resultado:.2f}')\n",
        "print(\"%.2f\" % resultado)"
      ],
      "execution_count": null,
      "outputs": [
        {
          "output_type": "stream",
          "text": [
            "0.40000000000000036\n",
            "0.40\n",
            "0.40\n"
          ],
          "name": "stdout"
        }
      ]
    },
    {
      "cell_type": "code",
      "metadata": {
        "colab": {
          "base_uri": "https://localhost:8080/"
        },
        "id": "zwxVgf9QXCaD",
        "outputId": "fb2ae4f3-74c6-4610-d967-09f0c380962f"
      },
      "source": [
        "resultado = n1 * n2\n",
        "print(\"Multiplicação: \", resultado)\n",
        "resultado = n1 ** n2\n",
        "print(\"Potência: \", resultado)"
      ],
      "execution_count": null,
      "outputs": [
        {
          "output_type": "stream",
          "text": [
            "Multiplicação:  23.0\n",
            "Potência:  1641.5798777523537\n"
          ],
          "name": "stdout"
        }
      ]
    },
    {
      "cell_type": "code",
      "metadata": {
        "colab": {
          "base_uri": "https://localhost:8080/"
        },
        "id": "-4Bv69ofXdLA",
        "outputId": "c6ee32f0-1d4c-4d21-aa93-fbd68840ed63"
      },
      "source": [
        "#Para raiz de um número podemos usar a biblioteca math\n",
        "import math\n",
        "resultado = math.sqrt(2)\n",
        "print(resultado)"
      ],
      "execution_count": null,
      "outputs": [
        {
          "output_type": "stream",
          "text": [
            "1.4142135623730951\n"
          ],
          "name": "stdout"
        }
      ]
    },
    {
      "cell_type": "markdown",
      "metadata": {
        "id": "2r16NRU5T4H4"
      },
      "source": [
        "###Prática"
      ]
    },
    {
      "cell_type": "markdown",
      "metadata": {
        "id": "a4JamJbpS2V7"
      },
      "source": [
        "#####Q1. Faça um Programa que mostre a mensagem \"Olá mundo\" na tela."
      ]
    },
    {
      "cell_type": "code",
      "metadata": {
        "colab": {
          "base_uri": "https://localhost:8080/"
        },
        "id": "SsedtAhNSu7B",
        "outputId": "af220305-bd56-4020-c90e-24a51733ea47"
      },
      "source": [
        "print(\"Olá mundo\")"
      ],
      "execution_count": null,
      "outputs": [
        {
          "output_type": "stream",
          "text": [
            "Olá mundo\n"
          ],
          "name": "stdout"
        }
      ]
    },
    {
      "cell_type": "markdown",
      "metadata": {
        "id": "OheruuH_S545"
      },
      "source": [
        "##### Q2. Faça um Programa que peça um número e então mostre a mensagem O número informado foi [número]."
      ]
    },
    {
      "cell_type": "code",
      "metadata": {
        "id": "o-B7RrunTAbo",
        "colab": {
          "base_uri": "https://localhost:8080/"
        },
        "outputId": "a4cc704a-36a3-4e05-abd1-f81d9df0d08a"
      },
      "source": [
        "num = int(input(\"digite um número: \"))\n",
        "print(\"O número informado foi: \", num)"
      ],
      "execution_count": null,
      "outputs": [
        {
          "output_type": "stream",
          "text": [
            "digite um número: 78\n",
            "O número informado foi:  78\n"
          ],
          "name": "stdout"
        }
      ]
    },
    {
      "cell_type": "markdown",
      "metadata": {
        "id": "7z3YH1cXTA77"
      },
      "source": [
        "##### Q3. Faça um Programa que peça o NOME, IDADE, PESO e ALTURA de uma pessoa então mostre a mensagem \"NOME tem IDADE anos, tendo massa corporal: PESO e altura: ALTURA\"."
      ]
    },
    {
      "cell_type": "code",
      "metadata": {
        "id": "gQXTaH_6TFyI",
        "colab": {
          "base_uri": "https://localhost:8080/"
        },
        "outputId": "f5ef58c8-6017-41bf-9af9-1474e4d9d9c6"
      },
      "source": [
        "nome = input(\"Informe o nome: \")\n",
        "idade = int(input(\"Informe o idade: \"))\n",
        "peso = float(input(\"Informe o peso: \"))\n",
        "altura = float(input(\"Informe o altura: \"))"
      ],
      "execution_count": null,
      "outputs": [
        {
          "output_type": "stream",
          "text": [
            "Informe o nome: Lucas\n",
            "Informe o idade: 25\n",
            "Informe o peso: 64\n",
            "Informe o altura: 1.69\n"
          ],
          "name": "stdout"
        }
      ]
    },
    {
      "cell_type": "code",
      "metadata": {
        "colab": {
          "base_uri": "https://localhost:8080/"
        },
        "id": "Ib7h_aDOjEh2",
        "outputId": "9df5d4ba-592e-49ff-c46c-a9a2bfc5ac50"
      },
      "source": [
        "# 4 maneiras diferentes de exibir o print, escolha a sua, qual é mais fácil???\n",
        "print(nome, \"tem\", idade, \"anos, tendo massa corporal:\", peso, \"Kg e altura:\", altura, \"m\")\n",
        "print(f'{nome} tem {idade} anos, tendo massa corporal: {peso} Kg e altura: {altura} m')\n",
        "print(nome + \" tem \" + str(idade) + \" anos, tendo massa corporal: \" + str(peso), \"Kg e altura: \" + str(altura), \"m\")\n",
        "print(\"{} tem {} anos, tendo massa corporal: {} Kg e altura: {} m\" .format(nome, idade, peso, altura))"
      ],
      "execution_count": null,
      "outputs": [
        {
          "output_type": "stream",
          "text": [
            "Lucas tem 25 anos, tendo massa corporal: 64.0 Kg e altura: 1.69 m\n",
            "Lucas tem 25 anos, tendo massa corporal: 64.0 Kg e altura: 1.69 m\n",
            "Lucas tem 25 anos, tendo massa corporal: 64.0 Kg e altura: 1.69 m\n",
            "Lucas tem 25 anos, tendo massa corporal: 64.0 Kg e altura: 1.69 m\n"
          ],
          "name": "stdout"
        }
      ]
    },
    {
      "cell_type": "markdown",
      "metadata": {
        "id": "MQ6IceueTTls"
      },
      "source": [
        "#####Q4. Faça um Programa que peça as 4 notas bimestrais e mostre a média."
      ]
    },
    {
      "cell_type": "code",
      "metadata": {
        "id": "S7_2qBGbTUzQ",
        "colab": {
          "base_uri": "https://localhost:8080/"
        },
        "outputId": "1e5f38a5-ecd8-4616-f0c4-96d9ed6d901c"
      },
      "source": [
        "n1 = float(input(\"nota 1: \"))\n",
        "n2 = float(input(\"nota 2: \"))\n",
        "n3 = float(input(\"nota 3: \"))\n",
        "n4 = float(input(\"nota 4: \"))"
      ],
      "execution_count": null,
      "outputs": [
        {
          "output_type": "stream",
          "text": [
            "nota 1: 9\n",
            "nota 2: 7\n",
            "nota 3: 5\n",
            "nota 4: 0\n"
          ],
          "name": "stdout"
        }
      ]
    },
    {
      "cell_type": "code",
      "metadata": {
        "colab": {
          "base_uri": "https://localhost:8080/"
        },
        "id": "c0WeqU5okYj_",
        "outputId": "a61f8014-84c5-4282-e714-46dc472c3ca8"
      },
      "source": [
        "media = (n1 + n2 + n3 + n4) / 4\n",
        "print(media)"
      ],
      "execution_count": null,
      "outputs": [
        {
          "output_type": "stream",
          "text": [
            "5.25\n"
          ],
          "name": "stdout"
        }
      ]
    },
    {
      "cell_type": "markdown",
      "metadata": {
        "id": "Sju9RSzPYDE4"
      },
      "source": [
        "#####Q5. Faça um Programa que peça a temperatura em graus Fahrenheit, transforme e mostre a temperatura em graus Celsius. C = 5 * ((F-32) / 9)."
      ]
    },
    {
      "cell_type": "code",
      "metadata": {
        "id": "Io_q5bcRYGLE",
        "colab": {
          "base_uri": "https://localhost:8080/"
        },
        "outputId": "6b7f6ed9-91d0-43ba-b35b-1f5ea50da786"
      },
      "source": [
        "Fahrenheit = float(input(\"informe a temperatura em graus Fahrenheit: \"))\n",
        "Celsius = 5 * ((Fahrenheit-32) / 9)\n",
        "print(\"O valor de \", Fahrenheit, \"graus Fahrenheit em Celsius é: \", Celsius)"
      ],
      "execution_count": null,
      "outputs": [
        {
          "output_type": "stream",
          "text": [
            "informe a temperatura em graus Fahrenheit: 100\n",
            "O valor de  100.0 graus Fahrenheit em Celsius é:  37.77777777777778\n"
          ],
          "name": "stdout"
        }
      ]
    },
    {
      "cell_type": "markdown",
      "metadata": {
        "id": "CDG0xMC0TbVd"
      },
      "source": [
        "#####Q6 João Papo-de-Pescador, homem de bem, comprou um microcomputador para controlar o rendimento diário de seu trabalho. Toda vez que ele traz um peso de peixes maior que o estabelecido pelo regulamento de pesca do estado de São Paulo (50 quilos) deve pagar uma multa de R$ 4,00 por quilo excedente. João precisa que você faça um programa que leia a variável peso (peso de peixes) e calcule o excesso. Gravar na variável excesso a quantidade de quilos além do limite e na variável multa o valor da multa que João deverá pagar. Imprima os dados do programa com as mensagens adequadas."
      ]
    },
    {
      "cell_type": "code",
      "metadata": {
        "id": "XfwS-YX-TcsJ",
        "colab": {
          "base_uri": "https://localhost:8080/"
        },
        "outputId": "0b5893d5-94c0-47b9-dca0-e8c31603437f"
      },
      "source": [
        "# Entrada de dados\n",
        "peso = float(input()) "
      ],
      "execution_count": null,
      "outputs": [
        {
          "output_type": "stream",
          "text": [
            "52.5\n"
          ],
          "name": "stdout"
        }
      ]
    },
    {
      "cell_type": "code",
      "metadata": {
        "id": "GZ380udHmngf"
      },
      "source": [
        "# Processamento\n",
        "peso_extra = peso - 50\n",
        "valor_multa = peso_extra * 4"
      ],
      "execution_count": null,
      "outputs": []
    },
    {
      "cell_type": "code",
      "metadata": {
        "colab": {
          "base_uri": "https://localhost:8080/"
        },
        "id": "BbSF_bsLm-hx",
        "outputId": "62f85ebc-a735-4225-d0e5-f851e6d800bd"
      },
      "source": [
        "# Saída de dados\n",
        "print(\"João teve um peso extra de: \", peso_extra, \"Kg\")\n",
        "print(\"O valor pago da multa será: R$\",valor_multa)"
      ],
      "execution_count": null,
      "outputs": [
        {
          "output_type": "stream",
          "text": [
            "João teve um peso extra de:  14.0 Kg\n",
            "O valor pago da multa será: R$ 56.0\n"
          ],
          "name": "stdout"
        }
      ]
    },
    {
      "cell_type": "markdown",
      "metadata": {
        "id": "KA2_kLZ1X3gA"
      },
      "source": [
        "## Estrutura De Decisão"
      ]
    },
    {
      "cell_type": "markdown",
      "metadata": {
        "id": "JHDWWmBpYJy9"
      },
      "source": [
        "###Teoria"
      ]
    },
    {
      "cell_type": "markdown",
      "metadata": {
        "id": "fTLBbia157HM"
      },
      "source": [
        "#### Em python as estruturas de decisão ou desvios lógicos são: if, else e o else if, o último é abreviado para elif. Observe o uso dos dois pontos (:) após cada sentença. O uso de parênteses na verificação é opcional "
      ]
    },
    {
      "cell_type": "code",
      "metadata": {
        "id": "BpUJGilvX8Ik",
        "colab": {
          "base_uri": "https://localhost:8080/"
        },
        "outputId": "fa007646-1fc3-42dd-bb5a-16d8d9cd3e74"
      },
      "source": [
        "idade = 17 # Testar com um valor abaixo e acima de 18\n",
        "\n",
        "if idade < 18: # ou if (idade < 18):\n",
        "  print(\"Menor de idade: \", idade)"
      ],
      "execution_count": null,
      "outputs": [
        {
          "output_type": "stream",
          "text": [
            "Menor de idade:  17\n"
          ],
          "name": "stdout"
        }
      ]
    },
    {
      "cell_type": "code",
      "metadata": {
        "colab": {
          "base_uri": "https://localhost:8080/"
        },
        "id": "sq5AIF3R4x6G",
        "outputId": "b4d81105-3657-4307-a9c2-1c7e002c27e6"
      },
      "source": [
        "idade = 25\n",
        "\n",
        "if idade < 18:\n",
        "  print(\"Menor de idade: \", idade)\n",
        "else:\n",
        "  print(\"Maior de idade: \", idade)"
      ],
      "execution_count": null,
      "outputs": [
        {
          "output_type": "stream",
          "text": [
            "Maior de idade:  25\n"
          ],
          "name": "stdout"
        }
      ]
    },
    {
      "cell_type": "code",
      "metadata": {
        "colab": {
          "base_uri": "https://localhost:8080/"
        },
        "id": "UvI61RPl4yCl",
        "outputId": "dfe906c0-9557-4276-9f24-1d3e490e3a9b"
      },
      "source": [
        "idade = 70\n",
        "\n",
        "if idade < 18:\n",
        "  print(\"Menor de idade: \", idade)\n",
        "elif idade < 64:\n",
        "  print(\"Maior de idade: \", idade)\n",
        "else:\n",
        "  print(\"pessoa idosa: \", idade)"
      ],
      "execution_count": null,
      "outputs": [
        {
          "output_type": "stream",
          "text": [
            "pessoa idosa:  70\n"
          ],
          "name": "stdout"
        }
      ]
    },
    {
      "cell_type": "markdown",
      "metadata": {
        "id": "ORcBmkS7YMqX"
      },
      "source": [
        "###Prática"
      ]
    },
    {
      "cell_type": "markdown",
      "metadata": {
        "id": "OyRyu_1z6daY"
      },
      "source": [
        "####Q7. Faça um Programa que peça um número inteiro e determine se ele é par ou impar. Dica: utilize o operador módulo (resto da divisão)."
      ]
    },
    {
      "cell_type": "code",
      "metadata": {
        "id": "e2xlIfDQYN3d",
        "colab": {
          "base_uri": "https://localhost:8080/"
        },
        "outputId": "dac80ce3-8038-47fd-9bf4-e3ebb93b2a85"
      },
      "source": [
        "num = int(input(\"Informe um número inteiro: \"))\n",
        "if num % 2 == 0:\n",
        "  print(num, \"é par\")\n",
        "else:\n",
        "  print(num, \"é ímpar\")"
      ],
      "execution_count": null,
      "outputs": [
        {
          "output_type": "stream",
          "text": [
            "Informe um número inteiro: 5\n",
            "5 é ímpar\n"
          ],
          "name": "stdout"
        }
      ]
    },
    {
      "cell_type": "markdown",
      "metadata": {
        "id": "0jCYhkd7CYX1"
      },
      "source": [
        "###Q8. Faça um Programa que peça dois números e imprima o maior deles."
      ]
    },
    {
      "cell_type": "code",
      "metadata": {
        "colab": {
          "base_uri": "https://localhost:8080/"
        },
        "id": "y0NLXyGnCtsc",
        "outputId": "3a54b3ee-2699-4df9-ae0c-e5c375881270"
      },
      "source": [
        "num1 = int(input(\"Informe um número inteiro: \"))\n",
        "num2 = int(input(\"Informe outro número inteiro: \"))\n",
        "if num1 > num2:\n",
        "  print(num1, \"é o maior valor\")\n",
        "else:\n",
        "  print(num2, \"é o maior valor\")"
      ],
      "execution_count": null,
      "outputs": [
        {
          "output_type": "stream",
          "text": [
            "Informe um número inteiro: 5\n",
            "Informe outro número inteiro: 3\n",
            "5 é o maior valor\n"
          ],
          "name": "stdout"
        }
      ]
    },
    {
      "cell_type": "code",
      "metadata": {
        "colab": {
          "base_uri": "https://localhost:8080/"
        },
        "id": "kNM7MJ2oC9uG",
        "outputId": "84437f29-3f4b-492e-f80c-dc02fce27981"
      },
      "source": [
        "# Outra forma de resolver\n",
        "num1 = int(input(\"Informe um número inteiro: \"))\n",
        "num2 = int(input(\"Informe outro número inteiro: \"))\n",
        "if num1 > num2:\n",
        "  print(num1, \"é o maior valor\")\n",
        "elif num1 < num2:\n",
        "  print(num2, \"é o maior valor\")\n",
        "else:\n",
        "  print(\"Os números são iguais\")"
      ],
      "execution_count": null,
      "outputs": [
        {
          "output_type": "stream",
          "text": [
            "Informe um número inteiro: 8\n",
            "Informe outro número inteiro: 8\n",
            "Os números são iguais\n"
          ],
          "name": "stdout"
        }
      ]
    },
    {
      "cell_type": "markdown",
      "metadata": {
        "id": "dqx7tnysDYVv"
      },
      "source": [
        "###Q9. Faça um programa para a leitura de duas notas parciais de um aluno. O programa deve calcular a média alcançada por aluno e apresentar:\n",
        "###A mensagem \"Aprovado com Distinção\", se a média for igual a dez.\n",
        "###A mensagem \"Aprovado\", se a média alcançada for maior ou igual a sete;\n",
        "###A mensagem \"Boa sorte na final\", se a média for maior do que três;\n",
        "###A mensagem \"A disciplina foi estendida em mais um semestre com sucesso\", se a média for menor do que três;"
      ]
    },
    {
      "cell_type": "code",
      "metadata": {
        "id": "IrEJcOsYDbhF"
      },
      "source": [
        "nota1 = float(input(\"Informe a primeira nota: \"))\n",
        "nota2 = float(input(\"Informe a segunda nota: \"))\n",
        "media = (nota1 + nota2) / 2\n",
        "if media == 10:\n",
        "  print(\"Aprovado com Distinção\")\n",
        "elif media >= 7:\n",
        "  print(\"Aprovado\")\n",
        "  elif media >= 3:\n",
        "  print(\"Boa sorte na final\")\n",
        "else:\n",
        "  print(\"A disciplina foi estendida em mais um semestre com sucesso\")"
      ],
      "execution_count": null,
      "outputs": []
    },
    {
      "cell_type": "markdown",
      "metadata": {
        "id": "bhtv8e7fAhej"
      },
      "source": [
        "###Q10. Faça um programa que faça 5 perguntas para uma pessoa sobre um crime. As perguntas são: \"Telefonou para a vítima?\" \"Esteve no local do crime?\" \"Mora perto da vítima?\" \"Devia para a vítima?\" \"Já trabalhou com a vítima?\" \n",
        "###O programa deve no final emitir uma classificação sobre a participação da pessoa no crime. Se a pessoa responder positivamente a 2 questões ela deve ser classificada como \"Suspeita\", entre 3 e 4 como \"Cúmplice\" e 5 como \"Assassino\". Caso contrário, ele será classificado como \"Inocente\"."
      ]
    },
    {
      "cell_type": "code",
      "metadata": {
        "id": "7xhKAVl_Ap36"
      },
      "source": [
        "int indice_culpa = 0\n",
        "resposta = input(\"Telefonou para a vítima? (sim/não)\")\n",
        "if resposta == 'sim':\n",
        "  indice_culpa = indice_culpa + 1 \n",
        "resposta = input(\"Esteve no local do crime? (sim/não)\" )\n",
        "if resposta == 'sim':\n",
        "  indice_culpa = indice_culpa + 1 \n",
        "resposta = input(\"Mora perto da vítima? (sim/não)\")\n",
        "if resposta == 'sim':\n",
        "  indice_culpa = indice_culpa + 1 \n",
        "resposta = input(\"Devia para a vítima? (sim/não) \")\n",
        "if resposta == 'sim':\n",
        "  indice_culpa = indice_culpa + 1 \n",
        "resposta = input(\"Já trabalhou com a vítima? (sim/não) \")\n",
        "if resposta == 'sim':\n",
        "  indice_culpa = indice_culpa + 1 \n",
        "\n",
        "if indice_culpa == 2:\n",
        "  print(\"Suspeita\")\n",
        "elif indice_culpa == 3 or indice_culpa == 4:\n",
        "  print(\"Cúmplice\")\n",
        "elif indice_culpa == 5:\n",
        "  print(\"Assassino\")\n",
        "else:\n",
        "  print(\"Inocente\")\n"
      ],
      "execution_count": null,
      "outputs": []
    },
    {
      "cell_type": "markdown",
      "metadata": {
        "id": "93FaZrIPYZOz"
      },
      "source": [
        "##Funções e Procedimentos"
      ]
    },
    {
      "cell_type": "markdown",
      "metadata": {
        "id": "kRJ-P2lDnCz5"
      },
      "source": [
        "###Teoria"
      ]
    },
    {
      "cell_type": "markdown",
      "metadata": {
        "id": "PNyLojVtMaJL"
      },
      "source": [
        "####Para definir uma função, note o termo definir (def). Usamos a estrutura: \n",
        "####def nome_função(parâmetros):\n",
        "####  <código>"
      ]
    },
    {
      "cell_type": "code",
      "metadata": {
        "colab": {
          "base_uri": "https://localhost:8080/"
        },
        "id": "ICxeTHQuMIZb",
        "outputId": "396fc4d9-cf50-4e5c-8009-1cf94b9fee15"
      },
      "source": [
        "#Função para somar dois números\n",
        "def soma(n1,n2):\n",
        "  return n1+n2\n",
        "\n",
        "print(soma(1,2))"
      ],
      "execution_count": null,
      "outputs": [
        {
          "output_type": "stream",
          "text": [
            "3\n"
          ],
          "name": "stdout"
        }
      ]
    },
    {
      "cell_type": "code",
      "metadata": {
        "colab": {
          "base_uri": "https://localhost:8080/"
        },
        "id": "FsRNAB6KO183",
        "outputId": "7fd7aaba-9e56-4b46-b59a-ec8bc5e3f03c"
      },
      "source": [
        "#Função para as operações básicas\n",
        "def soma(n1,n2):\n",
        "  return n1+n2\n",
        "\n",
        "def subtracao(n1,n2):\n",
        "  return n1-n2\n",
        "\n",
        "def multiplicacao(n1,n2):\n",
        "  return n1*n2\n",
        "\n",
        "def divisao(n1,n2):\n",
        "  return n1/n2\n",
        "\n",
        "print(soma(5,2))\n",
        "print(subtracao(5,2))\n",
        "print(multiplicacao(5,2))\n",
        "print(divisao(5,2))"
      ],
      "execution_count": null,
      "outputs": [
        {
          "output_type": "stream",
          "text": [
            "7\n",
            "3\n",
            "10\n",
            "2.5\n"
          ],
          "name": "stdout"
        }
      ]
    },
    {
      "cell_type": "code",
      "metadata": {
        "colab": {
          "base_uri": "https://localhost:8080/"
        },
        "id": "2UQW-pVAM3x4",
        "outputId": "d9ed5477-ea8a-4254-c9fd-915c1a98dadd"
      },
      "source": [
        "#Procedimento para dizer se um número é par ou ímpar (Questão 7)\n",
        "def imparPar(num):\n",
        "  if num % 2 == 0:\n",
        "    print(num, \"é par\")\n",
        "  else:\n",
        "    print(num, \"é ímpar\")\n",
        "\n",
        "imparPar(5)"
      ],
      "execution_count": null,
      "outputs": [
        {
          "output_type": "stream",
          "text": [
            "5 é ímpar\n"
          ],
          "name": "stdout"
        }
      ]
    },
    {
      "cell_type": "code",
      "metadata": {
        "colab": {
          "base_uri": "https://localhost:8080/"
        },
        "id": "1PMnpWx-Oi4W",
        "outputId": "713d9587-e442-4531-dc32-b831fcafd0ab"
      },
      "source": [
        "#Procedimento para exibir o maior dentre dois números (Questão 8)\n",
        "def maior (num1,num2):\n",
        "  if num1 > num2:\n",
        "    print(num1, \"é o maior valor\")\n",
        "  elif num1 < num2:\n",
        "    print(num2, \"é o maior valor\")\n",
        "  else:\n",
        "    print(\"Os números são iguais\")\n",
        "\n",
        "maior(5,8)"
      ],
      "execution_count": null,
      "outputs": [
        {
          "output_type": "stream",
          "text": [
            "8 é o maior valor\n"
          ],
          "name": "stdout"
        }
      ]
    },
    {
      "cell_type": "code",
      "metadata": {
        "colab": {
          "base_uri": "https://localhost:8080/"
        },
        "id": "MTZed7uKMBcf",
        "outputId": "294bba59-8092-4126-ea3a-0b18c81ee718"
      },
      "source": [
        "#Função que retorna uma String indicando a maioridade de uma pessoa\n",
        "def classificarIdade(idade, nome):\n",
        "  if idade >= 18 and idade < 64:\n",
        "    return f'{nome} é maior de idade: {idade}'\n",
        "  elif idade >= 65:\n",
        "    return f'{nome} é pessoa idosa: {idade}'\n",
        "  else:\n",
        "    return f'{nome} é menor de idade: {idade}'\n",
        "\n",
        "print(classificarIdade(25, \"Lucas\"))"
      ],
      "execution_count": null,
      "outputs": [
        {
          "output_type": "stream",
          "text": [
            "Lucas é maior de idade: 25\n"
          ],
          "name": "stdout"
        }
      ]
    },
    {
      "cell_type": "markdown",
      "metadata": {
        "id": "xHCUaqRnnE5n"
      },
      "source": [
        "###Prática"
      ]
    },
    {
      "cell_type": "markdown",
      "metadata": {
        "id": "OPz7EtlwOXiT"
      },
      "source": [
        "####Q11. Faça um programa, com uma função que necessite de três argumentos, e que forneça a soma desses três argumentos."
      ]
    },
    {
      "cell_type": "code",
      "metadata": {
        "id": "idyd7w40nBy1",
        "colab": {
          "base_uri": "https://localhost:8080/"
        },
        "outputId": "98484ea0-09ec-4a68-9e61-f1795850cb97"
      },
      "source": [
        "def soma3num(n1,n2,n3):\n",
        "  return n1+n2+n3\n",
        "\n",
        "soma3num(4,2,7)"
      ],
      "execution_count": null,
      "outputs": [
        {
          "output_type": "execute_result",
          "data": {
            "text/plain": [
              "13"
            ]
          },
          "metadata": {
            "tags": []
          },
          "execution_count": 21
        }
      ]
    },
    {
      "cell_type": "markdown",
      "metadata": {
        "id": "CAWsvxKrPb2l"
      },
      "source": [
        "####Q12. Faça duas funções que leem três números, uma devolve o maior e a outra o menor valor dentre eles."
      ]
    },
    {
      "cell_type": "code",
      "metadata": {
        "colab": {
          "base_uri": "https://localhost:8080/"
        },
        "id": "KX22T4_HPweQ",
        "outputId": "1836c144-e746-4e4c-d2fd-abf56683b846"
      },
      "source": [
        "def maior(n1,n2,n3):\n",
        "  if n1 > n2 and n1 > n3:\n",
        "    return n1\n",
        "  elif n2 > n1 and n2 > n3:\n",
        "    return n2\n",
        "  elif n3 > n1 and n3 > n2:\n",
        "    return n3\n",
        "  else:\n",
        "    return False # Caso n1 == n2 == n3\n",
        "\n",
        "def menor(n1,n2,n3):\n",
        "  if n1 < n2 and n1 < n3:\n",
        "    return n1\n",
        "  elif n2 < n1 and n2 < n3:\n",
        "    return n2\n",
        "  elif n3 < n1 and n3 < n2:\n",
        "    return n3\n",
        "  else:\n",
        "    return False # Caso n1 == n2 == n3\n",
        "\n",
        "print(maior(4,2,7))\n",
        "print(menor(4,2,7))"
      ],
      "execution_count": null,
      "outputs": [
        {
          "output_type": "stream",
          "text": [
            "7\n",
            "2\n"
          ],
          "name": "stdout"
        }
      ]
    },
    {
      "cell_type": "markdown",
      "metadata": {
        "id": "WHjwWCYLScEP"
      },
      "source": [
        "##Listas (Simples Vetores?)"
      ]
    },
    {
      "cell_type": "markdown",
      "metadata": {
        "id": "sYeVUMaySkq5"
      },
      "source": [
        "###Teoria"
      ]
    },
    {
      "cell_type": "markdown",
      "metadata": {
        "id": "chTOrSEJgq8W"
      },
      "source": [
        "Declarar Lista"
      ]
    },
    {
      "cell_type": "code",
      "metadata": {
        "colab": {
          "base_uri": "https://localhost:8080/"
        },
        "id": "p2nJcjgrSmYc",
        "outputId": "683f83f6-6734-4698-ba39-2f5edb992d2a"
      },
      "source": [
        "lista_numeros = [1, 2, 3, 4, 5, 6]\n",
        "lista_numeros"
      ],
      "execution_count": null,
      "outputs": [
        {
          "output_type": "execute_result",
          "data": {
            "text/plain": [
              "[1, 2, 3, 4, 5, 6]"
            ]
          },
          "metadata": {
            "tags": []
          },
          "execution_count": 70
        }
      ]
    },
    {
      "cell_type": "markdown",
      "metadata": {
        "id": "HBJ5FDvdhAY3"
      },
      "source": [
        "Diferente da linguagem C, listas em python podem armazenar tipos  diferentes"
      ]
    },
    {
      "cell_type": "code",
      "metadata": {
        "colab": {
          "base_uri": "https://localhost:8080/"
        },
        "id": "wnNwgUvChGcQ",
        "outputId": "18cdd843-55bb-47d6-bdd4-fa7b336845c2"
      },
      "source": [
        "lista_diversificada = [1, 4.5, True, []]\n",
        "lista_diversificada"
      ],
      "execution_count": null,
      "outputs": [
        {
          "output_type": "execute_result",
          "data": {
            "text/plain": [
              "[1, 4.5, True, []]"
            ]
          },
          "metadata": {
            "tags": []
          },
          "execution_count": 49
        }
      ]
    },
    {
      "cell_type": "markdown",
      "metadata": {
        "id": "saUTZIX9ljf3"
      },
      "source": [
        "Para acessar cada elemento, é bastante semelhante a linguagem C. Para acessar a primeira posição"
      ]
    },
    {
      "cell_type": "code",
      "metadata": {
        "colab": {
          "base_uri": "https://localhost:8080/"
        },
        "id": "G5yq-_SplmpC",
        "outputId": "55443421-a6f6-48ee-c1d6-38c9131a08b3"
      },
      "source": [
        "lista_diversificada[0]"
      ],
      "execution_count": null,
      "outputs": [
        {
          "output_type": "execute_result",
          "data": {
            "text/plain": [
              "1"
            ]
          },
          "metadata": {
            "tags": []
          },
          "execution_count": 53
        }
      ]
    },
    {
      "cell_type": "markdown",
      "metadata": {
        "id": "ima8_d2Llu4h"
      },
      "source": [
        "Segunda posição"
      ]
    },
    {
      "cell_type": "code",
      "metadata": {
        "colab": {
          "base_uri": "https://localhost:8080/"
        },
        "id": "vIcs84oRlv97",
        "outputId": "194bd200-da9b-4d03-fe8d-70a3449bfa43"
      },
      "source": [
        "lista_diversificada[1]"
      ],
      "execution_count": null,
      "outputs": [
        {
          "output_type": "execute_result",
          "data": {
            "text/plain": [
              "4.5"
            ]
          },
          "metadata": {
            "tags": []
          },
          "execution_count": 54
        }
      ]
    },
    {
      "cell_type": "markdown",
      "metadata": {
        "id": "W8GzCxThlyq9"
      },
      "source": [
        "última posição vc pode usar o tamanho do vetor menos uma unidade. O tamanho do vetor é 5, para pegar a última posição o valor do índice é 4"
      ]
    },
    {
      "cell_type": "code",
      "metadata": {
        "colab": {
          "base_uri": "https://localhost:8080/"
        },
        "id": "TFBn8NLXl3IZ",
        "outputId": "d7a1308f-1c9c-4b33-d54d-fe461a5c2e95"
      },
      "source": [
        "lista_diversificada[len(lista_diversificada) - 1]"
      ],
      "execution_count": null,
      "outputs": [
        {
          "output_type": "execute_result",
          "data": {
            "text/plain": [
              "10"
            ]
          },
          "metadata": {
            "tags": []
          },
          "execution_count": 58
        }
      ]
    },
    {
      "cell_type": "markdown",
      "metadata": {
        "id": "AyvCDVTohHzD"
      },
      "source": [
        "Para adicionar um elemento no final da lista use <nome_lista>.append(<valor_aqui>)"
      ]
    },
    {
      "cell_type": "code",
      "metadata": {
        "colab": {
          "base_uri": "https://localhost:8080/"
        },
        "id": "SNC7kKFvlT_8",
        "outputId": "146d3883-a6ef-4894-9075-c9603dabbe5d"
      },
      "source": [
        "lista_diversificada.append(10)\n",
        "lista_diversificada"
      ],
      "execution_count": null,
      "outputs": [
        {
          "output_type": "execute_result",
          "data": {
            "text/plain": [
              "[1, 4.5, True, [], 10]"
            ]
          },
          "metadata": {
            "tags": []
          },
          "execution_count": 50
        }
      ]
    },
    {
      "cell_type": "markdown",
      "metadata": {
        "id": "qo76ipW_mLTk"
      },
      "source": [
        "O método .pop() remove o último elemento retornando ele o elemento removido"
      ]
    },
    {
      "cell_type": "code",
      "metadata": {
        "colab": {
          "base_uri": "https://localhost:8080/"
        },
        "id": "DY08MV-7mVxQ",
        "outputId": "1d7823cc-9f91-4653-acf5-eef8de83b842"
      },
      "source": [
        "lista_diversificada.pop()"
      ],
      "execution_count": null,
      "outputs": [
        {
          "output_type": "execute_result",
          "data": {
            "text/plain": [
              "True"
            ]
          },
          "metadata": {
            "tags": []
          },
          "execution_count": 62
        }
      ]
    },
    {
      "cell_type": "code",
      "metadata": {
        "colab": {
          "base_uri": "https://localhost:8080/"
        },
        "id": "abOI6PwUmZjR",
        "outputId": "0576b05b-ed0d-4a04-b184-a0bb5d067409"
      },
      "source": [
        "lista_diversificada"
      ],
      "execution_count": null,
      "outputs": [
        {
          "output_type": "execute_result",
          "data": {
            "text/plain": [
              "[1, 4.5]"
            ]
          },
          "metadata": {
            "tags": []
          },
          "execution_count": 63
        }
      ]
    },
    {
      "cell_type": "markdown",
      "metadata": {
        "id": "m-8TTyUamjC7"
      },
      "source": [
        "Para inserir em alguma posição específica vc pode usar o método .insert(\"index\",\"valor_inserido\"). Observe o comando help abaixo:"
      ]
    },
    {
      "cell_type": "code",
      "metadata": {
        "colab": {
          "base_uri": "https://localhost:8080/"
        },
        "id": "WWp1pZepmpw5",
        "outputId": "40f946d3-f85b-4f1b-e62b-d3afa1a1f460"
      },
      "source": [
        "help(lista_diversificada.insert)"
      ],
      "execution_count": null,
      "outputs": [
        {
          "output_type": "stream",
          "text": [
            "Help on built-in function insert:\n",
            "\n",
            "insert(index, object, /) method of builtins.list instance\n",
            "    Insert object before index.\n",
            "\n"
          ],
          "name": "stdout"
        }
      ]
    },
    {
      "cell_type": "code",
      "metadata": {
        "id": "BpM_iekem6Gc"
      },
      "source": [
        "lista_diversificada.insert(1,\"<3\") # insere na segunda posição da lista a string \"<3\""
      ],
      "execution_count": null,
      "outputs": []
    },
    {
      "cell_type": "code",
      "metadata": {
        "colab": {
          "base_uri": "https://localhost:8080/"
        },
        "id": "IGxRkmpjnG1M",
        "outputId": "4815e9ce-34e7-4971-da8f-1cb6117c1e91"
      },
      "source": [
        "lista_diversificada"
      ],
      "execution_count": null,
      "outputs": [
        {
          "output_type": "execute_result",
          "data": {
            "text/plain": [
              "[1, '<3', 4.5]"
            ]
          },
          "metadata": {
            "tags": []
          },
          "execution_count": 68
        }
      ]
    },
    {
      "cell_type": "markdown",
      "metadata": {
        "id": "L1ZREzfnnMb-"
      },
      "source": [
        "Também é possível inserir valores e ordená-los depois"
      ]
    },
    {
      "cell_type": "code",
      "metadata": {
        "colab": {
          "base_uri": "https://localhost:8080/"
        },
        "id": "73-GWMOenP0L",
        "outputId": "67f2988c-3254-4ef1-fab3-fd9247fc6129"
      },
      "source": [
        "lista_numeros"
      ],
      "execution_count": null,
      "outputs": [
        {
          "output_type": "execute_result",
          "data": {
            "text/plain": [
              "[1, 2, 3, 4, 5, 6, 2.4635, 2.4635]"
            ]
          },
          "metadata": {
            "tags": []
          },
          "execution_count": 74
        }
      ]
    },
    {
      "cell_type": "code",
      "metadata": {
        "colab": {
          "base_uri": "https://localhost:8080/"
        },
        "id": "Xup0dJN0nVpR",
        "outputId": "b410edd7-9369-4017-a7b4-4829b0f82a2e"
      },
      "source": [
        "lista_numeros.append(2.4635) # insere no final da lista o valor 2.4635\n",
        "lista_numeros"
      ],
      "execution_count": null,
      "outputs": [
        {
          "output_type": "execute_result",
          "data": {
            "text/plain": [
              "[1, 2, 3, 4, 5, 6, 2.4635, 2.4635]"
            ]
          },
          "metadata": {
            "tags": []
          },
          "execution_count": 73
        }
      ]
    },
    {
      "cell_type": "code",
      "metadata": {
        "colab": {
          "base_uri": "https://localhost:8080/"
        },
        "id": "Wb18Ztwong2W",
        "outputId": "eb9729eb-071a-4513-980c-9d0d52f93567"
      },
      "source": [
        "lista_numeros.sort() # ordena a lista\n",
        "lista_numeros"
      ],
      "execution_count": null,
      "outputs": [
        {
          "output_type": "execute_result",
          "data": {
            "text/plain": [
              "[1, 2, 2.4635, 2.4635, 3, 4, 5, 6]"
            ]
          },
          "metadata": {
            "tags": []
          },
          "execution_count": 75
        }
      ]
    },
    {
      "cell_type": "markdown",
      "metadata": {
        "id": "fVTRaZXetJlX"
      },
      "source": [
        "Para buscar um índice na lista usa-se o método .index(\"valor_procurado\")"
      ]
    },
    {
      "cell_type": "code",
      "metadata": {
        "colab": {
          "base_uri": "https://localhost:8080/"
        },
        "id": "1Syy9m8StP4N",
        "outputId": "e7b9c282-8521-4925-9152-fa3479d2edcf"
      },
      "source": [
        "lista_numeros.index(3) #procurando o índice do valor 3"
      ],
      "execution_count": null,
      "outputs": [
        {
          "output_type": "execute_result",
          "data": {
            "text/plain": [
              "4"
            ]
          },
          "metadata": {
            "tags": []
          },
          "execution_count": 76
        }
      ]
    },
    {
      "cell_type": "code",
      "metadata": {
        "colab": {
          "base_uri": "https://localhost:8080/",
          "height": 162
        },
        "id": "0gPUAaiLtXsC",
        "outputId": "d29b2706-9d1c-4fdc-ea7b-ddf13fd5f71f"
      },
      "source": [
        "lista_numeros.index(7) #procurando o índice do valor 7\n",
        "#Observer que por não existir retorna um erro, é preciso verificar se o elemento existe na lista antes de procurar"
      ],
      "execution_count": null,
      "outputs": [
        {
          "output_type": "error",
          "ename": "ValueError",
          "evalue": "ignored",
          "traceback": [
            "\u001b[0;31m---------------------------------------------------------------------------\u001b[0m",
            "\u001b[0;31mValueError\u001b[0m                                Traceback (most recent call last)",
            "\u001b[0;32m<ipython-input-77-4a38c330f8a3>\u001b[0m in \u001b[0;36m<module>\u001b[0;34m()\u001b[0m\n\u001b[0;32m----> 1\u001b[0;31m \u001b[0mlista_numeros\u001b[0m\u001b[0;34m.\u001b[0m\u001b[0mindex\u001b[0m\u001b[0;34m(\u001b[0m\u001b[0;36m7\u001b[0m\u001b[0;34m)\u001b[0m \u001b[0;31m#procurando o índice do valor 7\u001b[0m\u001b[0;34m\u001b[0m\u001b[0;34m\u001b[0m\u001b[0m\n\u001b[0m",
            "\u001b[0;31mValueError\u001b[0m: 7 is not in list"
          ]
        }
      ]
    },
    {
      "cell_type": "code",
      "metadata": {
        "colab": {
          "base_uri": "https://localhost:8080/"
        },
        "id": "UQG7-dmLt1wO",
        "outputId": "d4ba7e24-c465-44c9-c7d1-f01e9594fb60"
      },
      "source": [
        "search_for = 7\n",
        "if search_for in lista_numeros:\n",
        "  print(lista_numeros.index(7))\n",
        "else:\n",
        "  print(\"não existe o índice\", search_for, \"na lista\")"
      ],
      "execution_count": null,
      "outputs": [
        {
          "output_type": "stream",
          "text": [
            "8\n"
          ],
          "name": "stdout"
        }
      ]
    },
    {
      "cell_type": "code",
      "metadata": {
        "colab": {
          "base_uri": "https://localhost:8080/"
        },
        "id": "woL7O3amuO8P",
        "outputId": "dab81c2c-7317-4af7-fe4c-042ca09d5fdc"
      },
      "source": [
        "lista_numeros.append(7) # insere no final da lista o 7\n",
        "lista_numeros"
      ],
      "execution_count": null,
      "outputs": [
        {
          "output_type": "execute_result",
          "data": {
            "text/plain": [
              "[1, 2, 2.4635, 2.4635, 3, 4, 5, 6, 7]"
            ]
          },
          "metadata": {
            "tags": []
          },
          "execution_count": 80
        }
      ]
    },
    {
      "cell_type": "code",
      "metadata": {
        "id": "kyPmGy6buWSf"
      },
      "source": [
        "# Agora funciona\n",
        "search_for = 7\n",
        "if search_for in lista_numeros:\n",
        "  print(lista_numeros.index(7))\n",
        "else:\n",
        "  print(\"não existe o índice\", search_for, \"na lista\")"
      ],
      "execution_count": null,
      "outputs": []
    },
    {
      "cell_type": "markdown",
      "metadata": {
        "id": "ivX-CxU2Smvw"
      },
      "source": [
        "###Prática"
      ]
    },
    {
      "cell_type": "markdown",
      "metadata": {
        "id": "m-laoIo8gu-J"
      },
      "source": [
        "####Q13. Faça um Programa que leia um vetor de 5 números inteiros e mostre-os."
      ]
    },
    {
      "cell_type": "code",
      "metadata": {
        "colab": {
          "base_uri": "https://localhost:8080/"
        },
        "id": "mb-dbeEqSoa8",
        "outputId": "5d0ee3d5-89d3-455b-9994-4645fe3312eb"
      },
      "source": [
        "lista=[]\n",
        "lista.append(int(input(\"num1:\")))\n",
        "lista.append(int(input(\"num2:\")))\n",
        "lista.append(int(input(\"num3:\")))\n",
        "lista.append(int(input(\"num4:\")))\n",
        "lista.append(int(input(\"num5:\")))\n",
        "print(lista[0],lista[1],lista[2],lista[3],lista[4])"
      ],
      "execution_count": null,
      "outputs": [
        {
          "output_type": "stream",
          "text": [
            "num1:4\n",
            "num2:5\n",
            "num3:1\n",
            "num4:3\n",
            "num5:9\n",
            "4 5 1 3 9\n"
          ],
          "name": "stdout"
        }
      ]
    },
    {
      "cell_type": "markdown",
      "metadata": {
        "id": "hrCv1IZUg33G"
      },
      "source": [
        "####Q14. Faça um Programa que leia 4 notas, mostre as notas e a média na tela."
      ]
    },
    {
      "cell_type": "code",
      "metadata": {
        "colab": {
          "base_uri": "https://localhost:8080/"
        },
        "id": "qOGKYuUGg5m1",
        "outputId": "d40a577e-7c5c-4fe4-aece-a093cea888b2"
      },
      "source": [
        "lista=[]\n",
        "lista.append(int(input(\"nota1:\")))\n",
        "lista.append(int(input(\"nota2:\")))\n",
        "lista.append(int(input(\"nota3:\")))\n",
        "lista.append(int(input(\"nota4:\")))\n",
        "media = (lista[0]+lista[1]+lista[2]+lista[3])/len(lista)\n",
        "print(lista[0],lista[1],lista[2],lista[3],media)"
      ],
      "execution_count": null,
      "outputs": [
        {
          "output_type": "stream",
          "text": [
            "nota1:5\n",
            "nota2:4\n",
            "nota3:4\n",
            "nota4:5\n",
            "5 4 4 5 4.5\n"
          ],
          "name": "stdout"
        }
      ]
    },
    {
      "cell_type": "code",
      "metadata": {
        "colab": {
          "base_uri": "https://localhost:8080/"
        },
        "id": "gsmOoV7Aww8w",
        "outputId": "eff3d590-eb15-4970-8749-bb989690d20f"
      },
      "source": [
        "lista=[]\n",
        "lista.append(int(input(\"nota1:\")))\n",
        "lista.append(int(input(\"nota2:\")))\n",
        "lista.append(int(input(\"nota3:\")))\n",
        "lista.append(int(input(\"nota4:\")))\n",
        "media = sum(lista)/len(lista) # também pode-se fazer dessa maneira\n",
        "print(lista[0],lista[1],lista[2],lista[3],media)"
      ],
      "execution_count": null,
      "outputs": [
        {
          "output_type": "stream",
          "text": [
            "nota1:5\n",
            "nota2:4\n",
            "nota3:4\n",
            "nota4:5\n",
            "5 4 4 5 4.5\n"
          ],
          "name": "stdout"
        }
      ]
    },
    {
      "cell_type": "markdown",
      "metadata": {
        "id": "aFGd8yRFYSEg"
      },
      "source": [
        "##Estrutura De Repetição"
      ]
    },
    {
      "cell_type": "markdown",
      "metadata": {
        "id": "VBdlnHPJLbK8"
      },
      "source": [
        "###Teoria"
      ]
    },
    {
      "cell_type": "markdown",
      "metadata": {
        "id": "1c7c5XMehUFm"
      },
      "source": [
        "Considere uma lista contendo idades"
      ]
    },
    {
      "cell_type": "code",
      "metadata": {
        "colab": {
          "base_uri": "https://localhost:8080/"
        },
        "id": "jxpfC9WthhHJ",
        "outputId": "454930eb-2568-4f16-bc9a-ee0e4f9dad55"
      },
      "source": [
        "idades=[17, 25, 70]\n",
        "idades"
      ],
      "execution_count": null,
      "outputs": [
        {
          "output_type": "execute_result",
          "data": {
            "text/plain": [
              "[17, 25, 70]"
            ]
          },
          "metadata": {
            "tags": []
          },
          "execution_count": 44
        }
      ]
    },
    {
      "cell_type": "markdown",
      "metadata": {
        "id": "cjdXF87whx1C"
      },
      "source": [
        "Fazer a chamada para a função classificarIdade uma-a-uma dá muito trabalho, principalmente se você adicionar um novo elemento na lista"
      ]
    },
    {
      "cell_type": "code",
      "metadata": {
        "colab": {
          "base_uri": "https://localhost:8080/"
        },
        "id": "R6WWHCAAh5Tp",
        "outputId": "4ab27d06-f69d-4ef4-80d1-003da19fd53d"
      },
      "source": [
        "print(classificarIdade(idades[0],\"Pessoa\"))\n",
        "print(classificarIdade(idades[1],\"Pessoa\"))\n",
        "print(classificarIdade(idades[2],\"Pessoa\"))\n",
        "idades.append(101) #adiciona a idade 101 no final da lista idades\n",
        "print(classificarIdade(idades[3],\"Pessoa\"))"
      ],
      "execution_count": null,
      "outputs": [
        {
          "output_type": "stream",
          "text": [
            "Pessoa é menor de idade: 17\n",
            "Pessoa é maior de idade: 25\n",
            "Pessoa é pessoa idosa: 70\n",
            "Pessoa é pessoa idosa: 101\n"
          ],
          "name": "stdout"
        }
      ]
    },
    {
      "cell_type": "markdown",
      "metadata": {
        "id": "ABvhebFHRWfn"
      },
      "source": [
        "O laço de repetição WHILE em python é bastante semelhante a linguagem C"
      ]
    },
    {
      "cell_type": "code",
      "metadata": {
        "id": "ZSyGQLxdYV0Q",
        "colab": {
          "base_uri": "https://localhost:8080/"
        },
        "outputId": "5b9c3409-66fb-402d-b051-68c2b1635b48"
      },
      "source": [
        "i = 0\n",
        "while i < len(idades):\n",
        "  print(classificarIdade(idades[i],\"Pessoa\")) #Função declarada na seção Funções e Procedimentos\n",
        "  i+=1 # equivalente i = i + 1"
      ],
      "execution_count": null,
      "outputs": [
        {
          "output_type": "stream",
          "text": [
            "Pessoa é menor de idade: 17\n",
            "Pessoa é maior de idade: 25\n",
            "Pessoa é pessoa idosa: 70\n"
          ],
          "name": "stdout"
        }
      ]
    },
    {
      "cell_type": "markdown",
      "metadata": {
        "id": "YJUI1DDQSLkO"
      },
      "source": [
        "O laço for pode ser usado para iterar todos elementos de uma lista"
      ]
    },
    {
      "cell_type": "code",
      "metadata": {
        "id": "Z3P2UQr2LvD1"
      },
      "source": [
        "for idade in idades:\n",
        "  print(classificarIdade(idade, \"Pessoa\"))"
      ],
      "execution_count": null,
      "outputs": []
    },
    {
      "cell_type": "markdown",
      "metadata": {
        "id": "QU0bFMgmSsth"
      },
      "source": [
        "Também é possível usar apena parte da lista "
      ]
    },
    {
      "cell_type": "code",
      "metadata": {
        "colab": {
          "base_uri": "https://localhost:8080/"
        },
        "id": "iEhZ0FmrSykx",
        "outputId": "50e8b2ce-eb0b-4a45-cbf3-036485cc9efe"
      },
      "source": [
        "for i in range(0,len(idades),2): # range (início, fim, passo) para o intervalo (range) começando em 0 até o tamanho da lista com passo 2 faça i receber o índice ou posição 0, 2, 4...\n",
        "  print(classificarIdade(idades[i],\"Pessoa\"))"
      ],
      "execution_count": null,
      "outputs": [
        {
          "output_type": "stream",
          "text": [
            "Pessoa é menor de idade: 17\n",
            "Pessoa é pessoa idosa: 70\n"
          ],
          "name": "stdout"
        }
      ]
    },
    {
      "cell_type": "markdown",
      "metadata": {
        "id": "FEufEUjFiQNc"
      },
      "source": [
        "Se não gostou do comando for, você pode se virar muito bem com o while, note que mudamos o incremento do passo i em 2 unidades"
      ]
    },
    {
      "cell_type": "code",
      "metadata": {
        "colab": {
          "base_uri": "https://localhost:8080/"
        },
        "id": "NWgjCkhIiT8y",
        "outputId": "3c5a6162-eaed-467a-ba2e-39a122baa93c"
      },
      "source": [
        "i = 0\n",
        "while i < len(idades):\n",
        "  print(classificarIdade(idades[i],\"Pessoa\"))\n",
        "  i+=2 # equivalente i = i + 2"
      ],
      "execution_count": null,
      "outputs": [
        {
          "output_type": "stream",
          "text": [
            "Pessoa é menor de idade: 17\n",
            "Pessoa é pessoa idosa: 70\n"
          ],
          "name": "stdout"
        }
      ]
    },
    {
      "cell_type": "markdown",
      "metadata": {
        "id": "FXvNy2U6RA1e"
      },
      "source": [
        "###Prática"
      ]
    },
    {
      "cell_type": "markdown",
      "metadata": {
        "id": "3YUL8qcdRGXP"
      },
      "source": [
        "####Q15. Faça um programa que leia 5 números e informe o maior número."
      ]
    },
    {
      "cell_type": "code",
      "metadata": {
        "colab": {
          "base_uri": "https://localhost:8080/"
        },
        "id": "o1AqZBgwRIf1",
        "outputId": "a21d7473-353c-4687-e792-04b9fcf56a54"
      },
      "source": [
        "maior=float(input())\n",
        "i=1 #começa em 1 porque um dos 5 valores já foi lido\n",
        "while i < 5: \n",
        "  num=float(input())\n",
        "  if num > maior:\n",
        "    maior = num\n",
        "  i+=1  \n",
        "print(\"O maior valor informado foi: \",maior)"
      ],
      "execution_count": null,
      "outputs": [
        {
          "output_type": "stream",
          "text": [
            "5\n",
            "4\n",
            "7\n",
            "9\n",
            "1\n",
            "O maior valor informado foi:  9.0\n"
          ],
          "name": "stdout"
        }
      ]
    },
    {
      "cell_type": "code",
      "metadata": {
        "colab": {
          "base_uri": "https://localhost:8080/"
        },
        "id": "bsph5UC-xmOq",
        "outputId": "91175ad7-a4d6-474d-c148-6b5200dd04e5"
      },
      "source": [
        "maior=float(input())\n",
        "for i in range(1,5):\n",
        "  num=float(input())\n",
        "  if num > maior:\n",
        "    maior = num\n",
        "print(\"O maior valor informado foi: \",maior)"
      ],
      "execution_count": null,
      "outputs": [
        {
          "output_type": "stream",
          "text": [
            "5\n",
            "4\n",
            "7\n",
            "9\n",
            "11\n",
            "O maior valor informado foi:  11.0\n"
          ],
          "name": "stdout"
        }
      ]
    },
    {
      "cell_type": "markdown",
      "metadata": {
        "id": "3JefWqwsRJYD"
      },
      "source": [
        "####Q16. Faça um programa que leia 5 números e informe a soma e a média dos números."
      ]
    },
    {
      "cell_type": "code",
      "metadata": {
        "colab": {
          "base_uri": "https://localhost:8080/"
        },
        "id": "N4aaCHnNRLqd",
        "outputId": "526c3a06-309d-4ea5-ea44-2bdf45510d71"
      },
      "source": [
        "soma=0\n",
        "for i in range(0,5):\n",
        "  num=float(input())\n",
        "  soma+=num\n",
        "media = soma/5\n",
        "print(\"A soma é:\", soma, \"e a média é:\", media)"
      ],
      "execution_count": null,
      "outputs": [
        {
          "output_type": "stream",
          "text": [
            "1\n",
            "1\n",
            "1\n",
            "1\n",
            "1\n",
            "A soma é: 5.0 e a média é: 1.0\n"
          ],
          "name": "stdout"
        }
      ]
    },
    {
      "cell_type": "markdown",
      "metadata": {
        "id": "JRk_TROfRN2Z"
      },
      "source": [
        "####Q17. Faça um programa que imprima na tela apenas os números ímpares entre 1 e 50."
      ]
    },
    {
      "cell_type": "code",
      "metadata": {
        "colab": {
          "base_uri": "https://localhost:8080/"
        },
        "id": "QmOPFPnwROX9",
        "outputId": "8510efef-91d5-4378-ee52-07e124212633"
      },
      "source": [
        "for i in range(1,50,2):\n",
        "  print(i)"
      ],
      "execution_count": null,
      "outputs": [
        {
          "output_type": "stream",
          "text": [
            "1\n",
            "3\n",
            "5\n",
            "7\n",
            "9\n",
            "11\n",
            "13\n",
            "15\n",
            "17\n",
            "19\n",
            "21\n",
            "23\n",
            "25\n",
            "27\n",
            "29\n",
            "31\n",
            "33\n",
            "35\n",
            "37\n",
            "39\n",
            "41\n",
            "43\n",
            "45\n",
            "47\n",
            "49\n"
          ],
          "name": "stdout"
        }
      ]
    },
    {
      "cell_type": "markdown",
      "metadata": {
        "id": "4KLshJkJVuj0"
      },
      "source": [
        "####Q18. O Sr. Manoel Joaquim possui uma grande loja de artigos de R$ 1,99, com cerca de 10 caixas. Para agilizar o cálculo de quanto cada cliente deve pagar ele desenvolveu um tabela que contém o número de itens que o cliente comprou e ao lado o valor da conta. Desta forma a atendente do caixa precisa apenas contar quantos itens o cliente está levando e olhar na tabela de preços. Você foi contratado para desenvolver o programa que monta esta tabela de preços, que conterá os preços de 1 até 50 produtos, conforme o exemplo abaixo:\n",
        "\n",
        "####Lojas Quase Dois - Tabela de preços\n",
        "#### 1 - R\\$ 1.99\n",
        "#### 2 - R\\$ 3.98\n",
        "#### ...\n",
        "#### 50 - R\\$ 99.50"
      ]
    },
    {
      "cell_type": "code",
      "metadata": {
        "colab": {
          "base_uri": "https://localhost:8080/"
        },
        "id": "jkQSY8-fV9Rf",
        "outputId": "e968bee6-7202-4866-845a-b9a01941cade"
      },
      "source": [
        "print(\"Lojas Quase Dois - Tabela de preços\")\n",
        "for i in range(1,51):\n",
        "  print(i,'- R$',1.99*i)"
      ],
      "execution_count": null,
      "outputs": [
        {
          "output_type": "stream",
          "text": [
            "Lojas Quase Dois - Tabela de preços\n",
            "1 - R$ 1.99\n",
            "2 - R$ 3.98\n",
            "3 - R$ 5.97\n",
            "4 - R$ 7.96\n",
            "5 - R$ 9.95\n",
            "6 - R$ 11.94\n",
            "7 - R$ 13.93\n",
            "8 - R$ 15.92\n",
            "9 - R$ 17.91\n",
            "10 - R$ 19.9\n",
            "11 - R$ 21.89\n",
            "12 - R$ 23.88\n",
            "13 - R$ 25.87\n",
            "14 - R$ 27.86\n",
            "15 - R$ 29.85\n",
            "16 - R$ 31.84\n",
            "17 - R$ 33.83\n",
            "18 - R$ 35.82\n",
            "19 - R$ 37.81\n",
            "20 - R$ 39.8\n",
            "21 - R$ 41.79\n",
            "22 - R$ 43.78\n",
            "23 - R$ 45.77\n",
            "24 - R$ 47.76\n",
            "25 - R$ 49.75\n",
            "26 - R$ 51.74\n",
            "27 - R$ 53.73\n",
            "28 - R$ 55.72\n",
            "29 - R$ 57.71\n",
            "30 - R$ 59.7\n",
            "31 - R$ 61.69\n",
            "32 - R$ 63.68\n",
            "33 - R$ 65.67\n",
            "34 - R$ 67.66\n",
            "35 - R$ 69.65\n",
            "36 - R$ 71.64\n",
            "37 - R$ 73.63\n",
            "38 - R$ 75.62\n",
            "39 - R$ 77.61\n",
            "40 - R$ 79.6\n",
            "41 - R$ 81.59\n",
            "42 - R$ 83.58\n",
            "43 - R$ 85.57\n",
            "44 - R$ 87.56\n",
            "45 - R$ 89.55\n",
            "46 - R$ 91.54\n",
            "47 - R$ 93.53\n",
            "48 - R$ 95.52\n",
            "49 - R$ 97.51\n",
            "50 - R$ 99.5\n"
          ],
          "name": "stdout"
        }
      ]
    },
    {
      "cell_type": "markdown",
      "metadata": {
        "id": "VjrmSclve1Vv"
      },
      "source": [
        "####Q19. O Sr. Manoel Joaquim acaba de adquirir uma panificadora e pretende implantar a metodologia da tabelinha, que já é um sucesso na sua loja de 1,99. Você foi contratado para desenvolver o programa que monta a tabela de preços de pães, de 1 até 50 pães, a partir do preço do pão informado pelo usuário, conforme o exemplo abaixo:\n",
        "\n",
        "####Preço do pão: R\\$ 0.18\n",
        "####Panificadora Pão de Ontem - Tabela de preços\n",
        "####1 - R\\$ 0.18\n",
        "####2 - R\\$ 0.36\n",
        "####...\n",
        "####50 - R\\$ 9.00"
      ]
    },
    {
      "cell_type": "code",
      "metadata": {
        "colab": {
          "base_uri": "https://localhost:8080/"
        },
        "id": "u0PU0cBCe3_T",
        "outputId": "925f5ca9-b64a-4e45-8691-03dbaad87d46"
      },
      "source": [
        "price = float(input(\"Preço do pão: R$ \"))\n",
        "print(\"Panificadora Pão de Ontem - Tabela de preços\")\n",
        "for i in range(1,51):\n",
        "  print(i,'- R$',price*i)\n",
        "# Desafio como formatar a saída para exibir apenas duas casas decimais?? Rever começo dessa aula"
      ],
      "execution_count": null,
      "outputs": [
        {
          "output_type": "stream",
          "text": [
            "Preço do pão: R$0.18\n",
            "Panificadora Pão de Ontem - Tabela de preços\n",
            "1 - R$ 0.18\n",
            "2 - R$ 0.36\n",
            "3 - R$ 0.54\n",
            "4 - R$ 0.72\n",
            "5 - R$ 0.8999999999999999\n",
            "6 - R$ 1.08\n",
            "7 - R$ 1.26\n",
            "8 - R$ 1.44\n",
            "9 - R$ 1.6199999999999999\n",
            "10 - R$ 1.7999999999999998\n",
            "11 - R$ 1.98\n",
            "12 - R$ 2.16\n",
            "13 - R$ 2.34\n",
            "14 - R$ 2.52\n",
            "15 - R$ 2.6999999999999997\n",
            "16 - R$ 2.88\n",
            "17 - R$ 3.06\n",
            "18 - R$ 3.2399999999999998\n",
            "19 - R$ 3.42\n",
            "20 - R$ 3.5999999999999996\n",
            "21 - R$ 3.78\n",
            "22 - R$ 3.96\n",
            "23 - R$ 4.14\n",
            "24 - R$ 4.32\n",
            "25 - R$ 4.5\n",
            "26 - R$ 4.68\n",
            "27 - R$ 4.859999999999999\n",
            "28 - R$ 5.04\n",
            "29 - R$ 5.22\n",
            "30 - R$ 5.3999999999999995\n",
            "31 - R$ 5.58\n",
            "32 - R$ 5.76\n",
            "33 - R$ 5.9399999999999995\n",
            "34 - R$ 6.12\n",
            "35 - R$ 6.3\n",
            "36 - R$ 6.4799999999999995\n",
            "37 - R$ 6.66\n",
            "38 - R$ 6.84\n",
            "39 - R$ 7.02\n",
            "40 - R$ 7.199999999999999\n",
            "41 - R$ 7.38\n",
            "42 - R$ 7.56\n",
            "43 - R$ 7.739999999999999\n",
            "44 - R$ 7.92\n",
            "45 - R$ 8.1\n",
            "46 - R$ 8.28\n",
            "47 - R$ 8.459999999999999\n",
            "48 - R$ 8.64\n",
            "49 - R$ 8.82\n",
            "50 - R$ 9.0\n"
          ],
          "name": "stdout"
        }
      ]
    },
    {
      "cell_type": "markdown",
      "metadata": {
        "id": "cyqQxNcrnII3"
      },
      "source": [
        "##Matrizes"
      ]
    },
    {
      "cell_type": "markdown",
      "metadata": {
        "id": "bOh9h3WPnO87"
      },
      "source": [
        "###Teoria\n"
      ]
    },
    {
      "cell_type": "markdown",
      "metadata": {
        "id": "clocsG2BWVbl"
      },
      "source": [
        "Exemplo de inicialização de uma matriz"
      ]
    },
    {
      "cell_type": "code",
      "metadata": {
        "colab": {
          "base_uri": "https://localhost:8080/"
        },
        "id": "bNmzBYahWXsr",
        "outputId": "e792cde7-2fc6-4efd-8ccc-e648866e26e2"
      },
      "source": [
        "m = [[1,2,3],[4,5,6],[7,8,9]]\n",
        "m"
      ],
      "execution_count": null,
      "outputs": [
        {
          "output_type": "execute_result",
          "data": {
            "text/plain": [
              "[[1, 2, 3], [4, 5, 6], [7, 8, 9]]"
            ]
          },
          "metadata": {
            "tags": []
          },
          "execution_count": 34
        }
      ]
    },
    {
      "cell_type": "markdown",
      "metadata": {
        "id": "hzHujjMeWbZq"
      },
      "source": [
        "Como saber a quantidade de linhas e colunas de uma matriz. len(matriz[0]) retorna a quantidade de colunas da primeira linha da matriz"
      ]
    },
    {
      "cell_type": "code",
      "metadata": {
        "id": "LvNw8_AfWfxx"
      },
      "source": [
        "qtd_linhas, qtd_colunas = (len(matriz), len(matriz[0]))\n",
        "print(qtd_linhas, qtd_colunas)"
      ],
      "execution_count": null,
      "outputs": []
    },
    {
      "cell_type": "markdown",
      "metadata": {
        "id": "F7liSDpwWws1"
      },
      "source": [
        "Para iterar uma matriz considerando para cada linha e cada coluna"
      ]
    },
    {
      "cell_type": "code",
      "metadata": {
        "colab": {
          "base_uri": "https://localhost:8080/"
        },
        "id": "xcQCNPJLW0d0",
        "outputId": "a88f0149-a1ba-4d9b-bb70-e758c01b5ad2"
      },
      "source": [
        "def lerMatriz(matriz):\n",
        "  linhas, colunas = (len(matriz), len(matriz[0]))\n",
        "  for i in range(linhas):\n",
        "    for j in range(colunas):\n",
        "      print(matriz[i][j])\n",
        "\n",
        "lerMatriz(m)"
      ],
      "execution_count": null,
      "outputs": [
        {
          "output_type": "stream",
          "text": [
            "1\n",
            "2\n",
            "3\n",
            "4\n",
            "5\n",
            "6\n",
            "7\n",
            "8\n",
            "9\n"
          ],
          "name": "stdout"
        }
      ]
    },
    {
      "cell_type": "markdown",
      "metadata": {
        "id": "8L8MWRmvW80h"
      },
      "source": [
        "Para iterar uma matriz considerando para cada COLUNA e cada LINHA"
      ]
    },
    {
      "cell_type": "code",
      "metadata": {
        "colab": {
          "base_uri": "https://localhost:8080/"
        },
        "id": "NIgOZJbWXCoG",
        "outputId": "1eec4000-4291-45e1-b42d-a062d003e2bf"
      },
      "source": [
        "def lerMatriz(matriz):\n",
        "  linhas, colunas = (len(matriz), len(matriz[0]))\n",
        "  for j in range(colunas):\n",
        "    for i in range(linhas):\n",
        "      print(matriz[i][j])\n",
        "\n",
        "lerMatriz(m)"
      ],
      "execution_count": null,
      "outputs": [
        {
          "output_type": "stream",
          "text": [
            "1\n",
            "4\n",
            "7\n",
            "2\n",
            "5\n",
            "8\n",
            "3\n",
            "6\n",
            "9\n"
          ],
          "name": "stdout"
        }
      ]
    },
    {
      "cell_type": "markdown",
      "metadata": {
        "id": "ngt1E8JJnPHa"
      },
      "source": [
        "###Prática"
      ]
    },
    {
      "cell_type": "markdown",
      "metadata": {
        "id": "wkV1TgboXMWY"
      },
      "source": [
        "####Q20. Para a matriz m do exemplo teórico desta seção, duplique os valores dela"
      ]
    },
    {
      "cell_type": "code",
      "metadata": {
        "colab": {
          "base_uri": "https://localhost:8080/"
        },
        "id": "isH34Ef2XWI1",
        "outputId": "391dfdec-600c-4c7c-f0dc-18a7875613d0"
      },
      "source": [
        "def lerMatriz(matriz):\n",
        "  linhas, colunas = (len(matriz), len(matriz[0]))\n",
        "  for i in range(linhas):\n",
        "    for j in range(colunas):\n",
        "      matriz[i][j] = matriz[i][j] * 2\n",
        "      print(matriz[i][j])\n",
        "\n",
        "lerMatriz(m)"
      ],
      "execution_count": null,
      "outputs": [
        {
          "output_type": "stream",
          "text": [
            "2\n",
            "4\n",
            "6\n",
            "8\n",
            "10\n",
            "12\n",
            "14\n",
            "16\n",
            "18\n"
          ],
          "name": "stdout"
        }
      ]
    },
    {
      "cell_type": "markdown",
      "metadata": {
        "id": "IVN_joNXXh1h"
      },
      "source": [
        "####Q21. Para a matriz m do exemplo teórico desta seção, some todos os valores da matriz"
      ]
    },
    {
      "cell_type": "code",
      "metadata": {
        "colab": {
          "base_uri": "https://localhost:8080/"
        },
        "id": "fCm82NqIXl24",
        "outputId": "fde50e38-27ae-4ed9-f9ab-9102849f4777"
      },
      "source": [
        "def lerMatriz(matriz):\n",
        "  soma = 0\n",
        "  linhas, colunas = (len(matriz), len(matriz[0]))\n",
        "  for i in range(linhas):\n",
        "    for j in range(colunas):\n",
        "      soma = soma + matriz[i][j]\n",
        "  print(soma)\n",
        "\n",
        "lerMatriz(m)"
      ],
      "execution_count": null,
      "outputs": [
        {
          "output_type": "stream",
          "text": [
            "90\n"
          ],
          "name": "stdout"
        }
      ]
    }
  ]
}