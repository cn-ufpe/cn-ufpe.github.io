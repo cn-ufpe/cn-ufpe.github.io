{
 "cells": [
  {
   "cell_type": "markdown",
   "metadata": {},
   "source": [
    "<a href=\"https://githubtocolab.com/cn-ufpe/cn-ufpe.github.io/blob/master/material/00_lista_python.ipynb\" target=\"_parent\"><img src=\"https://colab.research.google.com/assets/colab-badge.svg\" alt=\"Open in Colab\"/></a>"
   ]
  },
  {
   "cell_type": "markdown",
   "metadata": {
    "id": "gFitGsYSMo7c"
   },
   "source": [
    "# Lista De Exercícios"
   ]
  },
  {
   "cell_type": "markdown",
   "metadata": {
    "id": "cwIH_FaDSxiK"
   },
   "source": [
    "## Estrutura Sequencial"
   ]
  },
  {
   "cell_type": "markdown",
   "metadata": {
    "id": "THY_EigpTyxX"
   },
   "source": [
    "### Teoria"
   ]
  },
  {
   "cell_type": "markdown",
   "metadata": {
    "id": "lXbQma52TheC"
   },
   "source": [
    "#### Pode-se usar o comando print(\"Mensagem Aqui\") para exibir uma mensagem na tela"
   ]
  },
  {
   "cell_type": "code",
   "execution_count": 1,
   "metadata": {
    "colab": {
     "base_uri": "https://localhost:8080/"
    },
    "id": "mcPIcrsqTpD0",
    "outputId": "fb6e29b7-ed2d-48d2-e5ca-1f98987739a1"
   },
   "outputs": [
    {
     "name": "stdout",
     "output_type": "stream",
     "text": [
      "Olá, Lucas\n"
     ]
    }
   ],
   "source": [
    "print(\"Olá, Lucas\")"
   ]
  },
  {
   "cell_type": "markdown",
   "metadata": {
    "id": "Dk1rTfovUOYV"
   },
   "source": [
    "#### O comando input serve para receber uma entrada do teclado e pode ser usado para receber uma sequência de caracteres (String), número inteiro e número de ponto flutuante"
   ]
  },
  {
   "cell_type": "code",
   "execution_count": 3,
   "metadata": {
    "colab": {
     "base_uri": "https://localhost:8080/"
    },
    "id": "3EJDKdAXV9OC",
    "outputId": "3451719d-580b-4516-86db-e3a8ca14233b"
   },
   "outputs": [
    {
     "name": "stdout",
     "output_type": "stream",
     "text": [
      "Entre com seu nome: nome\n",
      "O nome informado foi: nome\n"
     ]
    }
   ],
   "source": [
    "nome =  input(\"Entre com seu nome: \")\n",
    "print(\"O nome informado foi:\", nome)"
   ]
  },
  {
   "cell_type": "code",
   "execution_count": 4,
   "metadata": {
    "colab": {
     "base_uri": "https://localhost:8080/"
    },
    "id": "6zgu2NwWUauH",
    "outputId": "95e8d6d2-6c9a-4936-b2fc-f4957839a25e"
   },
   "outputs": [
    {
     "name": "stdout",
     "output_type": "stream",
     "text": [
      "2\n",
      "Você digitou:  2\n"
     ]
    }
   ],
   "source": [
    "n1 = int(input())\n",
    "print(\"Você digitou: \", n1)"
   ]
  },
  {
   "cell_type": "code",
   "execution_count": 5,
   "metadata": {
    "colab": {
     "base_uri": "https://localhost:8080/"
    },
    "id": "F-Ad9iKhWM_c",
    "outputId": "31780edb-70d6-441e-c7a5-297cac5d18f2"
   },
   "outputs": [
    {
     "name": "stdout",
     "output_type": "stream",
     "text": [
      "123\n",
      "Você 123.0 digitou: \n"
     ]
    }
   ],
   "source": [
    "n2 = float(input())\n",
    "print(\"Você \" + str(n2) + \" digitou: \")"
   ]
  },
  {
   "cell_type": "markdown",
   "metadata": {
    "id": "TK5mXWpTWna2"
   },
   "source": [
    "#### Operações aritméticas"
   ]
  },
  {
   "cell_type": "code",
   "execution_count": null,
   "metadata": {
    "colab": {
     "base_uri": "https://localhost:8080/"
    },
    "id": "iq2aHordW1xc",
    "outputId": "7e14f17e-e5ee-4de4-94fe-59f372f4e738"
   },
   "outputs": [],
   "source": [
    "resultado = n1 + n2\n",
    "print(resultado)"
   ]
  },
  {
   "cell_type": "code",
   "execution_count": null,
   "metadata": {
    "colab": {
     "base_uri": "https://localhost:8080/"
    },
    "id": "t3ie6IADW-w2",
    "outputId": "dfbbcf3d-188a-44bd-c458-732160a9d693"
   },
   "outputs": [],
   "source": [
    "resultado = n1 - n2\n",
    "# 3 maneiras diferentes de exibir o print\n",
    "print(resultado)\n",
    "print(f'{resultado:.2f}')\n",
    "print(\"%.2f\" % resultado)"
   ]
  },
  {
   "cell_type": "code",
   "execution_count": null,
   "metadata": {
    "colab": {
     "base_uri": "https://localhost:8080/"
    },
    "id": "zwxVgf9QXCaD",
    "outputId": "fb2ae4f3-74c6-4610-d967-09f0c380962f"
   },
   "outputs": [],
   "source": [
    "resultado = n1 * n2\n",
    "print(\"Multiplicação: \", resultado)\n",
    "resultado = n1 ** n2\n",
    "print(\"Potência: \", resultado)"
   ]
  },
  {
   "cell_type": "code",
   "execution_count": null,
   "metadata": {
    "colab": {
     "base_uri": "https://localhost:8080/"
    },
    "id": "-4Bv69ofXdLA",
    "outputId": "c6ee32f0-1d4c-4d21-aa93-fbd68840ed63"
   },
   "outputs": [],
   "source": [
    "#Para raiz de um número podemos usar a biblioteca math\n",
    "import math\n",
    "resultado = math.sqrt(2)\n",
    "print(resultado)"
   ]
  },
  {
   "cell_type": "markdown",
   "metadata": {
    "id": "2r16NRU5T4H4"
   },
   "source": [
    "### Prática"
   ]
  },
  {
   "cell_type": "markdown",
   "metadata": {
    "id": "a4JamJbpS2V7"
   },
   "source": [
    "##### Q1. Faça um Programa que mostre a mensagem \"Olá mundo\" na tela."
   ]
  },
  {
   "cell_type": "code",
   "execution_count": null,
   "metadata": {
    "colab": {
     "base_uri": "https://localhost:8080/"
    },
    "id": "SsedtAhNSu7B",
    "outputId": "af220305-bd56-4020-c90e-24a51733ea47"
   },
   "outputs": [],
   "source": []
  },
  {
   "cell_type": "markdown",
   "metadata": {
    "id": "OheruuH_S545"
   },
   "source": [
    "##### Q2. Faça um Programa que peça um número e então mostre a mensagem O número informado foi [número]."
   ]
  },
  {
   "cell_type": "code",
   "execution_count": null,
   "metadata": {
    "colab": {
     "base_uri": "https://localhost:8080/"
    },
    "id": "o-B7RrunTAbo",
    "outputId": "a4cc704a-36a3-4e05-abd1-f81d9df0d08a"
   },
   "outputs": [],
   "source": []
  },
  {
   "cell_type": "markdown",
   "metadata": {
    "id": "7z3YH1cXTA77"
   },
   "source": [
    "##### Q3. Faça um Programa que peça o NOME, IDADE, PESO e ALTURA de uma pessoa então mostre a mensagem \"NOME tem IDADE anos, tendo massa corporal: PESO e altura: ALTURA\"."
   ]
  },
  {
   "cell_type": "code",
   "execution_count": null,
   "metadata": {
    "colab": {
     "base_uri": "https://localhost:8080/"
    },
    "id": "gQXTaH_6TFyI",
    "outputId": "f5ef58c8-6017-41bf-9af9-1474e4d9d9c6"
   },
   "outputs": [],
   "source": []
  },
  {
   "cell_type": "code",
   "execution_count": null,
   "metadata": {
    "colab": {
     "base_uri": "https://localhost:8080/"
    },
    "id": "Ib7h_aDOjEh2",
    "outputId": "9df5d4ba-592e-49ff-c46c-a9a2bfc5ac50"
   },
   "outputs": [],
   "source": [
    "# 4 maneiras diferentes de exibir o print, escolha a sua, qual é mais fácil???\n",
    "print(nome, \"tem\", idade, \"anos, tendo massa corporal:\", peso, \"Kg e altura:\", altura, \"m\")\n",
    "print(f'{nome} tem {idade} anos, tendo massa corporal: {peso} Kg e altura: {altura} m')\n",
    "print(nome + \" tem \" + str(idade) + \" anos, tendo massa corporal: \" + str(peso), \"Kg e altura: \" + str(altura), \"m\")\n",
    "print(\"{} tem {} anos, tendo massa corporal: {} Kg e altura: {} m\" .format(nome, idade, peso, altura))"
   ]
  },
  {
   "cell_type": "markdown",
   "metadata": {
    "id": "MQ6IceueTTls"
   },
   "source": [
    "##### Q4. Faça um Programa que peça as 4 notas bimestrais e mostre a média."
   ]
  },
  {
   "cell_type": "code",
   "execution_count": null,
   "metadata": {
    "colab": {
     "base_uri": "https://localhost:8080/"
    },
    "id": "S7_2qBGbTUzQ",
    "outputId": "1e5f38a5-ecd8-4616-f0c4-96d9ed6d901c"
   },
   "outputs": [],
   "source": []
  },
  {
   "cell_type": "code",
   "execution_count": null,
   "metadata": {
    "colab": {
     "base_uri": "https://localhost:8080/"
    },
    "id": "c0WeqU5okYj_",
    "outputId": "a61f8014-84c5-4282-e714-46dc472c3ca8"
   },
   "outputs": [],
   "source": []
  },
  {
   "cell_type": "markdown",
   "metadata": {
    "id": "Sju9RSzPYDE4"
   },
   "source": [
    "##### Q5. Faça um Programa que peça a temperatura em graus Fahrenheit, transforme e mostre a temperatura em graus Celsius. C = 5 * ((F-32) / 9)."
   ]
  },
  {
   "cell_type": "code",
   "execution_count": null,
   "metadata": {
    "colab": {
     "base_uri": "https://localhost:8080/"
    },
    "id": "Io_q5bcRYGLE",
    "outputId": "6b7f6ed9-91d0-43ba-b35b-1f5ea50da786"
   },
   "outputs": [],
   "source": []
  },
  {
   "cell_type": "markdown",
   "metadata": {
    "id": "CDG0xMC0TbVd"
   },
   "source": [
    "##### Q6 João Papo-de-Pescador, homem de bem, comprou um microcomputador para controlar o rendimento diário de seu trabalho. Toda vez que ele traz um peso de peixes maior que o estabelecido pelo regulamento de pesca do estado de São Paulo (50 quilos) deve pagar uma multa de R$ 4,00 por quilo excedente. João precisa que você faça um programa que leia a variável peso (peso de peixes) e calcule o excesso. Gravar na variável excesso a quantidade de quilos além do limite e na variável multa o valor da multa que João deverá pagar. Imprima os dados do programa com as mensagens adequadas."
   ]
  },
  {
   "cell_type": "code",
   "execution_count": null,
   "metadata": {
    "colab": {
     "base_uri": "https://localhost:8080/"
    },
    "id": "XfwS-YX-TcsJ",
    "outputId": "0b5893d5-94c0-47b9-dca0-e8c31603437f"
   },
   "outputs": [],
   "source": [
    "# Entrada de dados\n"
   ]
  },
  {
   "cell_type": "code",
   "execution_count": null,
   "metadata": {
    "id": "GZ380udHmngf"
   },
   "outputs": [],
   "source": [
    "# Processamento\n"
   ]
  },
  {
   "cell_type": "code",
   "execution_count": null,
   "metadata": {
    "colab": {
     "base_uri": "https://localhost:8080/"
    },
    "id": "BbSF_bsLm-hx",
    "outputId": "62f85ebc-a735-4225-d0e5-f851e6d800bd"
   },
   "outputs": [],
   "source": [
    "# Saída de dados\n"
   ]
  },
  {
   "cell_type": "markdown",
   "metadata": {
    "id": "KA2_kLZ1X3gA"
   },
   "source": [
    "## Estrutura De Decisão"
   ]
  },
  {
   "cell_type": "markdown",
   "metadata": {
    "id": "JHDWWmBpYJy9"
   },
   "source": [
    "### Teoria"
   ]
  },
  {
   "cell_type": "markdown",
   "metadata": {
    "id": "fTLBbia157HM"
   },
   "source": [
    "#### Em python as estruturas de decisão ou desvios lógicos são: if, else e o else if, o último é abreviado para elif. Observe o uso dos dois pontos (:) após cada sentença. O uso de parênteses na verificação é opcional "
   ]
  },
  {
   "cell_type": "code",
   "execution_count": null,
   "metadata": {
    "colab": {
     "base_uri": "https://localhost:8080/"
    },
    "id": "BpUJGilvX8Ik",
    "outputId": "fa007646-1fc3-42dd-bb5a-16d8d9cd3e74"
   },
   "outputs": [],
   "source": [
    "idade = 17 # Testar com um valor abaixo e acima de 18\n",
    "\n",
    "if idade < 18: # ou if (idade < 18):\n",
    "  print(\"Menor de idade: \", idade)"
   ]
  },
  {
   "cell_type": "code",
   "execution_count": null,
   "metadata": {
    "colab": {
     "base_uri": "https://localhost:8080/"
    },
    "id": "sq5AIF3R4x6G",
    "outputId": "b4d81105-3657-4307-a9c2-1c7e002c27e6"
   },
   "outputs": [],
   "source": [
    "idade = 25\n",
    "\n",
    "if idade < 18:\n",
    "  print(\"Menor de idade: \", idade)\n",
    "else:\n",
    "  print(\"Maior de idade: \", idade)"
   ]
  },
  {
   "cell_type": "code",
   "execution_count": null,
   "metadata": {
    "colab": {
     "base_uri": "https://localhost:8080/"
    },
    "id": "UvI61RPl4yCl",
    "outputId": "dfe906c0-9557-4276-9f24-1d3e490e3a9b"
   },
   "outputs": [],
   "source": [
    "idade = 70\n",
    "\n",
    "if idade < 18:\n",
    "  print(\"Menor de idade: \", idade)\n",
    "elif idade < 64:\n",
    "  print(\"Maior de idade: \", idade)\n",
    "else:\n",
    "  print(\"pessoa idosa: \", idade)"
   ]
  },
  {
   "cell_type": "markdown",
   "metadata": {
    "id": "ORcBmkS7YMqX"
   },
   "source": [
    "### Prática"
   ]
  },
  {
   "cell_type": "markdown",
   "metadata": {
    "id": "OyRyu_1z6daY"
   },
   "source": [
    "#### Q7. Faça um Programa que peça um número inteiro e determine se ele é par ou impar. Dica: utilize o operador módulo (resto da divisão)."
   ]
  },
  {
   "cell_type": "code",
   "execution_count": null,
   "metadata": {
    "colab": {
     "base_uri": "https://localhost:8080/"
    },
    "id": "e2xlIfDQYN3d",
    "outputId": "dac80ce3-8038-47fd-9bf4-e3ebb93b2a85"
   },
   "outputs": [],
   "source": []
  },
  {
   "cell_type": "markdown",
   "metadata": {
    "id": "0jCYhkd7CYX1"
   },
   "source": [
    "### Q8. Faça um Programa que peça dois números e imprima o maior deles."
   ]
  },
  {
   "cell_type": "code",
   "execution_count": null,
   "metadata": {
    "colab": {
     "base_uri": "https://localhost:8080/"
    },
    "id": "y0NLXyGnCtsc",
    "outputId": "3a54b3ee-2699-4df9-ae0c-e5c375881270"
   },
   "outputs": [],
   "source": []
  },
  {
   "cell_type": "code",
   "execution_count": null,
   "metadata": {
    "colab": {
     "base_uri": "https://localhost:8080/"
    },
    "id": "kNM7MJ2oC9uG",
    "outputId": "84437f29-3f4b-492e-f80c-dc02fce27981"
   },
   "outputs": [],
   "source": []
  },
  {
   "cell_type": "markdown",
   "metadata": {
    "id": "dqx7tnysDYVv"
   },
   "source": [
    "### Q9. Faça um programa para a leitura de duas notas parciais de um aluno. O programa deve calcular a média alcançada por aluno e apresentar:\n",
    "### A mensagem \"Aprovado com Distinção\", se a média for igual a dez.\n",
    "### A mensagem \"Aprovado\", se a média alcançada for maior ou igual a sete;\n",
    "### A mensagem \"final\", se a média for maior do que três;\n",
    "### A mensagem \"reprovado\", se a média for menor do que três;"
   ]
  },
  {
   "cell_type": "code",
   "execution_count": 6,
   "metadata": {
    "id": "IrEJcOsYDbhF"
   },
   "outputs": [
    {
     "ename": "SyntaxError",
     "evalue": "invalid syntax (<ipython-input-6-bb8bfa019726>, line 8)",
     "output_type": "error",
     "traceback": [
      "\u001b[0;36m  File \u001b[0;32m\"<ipython-input-6-bb8bfa019726>\"\u001b[0;36m, line \u001b[0;32m8\u001b[0m\n\u001b[0;31m    elif media >= 3:\u001b[0m\n\u001b[0m       ^\u001b[0m\n\u001b[0;31mSyntaxError\u001b[0m\u001b[0;31m:\u001b[0m invalid syntax\n"
     ]
    }
   ],
   "source": []
  },
  {
   "cell_type": "markdown",
   "metadata": {
    "id": "bhtv8e7fAhej"
   },
   "source": [
    "### Q10. Faça um programa que faça 5 perguntas para uma pessoa sobre um crime. As perguntas são: \"Telefonou para a vítima?\" \"Esteve no local do crime?\" \"Mora perto da vítima?\" \"Devia para a vítima?\" \"Já trabalhou com a vítima?\" \n",
    "###O programa deve no final emitir uma classificação sobre a participação da pessoa no crime. Se a pessoa responder positivamente a 2 questões ela deve ser classificada como \"Suspeita\", entre 3 e 4 como \"Cúmplice\" e 5 como \"Assassino\". Caso contrário, ele será classificado como \"Inocente\"."
   ]
  },
  {
   "cell_type": "code",
   "execution_count": null,
   "metadata": {
    "id": "7xhKAVl_Ap36"
   },
   "outputs": [],
   "source": []
  },
  {
   "cell_type": "markdown",
   "metadata": {
    "id": "93FaZrIPYZOz"
   },
   "source": [
    "## Funções e Procedimentos"
   ]
  },
  {
   "cell_type": "markdown",
   "metadata": {
    "id": "kRJ-P2lDnCz5"
   },
   "source": [
    "### Teoria"
   ]
  },
  {
   "cell_type": "markdown",
   "metadata": {
    "id": "PNyLojVtMaJL"
   },
   "source": [
    "#### Para definir uma função, note o termo definir (def). Usamos a estrutura: \n",
    "```python\n",
    "def nome_função(parâmetros):\n",
    "    <código>\n",
    "```"
   ]
  },
  {
   "cell_type": "code",
   "execution_count": 7,
   "metadata": {
    "colab": {
     "base_uri": "https://localhost:8080/"
    },
    "id": "ICxeTHQuMIZb",
    "outputId": "396fc4d9-cf50-4e5c-8009-1cf94b9fee15"
   },
   "outputs": [
    {
     "name": "stdout",
     "output_type": "stream",
     "text": [
      "3\n"
     ]
    }
   ],
   "source": [
    "#Função para somar dois números\n",
    "def soma(n1,n2):\n",
    "  return n1+n2\n",
    "\n",
    "print(soma(1,2))"
   ]
  },
  {
   "cell_type": "code",
   "execution_count": 8,
   "metadata": {
    "colab": {
     "base_uri": "https://localhost:8080/"
    },
    "id": "FsRNAB6KO183",
    "outputId": "7fd7aaba-9e56-4b46-b59a-ec8bc5e3f03c"
   },
   "outputs": [
    {
     "name": "stdout",
     "output_type": "stream",
     "text": [
      "7\n",
      "3\n",
      "10\n",
      "2.5\n"
     ]
    }
   ],
   "source": [
    "#Função para as operações básicas\n",
    "def soma(n1,n2):\n",
    "  return n1+n2\n",
    "\n",
    "def subtracao(n1,n2):\n",
    "  return n1-n2\n",
    "\n",
    "def multiplicacao(n1,n2):\n",
    "  return n1*n2\n",
    "\n",
    "def divisao(n1,n2):\n",
    "  return n1/n2\n",
    "\n",
    "print(soma(5,2))\n",
    "print(subtracao(5,2))\n",
    "print(multiplicacao(5,2))\n",
    "print(divisao(5,2))"
   ]
  },
  {
   "cell_type": "code",
   "execution_count": 9,
   "metadata": {
    "colab": {
     "base_uri": "https://localhost:8080/"
    },
    "id": "2UQW-pVAM3x4",
    "outputId": "d9ed5477-ea8a-4254-c9fd-915c1a98dadd"
   },
   "outputs": [
    {
     "name": "stdout",
     "output_type": "stream",
     "text": [
      "5 é ímpar\n"
     ]
    }
   ],
   "source": [
    "#Procedimento para dizer se um número é par ou ímpar (Questão 7)\n",
    "def imparPar(num):\n",
    "    if num % 2 == 0:\n",
    "        print(num, \"é par\")\n",
    "    else:\n",
    "        print(num, \"é ímpar\")\n",
    "\n",
    "imparPar(5)"
   ]
  },
  {
   "cell_type": "code",
   "execution_count": 11,
   "metadata": {
    "colab": {
     "base_uri": "https://localhost:8080/"
    },
    "id": "1PMnpWx-Oi4W",
    "outputId": "713d9587-e442-4531-dc32-b831fcafd0ab"
   },
   "outputs": [
    {
     "name": "stdout",
     "output_type": "stream",
     "text": [
      "8 é o maior valor\n"
     ]
    }
   ],
   "source": [
    "#Procedimento para exibir o maior dentre dois números (Questão 8)\n",
    "def maior (num1,num2):\n",
    "    if num1 > num2:\n",
    "        print(num1, \"é o maior valor\")\n",
    "    elif num1 < num2:\n",
    "        print(num2, \"é o maior valor\")\n",
    "    else:\n",
    "        print(\"Os números são iguais\")\n",
    "\n",
    "maior(5,8)"
   ]
  },
  {
   "cell_type": "code",
   "execution_count": 12,
   "metadata": {
    "colab": {
     "base_uri": "https://localhost:8080/"
    },
    "id": "MTZed7uKMBcf",
    "outputId": "294bba59-8092-4126-ea3a-0b18c81ee718"
   },
   "outputs": [
    {
     "name": "stdout",
     "output_type": "stream",
     "text": [
      "Lucas é maior de idade: 25\n"
     ]
    }
   ],
   "source": [
    "#Função que retorna uma String indicando a maioridade de uma pessoa\n",
    "def classificarIdade(idade, nome):\n",
    "      if idade >= 18 and idade < 64:\n",
    "        return f'{nome} é maior de idade: {idade}'\n",
    "      elif idade >= 65:\n",
    "        return f'{nome} é pessoa idosa: {idade}'\n",
    "      else:\n",
    "        return f'{nome} é menor de idade: {idade}'\n",
    "\n",
    "print(classificarIdade(25, \"Lucas\"))"
   ]
  },
  {
   "cell_type": "markdown",
   "metadata": {
    "id": "xHCUaqRnnE5n"
   },
   "source": [
    "### Prática"
   ]
  },
  {
   "cell_type": "markdown",
   "metadata": {
    "id": "OPz7EtlwOXiT"
   },
   "source": [
    "#### Q11. Faça um programa, com uma função que necessite de três argumentos, e que forneça a soma desses três argumentos."
   ]
  },
  {
   "cell_type": "code",
   "execution_count": null,
   "metadata": {
    "colab": {
     "base_uri": "https://localhost:8080/"
    },
    "id": "idyd7w40nBy1",
    "outputId": "98484ea0-09ec-4a68-9e61-f1795850cb97"
   },
   "outputs": [],
   "source": []
  },
  {
   "cell_type": "markdown",
   "metadata": {
    "id": "CAWsvxKrPb2l"
   },
   "source": [
    "#### Q12. Faça duas funções que leem três números, uma devolve o maior e a outra o menor valor dentre eles."
   ]
  },
  {
   "cell_type": "code",
   "execution_count": 14,
   "metadata": {
    "colab": {
     "base_uri": "https://localhost:8080/"
    },
    "id": "KX22T4_HPweQ",
    "outputId": "1836c144-e746-4e4c-d2fd-abf56683b846"
   },
   "outputs": [
    {
     "name": "stdout",
     "output_type": "stream",
     "text": [
      "7\n",
      "2\n"
     ]
    }
   ],
   "source": [
    "def maior(n1,n2,n3):\n",
    "      if n1 > n2 and n1 > n3:\n",
    "        return n1\n",
    "      elif n2 > n1 and n2 > n3:\n",
    "        return n2\n",
    "      elif n3 > n1 and n3 > n2:\n",
    "        return n3\n",
    "      else:\n",
    "        return False # Caso n1 == n2 == n3\n",
    "\n",
    "def menor(n1,n2,n3):\n",
    "      if n1 < n2 and n1 < n3:\n",
    "        return n1\n",
    "      elif n2 < n1 and n2 < n3:\n",
    "        return n2\n",
    "      elif n3 < n1 and n3 < n2:\n",
    "        return n3\n",
    "      else:\n",
    "        return False # Caso n1 == n2 == n3\n",
    "\n",
    "print(maior(4,2,7))\n",
    "print(menor(4,2,7))"
   ]
  },
  {
   "cell_type": "markdown",
   "metadata": {
    "id": "WHjwWCYLScEP"
   },
   "source": [
    "## Listas (Simples Vetores?)"
   ]
  },
  {
   "cell_type": "markdown",
   "metadata": {
    "id": "sYeVUMaySkq5"
   },
   "source": [
    "### Teoria"
   ]
  },
  {
   "cell_type": "markdown",
   "metadata": {
    "id": "chTOrSEJgq8W"
   },
   "source": [
    "Declarar Lista"
   ]
  },
  {
   "cell_type": "code",
   "execution_count": 15,
   "metadata": {
    "colab": {
     "base_uri": "https://localhost:8080/"
    },
    "id": "p2nJcjgrSmYc",
    "outputId": "683f83f6-6734-4698-ba39-2f5edb992d2a"
   },
   "outputs": [
    {
     "data": {
      "text/plain": [
       "[1, 2, 3, 4, 5, 6]"
      ]
     },
     "execution_count": 15,
     "metadata": {},
     "output_type": "execute_result"
    }
   ],
   "source": [
    "lista_numeros = [1, 2, 3, 4, 5, 6]\n",
    "lista_numeros"
   ]
  },
  {
   "cell_type": "markdown",
   "metadata": {
    "id": "HBJ5FDvdhAY3"
   },
   "source": [
    "Diferente da linguagem C, listas em python podem armazenar tipos  diferentes"
   ]
  },
  {
   "cell_type": "code",
   "execution_count": 16,
   "metadata": {
    "colab": {
     "base_uri": "https://localhost:8080/"
    },
    "id": "wnNwgUvChGcQ",
    "outputId": "18cdd843-55bb-47d6-bdd4-fa7b336845c2"
   },
   "outputs": [
    {
     "data": {
      "text/plain": [
       "[1, 4.5, True, []]"
      ]
     },
     "execution_count": 16,
     "metadata": {},
     "output_type": "execute_result"
    }
   ],
   "source": [
    "lista_diversificada = [1, 4.5, True, []]\n",
    "lista_diversificada"
   ]
  },
  {
   "cell_type": "markdown",
   "metadata": {
    "id": "saUTZIX9ljf3"
   },
   "source": [
    "Para acessar cada elemento, é bastante semelhante a linguagem C. Para acessar a primeira posição"
   ]
  },
  {
   "cell_type": "code",
   "execution_count": 17,
   "metadata": {
    "colab": {
     "base_uri": "https://localhost:8080/"
    },
    "id": "G5yq-_SplmpC",
    "outputId": "55443421-a6f6-48ee-c1d6-38c9131a08b3"
   },
   "outputs": [
    {
     "data": {
      "text/plain": [
       "1"
      ]
     },
     "execution_count": 17,
     "metadata": {},
     "output_type": "execute_result"
    }
   ],
   "source": [
    "lista_diversificada[0]"
   ]
  },
  {
   "cell_type": "markdown",
   "metadata": {
    "id": "ima8_d2Llu4h"
   },
   "source": [
    "Segunda posição"
   ]
  },
  {
   "cell_type": "code",
   "execution_count": 18,
   "metadata": {
    "colab": {
     "base_uri": "https://localhost:8080/"
    },
    "id": "vIcs84oRlv97",
    "outputId": "194bd200-da9b-4d03-fe8d-70a3449bfa43"
   },
   "outputs": [
    {
     "data": {
      "text/plain": [
       "4.5"
      ]
     },
     "execution_count": 18,
     "metadata": {},
     "output_type": "execute_result"
    }
   ],
   "source": [
    "lista_diversificada[1]"
   ]
  },
  {
   "cell_type": "markdown",
   "metadata": {
    "id": "W8GzCxThlyq9"
   },
   "source": [
    "última posição vc pode usar o tamanho do vetor menos uma unidade. O tamanho do vetor é 5, para pegar a última posição o valor do índice é 4"
   ]
  },
  {
   "cell_type": "code",
   "execution_count": 19,
   "metadata": {
    "colab": {
     "base_uri": "https://localhost:8080/"
    },
    "id": "TFBn8NLXl3IZ",
    "outputId": "d7a1308f-1c9c-4b33-d54d-fe461a5c2e95"
   },
   "outputs": [
    {
     "data": {
      "text/plain": [
       "[]"
      ]
     },
     "execution_count": 19,
     "metadata": {},
     "output_type": "execute_result"
    }
   ],
   "source": [
    "lista_diversificada[len(lista_diversificada) - 1]"
   ]
  },
  {
   "cell_type": "markdown",
   "metadata": {
    "id": "AyvCDVTohHzD"
   },
   "source": [
    "Para adicionar um elemento no final da lista use <nome_lista>.append(<valor_aqui>)"
   ]
  },
  {
   "cell_type": "code",
   "execution_count": 20,
   "metadata": {
    "colab": {
     "base_uri": "https://localhost:8080/"
    },
    "id": "SNC7kKFvlT_8",
    "outputId": "146d3883-a6ef-4894-9075-c9603dabbe5d"
   },
   "outputs": [
    {
     "data": {
      "text/plain": [
       "[1, 4.5, True, [], 10]"
      ]
     },
     "execution_count": 20,
     "metadata": {},
     "output_type": "execute_result"
    }
   ],
   "source": [
    "lista_diversificada.append(10)\n",
    "lista_diversificada"
   ]
  },
  {
   "cell_type": "markdown",
   "metadata": {
    "id": "qo76ipW_mLTk"
   },
   "source": [
    "O método .pop() remove o último elemento retornando ele o elemento removido"
   ]
  },
  {
   "cell_type": "code",
   "execution_count": 21,
   "metadata": {
    "colab": {
     "base_uri": "https://localhost:8080/"
    },
    "id": "DY08MV-7mVxQ",
    "outputId": "1d7823cc-9f91-4653-acf5-eef8de83b842"
   },
   "outputs": [
    {
     "data": {
      "text/plain": [
       "10"
      ]
     },
     "execution_count": 21,
     "metadata": {},
     "output_type": "execute_result"
    }
   ],
   "source": [
    "lista_diversificada.pop()"
   ]
  },
  {
   "cell_type": "code",
   "execution_count": 22,
   "metadata": {
    "colab": {
     "base_uri": "https://localhost:8080/"
    },
    "id": "abOI6PwUmZjR",
    "outputId": "0576b05b-ed0d-4a04-b184-a0bb5d067409"
   },
   "outputs": [
    {
     "data": {
      "text/plain": [
       "[1, 4.5, True, []]"
      ]
     },
     "execution_count": 22,
     "metadata": {},
     "output_type": "execute_result"
    }
   ],
   "source": [
    "lista_diversificada"
   ]
  },
  {
   "cell_type": "markdown",
   "metadata": {
    "id": "m-8TTyUamjC7"
   },
   "source": [
    "Para inserir em alguma posição específica vc pode usar o método .insert(\"index\",\"valor_inserido\"). Observe o comando help abaixo:"
   ]
  },
  {
   "cell_type": "code",
   "execution_count": 23,
   "metadata": {
    "colab": {
     "base_uri": "https://localhost:8080/"
    },
    "id": "WWp1pZepmpw5",
    "outputId": "40f946d3-f85b-4f1b-e62b-d3afa1a1f460"
   },
   "outputs": [
    {
     "name": "stdout",
     "output_type": "stream",
     "text": [
      "Help on built-in function insert:\n",
      "\n",
      "insert(index, object, /) method of builtins.list instance\n",
      "    Insert object before index.\n",
      "\n"
     ]
    }
   ],
   "source": [
    "help(lista_diversificada.insert)"
   ]
  },
  {
   "cell_type": "code",
   "execution_count": 24,
   "metadata": {
    "id": "BpM_iekem6Gc"
   },
   "outputs": [],
   "source": [
    "lista_diversificada.insert(1,\"<3\") # insere na segunda posição da lista a string \"<3\""
   ]
  },
  {
   "cell_type": "code",
   "execution_count": 25,
   "metadata": {
    "colab": {
     "base_uri": "https://localhost:8080/"
    },
    "id": "IGxRkmpjnG1M",
    "outputId": "4815e9ce-34e7-4971-da8f-1cb6117c1e91"
   },
   "outputs": [
    {
     "data": {
      "text/plain": [
       "[1, '<3', 4.5, True, []]"
      ]
     },
     "execution_count": 25,
     "metadata": {},
     "output_type": "execute_result"
    }
   ],
   "source": [
    "lista_diversificada"
   ]
  },
  {
   "cell_type": "markdown",
   "metadata": {
    "id": "L1ZREzfnnMb-"
   },
   "source": [
    "Também é possível inserir valores e ordená-los depois"
   ]
  },
  {
   "cell_type": "code",
   "execution_count": 26,
   "metadata": {
    "colab": {
     "base_uri": "https://localhost:8080/"
    },
    "id": "73-GWMOenP0L",
    "outputId": "67f2988c-3254-4ef1-fab3-fd9247fc6129"
   },
   "outputs": [
    {
     "data": {
      "text/plain": [
       "[1, 2, 3, 4, 5, 6]"
      ]
     },
     "execution_count": 26,
     "metadata": {},
     "output_type": "execute_result"
    }
   ],
   "source": [
    "lista_numeros"
   ]
  },
  {
   "cell_type": "code",
   "execution_count": 27,
   "metadata": {
    "colab": {
     "base_uri": "https://localhost:8080/"
    },
    "id": "Xup0dJN0nVpR",
    "outputId": "b410edd7-9369-4017-a7b4-4829b0f82a2e"
   },
   "outputs": [
    {
     "data": {
      "text/plain": [
       "[1, 2, 3, 4, 5, 6, 2.4635]"
      ]
     },
     "execution_count": 27,
     "metadata": {},
     "output_type": "execute_result"
    }
   ],
   "source": [
    "lista_numeros.append(2.4635) # insere no final da lista o valor 2.4635\n",
    "lista_numeros"
   ]
  },
  {
   "cell_type": "code",
   "execution_count": 28,
   "metadata": {
    "colab": {
     "base_uri": "https://localhost:8080/"
    },
    "id": "Wb18Ztwong2W",
    "outputId": "eb9729eb-071a-4513-980c-9d0d52f93567"
   },
   "outputs": [
    {
     "data": {
      "text/plain": [
       "[1, 2, 2.4635, 3, 4, 5, 6]"
      ]
     },
     "execution_count": 28,
     "metadata": {},
     "output_type": "execute_result"
    }
   ],
   "source": [
    "lista_numeros.sort() # ordena a lista\n",
    "lista_numeros"
   ]
  },
  {
   "cell_type": "markdown",
   "metadata": {
    "id": "fVTRaZXetJlX"
   },
   "source": [
    "Para buscar um índice na lista usa-se o método .index(\"valor_procurado\")"
   ]
  },
  {
   "cell_type": "code",
   "execution_count": 29,
   "metadata": {
    "colab": {
     "base_uri": "https://localhost:8080/"
    },
    "id": "1Syy9m8StP4N",
    "outputId": "e7b9c282-8521-4925-9152-fa3479d2edcf"
   },
   "outputs": [
    {
     "data": {
      "text/plain": [
       "3"
      ]
     },
     "execution_count": 29,
     "metadata": {},
     "output_type": "execute_result"
    }
   ],
   "source": [
    "lista_numeros.index(3) #procurando o índice do valor 3"
   ]
  },
  {
   "cell_type": "code",
   "execution_count": 50,
   "metadata": {
    "colab": {
     "base_uri": "https://localhost:8080/",
     "height": 162
    },
    "id": "0gPUAaiLtXsC",
    "outputId": "d29b2706-9d1c-4fdc-ea7b-ddf13fd5f71f"
   },
   "outputs": [
    {
     "data": {
      "text/plain": [
       "7"
      ]
     },
     "execution_count": 50,
     "metadata": {},
     "output_type": "execute_result"
    }
   ],
   "source": [
    "lista_numeros.index(7) #procurando o índice do valor 7\n",
    "#Observe que por não existir retorna um erro, é preciso verificar se o elemento existe na lista antes de procurar"
   ]
  },
  {
   "cell_type": "code",
   "execution_count": 31,
   "metadata": {
    "colab": {
     "base_uri": "https://localhost:8080/"
    },
    "id": "UQG7-dmLt1wO",
    "outputId": "d4ba7e24-c465-44c9-c7d1-f01e9594fb60"
   },
   "outputs": [
    {
     "name": "stdout",
     "output_type": "stream",
     "text": [
      "não existe o índice 7 na lista\n"
     ]
    }
   ],
   "source": [
    "search_for = 7\n",
    "if search_for in lista_numeros:\n",
    "  print(lista_numeros.index(7))\n",
    "else:\n",
    "  print(\"não existe o índice\", search_for, \"na lista\")"
   ]
  },
  {
   "cell_type": "code",
   "execution_count": 32,
   "metadata": {
    "colab": {
     "base_uri": "https://localhost:8080/"
    },
    "id": "woL7O3amuO8P",
    "outputId": "dab81c2c-7317-4af7-fe4c-042ca09d5fdc"
   },
   "outputs": [
    {
     "data": {
      "text/plain": [
       "[1, 2, 2.4635, 3, 4, 5, 6, 7]"
      ]
     },
     "execution_count": 32,
     "metadata": {},
     "output_type": "execute_result"
    }
   ],
   "source": [
    "lista_numeros.append(7) # insere no final da lista o 7\n",
    "lista_numeros"
   ]
  },
  {
   "cell_type": "code",
   "execution_count": 33,
   "metadata": {
    "id": "kyPmGy6buWSf"
   },
   "outputs": [
    {
     "name": "stdout",
     "output_type": "stream",
     "text": [
      "7\n"
     ]
    }
   ],
   "source": [
    "# Agora funciona\n",
    "search_for = 7\n",
    "if search_for in lista_numeros:\n",
    "  print(lista_numeros.index(7))\n",
    "else:\n",
    "  print(\"não existe o índice\", search_for, \"na lista\")"
   ]
  },
  {
   "cell_type": "markdown",
   "metadata": {
    "id": "ivX-CxU2Smvw"
   },
   "source": [
    "### Prática"
   ]
  },
  {
   "cell_type": "markdown",
   "metadata": {
    "id": "m-laoIo8gu-J"
   },
   "source": [
    "####Q13. Faça um Programa que leia um vetor de 5 números inteiros e mostre-os."
   ]
  },
  {
   "cell_type": "code",
   "execution_count": null,
   "metadata": {
    "colab": {
     "base_uri": "https://localhost:8080/"
    },
    "id": "mb-dbeEqSoa8",
    "outputId": "5d0ee3d5-89d3-455b-9994-4645fe3312eb"
   },
   "outputs": [],
   "source": []
  },
  {
   "cell_type": "markdown",
   "metadata": {
    "id": "hrCv1IZUg33G"
   },
   "source": [
    "####Q14. Faça um Programa que leia 4 notas, mostre as notas e a média na tela."
   ]
  },
  {
   "cell_type": "code",
   "execution_count": null,
   "metadata": {
    "colab": {
     "base_uri": "https://localhost:8080/"
    },
    "id": "qOGKYuUGg5m1",
    "outputId": "d40a577e-7c5c-4fe4-aece-a093cea888b2"
   },
   "outputs": [],
   "source": []
  },
  {
   "cell_type": "code",
   "execution_count": null,
   "metadata": {
    "colab": {
     "base_uri": "https://localhost:8080/"
    },
    "id": "gsmOoV7Aww8w",
    "outputId": "eff3d590-eb15-4970-8749-bb989690d20f"
   },
   "outputs": [],
   "source": []
  },
  {
   "cell_type": "markdown",
   "metadata": {
    "id": "aFGd8yRFYSEg"
   },
   "source": [
    "## Estrutura De Repetição"
   ]
  },
  {
   "cell_type": "markdown",
   "metadata": {
    "id": "VBdlnHPJLbK8"
   },
   "source": [
    "### Teoria"
   ]
  },
  {
   "cell_type": "markdown",
   "metadata": {
    "id": "1c7c5XMehUFm"
   },
   "source": [
    "Considere uma lista contendo idades"
   ]
  },
  {
   "cell_type": "code",
   "execution_count": 34,
   "metadata": {
    "colab": {
     "base_uri": "https://localhost:8080/"
    },
    "id": "jxpfC9WthhHJ",
    "outputId": "454930eb-2568-4f16-bc9a-ee0e4f9dad55"
   },
   "outputs": [
    {
     "data": {
      "text/plain": [
       "[17, 25, 70]"
      ]
     },
     "execution_count": 34,
     "metadata": {},
     "output_type": "execute_result"
    }
   ],
   "source": [
    "idades=[17, 25, 70]\n",
    "idades"
   ]
  },
  {
   "cell_type": "markdown",
   "metadata": {
    "id": "cjdXF87whx1C"
   },
   "source": [
    "Fazer a chamada para a função classificarIdade uma-a-uma dá muito trabalho, principalmente se você adicionar um novo elemento na lista"
   ]
  },
  {
   "cell_type": "code",
   "execution_count": 35,
   "metadata": {
    "colab": {
     "base_uri": "https://localhost:8080/"
    },
    "id": "R6WWHCAAh5Tp",
    "outputId": "4ab27d06-f69d-4ef4-80d1-003da19fd53d"
   },
   "outputs": [
    {
     "name": "stdout",
     "output_type": "stream",
     "text": [
      "Pessoa é menor de idade: 17\n",
      "Pessoa é maior de idade: 25\n",
      "Pessoa é pessoa idosa: 70\n",
      "Pessoa é pessoa idosa: 101\n"
     ]
    }
   ],
   "source": [
    "print(classificarIdade(idades[0],\"Pessoa\"))\n",
    "print(classificarIdade(idades[1],\"Pessoa\"))\n",
    "print(classificarIdade(idades[2],\"Pessoa\"))\n",
    "idades.append(101) #adiciona a idade 101 no final da lista idades\n",
    "print(classificarIdade(idades[3],\"Pessoa\"))"
   ]
  },
  {
   "cell_type": "markdown",
   "metadata": {
    "id": "ABvhebFHRWfn"
   },
   "source": [
    "O laço de repetição WHILE em python é bastante semelhante a linguagem C"
   ]
  },
  {
   "cell_type": "code",
   "execution_count": 37,
   "metadata": {
    "colab": {
     "base_uri": "https://localhost:8080/"
    },
    "id": "ZSyGQLxdYV0Q",
    "outputId": "5b9c3409-66fb-402d-b051-68c2b1635b48"
   },
   "outputs": [
    {
     "name": "stdout",
     "output_type": "stream",
     "text": [
      "Pessoa é menor de idade: 17\n",
      "Pessoa é maior de idade: 25\n",
      "Pessoa é pessoa idosa: 70\n",
      "Pessoa é pessoa idosa: 101\n"
     ]
    }
   ],
   "source": [
    "i = 0\n",
    "while i < len(idades):\n",
    "      print(classificarIdade(idades[i],\"Pessoa\")) #Função declarada na seção Funções e Procedimentos\n",
    "      i += 1 # equivalente i = i + 1"
   ]
  },
  {
   "cell_type": "markdown",
   "metadata": {
    "id": "YJUI1DDQSLkO"
   },
   "source": [
    "O laço for pode ser usado para iterar todos elementos de uma lista"
   ]
  },
  {
   "cell_type": "code",
   "execution_count": 38,
   "metadata": {
    "id": "Z3P2UQr2LvD1"
   },
   "outputs": [
    {
     "name": "stdout",
     "output_type": "stream",
     "text": [
      "Pessoa é menor de idade: 17\n",
      "Pessoa é maior de idade: 25\n",
      "Pessoa é pessoa idosa: 70\n",
      "Pessoa é pessoa idosa: 101\n"
     ]
    }
   ],
   "source": [
    "for idade in idades:\n",
    "      print(classificarIdade(idade, \"Pessoa\"))"
   ]
  },
  {
   "cell_type": "markdown",
   "metadata": {
    "id": "QU0bFMgmSsth"
   },
   "source": [
    "Também é possível usar apena parte da lista "
   ]
  },
  {
   "cell_type": "code",
   "execution_count": 39,
   "metadata": {
    "colab": {
     "base_uri": "https://localhost:8080/"
    },
    "id": "iEhZ0FmrSykx",
    "outputId": "50e8b2ce-eb0b-4a45-cbf3-036485cc9efe"
   },
   "outputs": [
    {
     "name": "stdout",
     "output_type": "stream",
     "text": [
      "Pessoa é menor de idade: 17\n",
      "Pessoa é pessoa idosa: 70\n"
     ]
    }
   ],
   "source": [
    "for i in range(0,len(idades),2): # range (início, fim, passo) para o intervalo (range) começando em 0 até o tamanho da lista com passo 2 faça i receber o índice ou posição 0, 2, 4...\n",
    "      print(classificarIdade(idades[i],\"Pessoa\"))"
   ]
  },
  {
   "cell_type": "markdown",
   "metadata": {
    "id": "FEufEUjFiQNc"
   },
   "source": [
    "Se não gostou do comando for, você pode se virar muito bem com o while, note que mudamos o incremento do passo i em 2 unidades"
   ]
  },
  {
   "cell_type": "code",
   "execution_count": 41,
   "metadata": {
    "colab": {
     "base_uri": "https://localhost:8080/"
    },
    "id": "NWgjCkhIiT8y",
    "outputId": "3c5a6162-eaed-467a-ba2e-39a122baa93c"
   },
   "outputs": [
    {
     "name": "stdout",
     "output_type": "stream",
     "text": [
      "Pessoa é menor de idade: 17\n",
      "Pessoa é pessoa idosa: 70\n"
     ]
    }
   ],
   "source": [
    "i = 0\n",
    "while i < len(idades):\n",
    "    print(classificarIdade(idades[i],\"Pessoa\"))\n",
    "    i += 2 # equivalente i = i + 2"
   ]
  },
  {
   "cell_type": "markdown",
   "metadata": {
    "id": "FXvNy2U6RA1e"
   },
   "source": [
    "###Prática"
   ]
  },
  {
   "cell_type": "markdown",
   "metadata": {
    "id": "3YUL8qcdRGXP"
   },
   "source": [
    "#### Q15. Faça um programa que leia 5 números e informe o maior número."
   ]
  },
  {
   "cell_type": "code",
   "execution_count": 43,
   "metadata": {
    "colab": {
     "base_uri": "https://localhost:8080/"
    },
    "id": "o1AqZBgwRIf1",
    "outputId": "a21d7473-353c-4687-e792-04b9fcf56a54"
   },
   "outputs": [
    {
     "name": "stdout",
     "output_type": "stream",
     "text": [
      "1\n",
      "4\n",
      "5\n",
      "6\n",
      "7\n",
      "O maior valor informado foi:  7.0\n"
     ]
    }
   ],
   "source": [
    "maior = float(input())\n",
    "i = 1 #começa em 1 porque um dos 5 valores já foi lido\n",
    "while i < 5: \n",
    "    num =float(input())\n",
    "    if num > maior:\n",
    "        maior = num\n",
    "    i+=1  \n",
    "\n",
    "print(\"O maior valor informado foi: \",maior)"
   ]
  },
  {
   "cell_type": "code",
   "execution_count": null,
   "metadata": {
    "colab": {
     "base_uri": "https://localhost:8080/"
    },
    "id": "bsph5UC-xmOq",
    "outputId": "91175ad7-a4d6-474d-c148-6b5200dd04e5"
   },
   "outputs": [],
   "source": [
    "maior=float(input())\n",
    "for i in range(1,5):\n",
    "    num=float(input())\n",
    "    if num > maior:\n",
    "        maior = num\n",
    "print(\"O maior valor informado foi: \",maior)"
   ]
  },
  {
   "cell_type": "markdown",
   "metadata": {
    "id": "3JefWqwsRJYD"
   },
   "source": [
    "#### Q16. Faça um programa que leia 5 números e informe a soma e a média dos números."
   ]
  },
  {
   "cell_type": "code",
   "execution_count": null,
   "metadata": {
    "colab": {
     "base_uri": "https://localhost:8080/"
    },
    "id": "N4aaCHnNRLqd",
    "outputId": "526c3a06-309d-4ea5-ea44-2bdf45510d71"
   },
   "outputs": [],
   "source": [
    "soma=0\n",
    "for i in range(0,5):\n",
    "    num=float(input())\n",
    "    soma+=num\n",
    "media = soma/5\n",
    "print(\"A soma é:\", soma, \"e a média é:\", media)"
   ]
  },
  {
   "cell_type": "markdown",
   "metadata": {
    "id": "JRk_TROfRN2Z"
   },
   "source": [
    "#### Q17. Faça um programa que imprima na tela apenas os números ímpares entre 1 e 50."
   ]
  },
  {
   "cell_type": "code",
   "execution_count": null,
   "metadata": {
    "colab": {
     "base_uri": "https://localhost:8080/"
    },
    "id": "QmOPFPnwROX9",
    "outputId": "8510efef-91d5-4378-ee52-07e124212633"
   },
   "outputs": [],
   "source": [
    "for i in range(1,50,2):\n",
    "    print(i)"
   ]
  },
  {
   "cell_type": "markdown",
   "metadata": {
    "id": "4KLshJkJVuj0"
   },
   "source": [
    "#### Q18. O Sr. Manoel Joaquim possui uma grande loja de artigos de R$ 1,99, com cerca de 10 caixas. Para agilizar o cálculo de quanto cada cliente deve pagar ele desenvolveu um tabela que contém o número de itens que o cliente comprou e ao lado o valor da conta. Desta forma a atendente do caixa precisa apenas contar quantos itens o cliente está levando e olhar na tabela de preços. Você foi contratado para desenvolver o programa que monta esta tabela de preços, que conterá os preços de 1 até 50 produtos, conforme o exemplo abaixo:\n",
    "\n",
    "####Lojas Quase Dois - Tabela de preços\n",
    "#### 1 - R\\$ 1.99\n",
    "#### 2 - R\\$ 3.98\n",
    "#### ...\n",
    "#### 50 - R\\$ 99.50"
   ]
  },
  {
   "cell_type": "code",
   "execution_count": null,
   "metadata": {
    "colab": {
     "base_uri": "https://localhost:8080/"
    },
    "id": "jkQSY8-fV9Rf",
    "outputId": "e968bee6-7202-4866-845a-b9a01941cade"
   },
   "outputs": [],
   "source": [
    "print(\"Lojas Quase Dois - Tabela de preços\")\n",
    "for i in range(1,51):\n",
    "  print(i,'- R$',1.99*i)"
   ]
  },
  {
   "cell_type": "markdown",
   "metadata": {
    "id": "VjrmSclve1Vv"
   },
   "source": [
    "#### Q19. O Sr. Manoel Joaquim acaba de adquirir uma panificadora e pretende implantar a metodologia da tabelinha, que já é um sucesso na sua loja de 1,99. Você foi contratado para desenvolver o programa que monta a tabela de preços de pães, de 1 até 50 pães, a partir do preço do pão informado pelo usuário, conforme o exemplo abaixo:\n",
    "\n",
    "####Preço do pão: R\\$ 0.18\n",
    "####Panificadora Pão de Ontem - Tabela de preços\n",
    "####1 - R\\$ 0.18\n",
    "####2 - R\\$ 0.36\n",
    "####...\n",
    "####50 - R\\$ 9.00"
   ]
  },
  {
   "cell_type": "code",
   "execution_count": null,
   "metadata": {
    "colab": {
     "base_uri": "https://localhost:8080/"
    },
    "id": "u0PU0cBCe3_T",
    "outputId": "925f5ca9-b64a-4e45-8691-03dbaad87d46"
   },
   "outputs": [],
   "source": [
    "price = float(input(\"Preço do pão: R$ \"))\n",
    "print(\"Panificadora Pão de Ontem - Tabela de preços\")\n",
    "for i in range(1,51):\n",
    "  print(i,'- R$',price*i)\n",
    "# Desafio como formatar a saída para exibir apenas duas casas decimais?? Rever começo dessa aula"
   ]
  },
  {
   "cell_type": "markdown",
   "metadata": {
    "id": "cyqQxNcrnII3"
   },
   "source": [
    "## Matrizes"
   ]
  },
  {
   "cell_type": "markdown",
   "metadata": {
    "id": "bOh9h3WPnO87"
   },
   "source": [
    "### Teoria\n"
   ]
  },
  {
   "cell_type": "markdown",
   "metadata": {
    "id": "clocsG2BWVbl"
   },
   "source": [
    "Exemplo de inicialização de uma matriz"
   ]
  },
  {
   "cell_type": "code",
   "execution_count": 44,
   "metadata": {
    "colab": {
     "base_uri": "https://localhost:8080/"
    },
    "id": "bNmzBYahWXsr",
    "outputId": "e792cde7-2fc6-4efd-8ccc-e648866e26e2"
   },
   "outputs": [
    {
     "data": {
      "text/plain": [
       "[[1, 2, 3], [4, 5, 6], [7, 8, 9]]"
      ]
     },
     "execution_count": 44,
     "metadata": {},
     "output_type": "execute_result"
    }
   ],
   "source": [
    "m = [[1,2,3],[4,5,6],[7,8,9]]\n",
    "m"
   ]
  },
  {
   "cell_type": "markdown",
   "metadata": {
    "id": "hzHujjMeWbZq"
   },
   "source": [
    "Como saber a quantidade de linhas e colunas de uma matriz. len(matriz[0]) retorna a quantidade de colunas da primeira linha da matriz"
   ]
  },
  {
   "cell_type": "code",
   "execution_count": 46,
   "metadata": {
    "id": "LvNw8_AfWfxx"
   },
   "outputs": [
    {
     "name": "stdout",
     "output_type": "stream",
     "text": [
      "3 3\n"
     ]
    }
   ],
   "source": [
    "qtd_linhas, qtd_colunas = (len(m), len(m[0]))\n",
    "print(qtd_linhas, qtd_colunas)"
   ]
  },
  {
   "cell_type": "markdown",
   "metadata": {
    "id": "F7liSDpwWws1"
   },
   "source": [
    "Para iterar uma matriz considerando para cada linha e cada coluna"
   ]
  },
  {
   "cell_type": "code",
   "execution_count": 48,
   "metadata": {
    "colab": {
     "base_uri": "https://localhost:8080/"
    },
    "id": "xcQCNPJLW0d0",
    "outputId": "a88f0149-a1ba-4d9b-bb70-e758c01b5ad2"
   },
   "outputs": [
    {
     "name": "stdout",
     "output_type": "stream",
     "text": [
      "1\n",
      "2\n",
      "3\n",
      "4\n",
      "5\n",
      "6\n",
      "7\n",
      "8\n",
      "9\n"
     ]
    }
   ],
   "source": [
    "def lerMatriz(matriz):\n",
    "    linhas, colunas = (len(matriz), len(matriz[0]))\n",
    "    for i in range(linhas):\n",
    "        for j in range(colunas):\n",
    "            print(matriz[i][j])\n",
    "\n",
    "lerMatriz(m)"
   ]
  },
  {
   "cell_type": "markdown",
   "metadata": {
    "id": "8L8MWRmvW80h"
   },
   "source": [
    "Para iterar uma matriz considerando para cada COLUNA e cada LINHA"
   ]
  },
  {
   "cell_type": "code",
   "execution_count": 49,
   "metadata": {
    "colab": {
     "base_uri": "https://localhost:8080/"
    },
    "id": "NIgOZJbWXCoG",
    "outputId": "1eec4000-4291-45e1-b42d-a062d003e2bf"
   },
   "outputs": [
    {
     "name": "stdout",
     "output_type": "stream",
     "text": [
      "1\n",
      "4\n",
      "7\n",
      "2\n",
      "5\n",
      "8\n",
      "3\n",
      "6\n",
      "9\n"
     ]
    }
   ],
   "source": [
    "def lerMatriz(matriz):\n",
    "    linhas, colunas = (len(matriz), len(matriz[0]))\n",
    "    for j in range(colunas):\n",
    "        for i in range(linhas):\n",
    "            print(matriz[i][j])\n",
    "\n",
    "lerMatriz(m)"
   ]
  },
  {
   "cell_type": "markdown",
   "metadata": {
    "id": "ngt1E8JJnPHa"
   },
   "source": [
    "### Prática"
   ]
  },
  {
   "cell_type": "markdown",
   "metadata": {
    "id": "wkV1TgboXMWY"
   },
   "source": [
    "#### Q20. Para a matriz m do exemplo teórico desta seção, duplique os valores dela"
   ]
  },
  {
   "cell_type": "code",
   "execution_count": null,
   "metadata": {
    "colab": {
     "base_uri": "https://localhost:8080/"
    },
    "id": "isH34Ef2XWI1",
    "outputId": "391dfdec-600c-4c7c-f0dc-18a7875613d0"
   },
   "outputs": [],
   "source": []
  },
  {
   "cell_type": "markdown",
   "metadata": {
    "id": "IVN_joNXXh1h"
   },
   "source": [
    "#### Q21. Para a matriz m do exemplo teórico desta seção, some todos os valores da matriz"
   ]
  },
  {
   "cell_type": "code",
   "execution_count": null,
   "metadata": {
    "colab": {
     "base_uri": "https://localhost:8080/"
    },
    "id": "fCm82NqIXl24",
    "outputId": "fde50e38-27ae-4ed9-f9ab-9102849f4777"
   },
   "outputs": [],
   "source": []
  }
 ],
 "metadata": {
  "colab": {
   "name": "ListaDeExerciciosPython.ipynb",
   "provenance": []
  },
  "kernelspec": {
   "display_name": "Python 3",
   "language": "python",
   "name": "python3"
  },
  "language_info": {
   "codemirror_mode": {
    "name": "ipython",
    "version": 3
   },
   "file_extension": ".py",
   "mimetype": "text/x-python",
   "name": "python",
   "nbconvert_exporter": "python",
   "pygments_lexer": "ipython3",
   "version": "3.7.6"
  }
 },
 "nbformat": 4,
 "nbformat_minor": 1
}
