{
 "cells": [
  {
   "cell_type": "code",
   "execution_count": null,
   "metadata": {
    "id": "gas4AmcZyigS"
   },
   "outputs": [],
   "source": [
    "import numpy as np\n",
    "import pandas as pd"
   ]
  },
  {
   "cell_type": "markdown",
   "metadata": {
    "id": "oUH0T3sGzBba"
   },
   "source": [
    "# Pivoteamento\n",
    "https://youtu.be/6-iBXVomqb8\n",
    "<a href=\"https://githubtocolab.com/cn-ufpe/cn-ufpe.github.io/blob/master/material/10_pivoteamento.ipynb\" target=\"_parent\"><img src=\"https://colab.research.google.com/assets/colab-badge.svg\" alt=\"Open in Colab\"/></a>"
   ]
  },
  {
   "cell_type": "markdown",
   "metadata": {
    "id": "kSuw4VspGNYM"
   },
   "source": [
    "## Eliminação gaussiana sem pivoteamento"
   ]
  },
  {
   "cell_type": "code",
   "execution_count": null,
   "metadata": {
    "id": "Sq0TrEwVyUwY"
   },
   "outputs": [],
   "source": [
    "def eliminacao_gaussiana(matriz_coeficientes, termos_independentes):\n",
    "    '''\n",
    "    matriz_coeficientes é uma matriz n x n\n",
    "    termos_independentes é uma matriz n por 1\n",
    "    '''\n",
    "    \n",
    "    A = np.copy(matriz_coeficientes)\n",
    "    b = np.copy(termos_independentes)\n",
    "    tamanho = len(A)\n",
    "\n",
    "    for j in range(0, tamanho-1):\n",
    "        pivo = A[j, j]\n",
    "\n",
    "        for k in range(j+1, tamanho):\n",
    "            m = -A[k, j] / pivo\n",
    "            A[k] = m * A[j] + A[k] # esta linha está realizando muitas operações desnecessárias\n",
    "            b[k] = m * b[j] + b[k]\n",
    "            A[k, j] = 0\n",
    "    \n",
    "    \n",
    "    return A, b"
   ]
  },
  {
   "cell_type": "code",
   "execution_count": null,
   "metadata": {
    "id": "uHxdO1-KyV2h"
   },
   "outputs": [],
   "source": [
    "def triangular_superior(matriz_coeficientes, termos_independentes):\n",
    "    '''\n",
    "    matriz_coeficientes: matriz triangular superior\n",
    "    termos_independentes: termos independentes do sistema retangular superior\n",
    "    \n",
    "    retorna a solução do sistema\n",
    "    '''\n",
    "    tamanho = len(matriz_coeficientes)\n",
    "    A = np.copy(matriz_coeficientes)\n",
    "    b = np.copy(termos_independentes)\n",
    "    \n",
    "    \n",
    "    x = np.zeros(tamanho)\n",
    "    x[tamanho-1] = b[tamanho-1] / A[tamanho-1, tamanho-1]\n",
    "\n",
    "    for k in range(tamanho-2, -1, -1):\n",
    "        soma = b[k]\n",
    "        for t in range(k, tamanho):\n",
    "            soma = soma - A[k, t] * x[t]\n",
    "\n",
    "        x[k] = soma / A[k, k]\n",
    "    \n",
    "    return x"
   ]
  },
  {
   "cell_type": "code",
   "execution_count": null,
   "metadata": {
    "id": "T9L7uJuBybJU"
   },
   "outputs": [],
   "source": [
    "def resolver_sistema(matriz_coeficientes, termos_independentes):\n",
    "    tA, tb = eliminacao_gaussiana(matriz_coeficientes, termos_independentes)\n",
    "    x = triangular_superior(tA, tb)\n",
    "    return x"
   ]
  },
  {
   "cell_type": "code",
   "execution_count": null,
   "metadata": {
    "id": "d_Coo-TbyeK8"
   },
   "outputs": [],
   "source": [
    "A = np.random.rand(3, 3)\n",
    "b = np.random.rand(3, 1)\n"
   ]
  },
  {
   "cell_type": "code",
   "execution_count": null,
   "metadata": {
    "id": "fnn80S2IypiM"
   },
   "outputs": [],
   "source": [
    "x = resolver_sistema(A, b)"
   ]
  },
  {
   "cell_type": "code",
   "execution_count": null,
   "metadata": {
    "colab": {
     "base_uri": "https://localhost:8080/"
    },
    "id": "ylpBft1UytkF",
    "outputId": "08f9e400-8ad8-415c-d773-f7aa7cc530f6"
   },
   "outputs": [],
   "source": [
    "A @ x"
   ]
  },
  {
   "cell_type": "code",
   "execution_count": null,
   "metadata": {
    "colab": {
     "base_uri": "https://localhost:8080/"
    },
    "id": "3_P6MFuZy15k",
    "outputId": "31e45a6a-ee12-4c22-a110-312fbb296683"
   },
   "outputs": [],
   "source": [
    "b"
   ]
  },
  {
   "cell_type": "markdown",
   "metadata": {
    "id": "WGt5I_YUzNla"
   },
   "source": [
    "## O que ocorrerá se o pivô for igual a zero?"
   ]
  },
  {
   "cell_type": "code",
   "execution_count": null,
   "metadata": {
    "colab": {
     "base_uri": "https://localhost:8080/"
    },
    "id": "OjKR8xzNzOw5",
    "outputId": "38954602-7edb-4ab0-b741-f49092702e85"
   },
   "outputs": [],
   "source": [
    "A[0, 0] = 0\n",
    "x = resolver_sistema(A, b)\n",
    "print('x = ', x)\n",
    "print()"
   ]
  },
  {
   "cell_type": "code",
   "execution_count": null,
   "metadata": {
    "colab": {
     "base_uri": "https://localhost:8080/"
    },
    "id": "NQbeOd0OzqfQ",
    "outputId": "4d8098ba-bb34-42c2-91d2-47fa66798c8b"
   },
   "outputs": [],
   "source": [
    "A"
   ]
  },
  {
   "cell_type": "markdown",
   "metadata": {
    "id": "s9X9ewXs0SKy"
   },
   "source": [
    "Vamos repetir apenas a primeira linha da substituição para frente para identificar o problema."
   ]
  },
  {
   "cell_type": "code",
   "execution_count": null,
   "metadata": {
    "colab": {
     "base_uri": "https://localhost:8080/"
    },
    "id": "PKNBr8AKzsZn",
    "outputId": "0c5e1511-a264-4845-a421-4e8f1538195c"
   },
   "outputs": [],
   "source": [
    "pivo = A[0, 0]\n",
    "m = -A[1,0] / A[0, 0] # aqui está ocorrendo uma divisão por 0\n",
    "\n",
    "print(m)\n",
    "print()"
   ]
  },
  {
   "cell_type": "code",
   "execution_count": null,
   "metadata": {
    "colab": {
     "base_uri": "https://localhost:8080/"
    },
    "id": "S4hawWwMzzvI",
    "outputId": "240a501f-b245-4034-f93f-99487fcc5a73"
   },
   "outputs": [],
   "source": [
    "A[1] = m*A[0] + A[1]\n",
    "\n",
    "print(A)\n",
    "print()"
   ]
  },
  {
   "cell_type": "markdown",
   "metadata": {
    "id": "B2CMtsYA1X3G"
   },
   "source": [
    "## O que ocorrá se o pivô for um número próximo a zero?"
   ]
  },
  {
   "cell_type": "code",
   "execution_count": null,
   "metadata": {
    "id": "4uCDy3Ipz07G"
   },
   "outputs": [],
   "source": [
    "matriz_coeficientes = np.array([[1e-16, 1.], [1., 1.]])\n",
    "termos_independentes = np.array([[1.], [2.]])\n",
    "\n",
    "A = np.copy(matriz_coeficientes)\n",
    "b = np.copy(termos_independentes)"
   ]
  },
  {
   "cell_type": "code",
   "execution_count": null,
   "metadata": {
    "colab": {
     "base_uri": "https://localhost:8080/"
    },
    "id": "vRyNWBqz4Mqs",
    "outputId": "661e1007-f233-47f3-9809-b703feb16d90"
   },
   "outputs": [],
   "source": [
    "A"
   ]
  },
  {
   "cell_type": "code",
   "execution_count": null,
   "metadata": {
    "colab": {
     "base_uri": "https://localhost:8080/"
    },
    "id": "xZaDxeC34Q48",
    "outputId": "c7d77698-c985-41b2-f998-93742de137f4"
   },
   "outputs": [],
   "source": [
    "b"
   ]
  },
  {
   "cell_type": "code",
   "execution_count": null,
   "metadata": {
    "id": "4ejERxZp4SIm"
   },
   "outputs": [],
   "source": [
    "x = resolver_sistema(A, b)"
   ]
  },
  {
   "cell_type": "code",
   "execution_count": null,
   "metadata": {},
   "outputs": [],
   "source": [
    "x"
   ]
  },
  {
   "cell_type": "code",
   "execution_count": null,
   "metadata": {},
   "outputs": [],
   "source": [
    "x[1]"
   ]
  },
  {
   "cell_type": "code",
   "execution_count": null,
   "metadata": {
    "colab": {
     "base_uri": "https://localhost:8080/"
    },
    "id": "mq2eRFyj4VH9",
    "outputId": "f637e732-191d-451b-e0dc-dddf7993ed2f"
   },
   "outputs": [],
   "source": [
    "A @ x"
   ]
  },
  {
   "cell_type": "markdown",
   "metadata": {
    "id": "xzSiaIYH5Xun"
   },
   "source": [
    "Vamos realizar cada passo da eliminação gaussiana para verificar o problema."
   ]
  },
  {
   "cell_type": "code",
   "execution_count": null,
   "metadata": {
    "colab": {
     "base_uri": "https://localhost:8080/"
    },
    "id": "OK_zwfg74Wgk",
    "outputId": "37e13457-4497-4a81-b6d4-16ce556390ad"
   },
   "outputs": [],
   "source": [
    "pivo = A[0, 0]\n",
    "m = -A[1,0] / A[0, 0] # aqui está ocorrendo uma divisão por um número próximo a zero\n",
    "print(m)"
   ]
  },
  {
   "cell_type": "code",
   "execution_count": null,
   "metadata": {
    "id": "KISIYEO44puC"
   },
   "outputs": [],
   "source": [
    "A[1] = A[1] = m*A[0] + A[1]\n",
    "b[1] = m*b[0] + b[1]"
   ]
  },
  {
   "cell_type": "code",
   "execution_count": null,
   "metadata": {
    "colab": {
     "base_uri": "https://localhost:8080/"
    },
    "id": "XXHkr8wu45bA",
    "outputId": "0a0f1197-b28a-49be-e3e3-e93c63f7126d"
   },
   "outputs": [],
   "source": [
    "A"
   ]
  },
  {
   "cell_type": "code",
   "execution_count": null,
   "metadata": {
    "colab": {
     "base_uri": "https://localhost:8080/"
    },
    "id": "mfYs7WPO8WGw",
    "outputId": "2f86ff6f-9317-4fb6-a885-3009a0548d2e"
   },
   "outputs": [],
   "source": [
    "b"
   ]
  },
  {
   "cell_type": "markdown",
   "metadata": {
    "id": "5De2fuDz8NlG"
   },
   "source": [
    "Você consegue verificar algum erro no resultado das  operações acima? E qual a justificativa para este erro?"
   ]
  },
  {
   "cell_type": "code",
   "execution_count": null,
   "metadata": {
    "colab": {
     "base_uri": "https://localhost:8080/"
    },
    "id": "Lo2-r24a4-zo",
    "outputId": "2f1bbd03-182f-4fb3-c478-069cc4d96c2e"
   },
   "outputs": [],
   "source": [
    "x[1] = b[1] / A[1, 1]\n",
    "x[0] = (b[0] - A[0, 1] * x[1]) / A[0, 0]\n",
    "print(x)"
   ]
  },
  {
   "cell_type": "code",
   "execution_count": null,
   "metadata": {
    "colab": {
     "base_uri": "https://localhost:8080/"
    },
    "id": "e5DKoaZf45yH",
    "outputId": "eda67308-788b-49bc-911f-04c6858d7106"
   },
   "outputs": [],
   "source": [
    "matriz_coeficientes @ x"
   ]
  },
  {
   "cell_type": "code",
   "execution_count": null,
   "metadata": {
    "colab": {
     "base_uri": "https://localhost:8080/"
    },
    "id": "GV3JL3598oev",
    "outputId": "6a50fd04-2efb-4c76-bb5e-a579449dcaea"
   },
   "outputs": [],
   "source": [
    "termos_independentes"
   ]
  },
  {
   "cell_type": "markdown",
   "metadata": {
    "id": "FZjbUnFCHqk3"
   },
   "source": [
    "- O algoritmo de eliminação gaussiana não produz a saída correta quando um pivô é igual a zero ou próximo a zero.\n",
    "\n",
    "- Para evitar este problema vamos realizar o pivoteamento parcial."
   ]
  },
  {
   "cell_type": "code",
   "execution_count": null,
   "metadata": {},
   "outputs": [],
   "source": [
    "(b[0] - A[0, 1] * x[1]) / 10**-16"
   ]
  },
  {
   "cell_type": "code",
   "execution_count": null,
   "metadata": {},
   "outputs": [],
   "source": [
    "print(x[1])"
   ]
  },
  {
   "cell_type": "code",
   "execution_count": null,
   "metadata": {},
   "outputs": [],
   "source": [
    "print(\"{:.50f}\".format(b[1, 0]))"
   ]
  },
  {
   "cell_type": "code",
   "execution_count": null,
   "metadata": {},
   "outputs": [],
   "source": [
    "b"
   ]
  },
  {
   "cell_type": "markdown",
   "metadata": {},
   "source": [
    "## Pivoteamento parcial"
   ]
  },
  {
   "cell_type": "code",
   "execution_count": null,
   "metadata": {},
   "outputs": [],
   "source": [
    "# Inicialização de uma matriz A \n",
    "np.random.seed(1)\n",
    "A = 2 * (np.random.rand(10, 10) - 0.5)\n",
    "b = np.random.rand(10, 1)\n",
    "\n",
    "for k in range(10):\n",
    "    A[k, k] = 10 ** -16\n",
    "    \n",
    "A[1, 1] = -0.082040\n",
    "A[2, 2] = 4.036186"
   ]
  },
  {
   "cell_type": "code",
   "execution_count": null,
   "metadata": {},
   "outputs": [],
   "source": [
    "pd.DataFrame(A)"
   ]
  },
  {
   "cell_type": "code",
   "execution_count": null,
   "metadata": {},
   "outputs": [],
   "source": [
    "x = resolver_sistema(A, b)"
   ]
  },
  {
   "cell_type": "code",
   "execution_count": null,
   "metadata": {},
   "outputs": [],
   "source": [
    "print(A @ x)"
   ]
  },
  {
   "cell_type": "code",
   "execution_count": null,
   "metadata": {},
   "outputs": [],
   "source": [
    "print(b)"
   ]
  },
  {
   "cell_type": "markdown",
   "metadata": {},
   "source": [
    "Eliminação gaussiana com pivoteamento."
   ]
  },
  {
   "cell_type": "markdown",
   "metadata": {},
   "source": [
    "**1. Utilizando pivoteamento parcial, qual será o primeiro pivô da matriz $A$?**"
   ]
  },
  {
   "cell_type": "code",
   "execution_count": null,
   "metadata": {},
   "outputs": [],
   "source": [
    "pd.DataFrame(A)"
   ]
  },
  {
   "cell_type": "code",
   "execution_count": null,
   "metadata": {},
   "outputs": [],
   "source": []
  },
  {
   "cell_type": "markdown",
   "metadata": {},
   "source": [
    "**2. Realize o primeiro passo do pivoteamento parcial**"
   ]
  },
  {
   "cell_type": "code",
   "execution_count": null,
   "metadata": {},
   "outputs": [],
   "source": []
  },
  {
   "cell_type": "code",
   "execution_count": null,
   "metadata": {},
   "outputs": [],
   "source": [
    "pd.DataFrame(A)"
   ]
  },
  {
   "cell_type": "markdown",
   "metadata": {},
   "source": [
    "**3. Qual o valor máximo do módulo dos multiplicadores?**"
   ]
  },
  {
   "cell_type": "markdown",
   "metadata": {},
   "source": []
  },
  {
   "cell_type": "markdown",
   "metadata": {},
   "source": [
    "**4. Reescreva um laço para zerar os elementos abaixo do pivô da coluna 0**"
   ]
  },
  {
   "cell_type": "code",
   "execution_count": null,
   "metadata": {},
   "outputs": [],
   "source": []
  },
  {
   "cell_type": "markdown",
   "metadata": {},
   "source": [
    "**5. Qual será o segundo pivô?**"
   ]
  },
  {
   "cell_type": "code",
   "execution_count": null,
   "metadata": {},
   "outputs": [],
   "source": [
    "pd.DataFrame(A)"
   ]
  },
  {
   "cell_type": "code",
   "execution_count": null,
   "metadata": {},
   "outputs": [],
   "source": []
  },
  {
   "cell_type": "markdown",
   "metadata": {},
   "source": [
    "**6. Realize o segundo passo do pivoteamento parcial**"
   ]
  },
  {
   "cell_type": "code",
   "execution_count": null,
   "metadata": {},
   "outputs": [],
   "source": []
  },
  {
   "cell_type": "markdown",
   "metadata": {},
   "source": [
    "**7. Reescreva um laço para zerar os elementos da coluna 1**"
   ]
  },
  {
   "cell_type": "code",
   "execution_count": null,
   "metadata": {},
   "outputs": [],
   "source": []
  },
  {
   "cell_type": "code",
   "execution_count": null,
   "metadata": {},
   "outputs": [],
   "source": [
    "pd.DataFrame(A)"
   ]
  },
  {
   "cell_type": "markdown",
   "metadata": {},
   "source": [
    "**7. Realize o pivoteamento para a coluna 2 e e escreva um laço para zerar os elementos abaixo do pivô da coluna 2**"
   ]
  },
  {
   "cell_type": "code",
   "execution_count": null,
   "metadata": {},
   "outputs": [],
   "source": []
  },
  {
   "cell_type": "code",
   "execution_count": null,
   "metadata": {},
   "outputs": [],
   "source": [
    "pd.DataFrame(A)"
   ]
  },
  {
   "cell_type": "markdown",
   "metadata": {},
   "source": [
    "**8. Realize o pivoteamento para a coluna 3 e eeescreva um laço para zerar os elementos abaixo do pivô da coluna 3**"
   ]
  },
  {
   "cell_type": "code",
   "execution_count": null,
   "metadata": {},
   "outputs": [],
   "source": []
  },
  {
   "cell_type": "code",
   "execution_count": null,
   "metadata": {},
   "outputs": [],
   "source": [
    "pd.DataFrame(A)"
   ]
  },
  {
   "cell_type": "markdown",
   "metadata": {},
   "source": [
    "**9. Realize o pivoteamento para a coluna j e eeescreva um laço para zerar os elementos abaixo do pivô da coluna j**"
   ]
  },
  {
   "cell_type": "code",
   "execution_count": null,
   "metadata": {},
   "outputs": [],
   "source": [
    "j = 4"
   ]
  },
  {
   "cell_type": "markdown",
   "metadata": {},
   "source": [
    "**10. Escreva uma função `pivoteamento(A, j)` que realiza o pivoteamento parcial para a coluna `j` da matriz `A`.**"
   ]
  },
  {
   "cell_type": "code",
   "execution_count": null,
   "metadata": {},
   "outputs": [],
   "source": [
    "def pivoteamento(A, b, j):\n",
    "    pass"
   ]
  },
  {
   "cell_type": "code",
   "execution_count": null,
   "metadata": {},
   "outputs": [],
   "source": [
    "def eliminacao_gaussiana(matriz_coeficientes, termos_independentes):\n",
    "    '''\n",
    "    matriz_coeficientes é uma matriz n x n\n",
    "    termos_independentes é uma matriz n por 1\n",
    "    '''\n",
    "    \n",
    "    A = np.copy(matriz_coeficientes)\n",
    "    b = np.copy(termos_independentes)\n",
    "    tamanho = len(A)\n",
    "\n",
    "    for j in range(0, tamanho-1):\n",
    "        pivoteamento(A, b, j) ##!!! pivoteamento incluído aqui\n",
    "\n",
    "        pivo = A[j, j]\n",
    "\n",
    "        for k in range(j+1, tamanho):\n",
    "            m = -A[k, j] / pivo\n",
    "            A[k] = m * A[j] + A[k] # esta linha está realizando muitas operações desnecessárias\n",
    "            b[k] = m * b[j] + b[k]\n",
    "            A[k, j] = 0\n",
    "    \n",
    "    \n",
    "    return A, b"
   ]
  },
  {
   "cell_type": "markdown",
   "metadata": {},
   "source": [
    "**Verificar a solução do sistema**"
   ]
  },
  {
   "cell_type": "code",
   "execution_count": null,
   "metadata": {},
   "outputs": [],
   "source": [
    "# Inicialização de uma matriz A \n",
    "np.random.seed(1)\n",
    "A = 2 * (np.random.rand(10, 10) - 0.5)\n",
    "b = np.random.rand(10, 1)\n",
    "\n",
    "for k in range(10):\n",
    "    A[k, k] = 10 ** -16\n",
    "    \n",
    "A[1, 1] = -0.082040\n",
    "A[2, 2] = 4.036186\n",
    "\n",
    "x = resolver_sistema(A, b)\n",
    "print(A @ x)\n",
    "print()\n",
    "print(b)"
   ]
  },
  {
   "cell_type": "markdown",
   "metadata": {},
   "source": [
    "O numpy possui para resolução de matrizes que utiliza a eliminação gaussiana. Devemos utilizar a função do numpy ou nossa implementação?"
   ]
  },
  {
   "cell_type": "code",
   "execution_count": null,
   "metadata": {},
   "outputs": [],
   "source": [
    "A = np.random.rand(1000, 1000)\n",
    "b = np.random.rand(1000, 1)\n",
    "%timeit resolver_sistema(A, b)"
   ]
  },
  {
   "cell_type": "code",
   "execution_count": null,
   "metadata": {},
   "outputs": [],
   "source": [
    "%timeit np.linalg.solve(A, b)"
   ]
  }
 ],
 "metadata": {
  "colab": {
   "name": "pivoteamento_parcial.ipynb",
   "provenance": []
  },
  "kernelspec": {
   "display_name": "Python 3",
   "language": "python",
   "name": "python3"
  },
  "language_info": {
   "codemirror_mode": {
    "name": "ipython",
    "version": 3
   },
   "file_extension": ".py",
   "mimetype": "text/x-python",
   "name": "python",
   "nbconvert_exporter": "python",
   "pygments_lexer": "ipython3",
   "version": "3.7.6"
  }
 },
 "nbformat": 4,
 "nbformat_minor": 1
}
