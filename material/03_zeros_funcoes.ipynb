{
 "cells": [
  {
   "cell_type": "markdown",
   "metadata": {},
   "source": [
    "<a href=\"https://githubtocolab.com/cn-ufpe/cn-ufpe.github.io/blob/master/material/03_zeros_funcoes.ipynb\" target=\"_parent\"><img src=\"https://colab.research.google.com/assets/colab-badge.svg\" alt=\"Open in Colab\"/></a>"
   ]
  },
  {
   "cell_type": "markdown",
   "metadata": {
    "id": "xMxNci9rOhCd"
   },
   "source": [
    "# **Zeros de Funções**"
   ]
  },
  {
   "cell_type": "markdown",
   "metadata": {
    "id": "DhWSyf4VQJxf"
   },
   "source": [
    "**O que são zeros de funções?**\n",
    "\n",
    "Um número real ξ é zero ou raiz da função f(x) se f(ξ) = 0\n"
   ]
  },
  {
   "cell_type": "code",
   "execution_count": null,
   "metadata": {
    "id": "Sa9S9qOLQbOm"
   },
   "outputs": [],
   "source": [
    "import numpy as np \n",
    "import matplotlib.pyplot as plt  # biblioteca para plotar gráficos"
   ]
  },
  {
   "cell_type": "markdown",
   "metadata": {
    "id": "mnq0oVTiTxuv"
   },
   "source": [
    "**Aproximação inicial**\n",
    "\n",
    "\n",
    "*   ***(a) Estudo Gráfico***\n",
    "\n",
    "  Na análise gráfica da função f(x) podemos utilizar um dos seguintes processos:\n",
    "*     (i) Esboçar o gráfico da função f(x) e localizar as abscissas dos pontos onde a curva intercepta o eixo x.\n",
    "*     (ii) A partir da equação f(x) = 0, obter a equação equivalente g(x) = h(x) e localizar os pontos x onde as duas curvas se interceptam: \n",
    "    *     f(ξ) = 0 <=> g(ξ) = h(ξ)\n"
   ]
  },
  {
   "cell_type": "markdown",
   "metadata": {},
   "source": [
    "\n",
    "### Exemplo 1:  $f(x) = x^3 - 9*x + 3.$\n",
    "Utilizando o gráfico da função f(x)"
   ]
  },
  {
   "cell_type": "code",
   "execution_count": null,
   "metadata": {
    "colab": {
     "base_uri": "https://localhost:8080/",
     "height": 265
    },
    "id": "qEkkByDPRMmv",
    "outputId": "f9afb801-122d-4d14-86a3-81345bba6583"
   },
   "outputs": [],
   "source": [
    "# define a função f(x)\n",
    "\n",
    "def f(x): \n",
    "    return x**3 - 9*x + 3  \n",
    "\n",
    "x = np.linspace(-4,4) #limites no eixo x\n",
    "plt.plot(x, f(x)) \n",
    "plt.grid()\n",
    "plt.show()"
   ]
  },
  {
   "cell_type": "markdown",
   "metadata": {
    "id": "pLd-09m3TatY"
   },
   "source": [
    "As raízes estão nos intervalos: \n",
    "\n",
    "*   ξ1 => (-4, -3)\n",
    "*   ξ2 => (0, 1)\n",
    "*   ξ3 => (2, 3)"
   ]
  },
  {
   "cell_type": "markdown",
   "metadata": {},
   "source": [
    "### Exemplo:  $g(x) = x^3$ e $h(x) = 9*x - 3$\n",
    "A partir da equação f(x) = 0, obter a equação equivalente g(x) = h(x) "
   ]
  },
  {
   "cell_type": "code",
   "execution_count": null,
   "metadata": {
    "colab": {
     "base_uri": "https://localhost:8080/",
     "height": 265
    },
    "id": "dqm8t9U2SIok",
    "outputId": "a71601c7-c8df-4a3d-cc0b-53e306fd7ee1"
   },
   "outputs": [],
   "source": [
    "def g(x): \n",
    "    return x**3 \n",
    "\n",
    "def h(x): \n",
    "    return 9*x - 3 \n",
    "\n",
    "x = np.linspace(-4,4) #limites no eixo x\n",
    "plt.plot(x, g(x), color='blue') # azul\n",
    "plt.plot(x, h(x), color='red') # vermelho\n",
    "plt.grid() \n",
    "plt.show()"
   ]
  },
  {
   "cell_type": "code",
   "execution_count": null,
   "metadata": {
    "colab": {
     "base_uri": "https://localhost:8080/",
     "height": 265
    },
    "id": "SSNA4CaCTZuj",
    "outputId": "8d521f7f-91ed-4c81-b8ec-27eb901e2af6"
   },
   "outputs": [],
   "source": [
    "#Esboçando os gráficos: f(x), g(x) e h(x) \n",
    "\n",
    "x = np.linspace(-4,4) #limites no eixo x\n",
    "plt.plot(x, g(x), color = 'blue') #azul\n",
    "plt.plot(x, h(x), color = 'orange') #laranja\n",
    "plt.plot(x, f(x), color = 'green') #verde\n",
    "plt.grid()\n",
    "plt.show()"
   ]
  },
  {
   "cell_type": "markdown",
   "metadata": {
    "id": "q_U1Xz3OZ8xE"
   },
   "source": [
    "**Aproximação inicial**\n",
    "\n",
    "\n",
    "*   ***(b) Estudo Analítico***\n",
    "\n",
    "Para ter a certeza da localização da raiz usaremos o **Teorema de Bolzano**:\n",
    "*   “Se $f(x)$ é uma função contínua em um certo intervalo $[a, b]$ e troca de sinal nos extremos deste intervalo, isto é, $f(a)*f(b) < 0$, então existe pelo menos uma raiz real de $f(x)$ em $[a, b]$.” \n",
    "\n",
    "Além  disso, “se $f’(x)$ existir e preservar o sinal no intervalo $[a, b]$, existirá uma única raiz real de $f(x)$ nele.”\n",
    "[a, b] será o intervalo de separação."
   ]
  },
  {
   "cell_type": "markdown",
   "metadata": {},
   "source": [
    "### Exercício $f(x) = x^3 - 9*x + 3$, há raizes nos intervalos: (a) [-5, -3], (b) [1, 2] e (c) [2.5, 3]?\n",
    "Podemos aplicar aplicar o Teorema de Bolzano f(a)*f(b) < 0, no intervalo [a, b]"
   ]
  },
  {
   "cell_type": "code",
   "execution_count": null,
   "metadata": {
    "colab": {
     "base_uri": "https://localhost:8080/"
    },
    "id": "Szse68rscfeX",
    "outputId": "4ba880ec-c019-4ae2-82ac-01956f8f5a96"
   },
   "outputs": [],
   "source": [
    "#(a) f(-5)*f(-3) < 0 ??\n",
    "def f(x): \n",
    "    return x**3 - 9*x + 3 \n",
    "\n",
    "if f(-5)*f(-3) < 0: \n",
    "    print(\" Existe uma raiz está no intervalo [-5, 3]!\")\n",
    "\n",
    "else: \n",
    "    print(\"Não sabemos se existe uma raiz no intervalo [-5, 3]!\")\n",
    "\n",
    "\n",
    "#(b) f(1)*f(2) < 0 ?\n",
    "#(c) f(2.5)*f(3) < 0 ? "
   ]
  },
  {
   "cell_type": "markdown",
   "metadata": {
    "id": "AN8qPfkMoH10"
   },
   "source": [
    "**Aproximação inicial**\n",
    "\n",
    "\n",
    "*   ***(a) Estudo Analítico***\n",
    "\n",
    "“se $f’(x)$ existir e preservar o sinal no intervalo $[a, b]$, existirá uma única raiz real de $f(x)$ no intervalo.”\n",
    "[a, b] será o intervalo de separação.\n",
    "\n",
    "Considere a função $f(x) = sen(x) + ln(x)$,\n",
    "\n",
    "$f'(x) = cos(x) + 1/x$"
   ]
  },
  {
   "cell_type": "code",
   "execution_count": null,
   "metadata": {
    "colab": {
     "base_uri": "https://localhost:8080/"
    },
    "id": "dsOXOPBToaDx",
    "outputId": "373de978-c874-4012-854d-61a63d75b007"
   },
   "outputs": [],
   "source": [
    "# Se f(x) = sin(x) + ln(x)\n",
    "\n",
    "def df(x): \n",
    "    return np.cos(x) + 1/x "
   ]
  },
  {
   "cell_type": "markdown",
   "metadata": {
    "id": "J9gwVkwljXot"
   },
   "source": [
    "Exercício:\n",
    "Se f(x) = sin(x) + ln(x), a derivada f'(x) é sempre positiva ou negativa no intervalo [0.2, 0.8]?"
   ]
  },
  {
   "cell_type": "code",
   "execution_count": null,
   "metadata": {
    "id": "PoFLvFPZG6cH"
   },
   "outputs": [],
   "source": [
    "# Solução:\n",
    "x = np.linspace(0.2, 0.8)\n",
    "y = df(x)\n",
    "\n",
    "plt.plot(x, y)\n",
    "plt.show()"
   ]
  },
  {
   "cell_type": "markdown",
   "metadata": {
    "id": "YvGdnZUnjoxQ"
   },
   "source": [
    "**Critério de Parada**\n",
    "Os principais critérios de parada dos métodos iterativos para resolver equações:\n",
    "\n",
    "*   Número de iterações\n",
    "*   Erro absoluto\n",
    "*   Valor da imagem\n",
    "\n",
    "\n",
    "\n"
   ]
  },
  {
   "cell_type": "markdown",
   "metadata": {
    "id": "adu40abUPgw_"
   },
   "source": [
    "**Método da Bisseção**\n",
    "\n",
    "O método da Bisseção se enquadra na categoria dos métodos de quebra. Estes métodos partem de um intervalo de separação de uma raiz de uma função específica e o \"quebra\" em dois subintervalos. Abandonam o subintervalo que não contém a raiz procurada e repetem o processo para o subintervalo onde a raiz está, e assim sucessivamente. No caso da bisseção, até que a amplitude (distância entre os extremos a e b) deste subintervalo seja tão pequena quanto se queira."
   ]
  },
  {
   "cell_type": "markdown",
   "metadata": {
    "id": "sPL96y4dsirL"
   },
   "source": [
    "Execício(2): Determinar, usando o método da Bisseção, o valor aproximado da raiz das funções abaixo (importe a biblioteca math):\n",
    "*   (a) f(x) = x**2 - 5; no intervalo I=[a, b]=[2, 3], utilizando como critério de parada (b-a)/2 <= E (erro), E=0.01.\n",
    "*   (b) f(x) = sin(x) + ln(x); no intervalo I=[a, b]=[0.2, 0.8], utilizando como critério de parada c = b - a <= l (amplitude final), l = 0.05.\n",
    "*   (c) f(x) = sin(x) + ln(x); no intervalo I=[a, b]=[0.2, 0.8], utilizando como critério de parada: f(x0) <= P2, onde: x0= (a+b)/2 e P2 = precisão relacionada à distância da  imagem de 𝑥0 para o eixo x), P2 = 0.01.\n",
    "\n",
    "\n",
    "\n",
    " "
   ]
  },
  {
   "cell_type": "markdown",
   "metadata": {
    "id": "Y8XIrtR207iN"
   },
   "source": [
    "**RESPOSTA:**\n",
    "\n",
    "(a) $f(x) = x^2 - 5$; no intervalo $I=[2, 3]$, utilizando como critério de parada quando acontecer $(b-a)/2 <= E$ (erro), com $E=0.01$"
   ]
  },
  {
   "cell_type": "code",
   "execution_count": null,
   "metadata": {
    "id": "xNkvcRrQbNyG"
   },
   "outputs": [],
   "source": [
    "# Importar a biblioteca matemática\n",
    "import math"
   ]
  },
  {
   "cell_type": "code",
   "execution_count": null,
   "metadata": {
    "id": "vNu73cI2bkPH"
   },
   "outputs": [],
   "source": [
    "# Definir um intervalo [a, b] e um erro E\n",
    "a = 2\n",
    "b = 3\n",
    "E = 0.01"
   ]
  },
  {
   "cell_type": "code",
   "execution_count": null,
   "metadata": {
    "id": "e0LlC0dRbknL"
   },
   "outputs": [],
   "source": [
    "# Definir uma função (LETRA (a))\n",
    "def f(x):\n",
    "    return x**2 - 5"
   ]
  },
  {
   "cell_type": "code",
   "execution_count": null,
   "metadata": {
    "colab": {
     "base_uri": "https://localhost:8080/",
     "height": 265
    },
    "id": "IVD3j2RUdZwM",
    "outputId": "8649cab2-878f-4be5-a31c-73a33449fe91"
   },
   "outputs": [],
   "source": [
    "# Plotar o gráfico de f(x) = x**2 - 5\n",
    "\n",
    "x = np.linspace(-4,4) #limites no eixo x\n",
    "\n",
    "plt.plot(x, f(x)) \n",
    "plt.grid()\n",
    "plt.show()"
   ]
  },
  {
   "cell_type": "code",
   "execution_count": null,
   "metadata": {
    "colab": {
     "base_uri": "https://localhost:8080/"
    },
    "id": "2XIS0QYCb4Dz",
    "outputId": "c0c18716-0dc5-4c81-8623-45e8c5b107de"
   },
   "outputs": [],
   "source": [
    "# Teorema de Bolzano e Método da Bisseção\n",
    "\n",
    "def bissecao(f, a, b, E):\n",
    "    pass\n",
    "    \n",
    "\n",
    "# Definir um intervalo [a, b] e um erro E\n",
    "\n",
    "def f(x):\n",
    "    return x**2 - 5\n",
    "    \n",
    "a = 2\n",
    "b = 3\n",
    "E = 1e-10\n",
    "\n",
    "xi = bissecao(f, a, b, E)\n",
    "print('o valor da raiz é ', xi)\n",
    "print('f(xi) = ', f(xi))"
   ]
  },
  {
   "cell_type": "markdown",
   "metadata": {
    "id": "sqgbMKJv1m0i"
   },
   "source": [
    "**RESPOSTA:**\n",
    "\n",
    "(b) f(x) = sin(x) + ln(x); no intervalo I=[a, b]=[0.2, 0.8], utilizando como critério de parada c = b - a <= l (amplitude final), l = 0.05."
   ]
  },
  {
   "cell_type": "code",
   "execution_count": null,
   "metadata": {
    "id": "kIou9Qnu41qp"
   },
   "outputs": [],
   "source": []
  },
  {
   "cell_type": "markdown",
   "metadata": {
    "id": "-ennJGKs1oNc"
   },
   "source": [
    "**RESPOSTA:**\n",
    "\n",
    "(c) f(x) = sin(x) + ln(x); no intervalo I=[a, b]=[0.2, 0.8], utilizando como critério de parada: f(x0) <= P2, onde: x0= (a+b)/2 e P2 = precisão relacionada à distância da  imagem de 𝑥0 para o eixo x), P2 = 0.01.\n",
    "\n"
   ]
  },
  {
   "cell_type": "code",
   "execution_count": null,
   "metadata": {
    "id": "VdzCrI6o42VM"
   },
   "outputs": [],
   "source": []
  }
 ],
 "metadata": {
  "colab": {
   "collapsed_sections": [],
   "name": "zeros_funcoes01.ipynb",
   "provenance": []
  },
  "kernelspec": {
   "display_name": "Python 3",
   "language": "python",
   "name": "python3"
  },
  "language_info": {
   "codemirror_mode": {
    "name": "ipython",
    "version": 3
   },
   "file_extension": ".py",
   "mimetype": "text/x-python",
   "name": "python",
   "nbconvert_exporter": "python",
   "pygments_lexer": "ipython3",
   "version": "3.7.6"
  }
 },
 "nbformat": 4,
 "nbformat_minor": 1
}
