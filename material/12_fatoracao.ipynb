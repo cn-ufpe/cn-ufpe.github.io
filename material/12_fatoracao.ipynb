{
 "cells": [
  {
   "cell_type": "markdown",
   "metadata": {
    "id": "DFWuvz5jDJoj"
   },
   "source": [
    "# Fatoração LU"
   ]
  },
  {
   "cell_type": "markdown",
   "metadata": {
    "id": "DbqzNUINDOQ7"
   },
   "source": [
    "1. Assista o vídeo sobre fatoração LU.\n",
    "https://youtu.be/MG4Ek9niGTA\n",
    "\n",
    "A matriz A do vídeo possui fatoração LU, como descrito abaixo."
   ]
  },
  {
   "cell_type": "code",
   "execution_count": null,
   "metadata": {
    "colab": {
     "base_uri": "https://localhost:8080/"
    },
    "id": "462zBe8tIS-I",
    "outputId": "74e0cb30-2fb0-41d5-e689-c64ee1bee8a8"
   },
   "outputs": [
    {
     "name": "stdout",
     "output_type": "stream",
     "text": [
      "A = \n",
      " [[ 2  3  1  5]\n",
      " [ 6 13  5 19]\n",
      " [ 2 19 10 23]\n",
      " [ 4 10 11 31]]\n",
      "\n",
      "L = \n",
      " [[1 0 0 0]\n",
      " [3 1 0 0]\n",
      " [1 4 1 0]\n",
      " [2 1 7 1]]\n",
      "\n",
      "U = \n",
      " [[2 3 1 5]\n",
      " [0 4 2 4]\n",
      " [0 0 1 2]\n",
      " [0 0 0 3]]\n"
     ]
    },
    {
     "data": {
      "text/plain": [
       "True"
      ]
     },
     "execution_count": 39,
     "metadata": {
      "tags": []
     },
     "output_type": "execute_result"
    }
   ],
   "source": [
    "import numpy as np\n",
    "A = np.array([[2, 3, 1, 5], [6, 13, 5, 19], [2, 19, 10, 23], [4, 10, 11, 31]])\n",
    "print('A = \\n', A)\n",
    "L = np.array([[1, 0, 0, 0], [3, 1, 0, 0], [1, 4, 1, 0], [2, 1, 7, 1]])\n",
    "U = np.array([[2, 3, 1, 5], [0, 4, 2, 4], [0, 0, 1, 2], [0, 0, 0, 3]])\n",
    "\n",
    "print()\n",
    "print('L = \\n', L)\n",
    "\n",
    "print()\n",
    "print('U = \\n', U)\n",
    "\n",
    "B = L @ U\n",
    "np.array_equal(B, A)"
   ]
  },
  {
   "cell_type": "markdown",
   "metadata": {
    "id": "MBP9ZKQEDsoB"
   },
   "source": [
    "2. Determine a fatoração LU da matriz A abaixo e verifique se sua resposta está correta.\n",
    "\n",
    "$$A = \\begin{bmatrix}\n",
    "4 & -5 & 6 \\\\\n",
    "8 & -6 & 7 \\\\\n",
    "12 & -7 & 12\n",
    "\\end{bmatrix}$$"
   ]
  },
  {
   "cell_type": "code",
   "execution_count": null,
   "metadata": {
    "id": "HUCrT1UUDozU"
   },
   "outputs": [],
   "source": []
  },
  {
   "cell_type": "markdown",
   "metadata": {
    "id": "ek5TYXF6Rw_p"
   },
   "source": [
    "# Fatoração Cholesky\n",
    "3. Assita o vídeo sobre a descomposição de Cholesky\n",
    "https://youtu.be/bXoGSTBlT5M?t=191"
   ]
  },
  {
   "cell_type": "markdown",
   "metadata": {
    "id": "dAs6_bcdUV-x"
   },
   "source": [
    "\n",
    "4. Resolva o sistema em https://youtu.be/bXoGSTBlT5M?t=191 utilizando $A^TAx = A^T b$"
   ]
  },
  {
   "cell_type": "code",
   "execution_count": null,
   "metadata": {
    "id": "Slszt4Q9SEzP"
   },
   "outputs": [],
   "source": []
  },
  {
   "cell_type": "markdown",
   "metadata": {
    "id": "ooftlMYWVqBr"
   },
   "source": [
    "5. Determine uma matriz triangular inferior $L$, onde $A = LL^T$ e verifique sua resposta.\n",
    "\n",
    "$$A=\\begin{bmatrix}\n",
    "4 & -2 & 4 \\\\\n",
    "-2 & 5 & -4 \\\\\n",
    "4 & -4 & 14\n",
    "\\end{bmatrix}$$"
   ]
  },
  {
   "cell_type": "code",
   "execution_count": null,
   "metadata": {
    "id": "xXbLI5qOpe-f"
   },
   "outputs": [],
   "source": []
  }
 ],
 "metadata": {
  "colab": {
   "name": "Fatoração LU e Cholesky.ipynb",
   "provenance": []
  },
  "kernelspec": {
   "display_name": "Python 3",
   "language": "python",
   "name": "python3"
  },
  "language_info": {
   "codemirror_mode": {
    "name": "ipython",
    "version": 3
   },
   "file_extension": ".py",
   "mimetype": "text/x-python",
   "name": "python",
   "nbconvert_exporter": "python",
   "pygments_lexer": "ipython3",
   "version": "3.7.6"
  }
 },
 "nbformat": 4,
 "nbformat_minor": 1
}
