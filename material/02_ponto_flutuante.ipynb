{
 "cells": [
  {
   "cell_type": "markdown",
   "metadata": {},
   "source": [
    "<a href=\"https://githubtocolab.com/cn-ufpe/cn-ufpe.github.io/blob/master/material/02_ponto_flutuante.ipynb\" target=\"_parent\"><img src=\"https://colab.research.google.com/assets/colab-badge.svg\" alt=\"Open in Colab\"/></a>\n",
    "\n",
    "# Números com ponto flutuante"
   ]
  },
  {
   "cell_type": "markdown",
   "metadata": {},
   "source": [
    "### Mudança de base"
   ]
  },
  {
   "cell_type": "markdown",
   "metadata": {},
   "source": [
    "Qual a representação binária dos números 37 e 0.1? Por que o 0.1 não é representado corretamente no computador."
   ]
  },
  {
   "cell_type": "markdown",
   "metadata": {},
   "source": [
    "### Quais os limites de representação de números do tipo float?"
   ]
  },
  {
   "cell_type": "code",
   "execution_count": null,
   "metadata": {},
   "outputs": [],
   "source": [
    "a = 2.45*(10**3)\n",
    "b = 2.45e3\n",
    "print('a = ', a, '\\nb = ',b)"
   ]
  },
  {
   "cell_type": "markdown",
   "metadata": {},
   "source": [
    "O maior expoente da base 10 que um número pode ter é 308. O que ocorre se quisermos representar o número $10^{309}$?"
   ]
  },
  {
   "cell_type": "code",
   "execution_count": null,
   "metadata": {},
   "outputs": [],
   "source": [
    "import sys\n",
    "sys.float_info.max_10_exp"
   ]
  },
  {
   "cell_type": "code",
   "execution_count": null,
   "metadata": {},
   "outputs": [],
   "source": [
    "1e309"
   ]
  },
  {
   "cell_type": "markdown",
   "metadata": {},
   "source": [
    "O termo \"inf\" representa um número (muito grande, em módulo), que extrapola o limite de representação desta máquina (sendo representado por \"inf\"). Na reta real, está região é chamada de  **overflow** (ocorre para números positivos e para números negativos)."
   ]
  },
  {
   "cell_type": "markdown",
   "metadata": {},
   "source": [
    "O menor expoente que esta máquina suporta representar é -308. E se quisermos representar o número $10^{-400}$?"
   ]
  },
  {
   "cell_type": "code",
   "execution_count": null,
   "metadata": {},
   "outputs": [],
   "source": [
    "b = 1.2e-300\n",
    "print('b = ',b)"
   ]
  },
  {
   "cell_type": "code",
   "execution_count": null,
   "metadata": {},
   "outputs": [],
   "source": [
    "b = 1.2e-400\n",
    "print('b = ',b)"
   ]
  },
  {
   "cell_type": "markdown",
   "metadata": {},
   "source": [
    "A região dos pequenos números (em módulo), que a máquina não consegue representar (e aponta todos eles para o zero) é chamada de **underflow**. Observe que a na reta real de underflow consiste de um subconjunto de números positivo e o mesmo refletido dos negativos. O \"zero\" não pertence ao underflow, pois a máquina consegue representá-lo."
   ]
  },
  {
   "cell_type": "code",
   "execution_count": null,
   "metadata": {},
   "outputs": [],
   "source": [
    "from numpy import sqrt\n",
    "sqrt(-1)"
   ]
  },
  {
   "cell_type": "markdown",
   "metadata": {},
   "source": [
    "o termo \"nan\" representa \"not a number\", ou seja, o resultado da operação não pode ser representado por um número ... algo similar acontece quando temos divsão 0/0 ou infinito/infinito ... "
   ]
  },
  {
   "cell_type": "code",
   "execution_count": null,
   "metadata": {},
   "outputs": [],
   "source": [
    "float('inf') / float('inf')"
   ]
  },
  {
   "cell_type": "code",
   "execution_count": null,
   "metadata": {},
   "outputs": [],
   "source": [
    "float('inf') - float('inf')"
   ]
  },
  {
   "cell_type": "markdown",
   "metadata": {},
   "source": [
    "### Cancelamento catastrófico"
   ]
  },
  {
   "cell_type": "code",
   "execution_count": null,
   "metadata": {},
   "outputs": [],
   "source": [
    "a = sqrt(2)\n",
    "print('a = ', a)"
   ]
  },
  {
   "cell_type": "markdown",
   "metadata": {},
   "source": [
    "O valor da variável ```a``` é uma aproximação de $\\sqrt{2}$. Existem erros de arredondamento, pois o computador só pode representar um conjunto finito de dígitos."
   ]
  },
  {
   "cell_type": "code",
   "execution_count": null,
   "metadata": {},
   "outputs": [],
   "source": [
    "a**2 - 2 # deveria resultar em 0"
   ]
  },
  {
   "cell_type": "code",
   "execution_count": null,
   "metadata": {},
   "outputs": [],
   "source": [
    "(a**2 - 2) * 1e20 # deveria resultar em 0"
   ]
  },
  {
   "cell_type": "markdown",
   "metadata": {},
   "source": [
    "Cancelamentos devido a subtração que mudam a ordem de grandeza podem introduzir erros numéricos."
   ]
  },
  {
   "cell_type": "markdown",
   "metadata": {},
   "source": [
    "### Número de dígitos significativos\n",
    "\n",
    "Para representar o número 763, são necessários três digitos, enquanto que para representar o número 6432 são necessário quatro dígitos. Na verdade com três dígitos é possivel representar 1000 inteiros, de 0 até 999. Com quatro dígitos é possivel representar 10000 inteiros, de 0 a 9999. Assim, usando a relação nº digitos ≈ log10(quantidade números) é possível calcular a ordem de dígitos decimais significativos. Dessa forma, se a quantidade de números distintos vale $2^{53}$, então ..."
   ]
  },
  {
   "cell_type": "code",
   "execution_count": null,
   "metadata": {},
   "outputs": [],
   "source": [
    "import numpy as np\n",
    "a = 2**53\n",
    "num_digitos_decimal = np.log10(a)\n",
    "print('num_digitos_decimal = ', num_digitos_decimal)\n",
    "print('num_digitos_decimal = ', int(num_digitos_decimal))"
   ]
  },
  {
   "cell_type": "markdown",
   "metadata": {},
   "source": [
    "O que ocorre se inicializarmos um número de ponto flutuante com 17 dígitos significativos?"
   ]
  },
  {
   "cell_type": "code",
   "execution_count": null,
   "metadata": {},
   "outputs": [],
   "source": [
    "numero = 1.2345678901234567890\n",
    "print(\"{:.30f}\".format(numero))"
   ]
  },
  {
   "cell_type": "markdown",
   "metadata": {},
   "source": [
    "Existe uma perda de precisão a partir do 15 dígito. Obtemos o número 1.234567890123456**690432135474111** ao invés de 1.234567890123456**7890**"
   ]
  },
  {
   "cell_type": "markdown",
   "metadata": {},
   "source": [
    "Este erro de precisão pode ocorrer ao realizar adições de números com magnitude muito diferentes.\n",
    "$10^{16} + 10^{-1} = 10^{16}$? Justifique."
   ]
  },
  {
   "cell_type": "code",
   "execution_count": null,
   "metadata": {},
   "outputs": [],
   "source": [
    "10 ** 16 + 10 ** -1 == 10**16"
   ]
  }
 ],
 "metadata": {
  "kernelspec": {
   "display_name": "Python 3",
   "language": "python",
   "name": "python3"
  },
  "language_info": {
   "codemirror_mode": {
    "name": "ipython",
    "version": 3
   },
   "file_extension": ".py",
   "mimetype": "text/x-python",
   "name": "python",
   "nbconvert_exporter": "python",
   "pygments_lexer": "ipython3",
   "version": "3.7.6"
  }
 },
 "nbformat": 4,
 "nbformat_minor": 4
}
