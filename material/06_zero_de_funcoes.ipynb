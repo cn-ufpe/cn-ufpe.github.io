{
  "nbformat": 4,
  "nbformat_minor": 0,
  "metadata": {
    "colab": {
      "name": "Aula06_10_06_2021_Zero_de_funcoes_p4",
      "provenance": []
    },
    "kernelspec": {
      "name": "python3",
      "display_name": "Python 3"
    },
    "language_info": {
      "name": "python"
    }
  },
  "cells": [
    {
      "cell_type": "markdown",
      "metadata": {
        "id": "Y3lJGSQ79X1M"
      },
      "source": [
        "#Método de Newton-Raphson"
      ]
    },
    {
      "cell_type": "markdown",
      "metadata": {
        "id": "jwTqVIOo9564"
      },
      "source": [
        "Para calcular o zero de funções reais usando o método de Newton. Consideramos que $x^*$ seja um zero de uma dada função $y = f(x)$ continuamente diferenciável, isto é, $f(x^*) = 0$.\n",
        "\n",
        "\n",
        "Seja uma dada função $f(x)$ conforme a Figura abaixo. Para tanto, escolhemos uma aproximação inicial $x^{(1)}$ e computamos:\n",
        "\n",
        "$x^{(2)} = x^{(1)} - \\frac{f(x^{(1)})}{f'(x^{(1)})}$\n"
      ]
    },
    {
      "cell_type": "markdown",
      "metadata": {
        "id": "ZJQIFl8SCB3V"
      },
      "source": [
        "![main9x.png](data:image/png;base64,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)"
      ]
    },
    {
      "cell_type": "markdown",
      "metadata": {
        "id": "yv0Hyxh3CKJM"
      },
      "source": [
        "Geometricamente, o ponto $x^{(2)}$ é a interseção da reta tangente ao gráfico da função $f(x)$ no ponto $x = x^{(1)}$ com o eixo das abscissas. Ou seja, dada aproximação $x^{(n)}$, a próxima aproximação $x^{(n + 1)}$ é o ponto de interseção entre o eixo das abscissas e a reta tangente ao gráfico da função no ponto $x = x^{(n)}$."
      ]
    },
    {
      "cell_type": "markdown",
      "metadata": {
        "id": "IuiIcc2JFB1s"
      },
      "source": [
        "##Questão 1 (Exemplo da video-aula resolvido com 1 clique) Dada a função $f(x) = x^3 - 9x + 3$, determine o zero de $f(x)$, pelo método de Newton, $\\epsilon = 1e^{-2}$,   $x^{(0)} = 0.5$ e número máximo de iterações = 100. "
      ]
    },
    {
      "cell_type": "code",
      "metadata": {
        "colab": {
          "base_uri": "https://localhost:8080/",
          "height": 265
        },
        "id": "MEhaquOh1deU",
        "outputId": "a4a1e925-5d9e-4987-c535-54861ce1acb3"
      },
      "source": [
        "def f(x):\n",
        "  return x**3 -9*x + 3\n",
        "import numpy as np \n",
        "import matplotlib.pyplot as plt  # biblioteca para plotar gráficos\n",
        "x = np.linspace(-3.5,3) #limites no eixo x\n",
        "plt.plot(x, f(x)) \n",
        "plt.grid()\n",
        "plt.show()"
      ],
      "execution_count": null,
      "outputs": [
        {
          "output_type": "display_data",
          "data": {
            "image/png": "[encoded data removed]",
            "text/plain": [
              "<Figure size 432x288 with 1 Axes>"
            ]
          },
          "metadata": {
            "tags": [],
            "needs_background": "light"
          }
        }
      ]
    },
    {
      "cell_type": "code",
      "metadata": {
        "colab": {
          "base_uri": "https://localhost:8080/"
        },
        "id": "K8xG0lFpFGI8",
        "outputId": "a682850b-c6b8-4a6e-84d2-1374dae970a8"
      },
      "source": [
        "''' Metodo de Newton para computar o zero de uma funcao\n",
        "Entradas: função f, função_derivada df, x_inicial x0, erro eps, número_máx_iterações itmax\n",
        "saida: [raiz, erraval, iter]'''\n",
        "from math import *\n",
        "import math\n",
        "def newton(f,df,x0,eps,itmax):\n",
        "    L=range(1,itmax+1)\n",
        "    iteracao=0\n",
        "    a=x0\n",
        "    print('k = ',0,'  raiz = ',x0, '  |f(raiz)| = ',math.fabs(f(x0)),'  |df(raiz)| = ', math.fabs(df(x0)))\n",
        "    \n",
        "    for i in L:\n",
        "        raiz=a\n",
        "        if df(raiz) != 0: # se a derivada for zero sai    \n",
        "            raiz=raiz-f(raiz)/df(raiz) #função geradora\n",
        "            erro= math.fabs(raiz-a)\n",
        "            a=raiz\n",
        "            iteracao=i\n",
        "        else:\n",
        "            iteracao = itmax+1\n",
        "            break\n",
        "        print('k = ',i,'  raiz = ',raiz, '  |f(raiz)| = ',math.fabs(f(raiz)),'  |df(raiz)| = ',math.fabs(df(raiz)), ' erro = ',erro)\n",
        "        if abs(erro) <= eps:\n",
        "            break\n",
        "    if iteracao > itmax:\n",
        "        iteracao = 0.25\n",
        "    elif iteracao == itmax:\n",
        "        iteracao = 0.75\n",
        "    return [raiz, erro, iteracao]\n",
        "\n",
        "# teste :\n",
        "f= lambda x: x**3 - 9*x + 3\n",
        "df= lambda x: 3*x**2 - 9\n",
        "\n",
        "L=newton(f,df,0.5,0.01,100)\n",
        "print ('\\n',L)"
      ],
      "execution_count": null,
      "outputs": [
        {
          "output_type": "stream",
          "text": [
            "k =  0   raiz =  0.5   |f(raiz)| =  1.375   |df(raiz)| =  8.25\n",
            "k =  1   raiz =  0.33333333333333337   |f(raiz)| =  0.03703703703703676   |df(raiz)| =  8.666666666666666  erro =  0.16666666666666663\n",
            "k =  2   raiz =  0.33760683760683763   |f(raiz)| =  1.834088509511389e-05   |df(raiz)| =  8.658064869603331  erro =  0.004273504273504258\n",
            "\n",
            " [0.33760683760683763, 0.004273504273504258, 2]\n"
          ],
          "name": "stdout"
        }
      ]
    },
    {
      "cell_type": "markdown",
      "metadata": {
        "id": "P1HpPuf96o6p"
      },
      "source": [
        "Refaça a questão 1, e teste para as seguintes condições iniciais: $x^{(0)} = -1.1; -1.2; -1.25; -1.3; -1.8$. Veja qual raiz está mais próximda de cada uma destas  condições iniciais."
      ]
    },
    {
      "cell_type": "markdown",
      "metadata": {
        "id": "yeEDvFPtC9vV"
      },
      "source": [
        "##Questão 2 Dada a função $f(x) = x^6 -x - 1$, determine o zero de $f(x)$, pelo método de Newton, $\\epsilon = 10^{-4}$,   $x^{(0)} = 1.5$ e número máximo de iterações = 100."
      ]
    },
    {
      "cell_type": "code",
      "metadata": {
        "colab": {
          "base_uri": "https://localhost:8080/",
          "height": 265
        },
        "id": "AUXD9RWC7hOe",
        "outputId": "be3d8a40-2ad7-462b-a050-5c8b7ad053b0"
      },
      "source": [
        "def f(x):\n",
        "  return x**6 -x -1\n",
        "import numpy as np \n",
        "import matplotlib.pyplot as plt  # biblioteca para plotar gráficos\n",
        "x = np.linspace(-1.5,1.5) #limites no eixo x\n",
        "plt.plot(x, f(x)) \n",
        "plt.grid()\n",
        "plt.show()"
      ],
      "execution_count": null,
      "outputs": [
        {
          "output_type": "display_data",
          "data": {
            "image/png": "[encoded data removed]",
            "text/plain": [
              "<Figure size 432x288 with 1 Axes>"
            ]
          },
          "metadata": {
            "tags": [],
            "needs_background": "light"
          }
        }
      ]
    },
    {
      "cell_type": "code",
      "metadata": {
        "colab": {
          "base_uri": "https://localhost:8080/"
        },
        "id": "D51K1vdm9Ybp",
        "outputId": "129045bf-05d1-44f4-f297-4633b9ecbd78"
      },
      "source": [
        "''' Metodo de Newton para computar o zero de uma funcao\n",
        "Entradas: função f, função_derivada df, x_inicial x0, erro eps, número_máx_iterações itmax\n",
        "saida: [raiz, erraval, iter]'''\n",
        "from math import *\n",
        "import math\n",
        "def newton(f,df,x0,eps,itmax):\n",
        "    L=range(1,itmax+1)\n",
        "    iteracao=0\n",
        "    a=x0\n",
        "    print('k = ',0,'  raiz = ',x0, '  |f(raiz)| = ',math.fabs(f(x0)), '  |df(raiz)| = ',math.fabs(df(x0)))\n",
        "    for i in L:\n",
        "        raiz=a\n",
        "        if df(raiz) != 0: # se a derivada for zero sai    \n",
        "            raiz=raiz-f(raiz)/df(raiz) #função geradora\n",
        "            erro= math.fabs(raiz-a)\n",
        "            a=raiz\n",
        "            iteracao=i\n",
        "            print('k = ',i,'  raiz = ',raiz, '  |f(raiz)| = ',math.fabs(f(raiz)), '  |df(raiz)| = ',math.fabs(df(raiz)), ' erro = ',erro)\n",
        "        else:\n",
        "            iteracao = itmax+1\n",
        "            break\n",
        "        if abs(erro) <= eps:\n",
        "            break\n",
        "    if iteracao > itmax:\n",
        "        iteracao = 0.25\n",
        "    elif iteracao == itmax:\n",
        "        iteracao = 0.75\n",
        "    return [raiz, erro, iteracao]\n",
        "\n",
        "# teste :\n",
        "f= lambda x: x**6 -x -1\n",
        "df= lambda x: 6*x**5-1\n",
        "\n",
        "L=newton(f,df,0.7,0.0001,100)\n",
        "print (L)"
      ],
      "execution_count": null,
      "outputs": [
        {
          "output_type": "stream",
          "text": [
            "k =  0   raiz =  0.7   |f(raiz)| =  1.582351   |df(raiz)| =  0.00841999999999965\n",
            "k =  1   raiz =  188.62767220903393   |f(raiz)| =  45043531402652.875   |df(raiz)| =  1432775929702.2317  erro =  187.92767220903394\n",
            "k =  2   raiz =  157.189726840972   |f(raiz)| =  15084987529256.678   |df(raiz)| =  575800511873.7843  erro =  31.437945368061918\n",
            "k =  3   raiz =  130.99143903437258   |f(raiz)| =  5051931801770.918   |df(raiz)| =  231401311679.09842  erro =  26.19828780659944\n",
            "k =  4   raiz =  109.15953252911987   |f(raiz)| =  1691881738718.683   |df(raiz)| =  92994997300.45007  erro =  21.831906505252704\n",
            "k =  5   raiz =  90.96627710858883   |f(raiz)| =  566607771061.2621   |df(raiz)| =  37372603726.21556  erro =  18.193255420531045\n",
            "k =  6   raiz =  75.80523092587914   |f(raiz)| =  189755796084.65936   |df(raiz)| =  15019211246.862621  erro =  15.161046182709683\n",
            "k =  7   raiz =  63.17102577583855   |f(raiz)| =  63548832159.46776   |df(raiz)| =  6035884150.934547  erro =  12.634205150040593\n",
            "k =  8   raiz =  52.64252148875273   |f(raiz)| =  21282375300.01303   |df(raiz)| =  2425686468.9996495  erro =  10.528504287085823\n",
            "k =  9   raiz =  43.86876792579129   |f(raiz)| =  7127424418.054702   |df(raiz)| =  974828990.0918314  erro =  8.773753562961438\n",
            "k =  10   raiz =  36.557306643353144   |f(raiz)| =  2386960009.111475   |df(raiz)| =  391761909.1355946  erro =  7.311461282438145\n",
            "k =  11   raiz =  30.46442228310945   |f(raiz)| =  799388071.2267134   |df(raiz)| =  157440326.32917005  erro =  6.092884360243694\n",
            "k =  12   raiz =  25.387018736858   |f(raiz)| =  267713442.3909648   |df(raiz)| =  63271737.57306181  erro =  5.07740354625145\n",
            "k =  13   raiz =  21.155849297551423   |f(raiz)| =  89656685.77192387   |df(raiz)| =  25427493.779370554  erro =  4.231169439306576\n",
            "k =  14   raiz =  17.629875147292747   |f(raiz)| =  30025838.93789001   |df(raiz)| =  10218740.987759095  erro =  3.5259741502586763\n",
            "k =  15   raiz =  14.69156415831107   |f(raiz)| =  10055589.56206314   |df(raiz)| =  4106684.3652633606  erro =  2.9383109889816765\n",
            "k =  16   raiz =  12.242973356661215   |f(raiz)| =  3367593.9328205506   |df(raiz)| =  1650385.9171429551  erro =  2.448590801649855\n",
            "k =  17   raiz =  10.20248458501057   |f(raiz)| =  1127798.1289779295   |df(raiz)| =  663254.6934922414  erro =  2.0404887716506455\n",
            "k =  18   raiz =  8.502084813936621   |f(raiz)| =  377695.37979409983   |df(raiz)| =  266548.8334665727  erro =  1.7003997710739487\n",
            "k =  19   raiz =  7.085101010698684   |f(raiz)| =  126487.76487808111   |df(raiz)| =  107121.69291975924  erro =  1.4169838032379376\n",
            "k =  20   raiz =  5.904315294654891   |f(raiz)| =  42359.07466635989   |df(raiz)| =  43051.557528566926  erro =  1.1807857160437925\n",
            "k =  21   raiz =  4.920400261191759   |f(raiz)| =  14184.739683112151   |df(raiz)| =  17303.27525821193  erro =  0.9839150334631324\n",
            "k =  22   raiz =  4.100628312156836   |f(raiz)| =  4749.372917916418   |df(raiz)| =  6955.700072718124  erro =  0.8197719490349229\n",
            "k =  23   raiz =  3.4178253062387736   |f(raiz)| =  1589.6219954747298   |df(raiz)| =  2797.3404848772107  erro =  0.6828030059180623\n",
            "k =  24   raiz =  2.849563414606906   |f(raiz)| =  531.5400697607222   |df(raiz)| =  1126.3087598561526  erro =  0.5682618916318676\n",
            "k =  25   raiz =  2.3776323698473782   |f(raiz)| =  177.28495614532008   |df(raiz)| =  454.90543972977025  erro =  0.47193104475952774\n",
            "k =  26   raiz =  1.987914110486414   |f(raiz)| =  58.72637041478233   |df(raiz)| =  185.26846361134227  erro =  0.38971825936096427\n",
            "k =  27   raiz =  1.6709342571964392   |f(raiz)| =  19.093940761905067   |df(raiz)| =  77.15343395599353  erro =  0.3169798532899748\n",
            "k =  28   raiz =  1.4234541414987272   |f(raiz)| =  5.895349666424483   |df(raiz)| =  34.06458086172486  erro =  0.247480115697712\n",
            "k =  29   raiz =  1.2503902282700596   |f(raiz)| =  1.5714579092982577   |df(raiz)| =  17.33914589778547  erro =  0.17306391322866754\n",
            "k =  30   raiz =  1.159759587143788   |f(raiz)| =  0.2736086101962232   |df(raiz)| =  11.588996328107026  erro =  0.09063064112627162\n",
            "k =  31   raiz =  1.136150242343787   |f(raiz)| =  0.014721889979291358   |df(raiz)| =  10.358737878993896  erro =  0.023609344800000986\n",
            "k =  32   raiz =  1.1347290373522847   |f(raiz)| =  5.039918367821805e-05   |df(raiz)| =  10.287872432614266  erro =  0.001421204991502334\n",
            "k =  33   raiz =  1.1347241384595341   |f(raiz)| =  5.968330274441769e-10   |df(raiz)| =  10.28762877268691  erro =  4.898892750571093e-06\n",
            "[1.1347241384595341, 4.898892750571093e-06, 33]\n"
          ],
          "name": "stdout"
        }
      ]
    },
    {
      "cell_type": "markdown",
      "metadata": {
        "id": "_phQR4_P9b8z"
      },
      "source": [
        "Refaça a questão 2, e teste para as seguintes condições iniciais:  $x^{(0)}=0.8;0.7;0.6$. Veja qual raiz está mais próximda de cada uma destas condições iniciais. No caso $x^{(0)}=0.7$, veja como o valor de  $f'$ influencia no processo iterativo."
      ]
    },
    {
      "cell_type": "markdown",
      "metadata": {
        "id": "mIIu7B4ZEOHB"
      },
      "source": [
        "##Questão 3 Dada a função $f(x) = e^x -2x - 1$, determine o zero de $f(x)$, pelo método de Newton, $\\epsilon = 10^{-4}$,   $x^{(0)} = 1.5$ e número máximo de iterações = 100."
      ]
    },
    {
      "cell_type": "code",
      "metadata": {
        "colab": {
          "base_uri": "https://localhost:8080/"
        },
        "id": "vOAKdk9sEOwq",
        "outputId": "e96217e7-6039-4332-db5e-a8932e5100ac"
      },
      "source": [
        "''' Metodo de Newton para computar o zero de uma funcao\n",
        "Entradas: função f, função_derivada df, x_inicial x0, erro eps, número_máx_iterações itmax\n",
        "saida: [raiz, erraval, iter]'''\n",
        "from math import *\n",
        "\n",
        "def newton(f,df,x0,eps,itmax):\n",
        "    L=range(1,itmax+1)\n",
        "    iteracao=0\n",
        "    a=x0\n",
        "    for i in L:\n",
        "        raiz=a\n",
        "        if df(raiz) != 0: # se a derivada for zero sai    \n",
        "            raiz=raiz-f(raiz)/df(raiz) #função geradora\n",
        "            erro=raiz-a\n",
        "            a=raiz\n",
        "            iteracao=i\n",
        "        else:\n",
        "            iteracao = itmax+1\n",
        "            break\n",
        "        if abs(erro) <= eps:\n",
        "            break\n",
        "    if iteracao > itmax:\n",
        "        iteracao = 0.25\n",
        "    elif iteracao == itmax:\n",
        "        iteracao = 0.75\n",
        "    return [raiz, erro, iteracao]\n",
        "\n",
        "# teste :\n",
        "f= lambda x: exp(x) - 2*x - 1\n",
        "df= lambda x: exp(x) - 2\n",
        "\n",
        "L=newton(f,df,1.5,0.0001,100)\n",
        "print (L)"
      ],
      "execution_count": null,
      "outputs": [
        {
          "output_type": "stream",
          "text": [
            "[1.2564312087001142, -7.980597728218797e-06, 4]\n"
          ],
          "name": "stdout"
        }
      ]
    }
  ]
}