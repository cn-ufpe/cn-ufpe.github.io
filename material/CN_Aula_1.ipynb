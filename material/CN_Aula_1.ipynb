{
  "nbformat": 4,
  "nbformat_minor": 0,
  "metadata": {
    "colab": {
      "name": "CN_Aula_1.ipynb",
      "provenance": [],
      "collapsed_sections": []
    },
    "kernelspec": {
      "name": "python3",
      "display_name": "Python 3"
    },
    "language_info": {
      "name": "python"
    }
  },
  "cells": [
    {
      "cell_type": "code",
      "metadata": {
        "id": "z7QHldP7BSL6",
        "colab": {
          "base_uri": "https://localhost:8080/"
        },
        "outputId": "06432313-69b2-45db-cc58-21492c08f84d"
      },
      "source": [
        "x=11**23 + 11**-1\n",
        "type(x)"
      ],
      "execution_count": null,
      "outputs": [
        {
          "output_type": "execute_result",
          "data": {
            "text/plain": [
              "float"
            ]
          },
          "metadata": {},
          "execution_count": 1
        }
      ]
    },
    {
      "cell_type": "code",
      "metadata": {
        "id": "k7OknpAPBYys",
        "colab": {
          "base_uri": "https://localhost:8080/"
        },
        "outputId": "b57d5e83-fda8-45a0-d332-5df412f80057"
      },
      "source": [
        "print(x==11 ** 23)"
      ],
      "execution_count": null,
      "outputs": [
        {
          "output_type": "stream",
          "name": "stdout",
          "text": [
            "False\n"
          ]
        }
      ]
    },
    {
      "cell_type": "code",
      "metadata": {
        "id": "FHpkqBdVBZ2K",
        "colab": {
          "base_uri": "https://localhost:8080/"
        },
        "outputId": "97dd674c-1222-482d-aee8-d259168f02e1"
      },
      "source": [
        "x=x-11 ** 23\n",
        "print(x==11**-1)"
      ],
      "execution_count": null,
      "outputs": [
        {
          "output_type": "stream",
          "name": "stdout",
          "text": [
            "False\n"
          ]
        }
      ]
    },
    {
      "cell_type": "code",
      "metadata": {
        "id": "HgOepu-ECAOi",
        "colab": {
          "base_uri": "https://localhost:8080/"
        },
        "outputId": "55a1affa-2b70-4648-e6f3-30915cd7cbee"
      },
      "source": [
        "print('{:.100f}'.format(x))"
      ],
      "execution_count": null,
      "outputs": [
        {
          "output_type": "stream",
          "name": "stdout",
          "text": [
            "0.0000000000000000000000000000000000000000000000000000000000000000000000000000000000000000000000000000\n"
          ]
        }
      ]
    },
    {
      "cell_type": "code",
      "metadata": {
        "id": "hZBx6taJBcGz",
        "colab": {
          "base_uri": "https://localhost:8080/"
        },
        "outputId": "15ca31d5-13a9-46ee-a76f-b9ce5b4242ca"
      },
      "source": [
        "10 ** 23 + 10 ** -1 == 10 ** 23"
      ],
      "execution_count": null,
      "outputs": [
        {
          "output_type": "execute_result",
          "data": {
            "text/plain": [
              "False"
            ]
          },
          "metadata": {},
          "execution_count": 5
        }
      ]
    },
    {
      "cell_type": "code",
      "metadata": {
        "id": "UGUalDzrBb8c",
        "colab": {
          "base_uri": "https://localhost:8080/"
        },
        "outputId": "3df0f498-d714-4e1b-928c-3b7fd62ed740"
      },
      "source": [
        "10 ** 16 + 10 ** -1 == 10**16"
      ],
      "execution_count": null,
      "outputs": [
        {
          "output_type": "execute_result",
          "data": {
            "text/plain": [
              "True"
            ]
          },
          "metadata": {},
          "execution_count": 6
        }
      ]
    },
    {
      "cell_type": "code",
      "metadata": {
        "id": "uf7Z2VFMBcJJ",
        "colab": {
          "base_uri": "https://localhost:8080/"
        },
        "outputId": "1d213073-07d9-445c-9575-1e90dbc63634"
      },
      "source": [
        "10 ** 300 + 10 ** -1 == 10 ** 300"
      ],
      "execution_count": null,
      "outputs": [
        {
          "output_type": "execute_result",
          "data": {
            "text/plain": [
              "False"
            ]
          },
          "metadata": {},
          "execution_count": 7
        }
      ]
    },
    {
      "cell_type": "code",
      "metadata": {
        "id": "k_w6cOBoBcEa",
        "colab": {
          "base_uri": "https://localhost:8080/"
        },
        "outputId": "e98048a9-777d-4552-cb70-b1405ae9d918"
      },
      "source": [
        "10 ** 22 + 10 ** -1 == 10 ** 22"
      ],
      "execution_count": null,
      "outputs": [
        {
          "output_type": "execute_result",
          "data": {
            "text/plain": [
              "True"
            ]
          },
          "metadata": {},
          "execution_count": 8
        }
      ]
    }
  ]
}