{
  "nbformat": 4,
  "nbformat_minor": 0,
  "metadata": {
    "colab": {
      "name": "zeros_funcoes03(aluno).ipynb",
      "provenance": []
    },
    "kernelspec": {
      "name": "python3",
      "display_name": "Python 3"
    },
    "language_info": {
      "name": "python"
    }
  },
  "cells": [
    {
      "cell_type": "markdown",
      "metadata": {
        "id": "fhYahPbEec2U"
      },
      "source": [
        "# **Método Iterativo Linear (MIL)**\n",
        "\n"
      ]
    },
    {
      "cell_type": "markdown",
      "metadata": {
        "id": "Hapn3VdibCWe"
      },
      "source": [
        "##Introdução"
      ]
    },
    {
      "cell_type": "markdown",
      "metadata": {
        "id": "JAVL1XClB2RU"
      },
      "source": [
        "Diferentemente dos métodos da bisseção e das cordas, o MIL pertence a uma outra categoria, a dos métodos de ponto fixo para resolver equações."
      ]
    },
    {
      "cell_type": "code",
      "metadata": {
        "id": "3I78Jo7yH3wh"
      },
      "source": [
        "import math\n",
        "import numpy as np\n",
        "import scipy as sci \n",
        "from scipy import optimize\n",
        "import matplotlib.pyplot as plt "
      ],
      "execution_count": null,
      "outputs": []
    },
    {
      "cell_type": "markdown",
      "metadata": {
        "id": "6CCEIRcPK1so"
      },
      "source": [
        "Observamos que sempre podemos reescrever uma equação da forma $f(x) = 0$ (problema de encontrar os zeros de uma função) em uma equação equivalente na forma $g(x) = x$  (**problema de ponto fixo**)."
      ]
    },
    {
      "cell_type": "markdown",
      "metadata": {
        "id": "SjRIoSHIPNz7"
      },
      "source": [
        "Um ponto $x = x^*$ tal que $g(x^*) = x^*$ é chamado de **ponto fixo** da função $g(x)$."
      ]
    },
    {
      "cell_type": "markdown",
      "metadata": {
        "id": "u4dlWj79PSWc"
      },
      "source": [
        "Geometricamente, um ponto fixo de uma função é um ponto de interseção entre a reta $y = x$ com o gráfico da função $g(x)$. Conforme a Figura:"
      ]
    },
    {
      "cell_type": "markdown",
      "metadata": {
        "id": "pc4OU8QSOBM2"
      },
      "source": [
        "![f e g.png](data:image/png;base64,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)"
      ]
    },
    {
      "cell_type": "markdown",
      "metadata": {
        "id": "OFze8r9XPlwu"
      },
      "source": [
        "##**Exemplo 1.** Resolver a equação $e^x = x + 2$ é equivalente a resolver $f(x) = 0$, com $f(x) = e^x - x - 2$. Estes são equivalentes a resolver $g (x) = x$ , com $g(x) = e^x - 2$, isto é:"
      ]
    },
    {
      "cell_type": "markdown",
      "metadata": {
        "id": "3GgJYes_Qt8V"
      },
      "source": [
        "$e^x = x + 2 \\Leftrightarrow e^x - x - 2 = 0 \\Leftrightarrow e^x - 2 = x$"
      ]
    },
    {
      "cell_type": "markdown",
      "metadata": {
        "id": "uvfxKj98RISQ"
      },
      "source": [
        "Dada uma função $g(x)$, a **iteração do ponto fixo** consiste em computar a seguinte sequência recursiva:"
      ]
    },
    {
      "cell_type": "markdown",
      "metadata": {
        "id": "huIqP-_aRNne"
      },
      "source": [
        "$x^{(n+1)} = g(x^{(n)}), n \\geq 1,$"
      ]
    },
    {
      "cell_type": "markdown",
      "metadata": {
        "id": "UNliDwEuRYA5"
      },
      "source": [
        "onde $x^{(1)}$ é uma aproximação inicial do ponto fixo. Considere $x^{(0)} = 0.5$."
      ]
    },
    {
      "cell_type": "code",
      "metadata": {
        "colab": {
          "base_uri": "https://localhost:8080/"
        },
        "id": "VCrWmMk5RoDZ",
        "outputId": "daf1283c-518b-4f90-df93-e9b07bdffc98"
      },
      "source": [
        "def f(x): return math.exp(x)-x-2  \n",
        "\n",
        "def g(x): return math.exp(x)-2  \n",
        "\n",
        "x_i=0.5\n",
        "iteracoes=10\n",
        "print(\"x(\",0,\"):\", x_i, \"f(x\",0,\"):\", f(x_i))\n",
        "\n",
        "for i in range(1,iteracoes+1):\n",
        "  x_i=g(x_i)\n",
        "  print(\"x(\",i,\"):\", x_i, \"f(x\",i,\"):\", f(x_i))\n",
        "\n"
      ],
      "execution_count": null,
      "outputs": [
        {
          "output_type": "stream",
          "text": [
            "x( 0 ): 0.5 f(x 0 ): -0.8512787292998718\n",
            "x( 1 ): -0.3512787292998718 f(x 1 ): -0.9449337103996243\n",
            "x( 2 ): -1.296212439699496 f(x 2 ): -0.43022157937841454\n",
            "x( 3 ): -1.7264340190779106 f(x 3 ): -0.09564824959365503\n",
            "x( 4 ): -1.8220822686715656 f(x 4 ): -0.01622901052429393\n",
            "x( 5 ): -1.8383112791958598 f(x 5 ): -0.0026028698221480795\n",
            "x( 6 ): -1.8409141490180079 f(x 6 ): -0.0004135413300514479\n",
            "x( 7 ): -1.8413276903480593 f(x 7 ): -6.560399205968181e-05\n",
            "x( 8 ): -1.841393294340119 f(x 8 ): -1.040489175396786e-05\n",
            "x( 9 ): -1.841403699231873 f(x 9 ): -1.6501687569725476e-06\n",
            "x( 10 ): -1.84140534940063 f(x 10 ): -2.617077214939201e-07\n"
          ],
          "name": "stdout"
        }
      ]
    },
    {
      "cell_type": "markdown",
      "metadata": {
        "id": "5VOn4k9uVMa6"
      },
      "source": [
        "##**Exemplo 2.** Considere o problema de encontrar o zero da função $f(x) = xe^x - 10$. Uma maneira geral de construir um problema de ponto fixo equivalente é o seguinte:"
      ]
    },
    {
      "cell_type": "markdown",
      "metadata": {
        "id": "IkofgQccXpa4"
      },
      "source": [
        "$f(x) = 0 \\Longrightarrow \\alpha f(x) = 0 \\Longrightarrow x - \\alpha f(x) = x$,"
      ]
    },
    {
      "cell_type": "markdown",
      "metadata": {
        "id": "9N1XUlVWX8gM"
      },
      "source": [
        "para qualquer parâmetro $\\alpha \\neq 0$. Consideremos, então, as seguintes duas funções:"
      ]
    },
    {
      "cell_type": "markdown",
      "metadata": {
        "id": "8npT2MZ9YDGE"
      },
      "source": [
        "$g_1 (x) = x - 0.5f(x)$\n",
        "\n",
        "e\n",
        "\n",
        "$g_2(x) = x - 0.05f(x)$."
      ]
    },
    {
      "cell_type": "code",
      "metadata": {
        "id": "Ch4SXCfPenLv"
      },
      "source": [
        "def f(x): return x*np.exp(x)-10  \n",
        "\n",
        "def g1(x): return x-0.5*f(x) \n",
        "\n",
        "def g2(x): return x-0.05*f(x) "
      ],
      "execution_count": null,
      "outputs": []
    },
    {
      "cell_type": "markdown",
      "metadata": {
        "id": "AicHQ9RTYfAM"
      },
      "source": [
        "Notamos que o ponto fixo destas duas funções coincide com o zero de $f(x)$. Construindo as iterações do ponto fixo:"
      ]
    },
    {
      "cell_type": "markdown",
      "metadata": {
        "id": "a1q8OruyYlj9"
      },
      "source": [
        "$x_1^{(n+1)} = g_1(x_1^{(n)})$\n",
        "\n",
        "e\n",
        "\n",
        "$x_2^{(n+1)} = g_2(x_2^{(n)})$"
      ]
    },
    {
      "cell_type": "markdown",
      "metadata": {
        "id": "8q7iVVRlYw_G"
      },
      "source": [
        "tomando $x_1^{(1)} = x_2^{(1)} = 1.7$, obtemos os resultados apresentados a seguir. Observamos que, enquanto, a iteração do ponto fixo com a função $g_1(x) (\\alpha = 0.5)$  parece divergir, a iteração com a função $g_2(x) (\\alpha = 0.05)$ parece convergir."
      ]
    },
    {
      "cell_type": "code",
      "metadata": {
        "colab": {
          "base_uri": "https://localhost:8080/"
        },
        "id": "E4gPovI7W8cT",
        "outputId": "5d4a648a-b5b4-4931-ee6f-66f3af5f98b3"
      },
      "source": [
        "#divergência com g1(x)\n",
        "\n",
        "x_i=1.7\n",
        "iteracoes=10\n",
        "\n",
        "print(\"x(\",0,\"):\", x_i, \"f(x\",0,\"):\", f(x_i))\n",
        "\n",
        "for i in range(1,iteracoes+1):\n",
        "  x_i=g1(x_i)\n",
        "  print(\"x(\",i,\"):\", x_i, \"f(x\",i,\"):\", f(x_i))"
      ],
      "execution_count": null,
      "outputs": [
        {
          "output_type": "stream",
          "text": [
            "x( 0 ): 1.7 f(x 0 ): -0.6942894340637604\n",
            "x( 1 ): 2.0471447170318804 f(x 1 ): 5.856677711938273\n",
            "x( 2 ): -0.8811941389372562 f(x 2 ): -10.365068068318719\n",
            "x( 3 ): 4.301339895222103 f(x 3 ): 307.4329049228827\n",
            "x( 4 ): -149.41511256621925 f(x 4 ): -10.0\n",
            "x( 5 ): -144.41511256621925 f(x 5 ): -10.0\n",
            "x( 6 ): -139.41511256621925 f(x 6 ): -10.0\n",
            "x( 7 ): -134.41511256621925 f(x 7 ): -10.0\n",
            "x( 8 ): -129.41511256621925 f(x 8 ): -10.0\n",
            "x( 9 ): -124.41511256621925 f(x 9 ): -10.0\n",
            "x( 10 ): -119.41511256621925 f(x 10 ): -10.0\n"
          ],
          "name": "stdout"
        }
      ]
    },
    {
      "cell_type": "code",
      "metadata": {
        "colab": {
          "base_uri": "https://localhost:8080/"
        },
        "id": "3eO6n9mjXKvg",
        "outputId": "5f9815af-eba4-40b2-a31d-697cdb6a7190"
      },
      "source": [
        "#convergência com g2(x)\n",
        "\n",
        "x_i=1.7\n",
        "iteracoes=10\n",
        "\n",
        "print(\"x(\",0,\"):\", x_i, \"f(x\",0,\"):\", f(x_i))\n",
        "\n",
        "for i in range(1,iteracoes+1):\n",
        "  x_i=g2(x_i)\n",
        "  print(\"x(\",i,\"):\", x_i, \"f(x\",i,\"):\", f(x_i))"
      ],
      "execution_count": null,
      "outputs": [
        {
          "output_type": "stream",
          "text": [
            "x( 0 ): 1.7 f(x 0 ): -0.6942894340637604\n",
            "x( 1 ): 1.734714471703188 f(x 1 ): -0.16883637589207723\n",
            "x( 2 ): 1.7431562904977917 f(x 2 ): -0.037244195327545526\n",
            "x( 3 ): 1.745018500264169 f(x 3 ): -0.0080111419763913\n",
            "x( 4 ): 1.7454190573629884 f(x 4 ): -0.0017134663999271993\n",
            "x( 5 ): 1.7455047306829847 f(x 5 ): -0.00036603865294004834\n",
            "x( 6 ): 1.7455230326156317 f(x 6 ): -7.817446221380919e-05\n",
            "x( 7 ): 1.7455269413387424 f(x 7 ): -1.6694700288866215e-05\n",
            "x( 8 ): 1.7455277760737569 f(x 8 ): -3.565226915469566e-06\n",
            "x( 9 ): 1.7455279543351025 f(x 9 ): -7.613680050866378e-07\n",
            "x( 10 ): 1.7455279924035028 f(x 10 ): -1.6259299506771185e-07\n"
          ],
          "name": "stdout"
        }
      ]
    },
    {
      "cell_type": "markdown",
      "metadata": {
        "id": "N7hUZwpsbF1m"
      },
      "source": [
        "##Exercícios"
      ]
    },
    {
      "cell_type": "markdown",
      "metadata": {
        "id": "mW90CBZJbJvk"
      },
      "source": [
        "###**Questão 1.** Resolver a equação $e^x = x + 2$ é equivalente a calcular os pontos fixos da função $g(x) = e^x - 2$ (veja o Exemplo 1). Use a iteração do ponto fixo $x^{(n+1)} = g(x^{(n)})$ com $x^{(1)} = -1.8$ para obter uma aproximação de uma das soluções da equação dada com 8 dígitos significativos."
      ]
    },
    {
      "cell_type": "code",
      "metadata": {
        "id": "5ovThs4SbwLS"
      },
      "source": [
        ""
      ],
      "execution_count": null,
      "outputs": []
    },
    {
      "cell_type": "markdown",
      "metadata": {
        "id": "9jujAf4DdHTt"
      },
      "source": [
        "###**Questão 2.** Mostre que a equação:\n",
        "\n",
        "$cos(x) = x$\n",
        "\n",
        " possui uma única solução no intervalo [0,1]. Use a iteração do ponto fixo e encontre uma aproximação para esta solução com 4 dígitos significativos."
      ]
    },
    {
      "cell_type": "code",
      "metadata": {
        "id": "UXmx0fzJdZrf"
      },
      "source": [
        ""
      ],
      "execution_count": null,
      "outputs": []
    }
  ]
}