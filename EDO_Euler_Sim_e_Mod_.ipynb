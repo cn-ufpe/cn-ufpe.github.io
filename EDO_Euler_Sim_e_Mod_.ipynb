{
  "nbformat": 4,
  "nbformat_minor": 0,
  "metadata": {
    "colab": {
      "name": "EDO Euler Sim. e Mod.",
      "provenance": [],
      "collapsed_sections": []
    },
    "kernelspec": {
      "display_name": "Python 3",
      "name": "python3"
    },
    "language_info": {
      "name": "python"
    }
  },
  "cells": [
    {
      "cell_type": "markdown",
      "metadata": {
        "id": "yh-svtKjRrwX"
      },
      "source": [
        "# Exemplo 1 -  Médoto de Euler Simplificado: Seja $y'(x) = -2xy$, para a condição inicial $y(0) = 3$, calcule $y(1)$?"
      ]
    },
    {
      "cell_type": "markdown",
      "metadata": {
        "id": "WMztyR-t8tmY"
      },
      "source": [
        " \n",
        "\n",
        "*   Encontre a solução  $y(1)$, para os seguintes casos: 2 passos, 4 passos, 9 passos e 99 passos. Lembrando que o n º de pontos = nº passos + 1. Altere o número de pontos na linha 14. Repita os testes para encontrar $y(2)$ (altere o valor de $x_{final}$ na linha 12).\n",
        "\n",
        " "
      ]
    },
    {
      "cell_type": "markdown",
      "metadata": {
        "id": "8Q9QyagxGpIK"
      },
      "source": [
        "* Sabendo que $y(x)  = C_1e^{-x^2}$ é solução do problema, para a condição inicial  $y(0) = 3 = C_1e^0 \\rightarrow C_1 = 3$. Então $y(x) = 3e^{-x^2}$ é a solucao ANALÍTICA para esta condição inicial. Imprima o erro percentual entre a solução analítica e a solução numérica.\n",
        "\n",
        "Agora vamos calcular **numericamente o Método de Euler:**"
      ]
    },
    {
      "cell_type": "code",
      "metadata": {
        "colab": {
          "base_uri": "https://localhost:8080/",
          "height": 331
        },
        "id": "87odtG5RddFG",
        "outputId": "de2440f0-33b9-475c-f6d7-c3c235ed1591"
      },
      "source": [
        "# Método de Euler simples\n",
        "import numpy as np\n",
        "import matplotlib.pyplot as plt\n",
        "\n",
        "def f(x):\n",
        "    return 3*np.exp(-x*x)   \n",
        "\n",
        "def df(x,y):\n",
        "  return -2*x*y\n",
        "\n",
        "x_0 = 0\n",
        "x_f = 2\n",
        "y_0 = 3\n",
        "n_pontos = 100   # modifique aqui para gerar exemplos de passos de tamanhos diferentes\n",
        "h = (x_f - x_0)/(n_pontos-1)   # passo de acordo com o numero de pontos\n",
        "x = np.zeros((n_pontos))     # vetor com as posições de x\n",
        "y = np.zeros((n_pontos))     # vetor com as solucoes numericas\n",
        "y_ = np.zeros((n_pontos))     # vetor com as soluções analiticas (para o grafico)\n",
        "x[0] = x_0      \n",
        "y[0] = y_0      \n",
        "y_[0] = y_0    \n",
        "for j in range(0,n_pontos-1):\n",
        "  y[j+1] = y[j] + h*df(x[j],y[j])\n",
        "  x[j+1] = x[j] + h\n",
        "  y_[j+1] = f(x[j+1])\n",
        "\n",
        "print(\"valor de y_numerico(1) = \",y[-1])\n",
        "print(\"valor de y_analitico(1) = \",y_[-1])\n",
        "\n",
        "# imprimindo solucao para os diferentes passos\n",
        "x_ = np.linspace(x[0],x[n_pontos-1]) #limites no eixo x\n",
        "plt.plot(x_,f(x_),x,y_,'ob',x,y,'xr') \n",
        "plt.legend(['Solucao Analitica','Solucao Analitica','Solucao Numerica'])\n",
        "plt.xlabel('x') \n",
        "plt.ylabel('Y(x)') \n",
        "plt.grid()\n",
        "plt.show()\n",
        "print('erro percentual em y({:}): {:2.6%}'.format(x_f,np.fabs((y_[n_pontos-1] - y[n_pontos-1])/y_[n_pontos-1])))"
      ],
      "execution_count": null,
      "outputs": [
        {
          "output_type": "stream",
          "name": "stdout",
          "text": [
            "valor de y_numerico(1) =  0.05122210699911513\n",
            "valor de y_analitico(1) =  0.054946916666203424\n"
          ]
        },
        {
          "output_type": "display_data",
          "data": {
            "text/plain": [
              "<Figure size 432x288 with 1 Axes>"
            ],
            "image/png": "[encoded data removed]"
          },
          "metadata": {
            "needs_background": "light"
          }
        },
        {
          "output_type": "stream",
          "name": "stdout",
          "text": [
            "erro percentual em y(2): 6.778924%\n"
          ]
        }
      ]
    },
    {
      "cell_type": "markdown",
      "metadata": {
        "id": "UIVDgAJoiiRz"
      },
      "source": [
        "# Exemplo 2 -  Médoto de Euler Modificado: Seja $y'(x) = -2xy$, para a condição inicial $y(0) = 3$, calcule $y(1)$?"
      ]
    },
    {
      "cell_type": "markdown",
      "metadata": {
        "id": "QWQ1fvwR11Mr"
      },
      "source": [
        "*   Repita os testes do exemplo 1 neste exemplo."
      ]
    },
    {
      "cell_type": "markdown",
      "metadata": {
        "id": "IiVL3zXDLM-X"
      },
      "source": [
        "\n",
        "\n",
        "Agora vamos calcular **numericamente Médoto de Euler Modificado:** "
      ]
    },
    {
      "cell_type": "code",
      "metadata": {
        "colab": {
          "base_uri": "https://localhost:8080/",
          "height": 331
        },
        "id": "7hLaVTDIrZFW",
        "outputId": "3d7f6916-cc29-4696-84c8-01f54db7cc33"
      },
      "source": [
        "import numpy as np\n",
        "import matplotlib.pyplot as plt\n",
        "\n",
        "def f(x):\n",
        "    return 3*np.exp(-x*x)   \n",
        "\n",
        "\n",
        "def df(x,y):\n",
        "  return -2*x*y\n",
        "\n",
        "x_0 = 0\n",
        "x_f = 2\n",
        "y_0 = 3\n",
        "n_pontos = 100            # modifique aqui para gerar exemplos de passos de tamanhos diferentes\n",
        "h = (x_f - x_0)/(n_pontos-1)   # passo de acordo com o numero de pontos\n",
        "x = np.zeros((n_pontos))     # vetor com as posições de x\n",
        "y = np.zeros((n_pontos))     # vetor com as solucoes numericas\n",
        "y_ = np.zeros((n_pontos))     # vetor com as soluções analiticas (para o grafico)\n",
        "x[0] = x_0\n",
        "y[0] = y_0\n",
        "y_[0] = y_0\n",
        "for j in range(0,n_pontos-1):\n",
        "  y_aux = y[j] + h*df(x[j],y[j])\n",
        "  y[j+1] = y[j] + (h/2)*(df(x[j],y[j]) + df(x[j]+h,y_aux))  # euler modificado\n",
        "  x[j+1] = x[j] + h\n",
        "  y_[j+1] = f(x[j+1])\n",
        "\n",
        "print(\"valor de y_numerico(1) = \",y[-1])\n",
        "print(\"valor de y_analitico(1) = \",y_[-1])\n",
        "\n",
        "# imprimindo solucao para os diferentes passos\n",
        "x_ = np.linspace(x[0],x[n_pontos-1]) #limites no eixo x\n",
        "plt.plot(x_,f(x_),x,y_,'ob',x,y,'xr') \n",
        "plt.legend(['Solucao Analitica','Solucao Analitica','Solucao Numerica'])\n",
        "plt.yscale('log')\n",
        "plt.xlabel('x') \n",
        "plt.ylabel('Y(x)') \n",
        "plt.grid()\n",
        "plt.show()\n",
        "print('erro percentual em y({:}): {:2.6%}'.format(x_f,np.fabs((y_[n_pontos-1] - y[n_pontos-1])/y_[n_pontos-1])))"
      ],
      "execution_count": null,
      "outputs": [
        {
          "output_type": "stream",
          "name": "stdout",
          "text": [
            "valor de y_numerico(1) =  0.05507213552070237\n",
            "valor de y_analitico(1) =  0.054946916666203424\n"
          ]
        },
        {
          "output_type": "display_data",
          "data": {
            "text/plain": [
              "<Figure size 432x288 with 1 Axes>"
            ],
            "image/png": "[encoded data removed]"
          },
          "metadata": {
            "needs_background": "light"
          }
        },
        {
          "output_type": "stream",
          "name": "stdout",
          "text": [
            "erro percentual em y(2): 0.227891%\n"
          ]
        }
      ]
    },
    {
      "cell_type": "code",
      "source": [
        "import numpy as np\n",
        "import matplotlib.pyplot as plt\n",
        "import math  \n",
        "\n",
        "\n",
        "def df(x,y):\n",
        "  return 0.01*y*(1+0.5*x*math.log(y))\n",
        "\n",
        "x_0 = 0\n",
        "x_f = 0.75\n",
        "y_0 = 40\n",
        "n_pontos = 4            # modifique aqui para gerar exemplos de passos de tamanhos diferentes\n",
        "h = (x_f - x_0)/(n_pontos-1)   # passo de acordo com o numero de pontos\n",
        "x = np.zeros((n_pontos))     # vetor com as posições de x\n",
        "y = np.zeros((n_pontos))     # vetor com as solucoes numericas\n",
        "x[0] = x_0\n",
        "y[0] = y_0\n",
        "for j in range(0,n_pontos-1):\n",
        "  y_aux = y[j] + h*df(x[j],y[j])\n",
        "  y[j+1] = y[j] + (h/2)*(df(x[j],y[j]) + df(x[j]+h,y_aux))  # euler modificado\n",
        "  print(y[j+1])\n",
        "  x[j+1] = x[j] + h\n",
        "\n",
        "print(\"valor de y_numerico(1) = \",y[-1])\n",
        "\n",
        "# imprimindo solucao para os diferentes passos\n",
        "x_ = np.linspace(x[0],x[n_pontos-1]) #limites no eixo x\n",
        "plt.plot(x,y,'xr') \n",
        "plt.legend(['Solucao Numerica'])\n",
        "plt.yscale('log')\n",
        "plt.xlabel('x') \n",
        "plt.ylabel('Y(x)') \n",
        "plt.grid()\n",
        "plt.show()"
      ],
      "metadata": {
        "colab": {
          "base_uri": "https://localhost:8080/",
          "height": 348
        },
        "id": "0m5Wr3kX_CyD",
        "outputId": "cceb7af9-445c-45f1-8a2c-92eee9fa850d"
      },
      "execution_count": null,
      "outputs": [
        {
          "output_type": "stream",
          "name": "stdout",
          "text": [
            "40.123253779844674\n",
            "40.29339767722371\n",
            "40.51115340609332\n",
            "valor de y_numerico(1) =  40.51115340609332\n"
          ]
        },
        {
          "output_type": "display_data",
          "data": {
            "text/plain": [
              "<Figure size 432x288 with 1 Axes>"
            ],
            "image/png": "[encoded data removed]"
          },
          "metadata": {
            "needs_background": "light"
          }
        }
      ]
    }
  ]
}